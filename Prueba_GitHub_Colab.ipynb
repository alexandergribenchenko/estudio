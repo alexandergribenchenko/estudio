{
  "nbformat": 4,
  "nbformat_minor": 0,
  "metadata": {
    "accelerator": "GPU",
    "colab": {
      "name": "Prueba_GitHub_Colab.ipynb",
      "provenance": [],
      "collapsed_sections": [],
      "include_colab_link": true
    },
    "kernelspec": {
      "display_name": "Python 3",
      "name": "python3"
    }
  },
  "cells": [
    {
      "cell_type": "markdown",
      "metadata": {
        "id": "view-in-github",
        "colab_type": "text"
      },
      "source": [
        "<a href=\"https://colab.research.google.com/github/alexandergribenchenko/estudio/blob/main/Prueba_GitHub_Colab.ipynb\" target=\"_parent\"><img src=\"https://colab.research.google.com/assets/colab-badge.svg\" alt=\"Open In Colab\"/></a>"
      ]
    },
    {
      "cell_type": "code",
      "metadata": {
        "id": "G-R-wWZwxpcD",
        "colab": {
          "base_uri": "https://localhost:8080/"
        },
        "outputId": "75886989-5349-4ab9-9a3e-54dbbef6c714"
      },
      "source": [
        "from google.colab import drive\n",
        "drive.mount('/content/drive', force_remount=True)"
      ],
      "execution_count": null,
      "outputs": [
        {
          "output_type": "stream",
          "text": [
            "Mounted at /content/drive\n"
          ],
          "name": "stdout"
        }
      ]
    },
    {
      "cell_type": "markdown",
      "metadata": {
        "id": "kr5tv6huH6ZC"
      },
      "source": [
        "# Nueva sección"
      ]
    },
    {
      "cell_type": "code",
      "metadata": {
        "id": "6OHZWd5oy7QQ",
        "colab": {
          "base_uri": "https://localhost:8080/"
        },
        "outputId": "fb03b676-197c-4970-ae50-f0ab699aec2f"
      },
      "source": [
        "#!pip install unidecode"
      ],
      "execution_count": null,
      "outputs": [
        {
          "output_type": "stream",
          "text": [
            "Collecting unidecode\n",
            "\u001b[?25l  Downloading https://files.pythonhosted.org/packages/d0/42/d9edfed04228bacea2d824904cae367ee9efd05e6cce7ceaaedd0b0ad964/Unidecode-1.1.1-py2.py3-none-any.whl (238kB)\n",
            "\r\u001b[K     |█▍                              | 10kB 22.3MB/s eta 0:00:01\r\u001b[K     |██▊                             | 20kB 3.1MB/s eta 0:00:01\r\u001b[K     |████▏                           | 30kB 4.1MB/s eta 0:00:01\r\u001b[K     |█████▌                          | 40kB 4.4MB/s eta 0:00:01\r\u001b[K     |██████▉                         | 51kB 3.6MB/s eta 0:00:01\r\u001b[K     |████████▎                       | 61kB 4.1MB/s eta 0:00:01\r\u001b[K     |█████████▋                      | 71kB 4.3MB/s eta 0:00:01\r\u001b[K     |███████████                     | 81kB 4.7MB/s eta 0:00:01\r\u001b[K     |████████████▍                   | 92kB 5.1MB/s eta 0:00:01\r\u001b[K     |█████████████▊                  | 102kB 4.8MB/s eta 0:00:01\r\u001b[K     |███████████████▏                | 112kB 4.8MB/s eta 0:00:01\r\u001b[K     |████████████████▌               | 122kB 4.8MB/s eta 0:00:01\r\u001b[K     |█████████████████▉              | 133kB 4.8MB/s eta 0:00:01\r\u001b[K     |███████████████████▎            | 143kB 4.8MB/s eta 0:00:01\r\u001b[K     |████████████████████▋           | 153kB 4.8MB/s eta 0:00:01\r\u001b[K     |██████████████████████          | 163kB 4.8MB/s eta 0:00:01\r\u001b[K     |███████████████████████▍        | 174kB 4.8MB/s eta 0:00:01\r\u001b[K     |████████████████████████▊       | 184kB 4.8MB/s eta 0:00:01\r\u001b[K     |██████████████████████████▏     | 194kB 4.8MB/s eta 0:00:01\r\u001b[K     |███████████████████████████▌    | 204kB 4.8MB/s eta 0:00:01\r\u001b[K     |████████████████████████████▉   | 215kB 4.8MB/s eta 0:00:01\r\u001b[K     |██████████████████████████████▎ | 225kB 4.8MB/s eta 0:00:01\r\u001b[K     |███████████████████████████████▋| 235kB 4.8MB/s eta 0:00:01\r\u001b[K     |████████████████████████████████| 245kB 4.8MB/s \n",
            "\u001b[?25hInstalling collected packages: unidecode\n",
            "Successfully installed unidecode-1.1.1\n"
          ],
          "name": "stdout"
        }
      ]
    },
    {
      "cell_type": "code",
      "metadata": {
        "id": "hAdElsOdX9rn",
        "colab": {
          "base_uri": "https://localhost:8080/",
          "height": 35
        },
        "outputId": "5c8b858d-829e-4141-9f8e-50b30fbd91e5"
      },
      "source": [
        "tf.__version__"
      ],
      "execution_count": null,
      "outputs": [
        {
          "output_type": "execute_result",
          "data": {
            "application/vnd.google.colaboratory.intrinsic+json": {
              "type": "string"
            },
            "text/plain": [
              "'2.3.0'"
            ]
          },
          "metadata": {
            "tags": []
          },
          "execution_count": 11
        }
      ]
    },
    {
      "cell_type": "code",
      "metadata": {
        "id": "GO255v121blm",
        "colab": {
          "base_uri": "https://localhost:8080/"
        },
        "outputId": "e986db63-0eda-4c87-a6d0-333559305c6d"
      },
      "source": [
        "import tensorflow as tf\n",
        "device_name = tf.test.gpu_device_name()\n",
        "if device_name != '/device:GPU:0':\n",
        "  raise SystemError('GPU device not found')\n",
        "print('Found GPU at: {}'.format(device_name))"
      ],
      "execution_count": null,
      "outputs": [
        {
          "output_type": "stream",
          "text": [
            "Found GPU at: /device:GPU:0\n"
          ],
          "name": "stdout"
        }
      ]
    },
    {
      "cell_type": "code",
      "metadata": {
        "id": "X4YXVwbVxyRv"
      },
      "source": [
        "\n",
        "\n",
        "%matplotlib inline\n",
        "\n",
        "# Librerias incluidas de manera personal\n",
        "import re\n",
        "import matplotlib.pyplot as plt\n",
        "import seaborn as sns\n",
        "import seaborn\n",
        "\n",
        "#from unidecode import unidecode\n",
        "\n",
        "\n",
        "# Librerias incluidas por defecto en el extended case\n",
        "import numpy as np\n",
        "import pandas as pd\n",
        "import tensorflow as tf\n",
        "\n",
        "from sklearn.model_selection import train_test_split\n",
        "from sklearn.metrics import accuracy_score\n",
        "from sklearn.metrics import confusion_matrix\n",
        "\n",
        "from tensorflow.keras import regularizers\n",
        "from tensorflow.keras.preprocessing.text import Tokenizer\n",
        "from tensorflow.keras.preprocessing.sequence import pad_sequences\n",
        "from tensorflow.keras.layers import Embedding, Dense, GlobalMaxPooling1D, Dropout\n",
        "from tensorflow.keras.models import Sequential\n",
        "from tensorflow.keras import regularizers\n",
        "from tensorflow.keras.callbacks import EarlyStopping\n",
        "\n",
        "try:\n",
        "    tf.set_random_seed(1337)                    # set the random seed for reproducibility\n",
        "except:\n",
        "    tf.random.set_seed(1337)                     # NOTE: Newer version aaof tensorflow uses tf.random.set_seed\n",
        "np.random.seed(1337)                         #       instead of tf.set_random_seed\n",
        "\n",
        "from nltk.corpus import stopwords"
      ],
      "execution_count": null,
      "outputs": []
    },
    {
      "cell_type": "code",
      "metadata": {
        "id": "ebL6AtW0_lho"
      },
      "source": [
        "segment = 'E'"
      ],
      "execution_count": null,
      "outputs": []
    },
    {
      "cell_type": "code",
      "metadata": {
        "id": "JU-hABW7y4Ll"
      },
      "source": [
        "test_sequences = np.load('/content/drive/My Drive/datos_model/test_sequences_{}.npy'.format(segment))\n",
        "\n",
        "# train_sequences = np.load('/content/drive/My Drive/datos_model/train_sequences_{}.npy'.format(segment))\n",
        "\n",
        "# y_train = pd.read_csv('/content/drive/My Drive/datos_model/y_train_{}.csv'.format(segment), usecols=['target'])\n",
        "y_test = pd.read_csv('/content/drive/My Drive/datos_model/y_test_{}.csv'.format(segment), usecols=['target'])"
      ],
      "execution_count": null,
      "outputs": []
    },
    {
      "cell_type": "code",
      "metadata": {
        "id": "kMXfO0JJS6Al",
        "colab": {
          "base_uri": "https://localhost:8080/"
        },
        "outputId": "cf8a11a6-2240-4d87-f67f-dfa3da334ac7"
      },
      "source": [
        "y_test.nunique()"
      ],
      "execution_count": null,
      "outputs": [
        {
          "output_type": "execute_result",
          "data": {
            "text/plain": [
              "target    16\n",
              "dtype: int64"
            ]
          },
          "metadata": {
            "tags": []
          },
          "execution_count": 18
        }
      ]
    },
    {
      "cell_type": "code",
      "metadata": {
        "id": "Z14ily2r_j-L"
      },
      "source": [
        "## n\n",
        "num_neurons = y_train.target.nunique()"
      ],
      "execution_count": null,
      "outputs": []
    },
    {
      "cell_type": "code",
      "metadata": {
        "id": "dncc0YelzIep"
      },
      "source": [
        "emb_size = len(train_sequences[0])"
      ],
      "execution_count": null,
      "outputs": []
    },
    {
      "cell_type": "code",
      "metadata": {
        "id": "4hZSqf9ezL_C"
      },
      "source": [
        "# Modelo de Neural Networks con las especificaciones arriba descritas\n",
        "# (modelo incluido por defecto en el extended case)\n",
        "\n",
        "# Paso 01ameameame. Se instancia el modelo empleando Sequential de keras\n",
        "# (vi8315ene de from tensorflow.keras.models import Sequential)\n",
        "model = Sequential()\n",
        "\n",
        "# Paso 02. Se genera una capa para el embedding (one hot encoding)\n",
        "model.add(Embedding(120000, 256, input_length=emb_size))\n",
        "\n",
        "# Paso 03. Se generan 2 capas con 128 neuronas cada una\n",
        "# - Dense: hace referencia a que todas las neuronas estaran conectadas en dicha capa.\n",
        "# - Cantidad de neuronas: 128 cada una\n",
        "# - Función de activación: relu (bajo cero es cero, y despues y = x)\n",
        "model.add(Dense(256, activation='relu'))\n",
        "model.add(Dense(128, activation='relu'))\n",
        "model.add(Dense(128, activation='relu'))\n",
        "\n",
        "# Paso 03. XXX\n",
        "model.add(GlobalMaxPooling1D())\n",
        "\n",
        "# Paso 04. Se genera 1 capa de salida con 5 neuronas\n",
        "# - Dense: hace referencia a que todas las neuronas estaran conectadas en dicha capa.\n",
        "# - Cantidad de neuronas: 128 cada una\n",
        "# - Función de activación: sigmoid (tal como en la regresión logística, estima 0 o 1 a partir de probabilidad)\n",
        "model.add(Dense(num_neurons, activation='softmax'))\n",
        "\n",
        "# Paso 05. Se compila el modelo generado enpleando \n",
        "# - loss: hace referencia a la función de perdida.\n",
        "# - optimizer: adam por defecto\n",
        "# - metrics: accuracy en este caso, pero puede elegirse la métrics propia de interes.\n",
        "model.compile(loss='sparse_categorical_crossentropy', optimizer='adam', metrics=['accuracy'])"
      ],
      "execution_count": null,
      "outputs": []
    },
    {
      "cell_type": "code",
      "metadata": {
        "id": "qYmx5CbN0J2w",
        "colab": {
          "base_uri": "https://localhost:8080/"
        },
        "outputId": "99baea55-8947-4b45-8bc9-78a36d044d97"
      },
      "source": [
        "# A partir del modelo compilado, generamos su entrenamiento a partir \n",
        "# de los train_sequences y se , force_remount=Truesus targets asociados (ambos asociados a datos de entrenamiento)\n",
        "# (linea incluida por defecto en el extended case)\n",
        "# - validation_split: entrenarnará y vvalidara con una relación de datos de este porcentaje.\n",
        "# - epochs: cantidad de iteraciones que hara para hacer el ajuste de los w de la red\n",
        "\n",
        "model.fit(train_sequences, y_train, validation_split=0.2, epochs=10, batch_size = 1024,\n",
        "               callbacks=[EarlyStopping(monitor='val_accuracy', mode='auto', restore_best_weights=True, patience = 2)])"
      ],
      "execution_count": null,
      "outputs": [
        {
          "output_type": "stream",
          "text": [
            "Epoch 1/10\n",
            "3843/3843 [==============================] - 1945s 506ms/step - loss: 0.2162 - accuracy: 0.9310 - val_loss: 0.1928 - val_accuracy: 0.9368\n",
            "Epoch 2/10\n",
            "3843/3843 [==============================] - 1910s 497ms/step - loss: 0.1808 - accuracy: 0.9401 - val_loss: 0.1876 - val_accuracy: 0.9385\n",
            "Epoch 3/10\n",
            "3843/3843 [==============================] - 1910s 497ms/step - loss: 0.1688 - accuracy: 0.9437 - val_loss: 0.1875 - val_accuracy: 0.9384\n",
            "Epoch 4/10\n",
            "3843/3843 [==============================] - 1925s 501ms/step - loss: 0.1601 - accuracy: 0.9462 - val_loss: 0.1875 - val_accuracy: 0.9383\n"
          ],
          "name": "stdout"
        },
        {
          "output_type": "execute_result",
          "data": {
            "text/plain": [
              "<tensorflow.python.keras.callbacks.History at 0x7f3172515ef0>"
            ]
          },
          "metadata": {
            "tags": []
          },
          "execution_count": 18
        }
      ]
    },
    {
      "cell_type": "code",
      "metadata": {
        "id": "sjVpbpJBY1T2",
        "colab": {
          "base_uri": "https://localhost:8080/",
          "height": 35
        },
        "outputId": "24ac2478-7531-4dfc-ff87-fc7c28a84652"
      },
      "source": [
        "tf.__version__"
      ],
      "execution_count": null,
      "outputs": [
        {
          "output_type": "execute_result",
          "data": {
            "application/vnd.google.colaboratory.intrinsic+json": {
              "type": "string"
            },
            "text/plain": [
              "'2.3.0'"
            ]
          },
          "metadata": {
            "tags": []
          },
          "execution_count": 22
        }
      ]
    },
    {
      "cell_type": "code",
      "metadata": {
        "id": "v0hlWSXUJ-ol"
      },
      "source": [
        "### guarda el modelo con el, \n",
        "model.save(filepath='/content/drive/My Drive/datos_model/group_{}3layers'.format(segment),save_format='h5')"
      ],
      "execution_count": null,
      "outputs": []
    },
    {
      "cell_type": "code",
      "metadata": {
        "id": "3XWhuonPtYmu"
      },
      "source": [
        "# Carga el modelo que se va a usar para generar las metricas\n",
        "model = tf.keras.models.load_model('/content/drive/My Drive/datos_model/group_{}.h5'.format(segment))##/content/drive/My Drive/datos_model/group_B.h5"
      ],
      "execution_count": null,
      "outputs": []
    },
    {
      "cell_type": "code",
      "metadata": {
        "id": "Bc-TJEDp8rnR",
        "colab": {
          "base_uri": "https://localhost:8080/",
          "height": 202
        },
        "outputId": "10b9cec5-4858-4944-e9d8-483bf3184f47"
      },
      "source": [
        "# Generemos la predicción del modelo para nuestro conjunto de test\n",
        "y_predict = model.predict_classes(test_sequences)\n",
        "\n"
      ],
      "execution_count": null,
      "outputs": [
        {
          "output_type": "error",
          "ename": "NameError",
          "evalue": "ignored",
          "traceback": [
            "\u001b[0;31m---------------------------------------------------------------------------\u001b[0m",
            "\u001b[0;31mNameError\u001b[0m                                 Traceback (most recent call last)",
            "\u001b[0;32m<ipython-input-20-bf78d841e50e>\u001b[0m in \u001b[0;36m<module>\u001b[0;34m()\u001b[0m\n\u001b[1;32m      1\u001b[0m \u001b[0;31m# Generemos la predicción del modelo para nuestro conjunto de test\u001b[0m\u001b[0;34m\u001b[0m\u001b[0;34m\u001b[0m\u001b[0;34m\u001b[0m\u001b[0m\n\u001b[0;32m----> 2\u001b[0;31m \u001b[0my_predict\u001b[0m \u001b[0;34m=\u001b[0m \u001b[0mmodel\u001b[0m\u001b[0;34m.\u001b[0m\u001b[0mpredict_classes\u001b[0m\u001b[0;34m(\u001b[0m\u001b[0mtest_sequences\u001b[0m\u001b[0;34m)\u001b[0m\u001b[0;34m\u001b[0m\u001b[0;34m\u001b[0m\u001b[0m\n\u001b[0m\u001b[1;32m      3\u001b[0m \u001b[0;34m\u001b[0m\u001b[0m\n",
            "\u001b[0;31mNameError\u001b[0m: name 'test_sequences' is not defined"
          ]
        }
      ]
    },
    {
      "cell_type": "code",
      "metadata": {
        "id": "64ql7hDjR_OP"
      },
      "source": [
        "# Crea la matriz de confusión\n",
        "conf_mat = confusion_matrix(y_test, y_predict)"
      ],
      "execution_count": null,
      "outputs": []
    },
    {
      "cell_type": "code",
      "metadata": {
        "id": "k7fpTfjNSF3Q"
      },
      "source": [
        "# Valores para normalizar la matriz respecto a la cantidad de valores reales\n",
        "number_y_real = np.array([int((y_test == val).sum()) for val in sorted(y_test.target.unique())])"
      ],
      "execution_count": null,
      "outputs": []
    },
    {
      "cell_type": "code",
      "metadata": {
        "id": "xB73xVxRSMOB"
      },
      "source": [
        "## crea la matriz de confusion normalizada\n",
        "conf_matrix = []\n",
        "for i, val in enumerate(number_y_real):\n",
        "    conf_matrix.append(conf_mat[i]/val)"
      ],
      "execution_count": null,
      "outputs": []
    },
    {
      "cell_type": "code",
      "metadata": {
        "id": "Dpo1gqyDSOvc",
        "colab": {
          "base_uri": "https://localhost:8080/",
          "height": 514
        },
        "outputId": "8cae87be-608b-4ece-aea3-1a6ec2c05791"
      },
      "source": [
        "# Grafiquemos la matriz de confusión normalizada en un heatmap para identificar \n",
        "# de manera mas clara donde se focalizan los aciertos y donde los errores\n",
        "plt.figure(figsize=(10,8))\n",
        "sns.heatmap(conf_matrix, annot=True, fmt=\".2f\",  cmap=\"Blues\")\n",
        "plt.ylabel('100% rial no fake')\n",
        "plt.xlabel('pred')"
      ],
      "execution_count": null,
      "outputs": [
        {
          "output_type": "execute_result",
          "data": {
            "text/plain": [
              "Text(0.5, 51.0, 'pred')"
            ]
          },
          "metadata": {
            "tags": []
          },
          "execution_count": 14
        },
        {
          "output_type": "display_data",
          "data": {
            "image/png": "[encoded data removed]",
            "text/plain": [
              "<Figure size 720x576 with 2 Axes>"
            ]
          },
          "metadata": {
            "tags": [],
            "needs_background": "light"
          }
        }
      ]
    },
    {
      "cell_type": "code",
      "metadata": {
        "id": "SkLgEPab8r4j",
        "colab": {
          "base_uri": "https://localhost:8080/",
          "height": 500
        },
        "outputId": "9aa276e9-43ed-443c-d9c0-9d9540c089dc"
      },
      "source": [
        "# Grafiquemos la matriz de confusión en un heatmap para identificar \n",
        "# de manera mas clara donde se focalizan los aciertos y donde los errores\n",
        "plt.figure(figsize=(10,8))\n",
        "sns.heatmap(confusion_matrix(y_test, y_predict), annot=True, fmt=\"d\",  cmap=\"Blues\")"
      ],
      "execution_count": null,
      "outputs": [
        {
          "output_type": "execute_result",
          "data": {
            "text/plain": [
              "<matplotlib.axes._subplots.AxesSubplot at 0x7fbd4419fbe0>"
            ]
          },
          "metadata": {
            "tags": []
          },
          "execution_count": 15
        },
        {
          "output_type": "display_data",
          "data": {
            "image/png": "[encoded data removed]",
            "text/plain": [
              "<Figure size 720x576 with 2 Axes>"
            ]
          },
          "metadata": {
            "tags": [],
            "needs_background": "light"
          }
        }
      ]
    },
    {
      "cell_type": "code",
      "metadata": {
        "id": "w7oF4zHH8sCW"
      },
      "source": [
        "from sklearn.metrics import classification_report"
      ],
      "execution_count": null,
      "outputs": []
    },
    {
      "cell_type": "code",
      "metadata": {
        "id": "ZlmM5wFe02a-",
        "colab": {
          "base_uri": "https://localhost:8080/"
        },
        "outputId": "9a876779-8df0-4537-eb8a-c8a0f53b3f75"
      },
      "source": [
        "print('accuracy %s' % accuracy_score(y_predict, y_test))\n",
        "print(classification_report(y_predict, y_test))"
      ],
      "execution_count": null,
      "outputs": [
        {
          "output_type": "stream",
          "text": [
            "accuracy 0.9400717869717952\n",
            "              precision    recall  f1-score   support\n",
            "\n",
            "           0       0.55      0.78      0.65      2530\n",
            "           1       0.58      0.73      0.65     12454\n",
            "           2       0.46      0.65      0.54      8721\n",
            "           3       0.60      0.71      0.65     27945\n",
            "           4       0.87      0.81      0.84    141094\n",
            "           5       0.98      0.97      0.98   1029284\n",
            "           6       0.39      0.70      0.50      7443\n",
            "\n",
            "    accuracy                           0.94   1229471\n",
            "   macro avg       0.63      0.76      0.69   1229471\n",
            "weighted avg       0.95      0.94      0.94   1229471\n",
            "\n"
          ],
          "name": "stdout"
        }
      ]
    },
    {
      "cell_type": "code",
      "metadata": {
        "id": "qIF19dMhN0vC"
      },
      "source": [
        "model_group = tf.keras.models.load_model('/content/drive/My Drive/datos_model/group_groups.h5')\n",
        "model_b = tf.keras.models.load_model('/content/drive/My Drive/datos_model/group_B.h5')\n",
        "model_c = tf.keras.models.load_model('/content/drive/My Drive/datos_model/group_C.h5')\n",
        "model_d = tf.keras.models.load_model('/content/drive/My Drive/datos_model/group_D.h5')\n",
        "model_e = tf.keras.models.load_model('/content/drive/My Drive/datos_model/group_E.h5')\n",
        "model_f = tf.keras.models.load_model('/content/drive/My Drive/datos_model/group_F.h5')\n"
      ],
      "execution_count": null,
      "outputs": []
    },
    {
      "cell_type": "code",
      "metadata": {
        "id": "3yP4eHGnSkC9"
      },
      "source": [
        "def get_group_orders(predictions):\n",
        "    ## ordena mis predicciones de mayor a menor\n",
        "    sorted_preds = sorted(predictions)[::-1]\n",
        "    sorted_preds_index = []\n",
        "    sorted_preds_index = [list(predictions).index(pred) for pred in sorted_preds]\n",
        "    return sorted_preds_index"
      ],
      "execution_count": null,
      "outputs": []
    },
    {
      "cell_type": "code",
      "metadata": {
        "id": "6wxelY1qN0EN"
      },
      "source": [
        "def mod_metric(y_test,X_test):\n",
        "    group_predictions = model_group.predict(X_test)"
      ],
      "execution_count": null,
      "outputs": []
    },
    {
      "cell_type": "code",
      "metadata": {
        "id": "IT1daKeDCtjZ",
        "colab": {
          "base_uri": "https://localhost:8080/",
          "height": 424
        },
        "outputId": "923af02f-8f1f-40ca-93f6-0dfed59c2d6c"
      },
      "source": [
        "\n",
        "y_test"
      ],
      "execution_count": null,
      "outputs": [
        {
          "output_type": "execute_result",
          "data": {
            "text/html": [
              "<div>\n",
              "<style scoped>\n",
              "    .dataframe tbody tr th:only-of-type {\n",
              "        vertical-align: middle;\n",
              "    }\n",
              "\n",
              "    .dataframe tbody tr th {\n",
              "        vertical-align: top;\n",
              "    }\n",
              "\n",
              "    .dataframe thead th {\n",
              "        text-align: right;\n",
              "    }\n",
              "</style>\n",
              "<table border=\"1\" class=\"dataframe\">\n",
              "  <thead>\n",
              "    <tr style=\"text-align: right;\">\n",
              "      <th></th>\n",
              "      <th>target</th>\n",
              "    </tr>\n",
              "  </thead>\n",
              "  <tbody>\n",
              "    <tr>\n",
              "      <th>0</th>\n",
              "      <td>5</td>\n",
              "    </tr>\n",
              "    <tr>\n",
              "      <th>1</th>\n",
              "      <td>5</td>\n",
              "    </tr>\n",
              "    <tr>\n",
              "      <th>2</th>\n",
              "      <td>5</td>\n",
              "    </tr>\n",
              "    <tr>\n",
              "      <th>3</th>\n",
              "      <td>5</td>\n",
              "    </tr>\n",
              "    <tr>\n",
              "      <th>4</th>\n",
              "      <td>4</td>\n",
              "    </tr>\n",
              "    <tr>\n",
              "      <th>...</th>\n",
              "      <td>...</td>\n",
              "    </tr>\n",
              "    <tr>\n",
              "      <th>1229466</th>\n",
              "      <td>5</td>\n",
              "    </tr>\n",
              "    <tr>\n",
              "      <th>1229467</th>\n",
              "      <td>5</td>\n",
              "    </tr>\n",
              "    <tr>\n",
              "      <th>1229468</th>\n",
              "      <td>5</td>\n",
              "    </tr>\n",
              "    <tr>\n",
              "      <th>1229469</th>\n",
              "      <td>5</td>\n",
              "    </tr>\n",
              "    <tr>\n",
              "      <th>1229470</th>\n",
              "      <td>5</td>\n",
              "    </tr>\n",
              "  </tbody>\n",
              "</table>\n",
              "<p>1229471 rows × 1 columns</p>\n",
              "</div>"
            ],
            "text/plain": [
              "         target\n",
              "0             5\n",
              "1             5\n",
              "2             5\n",
              "3             5\n",
              "4             4\n",
              "...         ...\n",
              "1229466       5\n",
              "1229467       5\n",
              "1229468       5\n",
              "1229469       5\n",
              "1229470       5\n",
              "\n",
              "[1229471 rows x 1 columns]"
            ]
          },
          "metadata": {
            "tags": []
          },
          "execution_count": 10
        }
      ]
    },
    {
      "cell_type": "code",
      "metadata": {
        "id": "FvfWxfU_bLSc",
        "colab": {
          "base_uri": "https://localhost:8080/"
        },
        "outputId": "7f07ce03-431e-49bc-badd-85bfda47d638"
      },
      "source": [
        "pip install -U keras-tuner"
      ],
      "execution_count": null,
      "outputs": [
        {
          "output_type": "stream",
          "text": [
            "Collecting keras-tuner\n",
            "\u001b[?25l  Downloading https://files.pythonhosted.org/packages/a7/f7/4b41b6832abf4c9bef71a664dc563adb25afc5812831667c6db572b1a261/keras-tuner-1.0.1.tar.gz (54kB)\n",
            "\r\u001b[K     |██████                          | 10kB 17.5MB/s eta 0:00:01\r\u001b[K     |████████████                    | 20kB 3.0MB/s eta 0:00:01\r\u001b[K     |██████████████████              | 30kB 3.9MB/s eta 0:00:01\r\u001b[K     |████████████████████████        | 40kB 4.2MB/s eta 0:00:01\r\u001b[K     |██████████████████████████████  | 51kB 3.5MB/s eta 0:00:01\r\u001b[K     |████████████████████████████████| 61kB 2.7MB/s \n",
            "\u001b[?25hRequirement already satisfied, skipping upgrade: future in /usr/local/lib/python3.6/dist-packages (from keras-tuner) (0.16.0)\n",
            "Requirement already satisfied, skipping upgrade: numpy in /usr/local/lib/python3.6/dist-packages (from keras-tuner) (1.18.5)\n",
            "Requirement already satisfied, skipping upgrade: tabulate in /usr/local/lib/python3.6/dist-packages (from keras-tuner) (0.8.7)\n",
            "Collecting terminaltables\n",
            "  Downloading https://files.pythonhosted.org/packages/9b/c4/4a21174f32f8a7e1104798c445dacdc1d4df86f2f26722767034e4de4bff/terminaltables-3.1.0.tar.gz\n",
            "Collecting colorama\n",
            "  Downloading https://files.pythonhosted.org/packages/44/98/5b86278fbbf250d239ae0ecb724f8572af1c91f4a11edf4d36a206189440/colorama-0.4.4-py2.py3-none-any.whl\n",
            "Requirement already satisfied, skipping upgrade: tqdm in /usr/local/lib/python3.6/dist-packages (from keras-tuner) (4.41.1)\n",
            "Requirement already satisfied, skipping upgrade: requests in /usr/local/lib/python3.6/dist-packages (from keras-tuner) (2.23.0)\n",
            "Requirement already satisfied, skipping upgrade: scipy in /usr/local/lib/python3.6/dist-packages (from keras-tuner) (1.4.1)\n",
            "Requirement already satisfied, skipping upgrade: scikit-learn in /usr/local/lib/python3.6/dist-packages (from keras-tuner) (0.22.2.post1)\n",
            "Requirement already satisfied, skipping upgrade: urllib3!=1.25.0,!=1.25.1,<1.26,>=1.21.1 in /usr/local/lib/python3.6/dist-packages (from requests->keras-tuner) (1.24.3)\n",
            "Requirement already satisfied, skipping upgrade: idna<3,>=2.5 in /usr/local/lib/python3.6/dist-packages (from requests->keras-tuner) (2.10)\n",
            "Requirement already satisfied, skipping upgrade: chardet<4,>=3.0.2 in /usr/local/lib/python3.6/dist-packages (from requests->keras-tuner) (3.0.4)\n",
            "Requirement already satisfied, skipping upgrade: certifi>=2017.4.17 in /usr/local/lib/python3.6/dist-packages (from requests->keras-tuner) (2020.6.20)\n",
            "Requirement already satisfied, skipping upgrade: joblib>=0.11 in /usr/local/lib/python3.6/dist-packages (from scikit-learn->keras-tuner) (0.17.0)\n",
            "Building wheels for collected packages: keras-tuner, terminaltables\n",
            "  Building wheel for keras-tuner (setup.py) ... \u001b[?25l\u001b[?25hdone\n",
            "  Created wheel for keras-tuner: filename=keras_tuner-1.0.1-cp36-none-any.whl size=73200 sha256=7b6b769988a71e3dae8a90bbf8a1c2dd77e0a47a4b0a04729bdc07e7e12bb5af\n",
            "  Stored in directory: /root/.cache/pip/wheels/b9/cc/62/52716b70dd90f3db12519233c3a93a5360bc672da1a10ded43\n",
            "  Building wheel for terminaltables (setup.py) ... \u001b[?25l\u001b[?25hdone\n",
            "  Created wheel for terminaltables: filename=terminaltables-3.1.0-cp36-none-any.whl size=15356 sha256=4989c32ff40569d7f98fdd3563cf6c43f2921f1119db4d2a27b7390edb51de80\n",
            "  Stored in directory: /root/.cache/pip/wheels/30/6b/50/6c75775b681fb36cdfac7f19799888ef9d8813aff9e379663e\n",
            "Successfully built keras-tuner terminaltables\n",
            "Installing collected packages: terminaltables, colorama, keras-tuner\n",
            "Successfully installed colorama-0.4.4 keras-tuner-1.0.1 terminaltables-3.1.0\n"
          ],
          "name": "stdout"
        }
      ]
    },
    {
      "cell_type": "code",
      "metadata": {
        "id": "QKoaYEB1albI"
      },
      "source": [
        "from tensorflow import keras\n",
        "from tensorflow.keras import layers\n",
        "from kerastuner.tuners import RandomSearch"
      ],
      "execution_count": null,
      "outputs": []
    },
    {
      "cell_type": "code",
      "metadata": {
        "id": "VQOAveVAbIfk"
      },
      "source": [
        "def tune_nn_model(hp):\n",
        "\n",
        "    model = keras.Sequential()\n",
        "\n",
        "    model.add(keras.layers.Dense(units=128,\n",
        "\n",
        "                                 activation=\"relu\"))\n",
        "\n",
        "    for i in range(hp.Int('num_layers', 1, 6)):\n",
        "        \n",
        "\n",
        "        units = hp.Int(\n",
        "\n",
        "          'units_' + str(i),\n",
        "\n",
        "          min_value=8,\n",
        "\n",
        "          max_value=64,\n",
        "\n",
        "          step=8\n",
        "\n",
        "      )\n",
        "        \n",
        "\n",
        "        model.add(keras.layers.Dense(units=units, activation='relu'))\n",
        "\n",
        "        drop_rate = hp.Choice('drop_rate_' + str(i),\n",
        "\n",
        "                            [\n",
        "\n",
        "                              0.0, 0.1, 0.2, 0.3, 0.4,\n",
        "\n",
        "                              0.5, 0.6, 0.7, 0.8, 0.9\n",
        "\n",
        "                            ])\n",
        "\n",
        "        model.add(keras.layers.Dropout(rate=drop_rate))\n",
        "\n",
        "    model.add(keras.layers.Dense(7, activation='sigmoid'))\n",
        "USDUSD\n",
        "    model.compile(\n",
        "\n",
        "        optimizer=\"adam\",\n",
        "\n",
        "        loss = 'sparse_categorical_crossentropy',\n",
        "\n",
        "        metrics = ['accuracy'])\n",
        "\n",
        "    return model"
      ],
      "execution_count": null,
      "outputs": []
    },
    {
      "cell_type": "code",
      "metadata": {
        "id": "L1aH2Vz2bPFI"
      },
      "source": [
        "MAX_TRIALS = 15\n",
        "\n",
        "EXECUTIONS_PER_TRIAL = 5\n",
        "\n",
        "tuner = RandomSearch(\n",
        "\n",
        "    tune_nn_model,\n",
        "\n",
        "    objective='val_accuracy',\n",
        "\n",
        "    max_trials=MAX_TRIALS,\n",
        "\n",
        "    executions_per_trial=EXECUTIONS_PER_TRIAL,\n",
        "\n",
        "    seed=42\n",
        ")"
      ],
      "execution_count": null,
      "outputs": []
    },
    {
      "cell_type": "code",
      "metadata": {
        "id": "zwboWMt6bRZf",
        "colab": {
          "base_uri": "https://localhost:8080/",
          "height": 1000
        },
        "outputId": "f8fad368-efd8-4a8e-97c5-f82eebbded37"
      },
      "source": [
        "TRAIN_EPOCHS = 15\n",
        "\n",
        "tuner.search(x=train_sequences,\n",
        "\n",
        "             y=y_train,\n",
        "\n",
        "             epochs=TRAIN_EPOCHS,\n",
        "\n",
        "             validation_data=(test_sequences, y_test),\n",
        "             batch_size = 1024,\n",
        "             callbacks=[tf.keras.callbacks.EarlyStopping('val_loss', patience=2)])"
      ],
      "execution_count": null,
      "outputs": [
        {
          "output_type": "stream",
          "text": [
            "Epoch 1/15\n",
            "4803/4803 [==============================] - 28s 6ms/step - loss: 0.7461 - accuracy: 0.8195 - val_loss: 0.6596 - val_accuracy: 0.8296\n",
            "Epoch 2/15\n",
            "4803/4803 [==============================] - 28s 6ms/step - loss: 0.6597 - accuracy: 0.8294 - val_loss: 0.6591 - val_accuracy: 0.8296\n",
            "Epoch 3/15\n",
            "4803/4803 [==============================] - 27s 6ms/step - loss: 0.6596 - accuracy: 0.8294 - val_loss: 0.6590 - val_accuracy: 0.8296\n",
            "Epoch 4/15\n",
            "4803/4803 [==============================] - 28s 6ms/step - loss: 0.6597 - accuracy: 0.8294 - val_loss: 0.6590 - val_accuracy: 0.8296\n",
            "Epoch 5/15\n",
            "4803/4803 [==============================] - 29s 6ms/step - loss: 0.6596 - accuracy: 0.8295 - val_loss: 0.6590 - val_accuracy: 0.8296\n",
            "Epoch 1/15\n",
            "4803/4803 [==============================] - 27s 6ms/step - loss: 0.7427 - accuracy: 0.8237 - val_loss: 0.6905 - val_accuracy: 0.8296\n",
            "Epoch 2/15\n",
            "4803/4803 [==============================] - 28s 6ms/step - loss: 0.6800 - accuracy: 0.8294 - val_loss: 0.6945 - val_accuracy: 0.8295\n",
            "Epoch 3/15\n",
            "4803/4803 [==============================] - 27s 6ms/step - loss: 0.6680 - accuracy: 0.8294 - val_loss: 0.6693 - val_accuracy: 0.8296\n",
            "Epoch 4/15\n",
            "4803/4803 [==============================] - 27s 6ms/step - loss: 0.6612 - accuracy: 0.8294 - val_loss: 0.6594 - val_accuracy: 0.8296\n",
            "Epoch 5/15\n",
            "4803/4803 [==============================] - 27s 6ms/step - loss: 0.6607 - accuracy: 0.8291 - val_loss: 0.6601 - val_accuracy: 0.8296\n",
            "Epoch 6/15\n",
            "4803/4803 [==============================] - 28s 6ms/step - loss: 0.6648 - accuracy: 0.8294 - val_loss: 0.6680 - val_accuracy: 0.8296\n",
            "Epoch 1/15\n",
            "4803/4803 [==============================] - 28s 6ms/step - loss: 0.7752 - accuracy: 0.8205 - val_loss: 0.6592 - val_accuracy: 0.8296\n",
            "Epoch 2/15\n",
            "4803/4803 [==============================] - 27s 6ms/step - loss: 0.6597 - accuracy: 0.8294 - val_loss: 0.6591 - val_accuracy: 0.8296\n",
            "Epoch 3/15\n",
            "4803/4803 [==============================] - 27s 6ms/step - loss: 0.6597 - accuracy: 0.8294 - val_loss: 0.6592 - val_accuracy: 0.8296\n",
            "Epoch 4/15\n",
            "4803/4803 [==============================] - 27s 6ms/step - loss: 0.6597 - accuracy: 0.8294 - val_loss: 0.6592 - val_accuracy: 0.8296\n",
            "Epoch 1/15\n",
            "4803/4803 [==============================] - 28s 6ms/step - loss: 0.7460 - accuracy: 0.8091 - val_loss: 0.6592 - val_accuracy: 0.8296\n",
            "Epoch 2/15\n",
            "4803/4803 [==============================] - 27s 6ms/step - loss: 0.6595 - accuracy: 0.8294 - val_loss: 0.6591 - val_accuracy: 0.8296\n",
            "Epoch 3/15\n",
            "4803/4803 [==============================] - 27s 6ms/step - loss: 0.6596 - accuracy: 0.8294 - val_loss: 0.6589 - val_accuracy: 0.8296\n",
            "Epoch 4/15\n",
            "4803/4803 [==============================] - 27s 6ms/step - loss: 0.6595 - accuracy: 0.8295 - val_loss: 0.6588 - val_accuracy: 0.8297\n",
            "Epoch 5/15\n",
            "4803/4803 [==============================] - 27s 6ms/step - loss: 0.6594 - accuracy: 0.8295 - val_loss: 0.6588 - val_accuracy: 0.8297\n",
            "Epoch 6/15\n",
            "4803/4803 [==============================] - 28s 6ms/step - loss: 0.6621 - accuracy: 0.8295 - val_loss: 0.6589 - val_accuracy: 0.8297\n",
            "Epoch 1/15\n",
            "4803/4803 [==============================] - 27s 6ms/step - loss: 0.7846 - accuracy: 0.8271 - val_loss: 0.6592 - val_accuracy: 0.8296\n",
            "Epoch 2/15\n",
            "4803/4803 [==============================] - 27s 6ms/step - loss: 0.6597 - accuracy: 0.8294 - val_loss: 0.6591 - val_accuracy: 0.8296\n",
            "Epoch 3/15\n",
            "4803/4803 [==============================] - 27s 6ms/step - loss: 0.6597 - accuracy: 0.8294 - val_loss: 0.6591 - val_accuracy: 0.8296\n",
            "Epoch 4/15\n",
            "4803/4803 [==============================] - 27s 6ms/step - loss: 0.6597 - accuracy: 0.8294 - val_loss: 0.6592 - val_accuracy: 0.8296\n",
            "Epoch 5/15\n",
            "4803/4803 [==============================] - 27s 6ms/step - loss: 0.6597 - accuracy: 0.8294 - val_loss: 0.6592 - val_accuracy: 0.8296\n"
          ],
          "name": "stdout"
        },
        {
          "output_type": "display_data",
          "data": {
            "text/html": [
              "<span style=\"color:#4527A0\"><h1 style=\"font-size:18px\">Trial complete</h1></span>"
            ],
            "text/plain": [
              "<IPython.core.display.HTML object>"
            ]
          },
          "metadata": {
            "tags": []
          }
        },
        {
          "output_type": "display_data",
          "data": {
            "text/html": [
              "<span style=\"color:#4527A0\"><h1 style=\"font-size:18px\">Trial summary</h1></span>"
            ],
            "text/plain": [
              "<IPython.core.display.HTML object>"
            ]
          },
          "metadata": {
            "tags": []
          }
        },
        {
          "output_type": "display_data",
          "data": {
            "text/html": [
              "<span style=\"color:cyan\"> |-Trial ID: bd89d767730039259018389426aed7b3</span>"
            ],
            "text/plain": [
              "<IPython.core.display.HTML object>"
            ]
          },
          "metadata": {
            "tags": []
          }
        },
        {
          "output_type": "display_data",
          "data": {
            "text/html": [
              "<span style=\"color:cyan\"> |-Score: 0.8296540737152099</span>"
            ],
            "text/plain": [
              "<IPython.core.display.HTML object>"
            ]
          },
          "metadata": {
            "tags": []
          }
        },
        {
          "output_type": "display_data",
          "data": {
            "text/html": [
              "<span style=\"color:cyan\"> |-Best step: 0</span>"
            ],
            "text/plain": [
              "<IPython.core.display.HTML object>"
            ]
          },
          "metadata": {
            "tags": []
          }
        },
        {
          "output_type": "display_data",
          "data": {
            "text/html": [
              "<span style=\"color:#7E57C2\"><h2 style=\"font-size:16px\">Hyperparameters:</h2></span>"
            ],
            "text/plain": [
              "<IPython.core.display.HTML object>"
            ]
          },
          "metadata": {
            "tags": []
          }
        },
        {
          "output_type": "display_data",
          "data": {
            "text/html": [
              "<span style=\"color:cyan\"> |-drop_rate_0: 0.6</span>"
            ],
            "text/plain": [
              "<IPython.core.display.HTML object>"
            ]
          },
          "metadata": {
            "tags": []
          }
        },
        {
          "output_type": "display_data",
          "data": {
            "text/html": [
              "<span style=\"color:blue\"> |-drop_rate_1: 0.0</span>"
            ],
            "text/plain": [
              "<IPython.core.display.HTML object>"
            ]
          },
          "metadata": {
            "tags": []
          }
        },
        {
          "output_type": "display_data",
          "data": {
            "text/html": [
              "<span style=\"color:cyan\"> |-drop_rate_2: 0.0</span>"
            ],
            "text/plain": [
              "<IPython.core.display.HTML object>"
            ]
          },
          "metadata": {
            "tags": []
          }
        },
        {
          "output_type": "display_data",
          "data": {
            "text/html": [
              "<span style=\"color:blue\"> |-drop_rate_3: 0.0</span>"
            ],
            "text/plain": [
              "<IPython.core.display.HTML object>"
            ]
          },
          "metadata": {
            "tags": []
          }
        },
        {
          "output_type": "display_data",
          "data": {
            "text/html": [
              "<span style=\"color:cyan\"> |-num_layers: 4</span>"
            ],
            "text/plain": [
              "<IPython.core.display.HTML object>"
            ]
          },
          "metadata": {
            "tags": []
          }
        },
        {
          "output_type": "display_data",
          "data": {
            "text/html": [
              "<span style=\"color:blue\"> |-units_0: 8</span>"
            ],
            "text/plain": [
              "<IPython.core.display.HTML object>"
            ]
          },
          "metadata": {
            "tags": []
          }
        },
        {
          "output_type": "display_data",
          "data": {
            "text/html": [
              "<span style=\"color:cyan\"> |-units_1: 8</span>"
            ],
            "text/plain": [
              "<IPython.core.display.HTML object>"
            ]
          },
          "metadata": {
            "tags": []
          }
        },
        {
          "output_type": "display_data",
          "data": {
            "text/html": [
              "<span style=\"color:blue\"> |-units_2: 8</span>"
            ],
            "text/plain": [
              "<IPython.core.display.HTML object>"
            ]
          },
          "metadata": {
            "tags": []
          }
        },
        {
          "output_type": "display_data",
          "data": {
            "text/html": [
              "<span style=\"color:cyan\"> |-units_3: 8</span>"
            ],
            "text/plain": [
              "<IPython.core.display.HTML object>"
            ]
          },
          "metadata": {
            "tags": []
          }
        },
        {
          "output_type": "stream",
          "text": [
            "Epoch 1/15\n",
            "4803/4803 [==============================] - 27s 6ms/step - loss: 1.6940 - accuracy: 0.1116 - val_loss: 1.6684 - val_accuracy: 0.1055\n",
            "Epoch 2/15\n",
            "4803/4803 [==============================] - 26s 5ms/step - loss: 1.6958 - accuracy: 0.1646 - val_loss: 1.6604 - val_accuracy: 0.1101\n",
            "Epoch 3/15\n",
            "4803/4803 [==============================] - 25s 5ms/step - loss: 1.7497 - accuracy: 0.2786 - val_loss: 1.7494 - val_accuracy: 0.2856\n",
            "Epoch 4/15\n",
            "4803/4803 [==============================] - 26s 5ms/step - loss: 1.7799 - accuracy: 0.3436 - val_loss: 1.7608 - val_accuracy: 0.3118\n",
            "Epoch 1/15\n",
            "4803/4803 [==============================] - 26s 5ms/step - loss: 1.7082 - accuracy: 0.0913 - val_loss: 1.6625 - val_accuracy: 0.0586\n",
            "Epoch 2/15\n",
            "4803/4803 [==============================] - 26s 5ms/step - loss: 1.7438 - accuracy: 0.2057 - val_loss: 1.8629 - val_accuracy: 0.4506\n",
            "Epoch 3/15\n",
            "4803/4803 [==============================] - 25s 5ms/step - loss: 1.6887 - accuracy: 0.1252 - val_loss: 1.6723 - val_accuracy: 0.1721\n",
            "Epoch 1/15\n",
            "4803/4803 [==============================] - 26s 5ms/step - loss: 1.6945 - accuracy: 0.1074 - val_loss: 1.6568 - val_accuracy: 0.1168\n",
            "Epoch 2/15\n",
            "4803/4803 [==============================] - 25s 5ms/step - loss: 1.6892 - accuracy: 0.1173 - val_loss: 1.7144 - val_accuracy: 0.1070\n",
            "Epoch 3/15\n",
            "4803/4803 [==============================] - 26s 5ms/step - loss: 1.7257 - accuracy: 0.1681 - val_loss: 1.7145 - val_accuracy: 0.1070\n",
            "Epoch 1/15\n",
            "4803/4803 [==============================] - 25s 5ms/step - loss: 1.6980 - accuracy: 0.0812 - val_loss: 1.7032 - val_accuracy: 0.1075\n",
            "Epoch 2/15\n",
            "4803/4803 [==============================] - 26s 5ms/step - loss: 1.6919 - accuracy: 0.0945 - val_loss: 1.6857 - val_accuracy: 0.0811\n",
            "Epoch 3/15\n",
            "4803/4803 [==============================] - 27s 6ms/step - loss: 1.7189 - accuracy: 0.1558 - val_loss: 1.6973 - val_accuracy: 0.1630\n",
            "Epoch 4/15\n",
            "4803/4803 [==============================] - 26s 5ms/step - loss: 1.8129 - accuracy: 0.3665 - val_loss: 1.9169 - val_accuracy: 0.5110\n",
            "Epoch 1/15\n",
            "4803/4803 [==============================] - 26s 5ms/step - loss: 1.7013 - accuracy: 0.1079 - val_loss: 1.6712 - val_accuracy: 0.1476\n",
            "Epoch 2/15\n",
            "4803/4803 [==============================] - 26s 5ms/step - loss: 1.6913 - accuracy: 0.1582 - val_loss: 1.6942 - val_accuracy: 0.1855\n",
            "Epoch 3/15\n",
            "4803/4803 [==============================] - 25s 5ms/step - loss: 1.7147 - accuracy: 0.2163 - val_loss: 1.7306 - val_accuracy: 0.2722\n"
          ],
          "name": "stdout"
        },
        {
          "output_type": "display_data",
          "data": {
            "text/html": [
              "<span style=\"color:#4527A0\"><h1 style=\"font-size:18px\">Trial complete</h1></span>"
            ],
            "text/plain": [
              "<IPython.core.display.HTML object>"
            ]
          },
          "metadata": {
            "tags": []
          }
        },
        {
          "output_type": "display_data",
          "data": {
            "text/html": [
              "<span style=\"color:#4527A0\"><h1 style=\"font-size:18px\">Trial summary</h1></span>"
            ],
            "text/plain": [
              "<IPython.core.display.HTML object>"
            ]
          },
          "metadata": {
            "tags": []
          }
        },
        {
          "output_type": "display_data",
          "data": {
            "text/html": [
              "<span style=\"color:cyan\"> |-Trial ID: df4d4a132320e33b4b7fac46b095788a</span>"
            ],
            "text/plain": [
              "<IPython.core.display.HTML object>"
            ]
          },
          "metadata": {
            "tags": []
          }
        },
        {
          "output_type": "display_data",
          "data": {
            "text/html": [
              "<span style=\"color:cyan\"> |-Score: 0.33245484679937365</span>"
            ],
            "text/plain": [
              "<IPython.core.display.HTML object>"
            ]
          },
          "metadata": {
            "tags": []
          }
        },
        {
          "output_type": "display_data",
          "data": {
            "text/html": [
              "<span style=\"color:cyan\"> |-Best step: 0</span>"
            ],
            "text/plain": [
              "<IPython.core.display.HTML object>"
            ]
          },
          "metadata": {
            "tags": []
          }
        },
        {
          "output_type": "display_data",
          "data": {
            "text/html": [
              "<span style=\"color:#7E57C2\"><h2 style=\"font-size:16px\">Hyperparameters:</h2></span>"
            ],
            "text/plain": [
              "<IPython.core.display.HTML object>"
            ]
          },
          "metadata": {
            "tags": []
          }
        },
        {
          "output_type": "display_data",
          "data": {
            "text/html": [
              "<span style=\"color:cyan\"> |-drop_rate_0: 0.5</span>"
            ],
            "text/plain": [
              "<IPython.core.display.HTML object>"
            ]
          },
          "metadata": {
            "tags": []
          }
        },
        {
          "output_type": "display_data",
          "data": {
            "text/html": [
              "<span style=\"color:blue\"> |-drop_rate_1: 0.1</span>"
            ],
            "text/plain": [
              "<IPython.core.display.HTML object>"
            ]
          },
          "metadata": {
            "tags": []
          }
        },
        {
          "output_type": "display_data",
          "data": {
            "text/html": [
              "<span style=\"color:cyan\"> |-drop_rate_2: 0.3</span>"
            ],
            "text/plain": [
              "<IPython.core.display.HTML object>"
            ]
          },
          "metadata": {
            "tags": []
          }
        },
        {
          "output_type": "display_data",
          "data": {
            "text/html": [
              "<span style=\"color:blue\"> |-drop_rate_3: 0.9</span>"
            ],
            "text/plain": [
              "<IPython.core.display.HTML object>"
            ]
          },
          "metadata": {
            "tags": []
          }
        },
        {
          "output_type": "display_data",
          "data": {
            "text/html": [
              "<span style=\"color:cyan\"> |-num_layers: 2</span>"
            ],
            "text/plain": [
              "<IPython.core.display.HTML object>"
            ]
          },
          "metadata": {
            "tags": []
          }
        },
        {
          "output_type": "display_data",
          "data": {
            "text/html": [
              "<span style=\"color:blue\"> |-units_0: 56</span>"
            ],
            "text/plain": [
              "<IPython.core.display.HTML object>"
            ]
          },
          "metadata": {
            "tags": []
          }
        },
        {
          "output_type": "display_data",
          "data": {
            "text/html": [
              "<span style=\"color:cyan\"> |-units_1: 40</span>"
            ],
            "text/plain": [
              "<IPython.core.display.HTML object>"
            ]
          },
          "metadata": {
            "tags": []
          }
        },
        {
          "output_type": "display_data",
          "data": {
            "text/html": [
              "<span style=\"color:blue\"> |-units_2: 32</span>"
            ],
            "text/plain": [
              "<IPython.core.display.HTML object>"
            ]
          },
          "metadata": {
            "tags": []
          }
        },
        {
          "output_type": "display_data",
          "data": {
            "text/html": [
              "<span style=\"color:cyan\"> |-units_3: 64</span>"
            ],
            "text/plain": [
              "<IPython.core.display.HTML object>"
            ]
          },
          "metadata": {
            "tags": []
          }
        },
        {
          "output_type": "stream",
          "text": [
            "Epoch 1/15\n",
            "4803/4803 [==============================] - 30s 6ms/step - loss: 0.7370 - accuracy: 0.8269 - val_loss: 0.6595 - val_accuracy: 0.8296\n",
            "Epoch 2/15\n",
            "4803/4803 [==============================] - 29s 6ms/step - loss: 0.6598 - accuracy: 0.8294 - val_loss: 0.6592 - val_accuracy: 0.8296\n",
            "Epoch 3/15\n",
            "4803/4803 [==============================] - 29s 6ms/step - loss: 0.6658 - accuracy: 0.8294 - val_loss: 0.7995 - val_accuracy: 0.8296\n",
            "Epoch 4/15\n",
            "4803/4803 [==============================] - 29s 6ms/step - loss: 0.6656 - accuracy: 0.8294 - val_loss: 0.6717 - val_accuracy: 0.8296\n",
            "Epoch 1/15\n",
            "4803/4803 [==============================] - 30s 6ms/step - loss: 0.7356 - accuracy: 0.8269 - val_loss: 0.7890 - val_accuracy: 0.8296\n",
            "Epoch 2/15\n",
            "4803/4803 [==============================] - 30s 6ms/step - loss: 0.6677 - accuracy: 0.8293 - val_loss: 0.8668 - val_accuracy: 0.8296\n",
            "Epoch 3/15\n",
            "4803/4803 [==============================] - 31s 7ms/step - loss: 0.6658 - accuracy: 0.8294 - val_loss: 0.6973 - val_accuracy: 0.8296\n",
            "Epoch 4/15\n",
            "4803/4803 [==============================] - 30s 6ms/step - loss: 0.6646 - accuracy: 0.8294 - val_loss: 0.7424 - val_accuracy: 0.8296\n",
            "Epoch 5/15\n",
            "4803/4803 [==============================] - 30s 6ms/step - loss: 0.6703 - accuracy: 0.8294 - val_loss: 0.7028 - val_accuracy: 0.8296\n",
            "Epoch 1/15\n",
            "4803/4803 [==============================] - 29s 6ms/step - loss: 0.7512 - accuracy: 0.8258 - val_loss: 0.6940 - val_accuracy: 0.8296\n",
            "Epoch 2/15\n",
            "4803/4803 [==============================] - 29s 6ms/step - loss: 0.6617 - accuracy: 0.8293 - val_loss: 0.7364 - val_accuracy: 0.8296\n",
            "Epoch 3/15\n",
            "4803/4803 [==============================] - 29s 6ms/step - loss: 0.6611 - accuracy: 0.8294 - val_loss: 0.7000 - val_accuracy: 0.8296\n",
            "Epoch 1/15\n",
            "4803/4803 [==============================] - 29s 6ms/step - loss: 0.7576 - accuracy: 0.8272 - val_loss: 0.6862 - val_accuracy: 0.8296\n",
            "Epoch 2/15\n",
            "4803/4803 [==============================] - 29s 6ms/step - loss: 0.6628 - accuracy: 0.8294 - val_loss: 0.8818 - val_accuracy: 0.8296\n",
            "Epoch 3/15\n",
            "4803/4803 [==============================] - 29s 6ms/step - loss: 0.6645 - accuracy: 0.8292 - val_loss: 0.6880 - val_accuracy: 0.8296\n",
            "Epoch 1/15\n",
            "4803/4803 [==============================] - 29s 6ms/step - loss: 0.7364 - accuracy: 0.8254 - val_loss: 0.6621 - val_accuracy: 0.8296\n",
            "Epoch 2/15\n",
            "4803/4803 [==============================] - 31s 7ms/step - loss: 0.6633 - accuracy: 0.8294 - val_loss: 0.6922 - val_accuracy: 0.8296\n",
            "Epoch 3/15\n",
            "4803/4803 [==============================] - 30s 6ms/step - loss: 0.6637 - accuracy: 0.8293 - val_loss: 0.6680 - val_accuracy: 0.8296\n"
          ],
          "name": "stdout"
        },
        {
          "output_type": "display_data",
          "data": {
            "text/html": [
              "<span style=\"color:#4527A0\"><h1 style=\"font-size:18px\">Trial complete</h1></span>"
            ],
            "text/plain": [
              "<IPython.core.display.HTML object>"
            ]
          },
          "metadata": {
            "tags": []
          }
        },
        {
          "output_type": "display_data",
          "data": {
            "text/html": [
              "<span style=\"color:#4527A0\"><h1 style=\"font-size:18px\">Trial summary</h1></span>"
            ],
            "text/plain": [
              "<IPython.core.display.HTML object>"
            ]
          },
          "metadata": {
            "tags": []
          }
        },
        {
          "output_type": "display_data",
          "data": {
            "text/html": [
              "<span style=\"color:cyan\"> |-Trial ID: 9a67a5d2b8d4cfec448ed4673ec1d79d</span>"
            ],
            "text/plain": [
              "<IPython.core.display.HTML object>"
            ]
          },
          "metadata": {
            "tags": []
          }
        },
        {
          "output_type": "display_data",
          "data": {
            "text/html": [
              "<span style=\"color:cyan\"> |-Score: 0.8296340703964233</span>"
            ],
            "text/plain": [
              "<IPython.core.display.HTML object>"
            ]
          },
          "metadata": {
            "tags": []
          }
        },
        {
          "output_type": "display_data",
          "data": {
            "text/html": [
              "<span style=\"color:cyan\"> |-Best step: 0</span>"
            ],
            "text/plain": [
              "<IPython.core.display.HTML object>"
            ]
          },
          "metadata": {
            "tags": []
          }
        },
        {
          "output_type": "display_data",
          "data": {
            "text/html": [
              "<span style=\"color:#7E57C2\"><h2 style=\"font-size:16px\">Hyperparameters:</h2></span>"
            ],
            "text/plain": [
              "<IPython.core.display.HTML object>"
            ]
          },
          "metadata": {
            "tags": []
          }
        },
        {
          "output_type": "display_data",
          "data": {
            "text/html": [
              "<span style=\"color:cyan\"> |-drop_rate_0: 0.8</span>"
            ],
            "text/plain": [
              "<IPython.core.display.HTML object>"
            ]
          },
          "metadata": {
            "tags": []
          }
        },
        {
          "output_type": "display_data",
          "data": {
            "text/html": [
              "<span style=\"color:blue\"> |-drop_rate_1: 0.9</span>"
            ],
            "text/plain": [
              "<IPython.core.display.HTML object>"
            ]
          },
          "metadata": {
            "tags": []
          }
        },
        {
          "output_type": "display_data",
          "data": {
            "text/html": [
              "<span style=\"color:cyan\"> |-drop_rate_2: 0.4</span>"
            ],
            "text/plain": [
              "<IPython.core.display.HTML object>"
            ]
          },
          "metadata": {
            "tags": []
          }
        },
        {
          "output_type": "display_data",
          "data": {
            "text/html": [
              "<span style=\"color:blue\"> |-drop_rate_3: 0.9</span>"
            ],
            "text/plain": [
              "<IPython.core.display.HTML object>"
            ]
          },
          "metadata": {
            "tags": []
          }
        },
        {
          "output_type": "display_data",
          "data": {
            "text/html": [
              "<span style=\"color:cyan\"> |-drop_rate_4: 0.0</span>"
            ],
            "text/plain": [
              "<IPython.core.display.HTML object>"
            ]
          },
          "metadata": {
            "tags": []
          }
        },
        {
          "output_type": "display_data",
          "data": {
            "text/html": [
              "<span style=\"color:blue\"> |-drop_rate_5: 0.0</span>"
            ],
            "text/plain": [
              "<IPython.core.display.HTML object>"
            ]
          },
          "metadata": {
            "tags": []
          }
        },
        {
          "output_type": "display_data",
          "data": {
            "text/html": [
              "<span style=\"color:cyan\"> |-num_layers: 6</span>"
            ],
            "text/plain": [
              "<IPython.core.display.HTML object>"
            ]
          },
          "metadata": {
            "tags": []
          }
        },
        {
          "output_type": "display_data",
          "data": {
            "text/html": [
              "<span style=\"color:blue\"> |-units_0: 16</span>"
            ],
            "text/plain": [
              "<IPython.core.display.HTML object>"
            ]
          },
          "metadata": {
            "tags": []
          }
        },
        {
          "output_type": "display_data",
          "data": {
            "text/html": [
              "<span style=\"color:cyan\"> |-units_1: 8</span>"
            ],
            "text/plain": [
              "<IPython.core.display.HTML object>"
            ]
          },
          "metadata": {
            "tags": []
          }
        },
        {
          "output_type": "display_data",
          "data": {
            "text/html": [
              "<span style=\"color:blue\"> |-units_2: 24</span>"
            ],
            "text/plain": [
              "<IPython.core.display.HTML object>"
            ]
          },
          "metadata": {
            "tags": []
          }
        },
        {
          "output_type": "display_data",
          "data": {
            "text/html": [
              "<span style=\"color:cyan\"> |-units_3: 32</span>"
            ],
            "text/plain": [
              "<IPython.core.display.HTML object>"
            ]
          },
          "metadata": {
            "tags": []
          }
        },
        {
          "output_type": "display_data",
          "data": {
            "text/html": [
              "<span style=\"color:blue\"> |-units_4: 8</span>"
            ],
            "text/plain": [
              "<IPython.core.display.HTML object>"
            ]
          },
          "metadata": {
            "tags": []
          }
        },
        {
          "output_type": "display_data",
          "data": {
            "text/html": [
              "<span style=\"color:cyan\"> |-units_5: 8</span>"
            ],
            "text/plain": [
              "<IPython.core.display.HTML object>"
            ]
          },
          "metadata": {
            "tags": []
          }
        },
        {
          "output_type": "stream",
          "text": [
            "Epoch 1/15\n",
            "4803/4803 [==============================] - 27s 6ms/step - loss: 0.8117 - accuracy: 0.7291 - val_loss: 0.6591 - val_accuracy: 0.8296\n",
            "Epoch 2/15\n",
            "4803/4803 [==============================] - 26s 5ms/step - loss: 0.6596 - accuracy: 0.8294 - val_loss: 0.6591 - val_accuracy: 0.8296\n",
            "Epoch 3/15\n",
            "4803/4803 [==============================] - 27s 6ms/step - loss: 0.6596 - accuracy: 0.8294 - val_loss: 0.6590 - val_accuracy: 0.8297\n",
            "Epoch 4/15\n",
            "4803/4803 [==============================] - 26s 5ms/step - loss: 0.6596 - accuracy: 0.8295 - val_loss: 0.6597 - val_accuracy: 0.8290\n",
            "Epoch 5/15\n",
            "4803/4803 [==============================] - 26s 5ms/step - loss: 0.6598 - accuracy: 0.8293 - val_loss: 0.6620 - val_accuracy: 0.8277\n",
            "Epoch 1/15\n",
            "4803/4803 [==============================] - 27s 6ms/step - loss: 0.7828 - accuracy: 0.7788 - val_loss: 0.6592 - val_accuracy: 0.8296\n",
            "Epoch 2/15\n",
            "4803/4803 [==============================] - 27s 6ms/step - loss: 0.6597 - accuracy: 0.8294 - val_loss: 0.6590 - val_accuracy: 0.8296\n",
            "Epoch 3/15\n",
            "4803/4803 [==============================] - 27s 6ms/step - loss: 0.6596 - accuracy: 0.8294 - val_loss: 0.6590 - val_accuracy: 0.8297\n",
            "Epoch 4/15\n",
            "4803/4803 [==============================] - 27s 6ms/step - loss: 0.6596 - accuracy: 0.8295 - val_loss: 0.6589 - val_accuracy: 0.8297\n",
            "Epoch 5/15\n",
            "4803/4803 [==============================] - 27s 6ms/step - loss: 0.6595 - accuracy: 0.8295 - val_loss: 0.6592 - val_accuracy: 0.8297\n",
            "Epoch 6/15\n",
            "4803/4803 [==============================] - 28s 6ms/step - loss: 0.6595 - accuracy: 0.8295 - val_loss: 0.6590 - val_accuracy: 0.8297\n",
            "Epoch 1/15\n",
            "4803/4803 [==============================] - 27s 6ms/step - loss: 0.8008 - accuracy: 0.7440 - val_loss: 0.6591 - val_accuracy: 0.8296\n",
            "Epoch 2/15\n",
            "4803/4803 [==============================] - 27s 6ms/step - loss: 0.6596 - accuracy: 0.8294 - val_loss: 0.6590 - val_accuracy: 0.8296\n",
            "Epoch 3/15\n",
            "4803/4803 [==============================] - 27s 6ms/step - loss: 0.6596 - accuracy: 0.8294 - val_loss: 0.6590 - val_accuracy: 0.8296\n",
            "Epoch 4/15\n",
            "4803/4803 [==============================] - 27s 6ms/step - loss: 0.6596 - accuracy: 0.8295 - val_loss: 0.6589 - val_accuracy: 0.8297\n",
            "Epoch 5/15\n",
            "4803/4803 [==============================] - 27s 6ms/step - loss: 0.6595 - accuracy: 0.8295 - val_loss: 0.6592 - val_accuracy: 0.8297\n",
            "Epoch 6/15\n",
            "4803/4803 [==============================] - 27s 6ms/step - loss: 0.6595 - accuracy: 0.8295 - val_loss: 0.6590 - val_accuracy: 0.8297\n",
            "Epoch 1/15\n",
            "4803/4803 [==============================] - 28s 6ms/step - loss: 0.7416 - accuracy: 0.7830 - val_loss: 0.6591 - val_accuracy: 0.8296\n",
            "Epoch 2/15\n",
            "4803/4803 [==============================] - 27s 6ms/step - loss: 0.6596 - accuracy: 0.8294 - val_loss: 0.6590 - val_accuracy: 0.8296\n",
            "Epoch 3/15\n",
            "4803/4803 [==============================] - 27s 6ms/step - loss: 0.6596 - accuracy: 0.8295 - val_loss: 0.6590 - val_accuracy: 0.8297\n",
            "Epoch 4/15\n",
            "4803/4803 [==============================] - 27s 6ms/step - loss: 0.6596 - accuracy: 0.8295 - val_loss: 0.6589 - val_accuracy: 0.8297\n",
            "Epoch 5/15\n",
            "4803/4803 [==============================] - 29s 6ms/step - loss: 0.6597 - accuracy: 0.8294 - val_loss: 0.6592 - val_accuracy: 0.8297\n",
            "Epoch 6/15\n",
            "4803/4803 [==============================] - 27s 6ms/step - loss: 0.6595 - accuracy: 0.8295 - val_loss: 0.6590 - val_accuracy: 0.8297\n",
            "Epoch 1/15\n",
            "4803/4803 [==============================] - 26s 5ms/step - loss: 0.8099 - accuracy: 0.8153 - val_loss: 0.6592 - val_accuracy: 0.8296\n",
            "Epoch 2/15\n",
            "4803/4803 [==============================] - 26s 5ms/step - loss: 0.6598 - accuracy: 0.8294 - val_loss: 0.6592 - val_accuracy: 0.8296\n",
            "Epoch 3/15\n",
            "4803/4803 [==============================] - 26s 5ms/step - loss: 0.6597 - accuracy: 0.8294 - val_loss: 0.6590 - val_accuracy: 0.8296\n",
            "Epoch 4/15\n",
            "4803/4803 [==============================] - 27s 6ms/step - loss: 0.6596 - accuracy: 0.8295 - val_loss: 0.6589 - val_accuracy: 0.8297\n",
            "Epoch 5/15\n",
            "4803/4803 [==============================] - 27s 6ms/step - loss: 0.6596 - accuracy: 0.8295 - val_loss: 0.6591 - val_accuracy: 0.8297\n",
            "Epoch 6/15\n",
            "4803/4803 [==============================] - 27s 6ms/step - loss: 0.6596 - accuracy: 0.8295 - val_loss: 0.6589 - val_accuracy: 0.8297\n"
          ],
          "name": "stdout"
        },
        {
          "output_type": "display_data",
          "data": {
            "text/html": [
              "<span style=\"color:#4527A0\"><h1 style=\"font-size:18px\">Trial complete</h1></span>"
            ],
            "text/plain": [
              "<IPython.core.display.HTML object>"
            ]
          },
          "metadata": {
            "tags": []
          }
        },
        {
          "output_type": "display_data",
          "data": {
            "text/html": [
              "<span style=\"color:#4527A0\"><h1 style=\"font-size:18px\">Trial summary</h1></span>"
            ],
            "text/plain": [
              "<IPython.core.display.HTML object>"
            ]
          },
          "metadata": {
            "tags": []
          }
        },
        {
          "output_type": "display_data",
          "data": {
            "text/html": [
              "<span style=\"color:cyan\"> |-Trial ID: bc8765b56f86cff5ebfd10898d368999</span>"
            ],
            "text/plain": [
              "<IPython.core.display.HTML object>"
            ]
          },
          "metadata": {
            "tags": []
          }
        },
        {
          "output_type": "display_data",
          "data": {
            "text/html": [
              "<span style=\"color:cyan\"> |-Score: 0.8297231793403625</span>"
            ],
            "text/plain": [
              "<IPython.core.display.HTML object>"
            ]
          },
          "metadata": {
            "tags": []
          }
        },
        {
          "output_type": "display_data",
          "data": {
            "text/html": [
              "<span style=\"color:cyan\"> |-Best step: 0</span>"
            ],
            "text/plain": [
              "<IPython.core.display.HTML object>"
            ]
          },
          "metadata": {
            "tags": []
          }
        },
        {
          "output_type": "display_data",
          "data": {
            "text/html": [
              "<span style=\"color:#7E57C2\"><h2 style=\"font-size:16px\">Hyperparameters:</h2></span>"
            ],
            "text/plain": [
              "<IPython.core.display.HTML object>"
            ]
          },
          "metadata": {
            "tags": []
          }
        },
        {
          "output_type": "display_data",
          "data": {
            "text/html": [
              "<span style=\"color:cyan\"> |-drop_rate_0: 0.6</span>"
            ],
            "text/plain": [
              "<IPython.core.display.HTML object>"
            ]
          },
          "metadata": {
            "tags": []
          }
        },
        {
          "output_type": "display_data",
          "data": {
            "text/html": [
              "<span style=\"color:blue\"> |-drop_rate_1: 0.1</span>"
            ],
            "text/plain": [
              "<IPython.core.display.HTML object>"
            ]
          },
          "metadata": {
            "tags": []
          }
        },
        {
          "output_type": "display_data",
          "data": {
            "text/html": [
              "<span style=\"color:cyan\"> |-drop_rate_2: 0.0</span>"
            ],
            "text/plain": [
              "<IPython.core.display.HTML object>"
            ]
          },
          "metadata": {
            "tags": []
          }
        },
        {
          "output_type": "display_data",
          "data": {
            "text/html": [
              "<span style=\"color:blue\"> |-drop_rate_3: 0.5</span>"
            ],
            "text/plain": [
              "<IPython.core.display.HTML object>"
            ]
          },
          "metadata": {
            "tags": []
          }
        },
        {
          "output_type": "display_data",
          "data": {
            "text/html": [
              "<span style=\"color:cyan\"> |-drop_rate_4: 0.4</span>"
            ],
            "text/plain": [
              "<IPython.core.display.HTML object>"
            ]
          },
          "metadata": {
            "tags": []
          }
        },
        {
          "output_type": "display_data",
          "data": {
            "text/html": [
              "<span style=\"color:blue\"> |-drop_rate_5: 0.7</span>"
            ],
            "text/plain": [
              "<IPython.core.display.HTML object>"
            ]
          },
          "metadata": {
            "tags": []
          }
        },
        {
          "output_type": "display_data",
          "data": {
            "text/html": [
              "<span style=\"color:cyan\"> |-num_layers: 3</span>"
            ],
            "text/plain": [
              "<IPython.core.display.HTML object>"
            ]
          },
          "metadata": {
            "tags": []
          }
        },
        {
          "output_type": "display_data",
          "data": {
            "text/html": [
              "<span style=\"color:blue\"> |-units_0: 32</span>"
            ],
            "text/plain": [
              "<IPython.core.display.HTML object>"
            ]
          },
          "metadata": {
            "tags": []
          }
        },
        {
          "output_type": "display_data",
          "data": {
            "text/html": [
              "<span style=\"color:cyan\"> |-units_1: 8</span>"
            ],
            "text/plain": [
              "<IPython.core.display.HTML object>"
            ]
          },
          "metadata": {
            "tags": []
          }
        },
        {
          "output_type": "display_data",
          "data": {
            "text/html": [
              "<span style=\"color:blue\"> |-units_2: 48</span>"
            ],
            "text/plain": [
              "<IPython.core.display.HTML object>"
            ]
          },
          "metadata": {
            "tags": []
          }
        },
        {
          "output_type": "display_data",
          "data": {
            "text/html": [
              "<span style=\"color:cyan\"> |-units_3: 56</span>"
            ],
            "text/plain": [
              "<IPython.core.display.HTML object>"
            ]
          },
          "metadata": {
            "tags": []
          }
        },
        {
          "output_type": "display_data",
          "data": {
            "text/html": [
              "<span style=\"color:blue\"> |-units_4: 16</span>"
            ],
            "text/plain": [
              "<IPython.core.display.HTML object>"
            ]
          },
          "metadata": {
            "tags": []
          }
        },
        {
          "output_type": "display_data",
          "data": {
            "text/html": [
              "<span style=\"color:cyan\"> |-units_5: 56</span>"
            ],
            "text/plain": [
              "<IPython.core.display.HTML object>"
            ]
          },
          "metadata": {
            "tags": []
          }
        },
        {
          "output_type": "stream",
          "text": [
            "Epoch 1/15\n",
            "4803/4803 [==============================] - 27s 6ms/step - loss: 1.0660 - accuracy: 0.5675 - val_loss: 0.6591 - val_accuracy: 0.8296\n",
            "Epoch 2/15\n",
            "4803/4803 [==============================] - 26s 6ms/step - loss: 0.6620 - accuracy: 0.8294 - val_loss: 0.6589 - val_accuracy: 0.8296\n",
            "Epoch 3/15\n",
            "4803/4803 [==============================] - 27s 6ms/step - loss: 0.6607 - accuracy: 0.8294 - val_loss: 0.6589 - val_accuracy: 0.8296\n",
            "Epoch 4/15\n",
            "4803/4803 [==============================] - 27s 6ms/step - loss: 0.6602 - accuracy: 0.8294 - val_loss: 0.6589 - val_accuracy: 0.8296\n",
            "Epoch 1/15\n",
            "4803/4803 [==============================] - 29s 6ms/step - loss: 0.9712 - accuracy: 0.6494 - val_loss: 0.6591 - val_accuracy: 0.8296\n",
            "Epoch 2/15\n",
            "4803/4803 [==============================] - 27s 6ms/step - loss: 0.6619 - accuracy: 0.8294 - val_loss: 0.6589 - val_accuracy: 0.8296\n",
            "Epoch 3/15\n",
            "4803/4803 [==============================] - 27s 6ms/step - loss: 0.6605 - accuracy: 0.8294 - val_loss: 0.6589 - val_accuracy: 0.8296\n",
            "Epoch 4/15\n",
            "4803/4803 [==============================] - 27s 6ms/step - loss: 0.6600 - accuracy: 0.8295 - val_loss: 0.6589 - val_accuracy: 0.8297\n",
            "Epoch 5/15\n",
            "4803/4803 [==============================] - 27s 6ms/step - loss: 0.6598 - accuracy: 0.8295 - val_loss: 0.6590 - val_accuracy: 0.8297\n",
            "Epoch 1/15\n",
            "4803/4803 [==============================] - 27s 6ms/step - loss: 0.9527 - accuracy: 0.6332 - val_loss: 0.6591 - val_accuracy: 0.8296\n",
            "Epoch 2/15\n",
            "4803/4803 [==============================] - 27s 6ms/step - loss: 0.6619 - accuracy: 0.8293 - val_loss: 0.6590 - val_accuracy: 0.8296\n",
            "Epoch 3/15\n",
            "4803/4803 [==============================] - 26s 6ms/step - loss: 0.6607 - accuracy: 0.8294 - val_loss: 0.6589 - val_accuracy: 0.8296\n",
            "Epoch 4/15\n",
            "4803/4803 [==============================] - 27s 6ms/step - loss: 0.6601 - accuracy: 0.8294 - val_loss: 0.6590 - val_accuracy: 0.8296\n",
            "Epoch 5/15\n",
            "4803/4803 [==============================] - 26s 5ms/step - loss: 0.6600 - accuracy: 0.8294 - val_loss: 0.6590 - val_accuracy: 0.8296\n",
            "Epoch 1/15\n",
            "4803/4803 [==============================] - 28s 6ms/step - loss: 0.9050 - accuracy: 0.6787 - val_loss: 0.6591 - val_accuracy: 0.8296\n",
            "Epoch 2/15\n",
            "4803/4803 [==============================] - 27s 6ms/step - loss: 0.6619 - accuracy: 0.8294 - val_loss: 0.6589 - val_accuracy: 0.8296\n",
            "Epoch 3/15\n",
            "4803/4803 [==============================] - 26s 5ms/step - loss: 0.6605 - accuracy: 0.8294 - val_loss: 0.6589 - val_accuracy: 0.8296\n",
            "Epoch 4/15\n",
            "4803/4803 [==============================] - 27s 6ms/step - loss: 0.6601 - accuracy: 0.8294 - val_loss: 0.6590 - val_accuracy: 0.8296\n",
            "Epoch 5/15\n",
            "4803/4803 [==============================] - 27s 6ms/step - loss: 0.6599 - accuracy: 0.8294 - val_loss: 0.6590 - val_accuracy: 0.8296\n",
            "Epoch 1/15\n",
            "4803/4803 [==============================] - 27s 6ms/step - loss: 0.9082 - accuracy: 0.6739 - val_loss: 0.6591 - val_accuracy: 0.8296\n",
            "Epoch 2/15\n",
            "4803/4803 [==============================] - 27s 6ms/step - loss: 0.6619 - accuracy: 0.8294 - val_loss: 0.6589 - val_accuracy: 0.8296\n",
            "Epoch 3/15\n",
            "4803/4803 [==============================] - 27s 6ms/step - loss: 0.6607 - accuracy: 0.8294 - val_loss: 0.6589 - val_accuracy: 0.8296\n",
            "Epoch 4/15\n",
            "4803/4803 [==============================] - 26s 5ms/step - loss: 0.6602 - accuracy: 0.8294 - val_loss: 0.6589 - val_accuracy: 0.8297\n",
            "Epoch 5/15\n",
            "4803/4803 [==============================] - 26s 5ms/step - loss: 0.6600 - accuracy: 0.8295 - val_loss: 0.6590 - val_accuracy: 0.8297\n"
          ],
          "name": "stdout"
        },
        {
          "output_type": "display_data",
          "data": {
            "text/html": [
              "<span style=\"color:#4527A0\"><h1 style=\"font-size:18px\">Trial complete</h1></span>"
            ],
            "text/plain": [
              "<IPython.core.display.HTML object>"
            ]
          },
          "metadata": {
            "tags": []
          }
        },
        {
          "output_type": "display_data",
          "data": {
            "text/html": [
              "<span style=\"color:#4527A0\"><h1 style=\"font-size:18px\">Trial summary</h1></span>"
            ],
            "text/plain": [
              "<IPython.core.display.HTML object>"
            ]
          },
          "metadata": {
            "tags": []
          }
        },
        {
          "output_type": "display_data",
          "data": {
            "text/html": [
              "<span style=\"color:cyan\"> |-Trial ID: 6db1aaaae8aabee7cc7420276328b265</span>"
            ],
            "text/plain": [
              "<IPython.core.display.HTML object>"
            ]
          },
          "metadata": {
            "tags": []
          }
        },
        {
          "output_type": "display_data",
          "data": {
            "text/html": [
              "<span style=\"color:cyan\"> |-Score: 0.8296740770339965</span>"
            ],
            "text/plain": [
              "<IPython.core.display.HTML object>"
            ]
          },
          "metadata": {
            "tags": []
          }
        },
        {
          "output_type": "display_data",
          "data": {
            "text/html": [
              "<span style=\"color:cyan\"> |-Best step: 0</span>"
            ],
            "text/plain": [
              "<IPython.core.display.HTML object>"
            ]
          },
          "metadata": {
            "tags": []
          }
        },
        {
          "output_type": "display_data",
          "data": {
            "text/html": [
              "<span style=\"color:#7E57C2\"><h2 style=\"font-size:16px\">Hyperparameters:</h2></span>"
            ],
            "text/plain": [
              "<IPython.core.display.HTML object>"
            ]
          },
          "metadata": {
            "tags": []
          }
        },
        {
          "output_type": "display_data",
          "data": {
            "text/html": [
              "<span style=\"color:cyan\"> |-drop_rate_0: 0.3</span>"
            ],
            "text/plain": [
              "<IPython.core.display.HTML object>"
            ]
          },
          "metadata": {
            "tags": []
          }
        },
        {
          "output_type": "display_data",
          "data": {
            "text/html": [
              "<span style=\"color:blue\"> |-drop_rate_1: 0.4</span>"
            ],
            "text/plain": [
              "<IPython.core.display.HTML object>"
            ]
          },
          "metadata": {
            "tags": []
          }
        },
        {
          "output_type": "display_data",
          "data": {
            "text/html": [
              "<span style=\"color:cyan\"> |-drop_rate_2: 0.2</span>"
            ],
            "text/plain": [
              "<IPython.core.display.HTML object>"
            ]
          },
          "metadata": {
            "tags": []
          }
        },
        {
          "output_type": "display_data",
          "data": {
            "text/html": [
              "<span style=\"color:blue\"> |-drop_rate_3: 0.4</span>"
            ],
            "text/plain": [
              "<IPython.core.display.HTML object>"
            ]
          },
          "metadata": {
            "tags": []
          }
        },
        {
          "output_type": "display_data",
          "data": {
            "text/html": [
              "<span style=\"color:cyan\"> |-drop_rate_4: 0.0</span>"
            ],
            "text/plain": [
              "<IPython.core.display.HTML object>"
            ]
          },
          "metadata": {
            "tags": []
          }
        },
        {
          "output_type": "display_data",
          "data": {
            "text/html": [
              "<span style=\"color:blue\"> |-drop_rate_5: 0.6</span>"
            ],
            "text/plain": [
              "<IPython.core.display.HTML object>"
            ]
          },
          "metadata": {
            "tags": []
          }
        },
        {
          "output_type": "display_data",
          "data": {
            "text/html": [
              "<span style=\"color:cyan\"> |-num_layers: 3</span>"
            ],
            "text/plain": [
              "<IPython.core.display.HTML object>"
            ]
          },
          "metadata": {
            "tags": []
          }
        },
        {
          "output_type": "display_data",
          "data": {
            "text/html": [
              "<span style=\"color:blue\"> |-units_0: 56</span>"
            ],
            "text/plain": [
              "<IPython.core.display.HTML object>"
            ]
          },
          "metadata": {
            "tags": []
          }
        },
        {
          "output_type": "display_data",
          "data": {
            "text/html": [
              "<span style=\"color:cyan\"> |-units_1: 16</span>"
            ],
            "text/plain": [
              "<IPython.core.display.HTML object>"
            ]
          },
          "metadata": {
            "tags": []
          }
        },
        {
          "output_type": "display_data",
          "data": {
            "text/html": [
              "<span style=\"color:blue\"> |-units_2: 40</span>"
            ],
            "text/plain": [
              "<IPython.core.display.HTML object>"
            ]
          },
          "metadata": {
            "tags": []
          }
        },
        {
          "output_type": "display_data",
          "data": {
            "text/html": [
              "<span style=\"color:cyan\"> |-units_3: 32</span>"
            ],
            "text/plain": [
              "<IPython.core.display.HTML object>"
            ]
          },
          "metadata": {
            "tags": []
          }
        },
        {
          "output_type": "display_data",
          "data": {
            "text/html": [
              "<span style=\"color:blue\"> |-units_4: 16</span>"
            ],
            "text/plain": [
              "<IPython.core.display.HTML object>"
            ]
          },
          "metadata": {
            "tags": []
          }
        },
        {
          "output_type": "display_data",
          "data": {
            "text/html": [
              "<span style=\"color:cyan\"> |-units_5: 16</span>"
            ],
            "text/plain": [
              "<IPython.core.display.HTML object>"
            ]
          },
          "metadata": {
            "tags": []
          }
        },
        {
          "output_type": "stream",
          "text": [
            "Epoch 1/15\n",
            "4803/4803 [==============================] - 25s 5ms/step - loss: 1.7167 - accuracy: 0.0433 - val_loss: 1.6637 - val_accuracy: 0.0754\n",
            "Epoch 2/15\n",
            "4803/4803 [==============================] - 24s 5ms/step - loss: 1.6621 - accuracy: 0.1403 - val_loss: 1.6590 - val_accuracy: 0.2214\n",
            "Epoch 3/15\n",
            "4803/4803 [==============================] - 24s 5ms/step - loss: 1.2522 - accuracy: 0.4907 - val_loss: 0.6595 - val_accuracy: 0.8296\n",
            "Epoch 4/15\n",
            "4803/4803 [==============================] - 26s 5ms/step - loss: 0.6596 - accuracy: 0.8294 - val_loss: 0.6589 - val_accuracy: 0.8296\n",
            "Epoch 5/15\n",
            "4803/4803 [==============================] - 25s 5ms/step - loss: 0.6594 - accuracy: 0.8295 - val_loss: 0.6589 - val_accuracy: 0.8296\n",
            "Epoch 6/15\n",
            "4803/4803 [==============================] - 25s 5ms/step - loss: 0.6595 - accuracy: 0.8295 - val_loss: 0.6588 - val_accuracy: 0.8297\n",
            "Epoch 7/15\n",
            "4803/4803 [==============================] - 24s 5ms/step - loss: 0.6594 - accuracy: 0.8295 - val_loss: 0.6586 - val_accuracy: 0.8297\n",
            "Epoch 8/15\n",
            "4803/4803 [==============================] - 25s 5ms/step - loss: 0.6592 - accuracy: 0.8295 - val_loss: 0.6567 - val_accuracy: 0.8297\n",
            "Epoch 9/15\n",
            "4803/4803 [==============================] - 25s 5ms/step - loss: 0.6581 - accuracy: 0.8295 - val_loss: 0.6566 - val_accuracy: 0.8297\n",
            "Epoch 10/15\n",
            "4803/4803 [==============================] - 25s 5ms/step - loss: 0.6575 - accuracy: 0.8295 - val_loss: 0.6562 - val_accuracy: 0.8297\n",
            "Epoch 11/15\n",
            "4803/4803 [==============================] - 24s 5ms/step - loss: 0.6588 - accuracy: 0.8295 - val_loss: 0.6585 - val_accuracy: 0.8297\n",
            "Epoch 12/15\n",
            "4803/4803 [==============================] - 25s 5ms/step - loss: 0.6590 - accuracy: 0.8295 - val_loss: 0.6585 - val_accuracy: 0.8297\n",
            "Epoch 1/15\n",
            "4803/4803 [==============================] - 24s 5ms/step - loss: 1.6752 - accuracy: 0.0614 - val_loss: 1.6560 - val_accuracy: 0.1038\n",
            "Epoch 2/15\n",
            "4803/4803 [==============================] - 24s 5ms/step - loss: 1.4399 - accuracy: 0.2638 - val_loss: 0.6627 - val_accuracy: 0.8294\n",
            "Epoch 3/15\n",
            "4803/4803 [==============================] - 25s 5ms/step - loss: 0.6604 - accuracy: 0.8294 - val_loss: 0.6597 - val_accuracy: 0.8296\n",
            "Epoch 4/15\n",
            "4803/4803 [==============================] - 26s 5ms/step - loss: 0.6620 - accuracy: 0.8294 - val_loss: 0.6619 - val_accuracy: 0.8296\n",
            "Epoch 5/15\n",
            "4803/4803 [==============================] - 25s 5ms/step - loss: 0.6674 - accuracy: 0.8295 - val_loss: 0.6636 - val_accuracy: 0.8296\n",
            "Epoch 1/15\n",
            "4803/4803 [==============================] - 25s 5ms/step - loss: 1.0275 - accuracy: 0.5976 - val_loss: 0.6635 - val_accuracy: 0.8296\n",
            "Epoch 2/15\n",
            "4803/4803 [==============================] - 24s 5ms/step - loss: 0.6603 - accuracy: 0.8294 - val_loss: 0.6589 - val_accuracy: 0.8296\n",
            "Epoch 3/15\n",
            "4803/4803 [==============================] - 24s 5ms/step - loss: 0.6595 - accuracy: 0.8294 - val_loss: 0.6589 - val_accuracy: 0.8296\n",
            "Epoch 4/15\n",
            "4803/4803 [==============================] - 24s 5ms/step - loss: 0.6594 - accuracy: 0.8295 - val_loss: 0.6588 - val_accuracy: 0.8297\n",
            "Epoch 5/15\n",
            "4803/4803 [==============================] - 25s 5ms/step - loss: 0.6594 - accuracy: 0.8295 - val_loss: 0.6588 - val_accuracy: 0.8297\n",
            "Epoch 6/15\n",
            "4803/4803 [==============================] - 24s 5ms/step - loss: 0.6594 - accuracy: 0.8295 - val_loss: 0.6588 - val_accuracy: 0.8297\n",
            "Epoch 7/15\n",
            "4803/4803 [==============================] - 25s 5ms/step - loss: 0.6594 - accuracy: 0.8295 - val_loss: 0.6588 - val_accuracy: 0.8297\n",
            "Epoch 8/15\n",
            "4803/4803 [==============================] - 25s 5ms/step - loss: 0.6594 - accuracy: 0.8295 - val_loss: 0.6588 - val_accuracy: 0.8297\n",
            "Epoch 9/15\n",
            "4803/4803 [==============================] - 24s 5ms/step - loss: 0.6594 - accuracy: 0.8295 - val_loss: 0.6588 - val_accuracy: 0.8297\n",
            "Epoch 1/15\n",
            "4803/4803 [==============================] - 25s 5ms/step - loss: 1.6891 - accuracy: 0.1336 - val_loss: 1.6514 - val_accuracy: 0.1174\n",
            "Epoch 2/15\n",
            "4803/4803 [==============================] - 25s 5ms/step - loss: 1.6569 - accuracy: 0.0910 - val_loss: 1.6445 - val_accuracy: 0.0535\n",
            "Epoch 3/15\n",
            "4803/4803 [==============================] - 26s 5ms/step - loss: 1.1625 - accuracy: 0.4771 - val_loss: 0.6690 - val_accuracy: 0.8286\n",
            "Epoch 4/15\n",
            "4803/4803 [==============================] - 24s 5ms/step - loss: 0.6619 - accuracy: 0.8293 - val_loss: 0.6638 - val_accuracy: 0.8296\n",
            "Epoch 5/15\n",
            "4803/4803 [==============================] - 24s 5ms/step - loss: 0.6650 - accuracy: 0.8294 - val_loss: 0.6630 - val_accuracy: 0.8296\n",
            "Epoch 6/15\n",
            "4803/4803 [==============================] - 24s 5ms/step - loss: 0.6767 - accuracy: 0.8294 - val_loss: 0.6679 - val_accuracy: 0.8297\n",
            "Epoch 7/15\n",
            "4803/4803 [==============================] - 25s 5ms/step - loss: 0.6710 - accuracy: 0.8295 - val_loss: 0.6667 - val_accuracy: 0.8297\n",
            "Epoch 1/15\n",
            "4803/4803 [==============================] - 24s 5ms/step - loss: 1.5152 - accuracy: 0.2288 - val_loss: 0.6869 - val_accuracy: 0.8291\n",
            "Epoch 2/15\n",
            "4803/4803 [==============================] - 24s 5ms/step - loss: 0.6615 - accuracy: 0.8293 - val_loss: 0.6590 - val_accuracy: 0.8296\n",
            "Epoch 3/15\n",
            "4803/4803 [==============================] - 24s 5ms/step - loss: 0.6594 - accuracy: 0.8294 - val_loss: 0.6573 - val_accuracy: 0.8296\n",
            "Epoch 4/15\n",
            "4803/4803 [==============================] - 24s 5ms/step - loss: 0.6578 - accuracy: 0.8294 - val_loss: 0.6559 - val_accuracy: 0.8296\n",
            "Epoch 5/15\n",
            "4803/4803 [==============================] - 25s 5ms/step - loss: 0.6571 - accuracy: 0.8295 - val_loss: 0.6557 - val_accuracy: 0.8297\n",
            "Epoch 6/15\n",
            "4803/4803 [==============================] - 24s 5ms/step - loss: 0.6573 - accuracy: 0.8295 - val_loss: 0.6572 - val_accuracy: 0.8297\n",
            "Epoch 7/15\n",
            "4803/4803 [==============================] - 24s 5ms/step - loss: 0.6569 - accuracy: 0.8295 - val_loss: 0.6566 - val_accuracy: 0.8297\n"
          ],
          "name": "stdout"
        },
        {
          "output_type": "display_data",
          "data": {
            "text/html": [
              "<span style=\"color:#4527A0\"><h1 style=\"font-size:18px\">Trial complete</h1></span>"
            ],
            "text/plain": [
              "<IPython.core.display.HTML object>"
            ]
          },
          "metadata": {
            "tags": []
          }
        },
        {
          "output_type": "display_data",
          "data": {
            "text/html": [
              "<span style=\"color:#4527A0\"><h1 style=\"font-size:18px\">Trial summary</h1></span>"
            ],
            "text/plain": [
              "<IPython.core.display.HTML object>"
            ]
          },
          "metadata": {
            "tags": []
          }
        },
        {
          "output_type": "display_data",
          "data": {
            "text/html": [
              "<span style=\"color:cyan\"> |-Trial ID: 565ce64656068f2f1e6f5344ab2db950</span>"
            ],
            "text/plain": [
              "<IPython.core.display.HTML object>"
            ]
          },
          "metadata": {
            "tags": []
          }
        },
        {
          "output_type": "display_data",
          "data": {
            "text/html": [
              "<span style=\"color:cyan\"> |-Score: 0.8297140836715698</span>"
            ],
            "text/plain": [
              "<IPython.core.display.HTML object>"
            ]
          },
          "metadata": {
            "tags": []
          }
        },
        {
          "output_type": "display_data",
          "data": {
            "text/html": [
              "<span style=\"color:cyan\"> |-Best step: 0</span>"
            ],
            "text/plain": [
              "<IPython.core.display.HTML object>"
            ]
          },
          "metadata": {
            "tags": []
          }
        },
        {
          "output_type": "display_data",
          "data": {
            "text/html": [
              "<span style=\"color:#7E57C2\"><h2 style=\"font-size:16px\">Hyperparameters:</h2></span>"
            ],
            "text/plain": [
              "<IPython.core.display.HTML object>"
            ]
          },
          "metadata": {
            "tags": []
          }
        },
        {
          "output_type": "display_data",
          "data": {
            "text/html": [
              "<span style=\"color:cyan\"> |-drop_rate_0: 0.1</span>"
            ],
            "text/plain": [
              "<IPython.core.display.HTML object>"
            ]
          },
          "metadata": {
            "tags": []
          }
        },
        {
          "output_type": "display_data",
          "data": {
            "text/html": [
              "<span style=\"color:blue\"> |-drop_rate_1: 0.7</span>"
            ],
            "text/plain": [
              "<IPython.core.display.HTML object>"
            ]
          },
          "metadata": {
            "tags": []
          }
        },
        {
          "output_type": "display_data",
          "data": {
            "text/html": [
              "<span style=\"color:cyan\"> |-drop_rate_2: 0.8</span>"
            ],
            "text/plain": [
              "<IPython.core.display.HTML object>"
            ]
          },
          "metadata": {
            "tags": []
          }
        },
        {
          "output_type": "display_data",
          "data": {
            "text/html": [
              "<span style=\"color:blue\"> |-drop_rate_3: 0.3</span>"
            ],
            "text/plain": [
              "<IPython.core.display.HTML object>"
            ]
          },
          "metadata": {
            "tags": []
          }
        },
        {
          "output_type": "display_data",
          "data": {
            "text/html": [
              "<span style=\"color:cyan\"> |-drop_rate_4: 0.6</span>"
            ],
            "text/plain": [
              "<IPython.core.display.HTML object>"
            ]
          },
          "metadata": {
            "tags": []
          }
        },
        {
          "output_type": "display_data",
          "data": {
            "text/html": [
              "<span style=\"color:blue\"> |-drop_rate_5: 0.9</span>"
            ],
            "text/plain": [
              "<IPython.core.display.HTML object>"
            ]
          },
          "metadata": {
            "tags": []
          }
        },
        {
          "output_type": "display_data",
          "data": {
            "text/html": [
              "<span style=\"color:cyan\"> |-num_layers: 1</span>"
            ],
            "text/plain": [
              "<IPython.core.display.HTML object>"
            ]
          },
          "metadata": {
            "tags": []
          }
        },
        {
          "output_type": "display_data",
          "data": {
            "text/html": [
              "<span style=\"color:blue\"> |-units_0: 16</span>"
            ],
            "text/plain": [
              "<IPython.core.display.HTML object>"
            ]
          },
          "metadata": {
            "tags": []
          }
        },
        {
          "output_type": "display_data",
          "data": {
            "text/html": [
              "<span style=\"color:cyan\"> |-units_1: 32</span>"
            ],
            "text/plain": [
              "<IPython.core.display.HTML object>"
            ]
          },
          "metadata": {
            "tags": []
          }
        },
        {
          "output_type": "display_data",
          "data": {
            "text/html": [
              "<span style=\"color:blue\"> |-units_2: 40</span>"
            ],
            "text/plain": [
              "<IPython.core.display.HTML object>"
            ]
          },
          "metadata": {
            "tags": []
          }
        },
        {
          "output_type": "display_data",
          "data": {
            "text/html": [
              "<span style=\"color:cyan\"> |-units_3: 32</span>"
            ],
            "text/plain": [
              "<IPython.core.display.HTML object>"
            ]
          },
          "metadata": {
            "tags": []
          }
        },
        {
          "output_type": "display_data",
          "data": {
            "text/html": [
              "<span style=\"color:blue\"> |-units_4: 24</span>"
            ],
            "text/plain": [
              "<IPython.core.display.HTML object>"
            ]
          },
          "metadata": {
            "tags": []
          }
        },
        {
          "output_type": "display_data",
          "data": {
            "text/html": [
              "<span style=\"color:cyan\"> |-units_5: 16</span>"
            ],
            "text/plain": [
              "<IPython.core.display.HTML object>"
            ]
          },
          "metadata": {
            "tags": []
          }
        },
        {
          "output_type": "stream",
          "text": [
            "Epoch 1/15\n",
            "4803/4803 [==============================] - 25s 5ms/step - loss: 1.4076 - accuracy: 0.3005 - val_loss: 0.6593 - val_accuracy: 0.8296\n",
            "Epoch 2/15\n",
            "4803/4803 [==============================] - 26s 5ms/step - loss: 0.6595 - accuracy: 0.8295 - val_loss: 0.6587 - val_accuracy: 0.8296\n",
            "Epoch 3/15\n",
            "4803/4803 [==============================] - 25s 5ms/step - loss: 0.6677 - accuracy: 0.8283 - val_loss: 0.6587 - val_accuracy: 0.8297\n",
            "Epoch 4/15\n",
            "4803/4803 [==============================] - 26s 5ms/step - loss: 0.6613 - accuracy: 0.8291 - val_loss: 0.6587 - val_accuracy: 0.8297\n",
            "Epoch 5/15\n",
            "4803/4803 [==============================] - 25s 5ms/step - loss: 0.6680 - accuracy: 0.8282 - val_loss: 0.6587 - val_accuracy: 0.8297\n",
            "Epoch 6/15\n",
            "4803/4803 [==============================] - 25s 5ms/step - loss: 0.6690 - accuracy: 0.8295 - val_loss: 0.6593 - val_accuracy: 0.8297\n",
            "Epoch 7/15\n",
            "4803/4803 [==============================] - 25s 5ms/step - loss: 0.6692 - accuracy: 0.8295 - val_loss: 0.6680 - val_accuracy: 0.8297\n",
            "Epoch 1/15\n",
            "4803/4803 [==============================] - 25s 5ms/step - loss: 1.7357 - accuracy: 0.1571 - val_loss: 1.6833 - val_accuracy: 0.1069\n",
            "Epoch 2/15\n",
            "4803/4803 [==============================] - 26s 5ms/step - loss: 1.3884 - accuracy: 0.3309 - val_loss: 1.6813 - val_accuracy: 0.0793\n",
            "Epoch 3/15\n",
            "4803/4803 [==============================] - 25s 5ms/step - loss: 0.9434 - accuracy: 0.6647 - val_loss: 0.7076 - val_accuracy: 0.8297\n",
            "Epoch 4/15\n",
            "4803/4803 [==============================] - 25s 5ms/step - loss: 0.6796 - accuracy: 0.8291 - val_loss: 0.7672 - val_accuracy: 0.8297\n",
            "Epoch 5/15\n",
            "4803/4803 [==============================] - 26s 5ms/step - loss: 0.6883 - accuracy: 0.8291 - val_loss: 0.6587 - val_accuracy: 0.8297\n",
            "Epoch 6/15\n",
            "4803/4803 [==============================] - 25s 5ms/step - loss: 0.6593 - accuracy: 0.8295 - val_loss: 0.6587 - val_accuracy: 0.8297\n",
            "Epoch 7/15\n",
            "4803/4803 [==============================] - 26s 5ms/step - loss: 0.6595 - accuracy: 0.8295 - val_loss: 0.6587 - val_accuracy: 0.8297\n",
            "Epoch 1/15\n",
            "4803/4803 [==============================] - 25s 5ms/step - loss: 1.7407 - accuracy: 0.0997 - val_loss: 1.6765 - val_accuracy: 0.0718\n",
            "Epoch 2/15\n",
            "4803/4803 [==============================] - 25s 5ms/step - loss: 1.6921 - accuracy: 0.0962 - val_loss: 1.6798 - val_accuracy: 0.0752\n",
            "Epoch 3/15\n",
            "4803/4803 [==============================] - 25s 5ms/step - loss: 1.7041 - accuracy: 0.1436 - val_loss: 1.6643 - val_accuracy: 0.0663\n",
            "Epoch 4/15\n",
            "4803/4803 [==============================] - 26s 5ms/step - loss: 1.7527 - accuracy: 0.2897 - val_loss: 1.7687 - val_accuracy: 0.3606\n",
            "Epoch 5/15\n",
            "4803/4803 [==============================] - 25s 5ms/step - loss: 1.8274 - accuracy: 0.4207 - val_loss: 1.7018 - val_accuracy: 0.2010\n",
            "Epoch 1/15\n",
            "4803/4803 [==============================] - 26s 5ms/step - loss: 1.7298 - accuracy: 0.0477 - val_loss: 1.6969 - val_accuracy: 0.0943\n",
            "Epoch 2/15\n",
            "4803/4803 [==============================] - 26s 5ms/step - loss: 1.6773 - accuracy: 0.1319 - val_loss: 1.6758 - val_accuracy: 0.1211\n",
            "Epoch 3/15\n",
            "4803/4803 [==============================] - 25s 5ms/step - loss: 0.7170 - accuracy: 0.7968 - val_loss: 0.6588 - val_accuracy: 0.8296\n",
            "Epoch 4/15\n",
            "4803/4803 [==============================] - 25s 5ms/step - loss: 0.6594 - accuracy: 0.8294 - val_loss: 0.6587 - val_accuracy: 0.8296\n",
            "Epoch 5/15\n",
            "4803/4803 [==============================] - 26s 5ms/step - loss: 0.6621 - accuracy: 0.8278 - val_loss: 0.6587 - val_accuracy: 0.8297\n",
            "Epoch 6/15\n",
            "4803/4803 [==============================] - 25s 5ms/step - loss: 0.6593 - accuracy: 0.8295 - val_loss: 0.6587 - val_accuracy: 0.8297\n",
            "Epoch 1/15\n",
            "4803/4803 [==============================] - 26s 5ms/step - loss: 1.7246 - accuracy: 0.0968 - val_loss: 1.6506 - val_accuracy: 0.0442\n",
            "Epoch 2/15\n",
            "4803/4803 [==============================] - 25s 5ms/step - loss: 1.5117 - accuracy: 0.3619 - val_loss: 0.8075 - val_accuracy: 0.8271\n",
            "Epoch 3/15\n",
            "4803/4803 [==============================] - 25s 5ms/step - loss: 0.6731 - accuracy: 0.8248 - val_loss: 0.6612 - val_accuracy: 0.8296\n",
            "Epoch 4/15\n",
            "4803/4803 [==============================] - 26s 5ms/step - loss: 0.6613 - accuracy: 0.8294 - val_loss: 0.6587 - val_accuracy: 0.8296\n",
            "Epoch 5/15\n",
            "4803/4803 [==============================] - 24s 5ms/step - loss: 0.6593 - accuracy: 0.8295 - val_loss: 0.6587 - val_accuracy: 0.8296\n",
            "Epoch 6/15\n",
            "4803/4803 [==============================] - 25s 5ms/step - loss: 0.6594 - accuracy: 0.8295 - val_loss: 0.6587 - val_accuracy: 0.8297\n",
            "Epoch 7/15\n",
            "4803/4803 [==============================] - 25s 5ms/step - loss: 0.6691 - accuracy: 0.8294 - val_loss: 0.6589 - val_accuracy: 0.8297\n"
          ],
          "name": "stdout"
        },
        {
          "output_type": "display_data",
          "data": {
            "text/html": [
              "<span style=\"color:#4527A0\"><h1 style=\"font-size:18px\">Trial complete</h1></span>"
            ],
            "text/plain": [
              "<IPython.core.display.HTML object>"
            ]
          },
          "metadata": {
            "tags": []
          }
        },
        {
          "output_type": "display_data",
          "data": {
            "text/html": [
              "<span style=\"color:#4527A0\"><h1 style=\"font-size:18px\">Trial summary</h1></span>"
            ],
            "text/plain": [
              "<IPython.core.display.HTML object>"
            ]
          },
          "metadata": {
            "tags": []
          }
        },
        {
          "output_type": "display_data",
          "data": {
            "text/html": [
              "<span style=\"color:cyan\"> |-Trial ID: 72b3424579c1b3e00a97fe9b007a1216</span>"
            ],
            "text/plain": [
              "<IPython.core.display.HTML object>"
            ]
          },
          "metadata": {
            "tags": []
          }
        },
        {
          "output_type": "display_data",
          "data": {
            "text/html": [
              "<span style=\"color:cyan\"> |-Score: 0.7359070658683777</span>"
            ],
            "text/plain": [
              "<IPython.core.display.HTML object>"
            ]
          },
          "metadata": {
            "tags": []
          }
        },
        {
          "output_type": "display_data",
          "data": {
            "text/html": [
              "<span style=\"color:cyan\"> |-Best step: 0</span>"
            ],
            "text/plain": [
              "<IPython.core.display.HTML object>"
            ]
          },
          "metadata": {
            "tags": []
          }
        },
        {
          "output_type": "display_data",
          "data": {
            "text/html": [
              "<span style=\"color:#7E57C2\"><h2 style=\"font-size:16px\">Hyperparameters:</h2></span>"
            ],
            "text/plain": [
              "<IPython.core.display.HTML object>"
            ]
          },
          "metadata": {
            "tags": []
          }
        },
        {
          "output_type": "display_data",
          "data": {
            "text/html": [
              "<span style=\"color:cyan\"> |-drop_rate_0: 0.0</span>"
            ],
            "text/plain": [
              "<IPython.core.display.HTML object>"
            ]
          },
          "metadata": {
            "tags": []
          }
        },
        {
          "output_type": "display_data",
          "data": {
            "text/html": [
              "<span style=\"color:blue\"> |-drop_rate_1: 0.7</span>"
            ],
            "text/plain": [
              "<IPython.core.display.HTML object>"
            ]
          },
          "metadata": {
            "tags": []
          }
        },
        {
          "output_type": "display_data",
          "data": {
            "text/html": [
              "<span style=\"color:cyan\"> |-drop_rate_2: 0.2</span>"
            ],
            "text/plain": [
              "<IPython.core.display.HTML object>"
            ]
          },
          "metadata": {
            "tags": []
          }
        },
        {
          "output_type": "display_data",
          "data": {
            "text/html": [
              "<span style=\"color:blue\"> |-drop_rate_3: 0.6</span>"
            ],
            "text/plain": [
              "<IPython.core.display.HTML object>"
            ]
          },
          "metadata": {
            "tags": []
          }
        },
        {
          "output_type": "display_data",
          "data": {
            "text/html": [
              "<span style=\"color:cyan\"> |-drop_rate_4: 0.7</span>"
            ],
            "text/plain": [
              "<IPython.core.display.HTML object>"
            ]
          },
          "metadata": {
            "tags": []
          }
        },
        {
          "output_type": "display_data",
          "data": {
            "text/html": [
              "<span style=\"color:blue\"> |-drop_rate_5: 0.3</span>"
            ],
            "text/plain": [
              "<IPython.core.display.HTML object>"
            ]
          },
          "metadata": {
            "tags": []
          }
        },
        {
          "output_type": "display_data",
          "data": {
            "text/html": [
              "<span style=\"color:cyan\"> |-num_layers: 2</span>"
            ],
            "text/plain": [
              "<IPython.core.display.HTML object>"
            ]
          },
          "metadata": {
            "tags": []
          }
        },
        {
          "output_type": "display_data",
          "data": {
            "text/html": [
              "<span style=\"color:blue\"> |-units_0: 64</span>"
            ],
            "text/plain": [
              "<IPython.core.display.HTML object>"
            ]
          },
          "metadata": {
            "tags": []
          }
        },
        {
          "output_type": "display_data",
          "data": {
            "text/html": [
              "<span style=\"color:cyan\"> |-units_1: 56</span>"
            ],
            "text/plain": [
              "<IPython.core.display.HTML object>"
            ]
          },
          "metadata": {
            "tags": []
          }
        },
        {
          "output_type": "display_data",
          "data": {
            "text/html": [
              "<span style=\"color:blue\"> |-units_2: 24</span>"
            ],
            "text/plain": [
              "<IPython.core.display.HTML object>"
            ]
          },
          "metadata": {
            "tags": []
          }
        },
        {
          "output_type": "display_data",
          "data": {
            "text/html": [
              "<span style=\"color:cyan\"> |-units_3: 24</span>"
            ],
            "text/plain": [
              "<IPython.core.display.HTML object>"
            ]
          },
          "metadata": {
            "tags": []
          }
        },
        {
          "output_type": "display_data",
          "data": {
            "text/html": [
              "<span style=\"color:blue\"> |-units_4: 56</span>"
            ],
            "text/plain": [
              "<IPython.core.display.HTML object>"
            ]
          },
          "metadata": {
            "tags": []
          }
        },
        {
          "output_type": "display_data",
          "data": {
            "text/html": [
              "<span style=\"color:cyan\"> |-units_5: 8</span>"
            ],
            "text/plain": [
              "<IPython.core.display.HTML object>"
            ]
          },
          "metadata": {
            "tags": []
          }
        },
        {
          "output_type": "stream",
          "text": [
            "Epoch 1/15\n",
            "4803/4803 [==============================] - 27s 6ms/step - loss: 0.8583 - accuracy: 0.7050 - val_loss: 0.6593 - val_accuracy: 0.8296\n",
            "Epoch 2/15\n",
            "4803/4803 [==============================] - 28s 6ms/step - loss: 0.6621 - accuracy: 0.8294 - val_loss: 0.6590 - val_accuracy: 0.8296\n",
            "Epoch 3/15\n",
            "4803/4803 [==============================] - 28s 6ms/step - loss: 0.6608 - accuracy: 0.8294 - val_loss: 0.6589 - val_accuracy: 0.8296\n",
            "Epoch 4/15\n",
            "4803/4803 [==============================] - 28s 6ms/step - loss: 0.6603 - accuracy: 0.8295 - val_loss: 0.6590 - val_accuracy: 0.8297\n",
            "Epoch 5/15\n",
            "4803/4803 [==============================] - 28s 6ms/step - loss: 0.6600 - accuracy: 0.8295 - val_loss: 0.6590 - val_accuracy: 0.8296\n",
            "Epoch 1/15\n",
            "4803/4803 [==============================] - 29s 6ms/step - loss: 0.9226 - accuracy: 0.6576 - val_loss: 0.6593 - val_accuracy: 0.8296\n",
            "Epoch 2/15\n",
            "4803/4803 [==============================] - 27s 6ms/step - loss: 0.6621 - accuracy: 0.8294 - val_loss: 0.6593 - val_accuracy: 0.8296\n",
            "Epoch 3/15\n",
            "4803/4803 [==============================] - 28s 6ms/step - loss: 0.6609 - accuracy: 0.8294 - val_loss: 0.6590 - val_accuracy: 0.8297\n",
            "Epoch 4/15\n",
            "4803/4803 [==============================] - 28s 6ms/step - loss: 0.6603 - accuracy: 0.8295 - val_loss: 0.6589 - val_accuracy: 0.8297\n",
            "Epoch 5/15\n",
            "4803/4803 [==============================] - 28s 6ms/step - loss: 0.6600 - accuracy: 0.8295 - val_loss: 0.6590 - val_accuracy: 0.8297\n",
            "Epoch 6/15\n",
            "4803/4803 [==============================] - 29s 6ms/step - loss: 0.6600 - accuracy: 0.8295 - val_loss: 0.6590 - val_accuracy: 0.8297\n",
            "Epoch 1/15\n",
            "4803/4803 [==============================] - 28s 6ms/step - loss: 0.8056 - accuracy: 0.7387 - val_loss: 0.6594 - val_accuracy: 0.8296\n",
            "Epoch 2/15\n",
            "4803/4803 [==============================] - 28s 6ms/step - loss: 0.6622 - accuracy: 0.8294 - val_loss: 0.6592 - val_accuracy: 0.8296\n",
            "Epoch 3/15\n",
            "4803/4803 [==============================] - 29s 6ms/step - loss: 0.6611 - accuracy: 0.8294 - val_loss: 0.6590 - val_accuracy: 0.8296\n",
            "Epoch 4/15\n",
            "4803/4803 [==============================] - 28s 6ms/step - loss: 0.6604 - accuracy: 0.8295 - val_loss: 0.6590 - val_accuracy: 0.8297\n",
            "Epoch 5/15\n",
            "4803/4803 [==============================] - 28s 6ms/step - loss: 0.6601 - accuracy: 0.8295 - val_loss: 0.6590 - val_accuracy: 0.8297\n",
            "Epoch 6/15\n",
            "4803/4803 [==============================] - 29s 6ms/step - loss: 0.6599 - accuracy: 0.8295 - val_loss: 0.6589 - val_accuracy: 0.8297\n",
            "Epoch 7/15\n",
            "4803/4803 [==============================] - 28s 6ms/step - loss: 0.6597 - accuracy: 0.8295 - val_loss: 0.6589 - val_accuracy: 0.8297\n",
            "Epoch 8/15\n",
            "4803/4803 [==============================] - 28s 6ms/step - loss: 0.6597 - accuracy: 0.8295 - val_loss: 0.6589 - val_accuracy: 0.8297\n",
            "Epoch 9/15\n",
            "4803/4803 [==============================] - 28s 6ms/step - loss: 0.6596 - accuracy: 0.8295 - val_loss: 0.6589 - val_accuracy: 0.8297\n",
            "Epoch 1/15\n",
            "4803/4803 [==============================] - 28s 6ms/step - loss: 0.8382 - accuracy: 0.7176 - val_loss: 0.6593 - val_accuracy: 0.8296\n",
            "Epoch 2/15\n",
            "4803/4803 [==============================] - 28s 6ms/step - loss: 0.6620 - accuracy: 0.8294 - val_loss: 0.6590 - val_accuracy: 0.8296\n",
            "Epoch 3/15\n",
            "4803/4803 [==============================] - 27s 6ms/step - loss: 0.6609 - accuracy: 0.8294 - val_loss: 0.6590 - val_accuracy: 0.8296\n",
            "Epoch 4/15\n",
            "4803/4803 [==============================] - 28s 6ms/step - loss: 0.6604 - accuracy: 0.8295 - val_loss: 0.6590 - val_accuracy: 0.8297\n",
            "Epoch 5/15\n",
            "4803/4803 [==============================] - 29s 6ms/step - loss: 0.6602 - accuracy: 0.8295 - val_loss: 0.6591 - val_accuracy: 0.8297\n",
            "Epoch 6/15\n",
            "4803/4803 [==============================] - 29s 6ms/step - loss: 0.6600 - accuracy: 0.8295 - val_loss: 0.6591 - val_accuracy: 0.8297\n",
            "Epoch 1/15\n",
            "4803/4803 [==============================] - 29s 6ms/step - loss: 0.8958 - accuracy: 0.6701 - val_loss: 0.6364 - val_accuracy: 0.8296\n",
            "Epoch 2/15\n",
            "4803/4803 [==============================] - 28s 6ms/step - loss: 0.6304 - accuracy: 0.8296 - val_loss: 0.6132 - val_accuracy: 0.8296\n",
            "Epoch 3/15\n",
            "4803/4803 [==============================] - 28s 6ms/step - loss: 0.6095 - accuracy: 0.8356 - val_loss: 0.5860 - val_accuracy: 0.8432\n",
            "Epoch 4/15\n",
            "4803/4803 [==============================] - 27s 6ms/step - loss: 0.5830 - accuracy: 0.8415 - val_loss: 0.5688 - val_accuracy: 0.8429\n",
            "Epoch 5/15\n",
            "4803/4803 [==============================] - 28s 6ms/step - loss: 0.5625 - accuracy: 0.8426 - val_loss: 0.5508 - val_accuracy: 0.8445\n",
            "Epoch 6/15\n",
            "4803/4803 [==============================] - 28s 6ms/step - loss: 0.5418 - accuracy: 0.8441 - val_loss: 0.5245 - val_accuracy: 0.8471\n",
            "Epoch 7/15\n",
            "4803/4803 [==============================] - 28s 6ms/step - loss: 0.5285 - accuracy: 0.8448 - val_loss: 0.5136 - val_accuracy: 0.8463\n",
            "Epoch 8/15\n",
            "4803/4803 [==============================] - 28s 6ms/step - loss: 0.5175 - accuracy: 0.8456 - val_loss: 0.5133 - val_accuracy: 0.8469\n",
            "Epoch 9/15\n",
            "4803/4803 [==============================] - 29s 6ms/step - loss: 0.5114 - accuracy: 0.8461 - val_loss: 0.5010 - val_accuracy: 0.8495\n",
            "Epoch 10/15\n",
            "4803/4803 [==============================] - 28s 6ms/step - loss: 0.5071 - accuracy: 0.8466 - val_loss: 0.4966 - val_accuracy: 0.8493\n",
            "Epoch 11/15\n",
            "4803/4803 [==============================] - 28s 6ms/step - loss: 0.5044 - accuracy: 0.8470 - val_loss: 0.5020 - val_accuracy: 0.8501\n",
            "Epoch 12/15\n",
            "4803/4803 [==============================] - 29s 6ms/step - loss: 0.5027 - accuracy: 0.8471 - val_loss: 0.5034 - val_accuracy: 0.8477\n"
          ],
          "name": "stdout"
        },
        {
          "output_type": "display_data",
          "data": {
            "text/html": [
              "<span style=\"color:#4527A0\"><h1 style=\"font-size:18px\">Trial complete</h1></span>"
            ],
            "text/plain": [
              "<IPython.core.display.HTML object>"
            ]
          },
          "metadata": {
            "tags": []
          }
        },
        {
          "output_type": "display_data",
          "data": {
            "text/html": [
              "<span style=\"color:#4527A0\"><h1 style=\"font-size:18px\">Trial summary</h1></span>"
            ],
            "text/plain": [
              "<IPython.core.display.HTML object>"
            ]
          },
          "metadata": {
            "tags": []
          }
        },
        {
          "output_type": "display_data",
          "data": {
            "text/html": [
              "<span style=\"color:cyan\"> |-Trial ID: d0e258ee5de3623c0831899c2cdc001a</span>"
            ],
            "text/plain": [
              "<IPython.core.display.HTML object>"
            ]
          },
          "metadata": {
            "tags": []
          }
        },
        {
          "output_type": "display_data",
          "data": {
            "text/html": [
              "<span style=\"color:cyan\"> |-Score: 0.8338060855865479</span>"
            ],
            "text/plain": [
              "<IPython.core.display.HTML object>"
            ]
          },
          "metadata": {
            "tags": []
          }
        },
        {
          "output_type": "display_data",
          "data": {
            "text/html": [
              "<span style=\"color:cyan\"> |-Best step: 0</span>"
            ],
            "text/plain": [
              "<IPython.core.display.HTML object>"
            ]
          },
          "metadata": {
            "tags": []
          }
        },
        {
          "output_type": "display_data",
          "data": {
            "text/html": [
              "<span style=\"color:#7E57C2\"><h2 style=\"font-size:16px\">Hyperparameters:</h2></span>"
            ],
            "text/plain": [
              "<IPython.core.display.HTML object>"
            ]
          },
          "metadata": {
            "tags": []
          }
        },
        {
          "output_type": "display_data",
          "data": {
            "text/html": [
              "<span style=\"color:cyan\"> |-drop_rate_0: 0.3</span>"
            ],
            "text/plain": [
              "<IPython.core.display.HTML object>"
            ]
          },
          "metadata": {
            "tags": []
          }
        },
        {
          "output_type": "display_data",
          "data": {
            "text/html": [
              "<span style=\"color:blue\"> |-drop_rate_1: 0.4</span>"
            ],
            "text/plain": [
              "<IPython.core.display.HTML object>"
            ]
          },
          "metadata": {
            "tags": []
          }
        },
        {
          "output_type": "display_data",
          "data": {
            "text/html": [
              "<span style=\"color:cyan\"> |-drop_rate_2: 0.1</span>"
            ],
            "text/plain": [
              "<IPython.core.display.HTML object>"
            ]
          },
          "metadata": {
            "tags": []
          }
        },
        {
          "output_type": "display_data",
          "data": {
            "text/html": [
              "<span style=\"color:blue\"> |-drop_rate_3: 0.0</span>"
            ],
            "text/plain": [
              "<IPython.core.display.HTML object>"
            ]
          },
          "metadata": {
            "tags": []
          }
        },
        {
          "output_type": "display_data",
          "data": {
            "text/html": [
              "<span style=\"color:cyan\"> |-drop_rate_4: 0.3</span>"
            ],
            "text/plain": [
              "<IPython.core.display.HTML object>"
            ]
          },
          "metadata": {
            "tags": []
          }
        },
        {
          "output_type": "display_data",
          "data": {
            "text/html": [
              "<span style=\"color:blue\"> |-drop_rate_5: 0.0</span>"
            ],
            "text/plain": [
              "<IPython.core.display.HTML object>"
            ]
          },
          "metadata": {
            "tags": []
          }
        },
        {
          "output_type": "display_data",
          "data": {
            "text/html": [
              "<span style=\"color:cyan\"> |-num_layers: 5</span>"
            ],
            "text/plain": [
              "<IPython.core.display.HTML object>"
            ]
          },
          "metadata": {
            "tags": []
          }
        },
        {
          "output_type": "display_data",
          "data": {
            "text/html": [
              "<span style=\"color:blue\"> |-units_0: 56</span>"
            ],
            "text/plain": [
              "<IPython.core.display.HTML object>"
            ]
          },
          "metadata": {
            "tags": []
          }
        },
        {
          "output_type": "display_data",
          "data": {
            "text/html": [
              "<span style=\"color:cyan\"> |-units_1: 48</span>"
            ],
            "text/plain": [
              "<IPython.core.display.HTML object>"
            ]
          },
          "metadata": {
            "tags": []
          }
        },
        {
          "output_type": "display_data",
          "data": {
            "text/html": [
              "<span style=\"color:blue\"> |-units_2: 40</span>"
            ],
            "text/plain": [
              "<IPython.core.display.HTML object>"
            ]
          },
          "metadata": {
            "tags": []
          }
        },
        {
          "output_type": "display_data",
          "data": {
            "text/html": [
              "<span style=\"color:cyan\"> |-units_3: 40</span>"
            ],
            "text/plain": [
              "<IPython.core.display.HTML object>"
            ]
          },
          "metadata": {
            "tags": []
          }
        },
        {
          "output_type": "display_data",
          "data": {
            "text/html": [
              "<span style=\"color:blue\"> |-units_4: 64</span>"
            ],
            "text/plain": [
              "<IPython.core.display.HTML object>"
            ]
          },
          "metadata": {
            "tags": []
          }
        },
        {
          "output_type": "display_data",
          "data": {
            "text/html": [
              "<span style=\"color:cyan\"> |-units_5: 40</span>"
            ],
            "text/plain": [
              "<IPython.core.display.HTML object>"
            ]
          },
          "metadata": {
            "tags": []
          }
        },
        {
          "output_type": "stream",
          "text": [
            "Epoch 1/15\n",
            "4803/4803 [==============================] - 29s 6ms/step - loss: 1.0669 - accuracy: 0.6720 - val_loss: 0.6595 - val_accuracy: 0.8295\n",
            "Epoch 2/15\n",
            "4803/4803 [==============================] - 29s 6ms/step - loss: 0.6615 - accuracy: 0.8294 - val_loss: 0.6592 - val_accuracy: 0.8296\n",
            "Epoch 3/15\n",
            "4803/4803 [==============================] - 29s 6ms/step - loss: 0.6601 - accuracy: 0.8294 - val_loss: 0.6594 - val_accuracy: 0.8294\n",
            "Epoch 4/15\n",
            "4803/4803 [==============================] - 29s 6ms/step - loss: 0.6598 - accuracy: 0.8294 - val_loss: 0.6592 - val_accuracy: 0.8296\n",
            "Epoch 5/15\n",
            "4803/4803 [==============================] - 30s 6ms/step - loss: 0.6597 - accuracy: 0.8294 - val_loss: 0.6591 - val_accuracy: 0.8296\n",
            "Epoch 6/15\n",
            "4803/4803 [==============================] - 29s 6ms/step - loss: 0.6597 - accuracy: 0.8294 - val_loss: 0.6591 - val_accuracy: 0.8296\n",
            "Epoch 7/15\n",
            "4803/4803 [==============================] - 30s 6ms/step - loss: 0.6597 - accuracy: 0.8294 - val_loss: 0.6591 - val_accuracy: 0.8296\n",
            "Epoch 8/15\n",
            "4803/4803 [==============================] - 30s 6ms/step - loss: 0.6597 - accuracy: 0.8294 - val_loss: 0.6591 - val_accuracy: 0.8296\n",
            "Epoch 9/15\n",
            "4803/4803 [==============================] - 30s 6ms/step - loss: 0.6597 - accuracy: 0.8294 - val_loss: 0.6591 - val_accuracy: 0.8296\n",
            "Epoch 1/15\n",
            "4803/4803 [==============================] - 29s 6ms/step - loss: 0.9615 - accuracy: 0.7223 - val_loss: 0.6599 - val_accuracy: 0.8293\n",
            "Epoch 2/15\n",
            "4803/4803 [==============================] - 30s 6ms/step - loss: 0.6619 - accuracy: 0.8294 - val_loss: 0.6591 - val_accuracy: 0.8296\n",
            "Epoch 3/15\n",
            "4803/4803 [==============================] - 30s 6ms/step - loss: 0.6601 - accuracy: 0.8294 - val_loss: 0.6591 - val_accuracy: 0.8296\n",
            "Epoch 4/15\n",
            "4803/4803 [==============================] - 29s 6ms/step - loss: 0.6598 - accuracy: 0.8294 - val_loss: 0.6591 - val_accuracy: 0.8296\n",
            "Epoch 5/15\n",
            "4803/4803 [==============================] - 29s 6ms/step - loss: 0.6597 - accuracy: 0.8294 - val_loss: 0.6591 - val_accuracy: 0.8296\n",
            "Epoch 6/15\n",
            "4803/4803 [==============================] - 30s 6ms/step - loss: 0.6597 - accuracy: 0.8294 - val_loss: 0.6591 - val_accuracy: 0.8296\n",
            "Epoch 7/15\n",
            "4803/4803 [==============================] - 29s 6ms/step - loss: 0.6597 - accuracy: 0.8294 - val_loss: 0.6591 - val_accuracy: 0.8296\n",
            "Epoch 8/15\n",
            "4803/4803 [==============================] - 29s 6ms/step - loss: 0.6597 - accuracy: 0.8294 - val_loss: 0.6591 - val_accuracy: 0.8296\n",
            "Epoch 9/15\n",
            "4803/4803 [==============================] - 30s 6ms/step - loss: 0.6596 - accuracy: 0.8294 - val_loss: 0.6591 - val_accuracy: 0.8296\n",
            "Epoch 1/15\n",
            "4803/4803 [==============================] - 29s 6ms/step - loss: 0.9729 - accuracy: 0.6922 - val_loss: 0.6593 - val_accuracy: 0.8296\n",
            "Epoch 2/15\n",
            "4803/4803 [==============================] - 29s 6ms/step - loss: 0.6622 - accuracy: 0.8294 - val_loss: 0.6591 - val_accuracy: 0.8296\n",
            "Epoch 3/15\n",
            "4803/4803 [==============================] - 30s 6ms/step - loss: 0.6604 - accuracy: 0.8294 - val_loss: 0.6591 - val_accuracy: 0.8296\n",
            "Epoch 4/15\n",
            "4803/4803 [==============================] - 30s 6ms/step - loss: 0.6604 - accuracy: 0.8294 - val_loss: 0.6633 - val_accuracy: 0.8296\n",
            "Epoch 1/15\n",
            "4803/4803 [==============================] - 30s 6ms/step - loss: 1.0061 - accuracy: 0.7968 - val_loss: 0.6601 - val_accuracy: 0.8296\n",
            "Epoch 2/15\n",
            "4803/4803 [==============================] - 29s 6ms/step - loss: 0.6637 - accuracy: 0.8293 - val_loss: 0.6595 - val_accuracy: 0.8296\n",
            "Epoch 3/15\n",
            "4803/4803 [==============================] - 29s 6ms/step - loss: 0.6615 - accuracy: 0.8294 - val_loss: 0.6592 - val_accuracy: 0.8296\n",
            "Epoch 4/15\n",
            "4803/4803 [==============================] - 29s 6ms/step - loss: 0.6604 - accuracy: 0.8294 - val_loss: 0.6592 - val_accuracy: 0.8296\n",
            "Epoch 5/15\n",
            "4803/4803 [==============================] - 29s 6ms/step - loss: 0.6600 - accuracy: 0.8294 - val_loss: 0.6591 - val_accuracy: 0.8296\n",
            "Epoch 6/15\n",
            "4803/4803 [==============================] - 29s 6ms/step - loss: 0.6599 - accuracy: 0.8294 - val_loss: 0.6591 - val_accuracy: 0.8296\n",
            "Epoch 7/15\n",
            "4803/4803 [==============================] - 30s 6ms/step - loss: 0.6598 - accuracy: 0.8294 - val_loss: 0.6591 - val_accuracy: 0.8296\n",
            "Epoch 8/15\n",
            "4803/4803 [==============================] - 29s 6ms/step - loss: 0.6597 - accuracy: 0.8294 - val_loss: 0.6591 - val_accuracy: 0.8296\n",
            "Epoch 9/15\n",
            "4803/4803 [==============================] - 29s 6ms/step - loss: 0.6597 - accuracy: 0.8294 - val_loss: 0.6591 - val_accuracy: 0.8296\n",
            "Epoch 10/15\n",
            "4803/4803 [==============================] - 30s 6ms/step - loss: 0.6597 - accuracy: 0.8294 - val_loss: 0.6591 - val_accuracy: 0.8296\n",
            "Epoch 1/15\n",
            "4803/4803 [==============================] - 30s 6ms/step - loss: 0.9482 - accuracy: 0.7095 - val_loss: 0.6595 - val_accuracy: 0.8294\n",
            "Epoch 2/15\n",
            "4803/4803 [==============================] - 30s 6ms/step - loss: 0.6622 - accuracy: 0.8294 - val_loss: 0.6592 - val_accuracy: 0.8296\n",
            "Epoch 3/15\n",
            "4803/4803 [==============================] - 29s 6ms/step - loss: 0.6605 - accuracy: 0.8294 - val_loss: 0.6591 - val_accuracy: 0.8296\n",
            "Epoch 4/15\n",
            "4803/4803 [==============================] - 31s 6ms/step - loss: 0.6601 - accuracy: 0.8294 - val_loss: 0.6592 - val_accuracy: 0.8296\n",
            "Epoch 5/15\n",
            "4803/4803 [==============================] - 30s 6ms/step - loss: 0.6599 - accuracy: 0.8294 - val_loss: 0.6591 - val_accuracy: 0.8296\n",
            "Epoch 6/15\n",
            "4803/4803 [==============================] - 29s 6ms/step - loss: 0.6598 - accuracy: 0.8294 - val_loss: 0.6591 - val_accuracy: 0.8296\n",
            "Epoch 7/15\n",
            "4803/4803 [==============================] - 30s 6ms/step - loss: 0.6598 - accuracy: 0.8294 - val_loss: 0.6591 - val_accuracy: 0.8296\n",
            "Epoch 8/15\n",
            "4803/4803 [==============================] - 30s 6ms/step - loss: 0.6597 - accuracy: 0.8294 - val_loss: 0.6591 - val_accuracy: 0.8296\n",
            "Epoch 9/15\n",
            "4803/4803 [==============================] - 30s 6ms/step - loss: 0.6597 - accuracy: 0.8294 - val_loss: 0.6591 - val_accuracy: 0.8296\n",
            "Epoch 10/15\n",
            "4803/4803 [==============================] - 31s 6ms/step - loss: 0.6597 - accuracy: 0.8294 - val_loss: 0.6591 - val_accuracy: 0.8296\n"
          ],
          "name": "stdout"
        },
        {
          "output_type": "display_data",
          "data": {
            "text/html": [
              "<span style=\"color:#4527A0\"><h1 style=\"font-size:18px\">Trial complete</h1></span>"
            ],
            "text/plain": [
              "<IPython.core.display.HTML object>"
            ]
          },
          "metadata": {
            "tags": []
          }
        },
        {
          "output_type": "display_data",
          "data": {
            "text/html": [
              "<span style=\"color:#4527A0\"><h1 style=\"font-size:18px\">Trial summary</h1></span>"
            ],
            "text/plain": [
              "<IPython.core.display.HTML object>"
            ]
          },
          "metadata": {
            "tags": []
          }
        },
        {
          "output_type": "display_data",
          "data": {
            "text/html": [
              "<span style=\"color:cyan\"> |-Trial ID: 91934c1a04cba05bcf24b9d14d441d04</span>"
            ],
            "text/plain": [
              "<IPython.core.display.HTML object>"
            ]
          },
          "metadata": {
            "tags": []
          }
        },
        {
          "output_type": "display_data",
          "data": {
            "text/html": [
              "<span style=\"color:cyan\"> |-Score: 0.8296340703964233</span>"
            ],
            "text/plain": [
              "<IPython.core.display.HTML object>"
            ]
          },
          "metadata": {
            "tags": []
          }
        },
        {
          "output_type": "display_data",
          "data": {
            "text/html": [
              "<span style=\"color:cyan\"> |-Best step: 0</span>"
            ],
            "text/plain": [
              "<IPython.core.display.HTML object>"
            ]
          },
          "metadata": {
            "tags": []
          }
        },
        {
          "output_type": "display_data",
          "data": {
            "text/html": [
              "<span style=\"color:#7E57C2\"><h2 style=\"font-size:16px\">Hyperparameters:</h2></span>"
            ],
            "text/plain": [
              "<IPython.core.display.HTML object>"
            ]
          },
          "metadata": {
            "tags": []
          }
        },
        {
          "output_type": "display_data",
          "data": {
            "text/html": [
              "<span style=\"color:cyan\"> |-drop_rate_0: 0.8</span>"
            ],
            "text/plain": [
              "<IPython.core.display.HTML object>"
            ]
          },
          "metadata": {
            "tags": []
          }
        },
        {
          "output_type": "display_data",
          "data": {
            "text/html": [
              "<span style=\"color:blue\"> |-drop_rate_1: 0.6</span>"
            ],
            "text/plain": [
              "<IPython.core.display.HTML object>"
            ]
          },
          "metadata": {
            "tags": []
          }
        },
        {
          "output_type": "display_data",
          "data": {
            "text/html": [
              "<span style=\"color:cyan\"> |-drop_rate_2: 0.7</span>"
            ],
            "text/plain": [
              "<IPython.core.display.HTML object>"
            ]
          },
          "metadata": {
            "tags": []
          }
        },
        {
          "output_type": "display_data",
          "data": {
            "text/html": [
              "<span style=\"color:blue\"> |-drop_rate_3: 0.9</span>"
            ],
            "text/plain": [
              "<IPython.core.display.HTML object>"
            ]
          },
          "metadata": {
            "tags": []
          }
        },
        {
          "output_type": "display_data",
          "data": {
            "text/html": [
              "<span style=\"color:cyan\"> |-drop_rate_4: 0.3</span>"
            ],
            "text/plain": [
              "<IPython.core.display.HTML object>"
            ]
          },
          "metadata": {
            "tags": []
          }
        },
        {
          "output_type": "display_data",
          "data": {
            "text/html": [
              "<span style=\"color:blue\"> |-drop_rate_5: 0.1</span>"
            ],
            "text/plain": [
              "<IPython.core.display.HTML object>"
            ]
          },
          "metadata": {
            "tags": []
          }
        },
        {
          "output_type": "display_data",
          "data": {
            "text/html": [
              "<span style=\"color:cyan\"> |-num_layers: 6</span>"
            ],
            "text/plain": [
              "<IPython.core.display.HTML object>"
            ]
          },
          "metadata": {
            "tags": []
          }
        },
        {
          "output_type": "display_data",
          "data": {
            "text/html": [
              "<span style=\"color:blue\"> |-units_0: 40</span>"
            ],
            "text/plain": [
              "<IPython.core.display.HTML object>"
            ]
          },
          "metadata": {
            "tags": []
          }
        },
        {
          "output_type": "display_data",
          "data": {
            "text/html": [
              "<span style=\"color:cyan\"> |-units_1: 24</span>"
            ],
            "text/plain": [
              "<IPython.core.display.HTML object>"
            ]
          },
          "metadata": {
            "tags": []
          }
        },
        {
          "output_type": "display_data",
          "data": {
            "text/html": [
              "<span style=\"color:blue\"> |-units_2: 32</span>"
            ],
            "text/plain": [
              "<IPython.core.display.HTML object>"
            ]
          },
          "metadata": {
            "tags": []
          }
        },
        {
          "output_type": "display_data",
          "data": {
            "text/html": [
              "<span style=\"color:cyan\"> |-units_3: 48</span>"
            ],
            "text/plain": [
              "<IPython.core.display.HTML object>"
            ]
          },
          "metadata": {
            "tags": []
          }
        },
        {
          "output_type": "display_data",
          "data": {
            "text/html": [
              "<span style=\"color:blue\"> |-units_4: 16</span>"
            ],
            "text/plain": [
              "<IPython.core.display.HTML object>"
            ]
          },
          "metadata": {
            "tags": []
          }
        },
        {
          "output_type": "display_data",
          "data": {
            "text/html": [
              "<span style=\"color:cyan\"> |-units_5: 8</span>"
            ],
            "text/plain": [
              "<IPython.core.display.HTML object>"
            ]
          },
          "metadata": {
            "tags": []
          }
        },
        {
          "output_type": "stream",
          "text": [
            "Epoch 1/15\n",
            "4803/4803 [==============================] - 28s 6ms/step - loss: 0.8627 - accuracy: 0.7506 - val_loss: 0.6592 - val_accuracy: 0.8296\n",
            "Epoch 2/15\n",
            "4803/4803 [==============================] - 27s 6ms/step - loss: 0.6726 - accuracy: 0.8224 - val_loss: 0.6592 - val_accuracy: 0.8296\n",
            "Epoch 3/15\n",
            "4803/4803 [==============================] - 28s 6ms/step - loss: 0.6647 - accuracy: 0.8271 - val_loss: 0.6592 - val_accuracy: 0.8296\n",
            "Epoch 1/15\n",
            "4803/4803 [==============================] - 28s 6ms/step - loss: 0.9095 - accuracy: 0.7567 - val_loss: 0.6591 - val_accuracy: 0.8296\n",
            "Epoch 2/15\n",
            "4803/4803 [==============================] - 28s 6ms/step - loss: 0.6671 - accuracy: 0.8265 - val_loss: 0.6591 - val_accuracy: 0.8296\n",
            "Epoch 3/15\n",
            "4803/4803 [==============================] - 28s 6ms/step - loss: 0.6620 - accuracy: 0.8290 - val_loss: 0.6592 - val_accuracy: 0.8296\n",
            "Epoch 1/15\n",
            "4803/4803 [==============================] - 28s 6ms/step - loss: 0.9654 - accuracy: 0.7234 - val_loss: 0.6592 - val_accuracy: 0.8296\n",
            "Epoch 2/15\n",
            "4803/4803 [==============================] - 27s 6ms/step - loss: 0.6761 - accuracy: 0.8210 - val_loss: 0.6592 - val_accuracy: 0.8296\n",
            "Epoch 3/15\n",
            "4803/4803 [==============================] - 27s 6ms/step - loss: 0.6653 - accuracy: 0.8269 - val_loss: 0.6592 - val_accuracy: 0.8296\n",
            "Epoch 4/15\n",
            "4803/4803 [==============================] - 28s 6ms/step - loss: 0.6619 - accuracy: 0.8288 - val_loss: 0.6592 - val_accuracy: 0.8296\n",
            "Epoch 5/15\n",
            "4803/4803 [==============================] - 29s 6ms/step - loss: 0.6612 - accuracy: 0.8291 - val_loss: 0.6593 - val_accuracy: 0.8296\n",
            "Epoch 1/15\n",
            "4803/4803 [==============================] - 28s 6ms/step - loss: 0.8869 - accuracy: 0.7394 - val_loss: 0.6591 - val_accuracy: 0.8296\n",
            "Epoch 2/15\n",
            "4803/4803 [==============================] - 27s 6ms/step - loss: 0.6681 - accuracy: 0.8259 - val_loss: 0.6592 - val_accuracy: 0.8296\n",
            "Epoch 3/15\n",
            "4803/4803 [==============================] - 28s 6ms/step - loss: 0.6621 - accuracy: 0.8288 - val_loss: 0.6592 - val_accuracy: 0.8296\n",
            "Epoch 1/15\n",
            "4803/4803 [==============================] - 28s 6ms/step - loss: 0.8821 - accuracy: 0.7279 - val_loss: 0.6591 - val_accuracy: 0.8296\n",
            "Epoch 2/15\n",
            "4803/4803 [==============================] - 28s 6ms/step - loss: 0.6698 - accuracy: 0.8243 - val_loss: 0.6591 - val_accuracy: 0.8296\n",
            "Epoch 3/15\n",
            "4803/4803 [==============================] - 27s 6ms/step - loss: 0.6634 - accuracy: 0.8280 - val_loss: 0.6591 - val_accuracy: 0.8296\n",
            "Epoch 4/15\n",
            "4803/4803 [==============================] - 27s 6ms/step - loss: 0.6619 - accuracy: 0.8287 - val_loss: 0.6591 - val_accuracy: 0.8296\n",
            "Epoch 5/15\n",
            "4803/4803 [==============================] - 28s 6ms/step - loss: 0.6613 - accuracy: 0.8290 - val_loss: 0.6591 - val_accuracy: 0.8296\n"
          ],
          "name": "stdout"
        },
        {
          "output_type": "display_data",
          "data": {
            "text/html": [
              "<span style=\"color:#4527A0\"><h1 style=\"font-size:18px\">Trial complete</h1></span>"
            ],
            "text/plain": [
              "<IPython.core.display.HTML object>"
            ]
          },
          "metadata": {
            "tags": []
          }
        },
        {
          "output_type": "display_data",
          "data": {
            "text/html": [
              "<span style=\"color:#4527A0\"><h1 style=\"font-size:18px\">Trial summary</h1></span>"
            ],
            "text/plain": [
              "<IPython.core.display.HTML object>"
            ]
          },
          "metadata": {
            "tags": []
          }
        },
        {
          "output_type": "display_data",
          "data": {
            "text/html": [
              "<span style=\"color:cyan\"> |-Trial ID: 20e3eb73ab364a9191e48620f8b5fe62</span>"
            ],
            "text/plain": [
              "<IPython.core.display.HTML object>"
            ]
          },
          "metadata": {
            "tags": []
          }
        },
        {
          "output_type": "display_data",
          "data": {
            "text/html": [
              "<span style=\"color:cyan\"> |-Score: 0.8296340703964233</span>"
            ],
            "text/plain": [
              "<IPython.core.display.HTML object>"
            ]
          },
          "metadata": {
            "tags": []
          }
        },
        {
          "output_type": "display_data",
          "data": {
            "text/html": [
              "<span style=\"color:cyan\"> |-Best step: 0</span>"
            ],
            "text/plain": [
              "<IPython.core.display.HTML object>"
            ]
          },
          "metadata": {
            "tags": []
          }
        },
        {
          "output_type": "display_data",
          "data": {
            "text/html": [
              "<span style=\"color:#7E57C2\"><h2 style=\"font-size:16px\">Hyperparameters:</h2></span>"
            ],
            "text/plain": [
              "<IPython.core.display.HTML object>"
            ]
          },
          "metadata": {
            "tags": []
          }
        },
        {
          "output_type": "display_data",
          "data": {
            "text/html": [
              "<span style=\"color:cyan\"> |-drop_rate_0: 0.2</span>"
            ],
            "text/plain": [
              "<IPython.core.display.HTML object>"
            ]
          },
          "metadata": {
            "tags": []
          }
        },
        {
          "output_type": "display_data",
          "data": {
            "text/html": [
              "<span style=\"color:blue\"> |-drop_rate_1: 0.6</span>"
            ],
            "text/plain": [
              "<IPython.core.display.HTML object>"
            ]
          },
          "metadata": {
            "tags": []
          }
        },
        {
          "output_type": "display_data",
          "data": {
            "text/html": [
              "<span style=\"color:cyan\"> |-drop_rate_2: 0.9</span>"
            ],
            "text/plain": [
              "<IPython.core.display.HTML object>"
            ]
          },
          "metadata": {
            "tags": []
          }
        },
        {
          "output_type": "display_data",
          "data": {
            "text/html": [
              "<span style=\"color:blue\"> |-drop_rate_3: 0.1</span>"
            ],
            "text/plain": [
              "<IPython.core.display.HTML object>"
            ]
          },
          "metadata": {
            "tags": []
          }
        },
        {
          "output_type": "display_data",
          "data": {
            "text/html": [
              "<span style=\"color:cyan\"> |-drop_rate_4: 0.6</span>"
            ],
            "text/plain": [
              "<IPython.core.display.HTML object>"
            ]
          },
          "metadata": {
            "tags": []
          }
        },
        {
          "output_type": "display_data",
          "data": {
            "text/html": [
              "<span style=\"color:blue\"> |-drop_rate_5: 0.7</span>"
            ],
            "text/plain": [
              "<IPython.core.display.HTML object>"
            ]
          },
          "metadata": {
            "tags": []
          }
        },
        {
          "output_type": "display_data",
          "data": {
            "text/html": [
              "<span style=\"color:cyan\"> |-num_layers: 4</span>"
            ],
            "text/plain": [
              "<IPython.core.display.HTML object>"
            ]
          },
          "metadata": {
            "tags": []
          }
        },
        {
          "output_type": "display_data",
          "data": {
            "text/html": [
              "<span style=\"color:blue\"> |-units_0: 40</span>"
            ],
            "text/plain": [
              "<IPython.core.display.HTML object>"
            ]
          },
          "metadata": {
            "tags": []
          }
        },
        {
          "output_type": "display_data",
          "data": {
            "text/html": [
              "<span style=\"color:cyan\"> |-units_1: 32</span>"
            ],
            "text/plain": [
              "<IPython.core.display.HTML object>"
            ]
          },
          "metadata": {
            "tags": []
          }
        },
        {
          "output_type": "display_data",
          "data": {
            "text/html": [
              "<span style=\"color:blue\"> |-units_2: 16</span>"
            ],
            "text/plain": [
              "<IPython.core.display.HTML object>"
            ]
          },
          "metadata": {
            "tags": []
          }
        },
        {
          "output_type": "display_data",
          "data": {
            "text/html": [
              "<span style=\"color:cyan\"> |-units_3: 32</span>"
            ],
            "text/plain": [
              "<IPython.core.display.HTML object>"
            ]
          },
          "metadata": {
            "tags": []
          }
        },
        {
          "output_type": "display_data",
          "data": {
            "text/html": [
              "<span style=\"color:blue\"> |-units_4: 56</span>"
            ],
            "text/plain": [
              "<IPython.core.display.HTML object>"
            ]
          },
          "metadata": {
            "tags": []
          }
        },
        {
          "output_type": "display_data",
          "data": {
            "text/html": [
              "<span style=\"color:cyan\"> |-units_5: 64</span>"
            ],
            "text/plain": [
              "<IPython.core.display.HTML object>"
            ]
          },
          "metadata": {
            "tags": []
          }
        },
        {
          "output_type": "stream",
          "text": [
            "Epoch 1/15\n",
            "4803/4803 [==============================] - 25s 5ms/step - loss: 1.0798 - accuracy: 0.5756 - val_loss: 0.6593 - val_accuracy: 0.8295\n",
            "Epoch 2/15\n",
            "4803/4803 [==============================] - 26s 5ms/step - loss: 0.6612 - accuracy: 0.8294 - val_loss: 0.6590 - val_accuracy: 0.8296\n",
            "Epoch 3/15\n",
            "4803/4803 [==============================] - 25s 5ms/step - loss: 0.6600 - accuracy: 0.8294 - val_loss: 0.6589 - val_accuracy: 0.8296\n",
            "Epoch 4/15\n",
            "4803/4803 [==============================] - 26s 5ms/step - loss: 0.6597 - accuracy: 0.8294 - val_loss: 0.6589 - val_accuracy: 0.8296\n",
            "Epoch 5/15\n",
            "4803/4803 [==============================] - 25s 5ms/step - loss: 0.6596 - accuracy: 0.8295 - val_loss: 0.6589 - val_accuracy: 0.8297\n",
            "Epoch 6/15\n",
            "4803/4803 [==============================] - 26s 5ms/step - loss: 0.6595 - accuracy: 0.8295 - val_loss: 0.6589 - val_accuracy: 0.8297\n",
            "Epoch 7/15\n",
            "4803/4803 [==============================] - 25s 5ms/step - loss: 0.6595 - accuracy: 0.8295 - val_loss: 0.6588 - val_accuracy: 0.8297\n",
            "Epoch 8/15\n",
            "4803/4803 [==============================] - 26s 5ms/step - loss: 0.6595 - accuracy: 0.8295 - val_loss: 0.6589 - val_accuracy: 0.8297\n",
            "Epoch 9/15\n",
            "4803/4803 [==============================] - 25s 5ms/step - loss: 0.6595 - accuracy: 0.8295 - val_loss: 0.6589 - val_accuracy: 0.8297\n",
            "Epoch 1/15\n",
            "4803/4803 [==============================] - 25s 5ms/step - loss: 1.2545 - accuracy: 0.4300 - val_loss: 0.6596 - val_accuracy: 0.8292\n",
            "Epoch 2/15\n",
            "4803/4803 [==============================] - 26s 5ms/step - loss: 0.6616 - accuracy: 0.8294 - val_loss: 0.6590 - val_accuracy: 0.8296\n",
            "Epoch 3/15\n",
            "4803/4803 [==============================] - 26s 5ms/step - loss: 0.6600 - accuracy: 0.8294 - val_loss: 0.6589 - val_accuracy: 0.8296\n",
            "Epoch 4/15\n",
            "4803/4803 [==============================] - 25s 5ms/step - loss: 0.6597 - accuracy: 0.8294 - val_loss: 0.6589 - val_accuracy: 0.8296\n",
            "Epoch 5/15\n",
            "4803/4803 [==============================] - 25s 5ms/step - loss: 0.6596 - accuracy: 0.8295 - val_loss: 0.6589 - val_accuracy: 0.8297\n",
            "Epoch 6/15\n",
            "4803/4803 [==============================] - 26s 5ms/step - loss: 0.6595 - accuracy: 0.8295 - val_loss: 0.6589 - val_accuracy: 0.8297\n",
            "Epoch 7/15\n",
            "4803/4803 [==============================] - 26s 5ms/step - loss: 0.6595 - accuracy: 0.8295 - val_loss: 0.6589 - val_accuracy: 0.8297\n",
            "Epoch 8/15\n",
            "4803/4803 [==============================] - 26s 5ms/step - loss: 0.6595 - accuracy: 0.8295 - val_loss: 0.6589 - val_accuracy: 0.8297\n",
            "Epoch 9/15\n",
            "4803/4803 [==============================] - 25s 5ms/step - loss: 0.6594 - accuracy: 0.8295 - val_loss: 0.6589 - val_accuracy: 0.8297\n",
            "Epoch 1/15\n",
            "4803/4803 [==============================] - 25s 5ms/step - loss: 1.2085 - accuracy: 0.4604 - val_loss: 0.6593 - val_accuracy: 0.8294\n",
            "Epoch 2/15\n",
            "4803/4803 [==============================] - 26s 5ms/step - loss: 0.6613 - accuracy: 0.8294 - val_loss: 0.6589 - val_accuracy: 0.8296\n",
            "Epoch 3/15\n",
            "4803/4803 [==============================] - 25s 5ms/step - loss: 0.6599 - accuracy: 0.8294 - val_loss: 0.6589 - val_accuracy: 0.8296\n",
            "Epoch 4/15\n",
            "4803/4803 [==============================] - 25s 5ms/step - loss: 0.6596 - accuracy: 0.8294 - val_loss: 0.6589 - val_accuracy: 0.8296\n",
            "Epoch 5/15\n",
            "4803/4803 [==============================] - 26s 5ms/step - loss: 0.6595 - accuracy: 0.8295 - val_loss: 0.6589 - val_accuracy: 0.8296\n",
            "Epoch 6/15\n",
            "4803/4803 [==============================] - 25s 5ms/step - loss: 0.6596 - accuracy: 0.8295 - val_loss: 0.6590 - val_accuracy: 0.8297\n",
            "Epoch 7/15\n",
            "4803/4803 [==============================] - 26s 5ms/step - loss: 0.6595 - accuracy: 0.8295 - val_loss: 0.6588 - val_accuracy: 0.8297\n",
            "Epoch 8/15\n",
            "4803/4803 [==============================] - 25s 5ms/step - loss: 0.6595 - accuracy: 0.8295 - val_loss: 0.6589 - val_accuracy: 0.8297\n",
            "Epoch 9/15\n",
            "4803/4803 [==============================] - 25s 5ms/step - loss: 0.6594 - accuracy: 0.8295 - val_loss: 0.6589 - val_accuracy: 0.8297\n",
            "Epoch 1/15\n",
            "4803/4803 [==============================] - 27s 6ms/step - loss: 1.7080 - accuracy: 0.1049 - val_loss: 1.6692 - val_accuracy: 0.0670\n",
            "Epoch 2/15\n",
            "4803/4803 [==============================] - 25s 5ms/step - loss: 1.1433 - accuracy: 0.5459 - val_loss: 0.6619 - val_accuracy: 0.8270\n",
            "Epoch 3/15\n",
            "4803/4803 [==============================] - 25s 5ms/step - loss: 0.6616 - accuracy: 0.8292 - val_loss: 0.6594 - val_accuracy: 0.8293\n",
            "Epoch 4/15\n",
            "4803/4803 [==============================] - 26s 5ms/step - loss: 0.6615 - accuracy: 0.8294 - val_loss: 0.8377 - val_accuracy: 0.8296\n",
            "Epoch 5/15\n",
            "4803/4803 [==============================] - 25s 5ms/step - loss: 0.6606 - accuracy: 0.8294 - val_loss: 0.6589 - val_accuracy: 0.8296\n",
            "Epoch 6/15\n",
            "4803/4803 [==============================] - 25s 5ms/step - loss: 0.6596 - accuracy: 0.8294 - val_loss: 0.6590 - val_accuracy: 0.8296\n",
            "Epoch 7/15\n",
            "4803/4803 [==============================] - 25s 5ms/step - loss: 0.6630 - accuracy: 0.8294 - val_loss: 0.6590 - val_accuracy: 0.8296\n",
            "Epoch 1/15\n",
            "4803/4803 [==============================] - 26s 5ms/step - loss: 1.4463 - accuracy: 0.2854 - val_loss: 1.7136 - val_accuracy: 0.1211\n",
            "Epoch 2/15\n",
            "4803/4803 [==============================] - 26s 5ms/step - loss: 0.7988 - accuracy: 0.7361 - val_loss: 0.6593 - val_accuracy: 0.8293\n",
            "Epoch 3/15\n",
            "4803/4803 [==============================] - 26s 5ms/step - loss: 0.6605 - accuracy: 0.8294 - val_loss: 0.6589 - val_accuracy: 0.8296\n",
            "Epoch 4/15\n",
            "4803/4803 [==============================] - 25s 5ms/step - loss: 0.6599 - accuracy: 0.8294 - val_loss: 0.6590 - val_accuracy: 0.8296\n",
            "Epoch 5/15\n",
            "4803/4803 [==============================] - 25s 5ms/step - loss: 0.6597 - accuracy: 0.8295 - val_loss: 0.6589 - val_accuracy: 0.8296\n",
            "Epoch 6/15\n",
            "4803/4803 [==============================] - 26s 6ms/step - loss: 0.6596 - accuracy: 0.8295 - val_loss: 0.6589 - val_accuracy: 0.8296\n",
            "Epoch 7/15\n",
            "4803/4803 [==============================] - 26s 5ms/step - loss: 0.6595 - accuracy: 0.8295 - val_loss: 0.6588 - val_accuracy: 0.8297\n",
            "Epoch 8/15\n",
            "4803/4803 [==============================] - 26s 5ms/step - loss: 0.6595 - accuracy: 0.8295 - val_loss: 0.6589 - val_accuracy: 0.8297\n",
            "Epoch 9/15\n",
            "4803/4803 [==============================] - 26s 5ms/step - loss: 0.6595 - accuracy: 0.8295 - val_loss: 0.6589 - val_accuracy: 0.8297\n"
          ],
          "name": "stdout"
        },
        {
          "output_type": "display_data",
          "data": {
            "text/html": [
              "<span style=\"color:#4527A0\"><h1 style=\"font-size:18px\">Trial complete</h1></span>"
            ],
            "text/plain": [
              "<IPython.core.display.HTML object>"
            ]
          },
          "metadata": {
            "tags": []
          }
        },
        {
          "output_type": "display_data",
          "data": {
            "text/html": [
              "<span style=\"color:#4527A0\"><h1 style=\"font-size:18px\">Trial summary</h1></span>"
            ],
            "text/plain": [
              "<IPython.core.display.HTML object>"
            ]
          },
          "metadata": {
            "tags": []
          }
        },
        {
          "output_type": "display_data",
          "data": {
            "text/html": [
              "<span style=\"color:cyan\"> |-Trial ID: 6d33cca1e36076777ffb80b82a3e8746</span>"
            ],
            "text/plain": [
              "<IPython.core.display.HTML object>"
            ]
          },
          "metadata": {
            "tags": []
          }
        },
        {
          "output_type": "display_data",
          "data": {
            "text/html": [
              "<span style=\"color:cyan\"> |-Score: 0.8297139167785644</span>"
            ],
            "text/plain": [
              "<IPython.core.display.HTML object>"
            ]
          },
          "metadata": {
            "tags": []
          }
        },
        {
          "output_type": "display_data",
          "data": {
            "text/html": [
              "<span style=\"color:cyan\"> |-Best step: 0</span>"
            ],
            "text/plain": [
              "<IPython.core.display.HTML object>"
            ]
          },
          "metadata": {
            "tags": []
          }
        },
        {
          "output_type": "display_data",
          "data": {
            "text/html": [
              "<span style=\"color:#7E57C2\"><h2 style=\"font-size:16px\">Hyperparameters:</h2></span>"
            ],
            "text/plain": [
              "<IPython.core.display.HTML object>"
            ]
          },
          "metadata": {
            "tags": []
          }
        },
        {
          "output_type": "display_data",
          "data": {
            "text/html": [
              "<span style=\"color:cyan\"> |-drop_rate_0: 0.7</span>"
            ],
            "text/plain": [
              "<IPython.core.display.HTML object>"
            ]
          },
          "metadata": {
            "tags": []
          }
        },
        {
          "output_type": "display_data",
          "data": {
            "text/html": [
              "<span style=\"color:blue\"> |-drop_rate_1: 0.3</span>"
            ],
            "text/plain": [
              "<IPython.core.display.HTML object>"
            ]
          },
          "metadata": {
            "tags": []
          }
        },
        {
          "output_type": "display_data",
          "data": {
            "text/html": [
              "<span style=\"color:cyan\"> |-drop_rate_2: 0.1</span>"
            ],
            "text/plain": [
              "<IPython.core.display.HTML object>"
            ]
          },
          "metadata": {
            "tags": []
          }
        },
        {
          "output_type": "display_data",
          "data": {
            "text/html": [
              "<span style=\"color:blue\"> |-drop_rate_3: 0.0</span>"
            ],
            "text/plain": [
              "<IPython.core.display.HTML object>"
            ]
          },
          "metadata": {
            "tags": []
          }
        },
        {
          "output_type": "display_data",
          "data": {
            "text/html": [
              "<span style=\"color:cyan\"> |-drop_rate_4: 0.1</span>"
            ],
            "text/plain": [
              "<IPython.core.display.HTML object>"
            ]
          },
          "metadata": {
            "tags": []
          }
        },
        {
          "output_type": "display_data",
          "data": {
            "text/html": [
              "<span style=\"color:blue\"> |-drop_rate_5: 0.2</span>"
            ],
            "text/plain": [
              "<IPython.core.display.HTML object>"
            ]
          },
          "metadata": {
            "tags": []
          }
        },
        {
          "output_type": "display_data",
          "data": {
            "text/html": [
              "<span style=\"color:cyan\"> |-num_layers: 2</span>"
            ],
            "text/plain": [
              "<IPython.core.display.HTML object>"
            ]
          },
          "metadata": {
            "tags": []
          }
        },
        {
          "output_type": "display_data",
          "data": {
            "text/html": [
              "<span style=\"color:blue\"> |-units_0: 40</span>"
            ],
            "text/plain": [
              "<IPython.core.display.HTML object>"
            ]
          },
          "metadata": {
            "tags": []
          }
        },
        {
          "output_type": "display_data",
          "data": {
            "text/html": [
              "<span style=\"color:cyan\"> |-units_1: 40</span>"
            ],
            "text/plain": [
              "<IPython.core.display.HTML object>"
            ]
          },
          "metadata": {
            "tags": []
          }
        },
        {
          "output_type": "display_data",
          "data": {
            "text/html": [
              "<span style=\"color:blue\"> |-units_2: 32</span>"
            ],
            "text/plain": [
              "<IPython.core.display.HTML object>"
            ]
          },
          "metadata": {
            "tags": []
          }
        },
        {
          "output_type": "display_data",
          "data": {
            "text/html": [
              "<span style=\"color:cyan\"> |-units_3: 40</span>"
            ],
            "text/plain": [
              "<IPython.core.display.HTML object>"
            ]
          },
          "metadata": {
            "tags": []
          }
        },
        {
          "output_type": "display_data",
          "data": {
            "text/html": [
              "<span style=\"color:blue\"> |-units_4: 40</span>"
            ],
            "text/plain": [
              "<IPython.core.display.HTML object>"
            ]
          },
          "metadata": {
            "tags": []
          }
        },
        {
          "output_type": "display_data",
          "data": {
            "text/html": [
              "<span style=\"color:cyan\"> |-units_5: 8</span>"
            ],
            "text/plain": [
              "<IPython.core.display.HTML object>"
            ]
          },
          "metadata": {
            "tags": []
          }
        },
        {
          "output_type": "stream",
          "text": [
            "Epoch 1/15\n",
            "4803/4803 [==============================] - 26s 5ms/step - loss: 1.8292 - accuracy: 0.1231 - val_loss: 1.7142 - val_accuracy: 0.1090\n",
            "Epoch 2/15\n",
            "4803/4803 [==============================] - 26s 5ms/step - loss: 1.1251 - accuracy: 0.5174 - val_loss: 0.6590 - val_accuracy: 0.8296\n",
            "Epoch 3/15\n",
            "4803/4803 [==============================] - 25s 5ms/step - loss: 0.6609 - accuracy: 0.8288 - val_loss: 0.6589 - val_accuracy: 0.8296\n",
            "Epoch 4/15\n",
            "4803/4803 [==============================] - 26s 5ms/step - loss: 0.6597 - accuracy: 0.8294 - val_loss: 0.6589 - val_accuracy: 0.8297\n",
            "Epoch 5/15\n",
            "4803/4803 [==============================] - 26s 5ms/step - loss: 0.6595 - accuracy: 0.8295 - val_loss: 0.6589 - val_accuracy: 0.8297\n",
            "Epoch 6/15\n",
            "4803/4803 [==============================] - 25s 5ms/step - loss: 0.6595 - accuracy: 0.8295 - val_loss: 0.6589 - val_accuracy: 0.8297\n",
            "Epoch 7/15\n",
            "4803/4803 [==============================] - 26s 5ms/step - loss: 0.6596 - accuracy: 0.8295 - val_loss: 0.6588 - val_accuracy: 0.8297\n",
            "Epoch 8/15\n",
            "4803/4803 [==============================] - 25s 5ms/step - loss: 0.6595 - accuracy: 0.8295 - val_loss: 0.6588 - val_accuracy: 0.8297\n",
            "Epoch 9/15\n",
            "4803/4803 [==============================] - 27s 6ms/step - loss: 0.6595 - accuracy: 0.8295 - val_loss: 0.6589 - val_accuracy: 0.8297\n",
            "Epoch 10/15\n",
            "4803/4803 [==============================] - 25s 5ms/step - loss: 0.6595 - accuracy: 0.8295 - val_loss: 0.6589 - val_accuracy: 0.8297\n",
            "Epoch 1/15\n",
            "4803/4803 [==============================] - 26s 5ms/step - loss: 1.7231 - accuracy: 0.1387 - val_loss: 1.6876 - val_accuracy: 0.0422\n",
            "Epoch 2/15\n",
            "4803/4803 [==============================] - 26s 5ms/step - loss: 0.7283 - accuracy: 0.7797 - val_loss: 0.6590 - val_accuracy: 0.8296\n",
            "Epoch 3/15\n",
            "4803/4803 [==============================] - 25s 5ms/step - loss: 0.6600 - accuracy: 0.8292 - val_loss: 0.6589 - val_accuracy: 0.8296\n",
            "Epoch 4/15\n",
            "4803/4803 [==============================] - 25s 5ms/step - loss: 0.6596 - accuracy: 0.8294 - val_loss: 0.6589 - val_accuracy: 0.8297\n",
            "Epoch 5/15\n",
            "4803/4803 [==============================] - 26s 5ms/step - loss: 0.6596 - accuracy: 0.8294 - val_loss: 0.6589 - val_accuracy: 0.8296\n",
            "Epoch 6/15\n",
            "4803/4803 [==============================] - 26s 5ms/step - loss: 0.6595 - accuracy: 0.8295 - val_loss: 0.6589 - val_accuracy: 0.8297\n",
            "Epoch 7/15\n",
            "4803/4803 [==============================] - 25s 5ms/step - loss: 0.6596 - accuracy: 0.8294 - val_loss: 0.6588 - val_accuracy: 0.8297\n",
            "Epoch 8/15\n",
            "4803/4803 [==============================] - 25s 5ms/step - loss: 0.6596 - accuracy: 0.8295 - val_loss: 0.6589 - val_accuracy: 0.8297\n",
            "Epoch 9/15\n",
            "4803/4803 [==============================] - 25s 5ms/step - loss: 0.6596 - accuracy: 0.8295 - val_loss: 0.6589 - val_accuracy: 0.8297\n",
            "Epoch 1/15\n",
            "4803/4803 [==============================] - 26s 5ms/step - loss: 1.8215 - accuracy: 0.1070 - val_loss: 1.7144 - val_accuracy: 0.1086\n",
            "Epoch 2/15\n",
            "4803/4803 [==============================] - 26s 5ms/step - loss: 1.4477 - accuracy: 0.2970 - val_loss: 1.7032 - val_accuracy: 0.1908\n",
            "Epoch 3/15\n",
            "4803/4803 [==============================] - 25s 5ms/step - loss: 0.6661 - accuracy: 0.8259 - val_loss: 0.6589 - val_accuracy: 0.8296\n",
            "Epoch 4/15\n",
            "4803/4803 [==============================] - 25s 5ms/step - loss: 0.6599 - accuracy: 0.8293 - val_loss: 0.6589 - val_accuracy: 0.8296\n",
            "Epoch 5/15\n",
            "4803/4803 [==============================] - 26s 5ms/step - loss: 0.6598 - accuracy: 0.8294 - val_loss: 0.6588 - val_accuracy: 0.8297\n",
            "Epoch 6/15\n",
            "4803/4803 [==============================] - 25s 5ms/step - loss: 0.6669 - accuracy: 0.8258 - val_loss: 0.6587 - val_accuracy: 0.8297\n",
            "Epoch 7/15\n",
            "4803/4803 [==============================] - 25s 5ms/step - loss: 0.6620 - accuracy: 0.8288 - val_loss: 0.6587 - val_accuracy: 0.8297\n",
            "Epoch 8/15\n",
            "4803/4803 [==============================] - 26s 5ms/step - loss: 0.6600 - accuracy: 0.8293 - val_loss: 0.6587 - val_accuracy: 0.8297\n",
            "Epoch 9/15\n",
            "4803/4803 [==============================] - 26s 5ms/step - loss: 0.6603 - accuracy: 0.8294 - val_loss: 0.6587 - val_accuracy: 0.8297\n",
            "Epoch 1/15\n",
            "4803/4803 [==============================] - 25s 5ms/step - loss: 1.7956 - accuracy: 0.1045 - val_loss: 1.7117 - val_accuracy: 0.1081\n",
            "Epoch 2/15\n",
            "4803/4803 [==============================] - 25s 5ms/step - loss: 1.6871 - accuracy: 0.1177 - val_loss: 1.6549 - val_accuracy: 0.0391\n",
            "Epoch 3/15\n",
            "4803/4803 [==============================] - 26s 5ms/step - loss: 1.6251 - accuracy: 0.1660 - val_loss: 1.7138 - val_accuracy: 0.1085\n",
            "Epoch 4/15\n",
            "4803/4803 [==============================] - 26s 5ms/step - loss: 1.0016 - accuracy: 0.6075 - val_loss: 0.6589 - val_accuracy: 0.8296\n",
            "Epoch 5/15\n",
            "4803/4803 [==============================] - 26s 5ms/step - loss: 0.6660 - accuracy: 0.8262 - val_loss: 0.6588 - val_accuracy: 0.8296\n",
            "Epoch 6/15\n",
            "4803/4803 [==============================] - 26s 5ms/step - loss: 0.6622 - accuracy: 0.8285 - val_loss: 0.6587 - val_accuracy: 0.8296\n",
            "Epoch 7/15\n",
            "4803/4803 [==============================] - 25s 5ms/step - loss: 0.6614 - accuracy: 0.8287 - val_loss: 0.6587 - val_accuracy: 0.8297\n",
            "Epoch 8/15\n",
            "4803/4803 [==============================] - 26s 5ms/step - loss: 0.6616 - accuracy: 0.8290 - val_loss: 0.6587 - val_accuracy: 0.8297\n",
            "Epoch 1/15\n",
            "4803/4803 [==============================] - 25s 5ms/step - loss: 1.7754 - accuracy: 0.0817 - val_loss: 1.7144 - val_accuracy: 0.1076\n",
            "Epoch 2/15\n",
            "4803/4803 [==============================] - 25s 5ms/step - loss: 1.6974 - accuracy: 0.1172 - val_loss: 1.7139 - val_accuracy: 0.1083\n",
            "Epoch 3/15\n",
            "4803/4803 [==============================] - 26s 5ms/step - loss: 1.4445 - accuracy: 0.3000 - val_loss: 1.7135 - val_accuracy: 0.1092\n",
            "Epoch 4/15\n",
            "4803/4803 [==============================] - 26s 5ms/step - loss: 0.8054 - accuracy: 0.7337 - val_loss: 0.6587 - val_accuracy: 0.8296\n",
            "Epoch 5/15\n",
            "4803/4803 [==============================] - 25s 5ms/step - loss: 0.6631 - accuracy: 0.8290 - val_loss: 0.6588 - val_accuracy: 0.8296\n",
            "Epoch 6/15\n",
            "4803/4803 [==============================] - 26s 5ms/step - loss: 0.6672 - accuracy: 0.8292 - val_loss: 0.6642 - val_accuracy: 0.8297\n"
          ],
          "name": "stdout"
        },
        {
          "output_type": "display_data",
          "data": {
            "text/html": [
              "<span style=\"color:#4527A0\"><h1 style=\"font-size:18px\">Trial complete</h1></span>"
            ],
            "text/plain": [
              "<IPython.core.display.HTML object>"
            ]
          },
          "metadata": {
            "tags": []
          }
        },
        {
          "output_type": "display_data",
          "data": {
            "text/html": [
              "<span style=\"color:#4527A0\"><h1 style=\"font-size:18px\">Trial summary</h1></span>"
            ],
            "text/plain": [
              "<IPython.core.display.HTML object>"
            ]
          },
          "metadata": {
            "tags": []
          }
        },
        {
          "output_type": "display_data",
          "data": {
            "text/html": [
              "<span style=\"color:cyan\"> |-Trial ID: d8fa2db05f8d48221ae493aeaffde6d3</span>"
            ],
            "text/plain": [
              "<IPython.core.display.HTML object>"
            ]
          },
          "metadata": {
            "tags": []
          }
        },
        {
          "output_type": "display_data",
          "data": {
            "text/html": [
              "<span style=\"color:cyan\"> |-Score: 0.8297340869903564</span>"
            ],
            "text/plain": [
              "<IPython.core.display.HTML object>"
            ]
          },
          "metadata": {
            "tags": []
          }
        },
        {
          "output_type": "display_data",
          "data": {
            "text/html": [
              "<span style=\"color:cyan\"> |-Best step: 0</span>"
            ],
            "text/plain": [
              "<IPython.core.display.HTML object>"
            ]
          },
          "metadata": {
            "tags": []
          }
        },
        {
          "output_type": "display_data",
          "data": {
            "text/html": [
              "<span style=\"color:#7E57C2\"><h2 style=\"font-size:16px\">Hyperparameters:</h2></span>"
            ],
            "text/plain": [
              "<IPython.core.display.HTML object>"
            ]
          },
          "metadata": {
            "tags": []
          }
        },
        {
          "output_type": "display_data",
          "data": {
            "text/html": [
              "<span style=\"color:cyan\"> |-drop_rate_0: 0.4</span>"
            ],
            "text/plain": [
              "<IPython.core.display.HTML object>"
            ]
          },
          "metadata": {
            "tags": []
          }
        },
        {
          "output_type": "display_data",
          "data": {
            "text/html": [
              "<span style=\"color:blue\"> |-drop_rate_1: 0.8</span>"
            ],
            "text/plain": [
              "<IPython.core.display.HTML object>"
            ]
          },
          "metadata": {
            "tags": []
          }
        },
        {
          "output_type": "display_data",
          "data": {
            "text/html": [
              "<span style=\"color:cyan\"> |-drop_rate_2: 0.5</span>"
            ],
            "text/plain": [
              "<IPython.core.display.HTML object>"
            ]
          },
          "metadata": {
            "tags": []
          }
        },
        {
          "output_type": "display_data",
          "data": {
            "text/html": [
              "<span style=\"color:blue\"> |-drop_rate_3: 0.7</span>"
            ],
            "text/plain": [
              "<IPython.core.display.HTML object>"
            ]
          },
          "metadata": {
            "tags": []
          }
        },
        {
          "output_type": "display_data",
          "data": {
            "text/html": [
              "<span style=\"color:cyan\"> |-drop_rate_4: 0.3</span>"
            ],
            "text/plain": [
              "<IPython.core.display.HTML object>"
            ]
          },
          "metadata": {
            "tags": []
          }
        },
        {
          "output_type": "display_data",
          "data": {
            "text/html": [
              "<span style=\"color:blue\"> |-drop_rate_5: 0.3</span>"
            ],
            "text/plain": [
              "<IPython.core.display.HTML object>"
            ]
          },
          "metadata": {
            "tags": []
          }
        },
        {
          "output_type": "display_data",
          "data": {
            "text/html": [
              "<span style=\"color:cyan\"> |-num_layers: 2</span>"
            ],
            "text/plain": [
              "<IPython.core.display.HTML object>"
            ]
          },
          "metadata": {
            "tags": []
          }
        },
        {
          "output_type": "display_data",
          "data": {
            "text/html": [
              "<span style=\"color:blue\"> |-units_0: 48</span>"
            ],
            "text/plain": [
              "<IPython.core.display.HTML object>"
            ]
          },
          "metadata": {
            "tags": []
          }
        },
        {
          "output_type": "display_data",
          "data": {
            "text/html": [
              "<span style=\"color:cyan\"> |-units_1: 56</span>"
            ],
            "text/plain": [
              "<IPython.core.display.HTML object>"
            ]
          },
          "metadata": {
            "tags": []
          }
        },
        {
          "output_type": "display_data",
          "data": {
            "text/html": [
              "<span style=\"color:blue\"> |-units_2: 24</span>"
            ],
            "text/plain": [
              "<IPython.core.display.HTML object>"
            ]
          },
          "metadata": {
            "tags": []
          }
        },
        {
          "output_type": "display_data",
          "data": {
            "text/html": [
              "<span style=\"color:cyan\"> |-units_3: 56</span>"
            ],
            "text/plain": [
              "<IPython.core.display.HTML object>"
            ]
          },
          "metadata": {
            "tags": []
          }
        },
        {
          "output_type": "display_data",
          "data": {
            "text/html": [
              "<span style=\"color:blue\"> |-units_4: 8</span>"
            ],
            "text/plain": [
              "<IPython.core.display.HTML object>"
            ]
          },
          "metadata": {
            "tags": []
          }
        },
        {
          "output_type": "display_data",
          "data": {
            "text/html": [
              "<span style=\"color:cyan\"> |-units_5: 64</span>"
            ],
            "text/plain": [
              "<IPython.core.display.HTML object>"
            ]
          },
          "metadata": {
            "tags": []
          }
        },
        {
          "output_type": "stream",
          "text": [
            "Epoch 1/15\n",
            "4803/4803 [==============================] - 26s 5ms/step - loss: 1.5357 - accuracy: 0.3082 - val_loss: 0.6625 - val_accuracy: 0.8268\n",
            "Epoch 2/15\n",
            "4803/4803 [==============================] - 25s 5ms/step - loss: 0.6600 - accuracy: 0.8293 - val_loss: 0.6590 - val_accuracy: 0.8296\n",
            "Epoch 3/15\n",
            "4803/4803 [==============================] - 27s 6ms/step - loss: 0.6595 - accuracy: 0.8294 - val_loss: 0.6589 - val_accuracy: 0.8296\n",
            "Epoch 4/15\n",
            "4803/4803 [==============================] - 25s 5ms/step - loss: 0.6595 - accuracy: 0.8294 - val_loss: 0.6589 - val_accuracy: 0.8296\n",
            "Epoch 5/15\n",
            "4803/4803 [==============================] - 26s 5ms/step - loss: 0.6594 - accuracy: 0.8295 - val_loss: 0.6589 - val_accuracy: 0.8297\n",
            "Epoch 6/15\n",
            "4803/4803 [==============================] - 25s 5ms/step - loss: 0.6594 - accuracy: 0.8295 - val_loss: 0.6589 - val_accuracy: 0.8297\n",
            "Epoch 7/15\n",
            "4803/4803 [==============================] - 25s 5ms/step - loss: 0.6594 - accuracy: 0.8295 - val_loss: 0.6589 - val_accuracy: 0.8297\n",
            "Epoch 8/15\n",
            "4803/4803 [==============================] - 26s 5ms/step - loss: 0.6594 - accuracy: 0.8295 - val_loss: 0.6589 - val_accuracy: 0.8297\n",
            "Epoch 9/15\n",
            "4803/4803 [==============================] - 26s 5ms/step - loss: 0.6594 - accuracy: 0.8295 - val_loss: 0.6588 - val_accuracy: 0.8297\n",
            "Epoch 10/15\n",
            "4803/4803 [==============================] - 25s 5ms/step - loss: 0.6594 - accuracy: 0.8295 - val_loss: 0.6589 - val_accuracy: 0.8297\n",
            "Epoch 11/15\n",
            "4803/4803 [==============================] - 25s 5ms/step - loss: 0.6594 - accuracy: 0.8295 - val_loss: 0.6588 - val_accuracy: 0.8297\n",
            "Epoch 12/15\n",
            "4803/4803 [==============================] - 25s 5ms/step - loss: 0.6594 - accuracy: 0.8295 - val_loss: 0.6589 - val_accuracy: 0.8297\n",
            "Epoch 13/15\n",
            "4803/4803 [==============================] - 25s 5ms/step - loss: 0.6594 - accuracy: 0.8295 - val_loss: 0.6589 - val_accuracy: 0.8297\n",
            "Epoch 1/15\n",
            "4803/4803 [==============================] - 25s 5ms/step - loss: 1.4451 - accuracy: 0.3489 - val_loss: 1.6794 - val_accuracy: 0.0606\n",
            "Epoch 2/15\n",
            "4803/4803 [==============================] - 26s 5ms/step - loss: 0.6699 - accuracy: 0.8222 - val_loss: 0.6594 - val_accuracy: 0.8296\n",
            "Epoch 3/15\n",
            "4803/4803 [==============================] - 25s 5ms/step - loss: 0.6595 - accuracy: 0.8294 - val_loss: 0.6589 - val_accuracy: 0.8296\n",
            "Epoch 4/15\n",
            "4803/4803 [==============================] - 25s 5ms/step - loss: 0.6595 - accuracy: 0.8295 - val_loss: 0.6589 - val_accuracy: 0.8296\n",
            "Epoch 5/15\n",
            "4803/4803 [==============================] - 25s 5ms/step - loss: 0.6594 - accuracy: 0.8295 - val_loss: 0.6588 - val_accuracy: 0.8297\n",
            "Epoch 6/15\n",
            "4803/4803 [==============================] - 25s 5ms/step - loss: 0.6594 - accuracy: 0.8295 - val_loss: 0.6589 - val_accuracy: 0.8297\n",
            "Epoch 7/15\n",
            "4803/4803 [==============================] - 25s 5ms/step - loss: 0.6594 - accuracy: 0.8295 - val_loss: 0.6588 - val_accuracy: 0.8297\n",
            "Epoch 8/15\n",
            "4803/4803 [==============================] - 26s 5ms/step - loss: 0.6594 - accuracy: 0.8295 - val_loss: 0.6589 - val_accuracy: 0.8297\n",
            "Epoch 9/15\n",
            "4803/4803 [==============================] - 25s 5ms/step - loss: 0.6594 - accuracy: 0.8295 - val_loss: 0.6589 - val_accuracy: 0.8297\n",
            "Epoch 1/15\n",
            "4803/4803 [==============================] - 25s 5ms/step - loss: 1.1255 - accuracy: 0.5753 - val_loss: 0.6593 - val_accuracy: 0.8296\n",
            "Epoch 2/15\n",
            "4803/4803 [==============================] - 25s 5ms/step - loss: 0.6604 - accuracy: 0.8294 - val_loss: 0.6590 - val_accuracy: 0.8296\n",
            "Epoch 3/15\n",
            "4803/4803 [==============================] - 26s 5ms/step - loss: 0.6596 - accuracy: 0.8294 - val_loss: 0.6589 - val_accuracy: 0.8296\n",
            "Epoch 4/15\n",
            "4803/4803 [==============================] - 25s 5ms/step - loss: 0.6595 - accuracy: 0.8294 - val_loss: 0.6589 - val_accuracy: 0.8296\n",
            "Epoch 5/15\n",
            "4803/4803 [==============================] - 26s 5ms/step - loss: 0.6595 - accuracy: 0.8295 - val_loss: 0.6589 - val_accuracy: 0.8296\n",
            "Epoch 6/15\n",
            "4803/4803 [==============================] - 25s 5ms/step - loss: 0.6595 - accuracy: 0.8295 - val_loss: 0.6589 - val_accuracy: 0.8297\n",
            "Epoch 7/15\n",
            "4803/4803 [==============================] - 25s 5ms/step - loss: 0.6595 - accuracy: 0.8295 - val_loss: 0.6589 - val_accuracy: 0.8297\n",
            "Epoch 8/15\n",
            "4803/4803 [==============================] - 25s 5ms/step - loss: 0.6595 - accuracy: 0.8295 - val_loss: 0.6589 - val_accuracy: 0.8297\n",
            "Epoch 9/15\n",
            "4803/4803 [==============================] - 26s 5ms/step - loss: 0.6595 - accuracy: 0.8295 - val_loss: 0.6589 - val_accuracy: 0.8297\n",
            "Epoch 1/15\n",
            "4803/4803 [==============================] - 25s 5ms/step - loss: 1.4581 - accuracy: 0.3431 - val_loss: 0.6607 - val_accuracy: 0.8287\n",
            "Epoch 2/15\n",
            "4803/4803 [==============================] - 26s 5ms/step - loss: 0.6602 - accuracy: 0.8294 - val_loss: 0.6590 - val_accuracy: 0.8296\n",
            "Epoch 3/15\n",
            "4803/4803 [==============================] - 26s 5ms/step - loss: 0.6596 - accuracy: 0.8294 - val_loss: 0.6589 - val_accuracy: 0.8296\n",
            "Epoch 4/15\n",
            "4803/4803 [==============================] - 25s 5ms/step - loss: 0.6595 - accuracy: 0.8294 - val_loss: 0.6589 - val_accuracy: 0.8296\n",
            "Epoch 5/15\n",
            "4803/4803 [==============================] - 25s 5ms/step - loss: 0.6594 - accuracy: 0.8295 - val_loss: 0.6589 - val_accuracy: 0.8297\n",
            "Epoch 6/15\n",
            "4803/4803 [==============================] - 26s 5ms/step - loss: 0.6594 - accuracy: 0.8295 - val_loss: 0.6588 - val_accuracy: 0.8297\n",
            "Epoch 7/15\n",
            "4803/4803 [==============================] - 26s 5ms/step - loss: 0.6594 - accuracy: 0.8295 - val_loss: 0.6588 - val_accuracy: 0.8297\n",
            "Epoch 8/15\n",
            "4803/4803 [==============================] - 26s 5ms/step - loss: 0.6594 - accuracy: 0.8295 - val_loss: 0.6589 - val_accuracy: 0.8297\n",
            "Epoch 1/15\n",
            "4803/4803 [==============================] - 26s 5ms/step - loss: 1.2954 - accuracy: 0.4105 - val_loss: 0.6596 - val_accuracy: 0.8294\n",
            "Epoch 2/15\n",
            "4803/4803 [==============================] - 25s 5ms/step - loss: 0.6601 - accuracy: 0.8294 - val_loss: 0.6590 - val_accuracy: 0.8296\n",
            "Epoch 3/15\n",
            "4803/4803 [==============================] - 26s 5ms/step - loss: 0.6596 - accuracy: 0.8294 - val_loss: 0.6589 - val_accuracy: 0.8296\n",
            "Epoch 4/15\n",
            "4803/4803 [==============================] - 25s 5ms/step - loss: 0.6595 - accuracy: 0.8294 - val_loss: 0.6589 - val_accuracy: 0.8296\n",
            "Epoch 5/15\n",
            "4803/4803 [==============================] - 25s 5ms/step - loss: 0.6595 - accuracy: 0.8295 - val_loss: 0.6589 - val_accuracy: 0.8296\n",
            "Epoch 6/15\n",
            "4803/4803 [==============================] - 26s 5ms/step - loss: 0.6594 - accuracy: 0.8295 - val_loss: 0.6588 - val_accuracy: 0.8297\n",
            "Epoch 7/15\n",
            "4803/4803 [==============================] - 25s 5ms/step - loss: 0.6594 - accuracy: 0.8295 - val_loss: 0.6588 - val_accuracy: 0.8297\n",
            "Epoch 8/15\n",
            "4803/4803 [==============================] - 25s 5ms/step - loss: 0.6594 - accuracy: 0.8295 - val_loss: 0.6588 - val_accuracy: 0.8297\n",
            "Epoch 9/15\n",
            "4803/4803 [==============================] - 26s 5ms/step - loss: 0.6594 - accuracy: 0.8295 - val_loss: 0.6588 - val_accuracy: 0.8297\n"
          ],
          "name": "stdout"
        },
        {
          "output_type": "display_data",
          "data": {
            "text/html": [
              "<span style=\"color:#4527A0\"><h1 style=\"font-size:18px\">Trial complete</h1></span>"
            ],
            "text/plain": [
              "<IPython.core.display.HTML object>"
            ]
          },
          "metadata": {
            "tags": []
          }
        },
        {
          "output_type": "display_data",
          "data": {
            "text/html": [
              "<span style=\"color:#4527A0\"><h1 style=\"font-size:18px\">Trial summary</h1></span>"
            ],
            "text/plain": [
              "<IPython.core.display.HTML object>"
            ]
          },
          "metadata": {
            "tags": []
          }
        },
        {
          "output_type": "display_data",
          "data": {
            "text/html": [
              "<span style=\"color:cyan\"> |-Trial ID: bc7676261c1499717da18b2045b4c5f7</span>"
            ],
            "text/plain": [
              "<IPython.core.display.HTML object>"
            ]
          },
          "metadata": {
            "tags": []
          }
        },
        {
          "output_type": "display_data",
          "data": {
            "text/html": [
              "<span style=\"color:cyan\"> |-Score: 0.829733920097351</span>"
            ],
            "text/plain": [
              "<IPython.core.display.HTML object>"
            ]
          },
          "metadata": {
            "tags": []
          }
        },
        {
          "output_type": "display_data",
          "data": {
            "text/html": [
              "<span style=\"color:cyan\"> |-Best step: 0</span>"
            ],
            "text/plain": [
              "<IPython.core.display.HTML object>"
            ]
          },
          "metadata": {
            "tags": []
          }
        },
        {
          "output_type": "display_data",
          "data": {
            "text/html": [
              "<span style=\"color:#7E57C2\"><h2 style=\"font-size:16px\">Hyperparameters:</h2></span>"
            ],
            "text/plain": [
              "<IPython.core.display.HTML object>"
            ]
          },
          "metadata": {
            "tags": []
          }
        },
        {
          "output_type": "display_data",
          "data": {
            "text/html": [
              "<span style=\"color:cyan\"> |-drop_rate_0: 0.7</span>"
            ],
            "text/plain": [
              "<IPython.core.display.HTML object>"
            ]
          },
          "metadata": {
            "tags": []
          }
        },
        {
          "output_type": "display_data",
          "data": {
            "text/html": [
              "<span style=\"color:blue\"> |-drop_rate_1: 0.4</span>"
            ],
            "text/plain": [
              "<IPython.core.display.HTML object>"
            ]
          },
          "metadata": {
            "tags": []
          }
        },
        {
          "output_type": "display_data",
          "data": {
            "text/html": [
              "<span style=\"color:cyan\"> |-drop_rate_2: 0.5</span>"
            ],
            "text/plain": [
              "<IPython.core.display.HTML object>"
            ]
          },
          "metadata": {
            "tags": []
          }
        },
        {
          "output_type": "display_data",
          "data": {
            "text/html": [
              "<span style=\"color:blue\"> |-drop_rate_3: 0.3</span>"
            ],
            "text/plain": [
              "<IPython.core.display.HTML object>"
            ]
          },
          "metadata": {
            "tags": []
          }
        },
        {
          "output_type": "display_data",
          "data": {
            "text/html": [
              "<span style=\"color:cyan\"> |-drop_rate_4: 0.1</span>"
            ],
            "text/plain": [
              "<IPython.core.display.HTML object>"
            ]
          },
          "metadata": {
            "tags": []
          }
        },
        {
          "output_type": "display_data",
          "data": {
            "text/html": [
              "<span style=\"color:blue\"> |-drop_rate_5: 0.5</span>"
            ],
            "text/plain": [
              "<IPython.core.display.HTML object>"
            ]
          },
          "metadata": {
            "tags": []
          }
        },
        {
          "output_type": "display_data",
          "data": {
            "text/html": [
              "<span style=\"color:cyan\"> |-num_layers: 2</span>"
            ],
            "text/plain": [
              "<IPython.core.display.HTML object>"
            ]
          },
          "metadata": {
            "tags": []
          }
        },
        {
          "output_type": "display_data",
          "data": {
            "text/html": [
              "<span style=\"color:blue\"> |-units_0: 40</span>"
            ],
            "text/plain": [
              "<IPython.core.display.HTML object>"
            ]
          },
          "metadata": {
            "tags": []
          }
        },
        {
          "output_type": "display_data",
          "data": {
            "text/html": [
              "<span style=\"color:cyan\"> |-units_1: 16</span>"
            ],
            "text/plain": [
              "<IPython.core.display.HTML object>"
            ]
          },
          "metadata": {
            "tags": []
          }
        },
        {
          "output_type": "display_data",
          "data": {
            "text/html": [
              "<span style=\"color:blue\"> |-units_2: 56</span>"
            ],
            "text/plain": [
              "<IPython.core.display.HTML object>"
            ]
          },
          "metadata": {
            "tags": []
          }
        },
        {
          "output_type": "display_data",
          "data": {
            "text/html": [
              "<span style=\"color:cyan\"> |-units_3: 24</span>"
            ],
            "text/plain": [
              "<IPython.core.display.HTML object>"
            ]
          },
          "metadata": {
            "tags": []
          }
        },
        {
          "output_type": "display_data",
          "data": {
            "text/html": [
              "<span style=\"color:blue\"> |-units_4: 32</span>"
            ],
            "text/plain": [
              "<IPython.core.display.HTML object>"
            ]
          },
          "metadata": {
            "tags": []
          }
        },
        {
          "output_type": "display_data",
          "data": {
            "text/html": [
              "<span style=\"color:cyan\"> |-units_5: 48</span>"
            ],
            "text/plain": [
              "<IPython.core.display.HTML object>"
            ]
          },
          "metadata": {
            "tags": []
          }
        },
        {
          "output_type": "stream",
          "text": [
            "Epoch 1/15\n",
            "4803/4803 [==============================] - 28s 6ms/step - loss: 0.9041 - accuracy: 0.7747 - val_loss: 0.6635 - val_accuracy: 0.8271\n",
            "Epoch 2/15\n",
            "4803/4803 [==============================] - 28s 6ms/step - loss: 0.6632 - accuracy: 0.8294 - val_loss: 0.6672 - val_accuracy: 0.8296\n",
            "Epoch 3/15\n",
            "4803/4803 [==============================] - 28s 6ms/step - loss: 0.6616 - accuracy: 0.8294 - val_loss: 0.6594 - val_accuracy: 0.8296\n",
            "Epoch 4/15\n",
            "4803/4803 [==============================] - 27s 6ms/step - loss: 0.6604 - accuracy: 0.8294 - val_loss: 0.6593 - val_accuracy: 0.8296\n",
            "Epoch 5/15\n",
            "4803/4803 [==============================] - 28s 6ms/step - loss: 0.6601 - accuracy: 0.8294 - val_loss: 0.6592 - val_accuracy: 0.8296\n",
            "Epoch 6/15\n",
            "4803/4803 [==============================] - 27s 6ms/step - loss: 0.6601 - accuracy: 0.8294 - val_loss: 0.6591 - val_accuracy: 0.8296\n",
            "Epoch 7/15\n",
            "4803/4803 [==============================] - 27s 6ms/step - loss: 0.6598 - accuracy: 0.8294 - val_loss: 0.6591 - val_accuracy: 0.8296\n",
            "Epoch 8/15\n",
            "4803/4803 [==============================] - 28s 6ms/step - loss: 0.6598 - accuracy: 0.8294 - val_loss: 0.6591 - val_accuracy: 0.8296\n",
            "Epoch 9/15\n",
            "4803/4803 [==============================] - 28s 6ms/step - loss: 0.6598 - accuracy: 0.8294 - val_loss: 0.6591 - val_accuracy: 0.8296\n",
            "Epoch 10/15\n",
            "4803/4803 [==============================] - 27s 6ms/step - loss: 0.6597 - accuracy: 0.8294 - val_loss: 0.6591 - val_accuracy: 0.8296\n",
            "Epoch 1/15\n",
            "4803/4803 [==============================] - 28s 6ms/step - loss: 0.9181 - accuracy: 0.7830 - val_loss: 0.6594 - val_accuracy: 0.8296\n",
            "Epoch 2/15\n",
            "4803/4803 [==============================] - 28s 6ms/step - loss: 0.6633 - accuracy: 0.8294 - val_loss: 0.6592 - val_accuracy: 0.8296\n",
            "Epoch 3/15\n",
            "4803/4803 [==============================] - 27s 6ms/step - loss: 0.6613 - accuracy: 0.8294 - val_loss: 0.6592 - val_accuracy: 0.8296\n",
            "Epoch 4/15\n",
            "4803/4803 [==============================] - 28s 6ms/step - loss: 0.6605 - accuracy: 0.8294 - val_loss: 0.6592 - val_accuracy: 0.8296\n",
            "Epoch 5/15\n",
            "4803/4803 [==============================] - 29s 6ms/step - loss: 0.6607 - accuracy: 0.8294 - val_loss: 0.6592 - val_accuracy: 0.8296\n",
            "Epoch 6/15\n",
            "4803/4803 [==============================] - 27s 6ms/step - loss: 0.6600 - accuracy: 0.8294 - val_loss: 0.6592 - val_accuracy: 0.8296\n",
            "Epoch 7/15\n",
            "4803/4803 [==============================] - 27s 6ms/step - loss: 0.6607 - accuracy: 0.8294 - val_loss: 0.6970 - val_accuracy: 0.8296\n",
            "Epoch 8/15\n",
            "4803/4803 [==============================] - 28s 6ms/step - loss: 0.6607 - accuracy: 0.8294 - val_loss: 0.6600 - val_accuracy: 0.8296\n",
            "Epoch 1/15\n",
            "4803/4803 [==============================] - 28s 6ms/step - loss: 0.9802 - accuracy: 0.8026 - val_loss: 0.6598 - val_accuracy: 0.8296\n",
            "Epoch 2/15\n",
            "4803/4803 [==============================] - 27s 6ms/step - loss: 0.6644 - accuracy: 0.8294 - val_loss: 0.6592 - val_accuracy: 0.8296\n",
            "Epoch 3/15\n",
            "4803/4803 [==============================] - 27s 6ms/step - loss: 0.6616 - accuracy: 0.8294 - val_loss: 0.6601 - val_accuracy: 0.8296\n",
            "Epoch 4/15\n",
            "4803/4803 [==============================] - 27s 6ms/step - loss: 0.6604 - accuracy: 0.8294 - val_loss: 0.6592 - val_accuracy: 0.8296\n",
            "Epoch 1/15\n",
            "4803/4803 [==============================] - 29s 6ms/step - loss: 0.9266 - accuracy: 0.7996 - val_loss: 0.6593 - val_accuracy: 0.8296\n",
            "Epoch 2/15\n",
            "4803/4803 [==============================] - 28s 6ms/step - loss: 0.6641 - accuracy: 0.8294 - val_loss: 0.6592 - val_accuracy: 0.8296\n",
            "Epoch 3/15\n",
            "4803/4803 [==============================] - 27s 6ms/step - loss: 0.6613 - accuracy: 0.8294 - val_loss: 0.6592 - val_accuracy: 0.8296\n",
            "Epoch 4/15\n",
            "4803/4803 [==============================] - 28s 6ms/step - loss: 0.6604 - accuracy: 0.8294 - val_loss: 0.6592 - val_accuracy: 0.8296\n",
            "Epoch 5/15\n",
            "4803/4803 [==============================] - 28s 6ms/step - loss: 0.6602 - accuracy: 0.8294 - val_loss: 0.6592 - val_accuracy: 0.8296\n",
            "Epoch 1/15\n",
            "4803/4803 [==============================] - 28s 6ms/step - loss: 0.9774 - accuracy: 0.8041 - val_loss: 0.6621 - val_accuracy: 0.8296\n",
            "Epoch 2/15\n",
            "4803/4803 [==============================] - 27s 6ms/step - loss: 0.6636 - accuracy: 0.8294 - val_loss: 0.6603 - val_accuracy: 0.8296\n",
            "Epoch 3/15\n",
            "4803/4803 [==============================] - 28s 6ms/step - loss: 0.6616 - accuracy: 0.8294 - val_loss: 0.6592 - val_accuracy: 0.8296\n",
            "Epoch 4/15\n",
            "4803/4803 [==============================] - 27s 6ms/step - loss: 0.6605 - accuracy: 0.8294 - val_loss: 0.6592 - val_accuracy: 0.8296\n",
            "Epoch 5/15\n",
            "4803/4803 [==============================] - 27s 6ms/step - loss: 0.6603 - accuracy: 0.8294 - val_loss: 0.6595 - val_accuracy: 0.8296\n",
            "Epoch 6/15\n",
            "4803/4803 [==============================] - 27s 6ms/step - loss: 0.6604 - accuracy: 0.8294 - val_loss: 0.6614 - val_accuracy: 0.8296\n"
          ],
          "name": "stdout"
        },
        {
          "output_type": "display_data",
          "data": {
            "text/html": [
              "<span style=\"color:#4527A0\"><h1 style=\"font-size:18px\">Trial complete</h1></span>"
            ],
            "text/plain": [
              "<IPython.core.display.HTML object>"
            ]
          },
          "metadata": {
            "tags": []
          }
        },
        {
          "output_type": "display_data",
          "data": {
            "text/html": [
              "<span style=\"color:#4527A0\"><h1 style=\"font-size:18px\">Trial summary</h1></span>"
            ],
            "text/plain": [
              "<IPython.core.display.HTML object>"
            ]
          },
          "metadata": {
            "tags": []
          }
        },
        {
          "output_type": "display_data",
          "data": {
            "text/html": [
              "<span style=\"color:cyan\"> |-Trial ID: 9f21f25c66fa3edcae3898fe690e6d06</span>"
            ],
            "text/plain": [
              "<IPython.core.display.HTML object>"
            ]
          },
          "metadata": {
            "tags": []
          }
        },
        {
          "output_type": "display_data",
          "data": {
            "text/html": [
              "<span style=\"color:cyan\"> |-Score: 0.8296340703964233</span>"
            ],
            "text/plain": [
              "<IPython.core.display.HTML object>"
            ]
          },
          "metadata": {
            "tags": []
          }
        },
        {
          "output_type": "display_data",
          "data": {
            "text/html": [
              "<span style=\"color:cyan\"> |-Best step: 0</span>"
            ],
            "text/plain": [
              "<IPython.core.display.HTML object>"
            ]
          },
          "metadata": {
            "tags": []
          }
        },
        {
          "output_type": "display_data",
          "data": {
            "text/html": [
              "<span style=\"color:#7E57C2\"><h2 style=\"font-size:16px\">Hyperparameters:</h2></span>"
            ],
            "text/plain": [
              "<IPython.core.display.HTML object>"
            ]
          },
          "metadata": {
            "tags": []
          }
        },
        {
          "output_type": "display_data",
          "data": {
            "text/html": [
              "<span style=\"color:cyan\"> |-drop_rate_0: 0.9</span>"
            ],
            "text/plain": [
              "<IPython.core.display.HTML object>"
            ]
          },
          "metadata": {
            "tags": []
          }
        },
        {
          "output_type": "display_data",
          "data": {
            "text/html": [
              "<span style=\"color:blue\"> |-drop_rate_1: 0.8</span>"
            ],
            "text/plain": [
              "<IPython.core.display.HTML object>"
            ]
          },
          "metadata": {
            "tags": []
          }
        },
        {
          "output_type": "display_data",
          "data": {
            "text/html": [
              "<span style=\"color:cyan\"> |-drop_rate_2: 0.5</span>"
            ],
            "text/plain": [
              "<IPython.core.display.HTML object>"
            ]
          },
          "metadata": {
            "tags": []
          }
        },
        {
          "output_type": "display_data",
          "data": {
            "text/html": [
              "<span style=\"color:blue\"> |-drop_rate_3: 0.1</span>"
            ],
            "text/plain": [
              "<IPython.core.display.HTML object>"
            ]
          },
          "metadata": {
            "tags": []
          }
        },
        {
          "output_type": "display_data",
          "data": {
            "text/html": [
              "<span style=\"color:cyan\"> |-drop_rate_4: 0.1</span>"
            ],
            "text/plain": [
              "<IPython.core.display.HTML object>"
            ]
          },
          "metadata": {
            "tags": []
          }
        },
        {
          "output_type": "display_data",
          "data": {
            "text/html": [
              "<span style=\"color:blue\"> |-drop_rate_5: 0.6</span>"
            ],
            "text/plain": [
              "<IPython.core.display.HTML object>"
            ]
          },
          "metadata": {
            "tags": []
          }
        },
        {
          "output_type": "display_data",
          "data": {
            "text/html": [
              "<span style=\"color:cyan\"> |-num_layers: 4</span>"
            ],
            "text/plain": [
              "<IPython.core.display.HTML object>"
            ]
          },
          "metadata": {
            "tags": []
          }
        },
        {
          "output_type": "display_data",
          "data": {
            "text/html": [
              "<span style=\"color:blue\"> |-units_0: 56</span>"
            ],
            "text/plain": [
              "<IPython.core.display.HTML object>"
            ]
          },
          "metadata": {
            "tags": []
          }
        },
        {
          "output_type": "display_data",
          "data": {
            "text/html": [
              "<span style=\"color:cyan\"> |-units_1: 48</span>"
            ],
            "text/plain": [
              "<IPython.core.display.HTML object>"
            ]
          },
          "metadata": {
            "tags": []
          }
        },
        {
          "output_type": "display_data",
          "data": {
            "text/html": [
              "<span style=\"color:blue\"> |-units_2: 8</span>"
            ],
            "text/plain": [
              "<IPython.core.display.HTML object>"
            ]
          },
          "metadata": {
            "tags": []
          }
        },
        {
          "output_type": "display_data",
          "data": {
            "text/html": [
              "<span style=\"color:cyan\"> |-units_3: 8</span>"
            ],
            "text/plain": [
              "<IPython.core.display.HTML object>"
            ]
          },
          "metadata": {
            "tags": []
          }
        },
        {
          "output_type": "display_data",
          "data": {
            "text/html": [
              "<span style=\"color:blue\"> |-units_4: 48</span>"
            ],
            "text/plain": [
              "<IPython.core.display.HTML object>"
            ]
          },
          "metadata": {
            "tags": []
          }
        },
        {
          "output_type": "display_data",
          "data": {
            "text/html": [
              "<span style=\"color:cyan\"> |-units_5: 32</span>"
            ],
            "text/plain": [
              "<IPython.core.display.HTML object>"
            ]
          },
          "metadata": {
            "tags": []
          }
        },
        {
          "output_type": "stream",
          "text": [
            "Epoch 1/15\n",
            "4803/4803 [==============================] - 25s 5ms/step - loss: 1.6718 - accuracy: 0.0686 - val_loss: 1.6510 - val_accuracy: 0.0565\n",
            "Epoch 2/15\n",
            "4803/4803 [==============================] - 24s 5ms/step - loss: 1.6653 - accuracy: 0.0876 - val_loss: 1.6568 - val_accuracy: 0.0608\n",
            "Epoch 3/15\n",
            "4803/4803 [==============================] - 24s 5ms/step - loss: 1.6723 - accuracy: 0.0769 - val_loss: 1.6806 - val_accuracy: 0.0750\n",
            "Epoch 1/15\n",
            "4803/4803 [==============================] - 26s 5ms/step - loss: 1.7051 - accuracy: 0.0963 - val_loss: 1.6638 - val_accuracy: 0.1050\n",
            "Epoch 2/15\n",
            "4803/4803 [==============================] - 24s 5ms/step - loss: 1.6809 - accuracy: 0.1491 - val_loss: 1.6740 - val_accuracy: 0.1937\n",
            "Epoch 3/15\n",
            "4803/4803 [==============================] - 25s 5ms/step - loss: 1.6749 - accuracy: 0.1589 - val_loss: 1.6773 - val_accuracy: 0.1984\n",
            "Epoch 1/15\n",
            "4803/4803 [==============================] - 24s 5ms/step - loss: 1.6930 - accuracy: 0.1095 - val_loss: 1.6561 - val_accuracy: 0.0983\n",
            "Epoch 2/15\n",
            "4803/4803 [==============================] - 24s 5ms/step - loss: 1.6701 - accuracy: 0.1200 - val_loss: 1.6720 - val_accuracy: 0.1317\n",
            "Epoch 3/15\n",
            "4803/4803 [==============================] - 25s 5ms/step - loss: 1.6869 - accuracy: 0.1736 - val_loss: 1.6693 - val_accuracy: 0.1185\n",
            "Epoch 1/15\n",
            "4803/4803 [==============================] - 24s 5ms/step - loss: 1.6894 - accuracy: 0.0453 - val_loss: 1.6696 - val_accuracy: 0.0614\n",
            "Epoch 2/15\n",
            "4803/4803 [==============================] - 24s 5ms/step - loss: 1.6938 - accuracy: 0.1143 - val_loss: 1.6967 - val_accuracy: 0.2128\n",
            "Epoch 3/15\n",
            "4803/4803 [==============================] - 24s 5ms/step - loss: 1.6910 - accuracy: 0.2017 - val_loss: 1.6954 - val_accuracy: 0.2542\n",
            "Epoch 1/15\n",
            "4803/4803 [==============================] - 25s 5ms/step - loss: 1.7076 - accuracy: 0.1261 - val_loss: 1.6850 - val_accuracy: 0.2311\n",
            "Epoch 2/15\n",
            "4803/4803 [==============================] - 24s 5ms/step - loss: 1.6994 - accuracy: 0.2310 - val_loss: 1.6733 - val_accuracy: 0.1940\n",
            "Epoch 3/15\n",
            "4803/4803 [==============================] - 24s 5ms/step - loss: 1.6862 - accuracy: 0.1443 - val_loss: 1.6638 - val_accuracy: 0.1558\n",
            "Epoch 4/15\n",
            "4803/4803 [==============================] - 24s 5ms/step - loss: 1.7069 - accuracy: 0.2506 - val_loss: 1.7701 - val_accuracy: 0.3655\n",
            "Epoch 5/15\n",
            "4803/4803 [==============================] - 25s 5ms/step - loss: 1.7153 - accuracy: 0.2695 - val_loss: 1.7824 - val_accuracy: 0.3805\n"
          ],
          "name": "stdout"
        },
        {
          "output_type": "display_data",
          "data": {
            "text/html": [
              "<span style=\"color:#4527A0\"><h1 style=\"font-size:18px\">Trial complete</h1></span>"
            ],
            "text/plain": [
              "<IPython.core.display.HTML object>"
            ]
          },
          "metadata": {
            "tags": []
          }
        },
        {
          "output_type": "display_data",
          "data": {
            "text/html": [
              "<span style=\"color:#4527A0\"><h1 style=\"font-size:18px\">Trial summary</h1></span>"
            ],
            "text/plain": [
              "<IPython.core.display.HTML object>"
            ]
          },
          "metadata": {
            "tags": []
          }
        },
        {
          "output_type": "display_data",
          "data": {
            "text/html": [
              "<span style=\"color:cyan\"> |-Trial ID: 400bef7cc93bc847b82d2f28a09cb225</span>"
            ],
            "text/plain": [
              "<IPython.core.display.HTML object>"
            ]
          },
          "metadata": {
            "tags": []
          }
        },
        {
          "output_type": "display_data",
          "data": {
            "text/html": [
              "<span style=\"color:cyan\"> |-Score: 0.20798082649707794</span>"
            ],
            "text/plain": [
              "<IPython.core.display.HTML object>"
            ]
          },
          "metadata": {
            "tags": []
          }
        },
        {
          "output_type": "display_data",
          "data": {
            "text/html": [
              "<span style=\"color:cyan\"> |-Best step: 0</span>"
            ],
            "text/plain": [
              "<IPython.core.display.HTML object>"
            ]
          },
          "metadata": {
            "tags": []
          }
        },
        {
          "output_type": "display_data",
          "data": {
            "text/html": [
              "<span style=\"color:#7E57C2\"><h2 style=\"font-size:16px\">Hyperparameters:</h2></span>"
            ],
            "text/plain": [
              "<IPython.core.display.HTML object>"
            ]
          },
          "metadata": {
            "tags": []
          }
        },
        {
          "output_type": "display_data",
          "data": {
            "text/html": [
              "<span style=\"color:cyan\"> |-drop_rate_0: 0.4</span>"
            ],
            "text/plain": [
              "<IPython.core.display.HTML object>"
            ]
          },
          "metadata": {
            "tags": []
          }
        },
        {
          "output_type": "display_data",
          "data": {
            "text/html": [
              "<span style=\"color:blue\"> |-drop_rate_1: 0.6</span>"
            ],
            "text/plain": [
              "<IPython.core.display.HTML object>"
            ]
          },
          "metadata": {
            "tags": []
          }
        },
        {
          "output_type": "display_data",
          "data": {
            "text/html": [
              "<span style=\"color:cyan\"> |-drop_rate_2: 0.6</span>"
            ],
            "text/plain": [
              "<IPython.core.display.HTML object>"
            ]
          },
          "metadata": {
            "tags": []
          }
        },
        {
          "output_type": "display_data",
          "data": {
            "text/html": [
              "<span style=\"color:blue\"> |-drop_rate_3: 0.8</span>"
            ],
            "text/plain": [
              "<IPython.core.display.HTML object>"
            ]
          },
          "metadata": {
            "tags": []
          }
        },
        {
          "output_type": "display_data",
          "data": {
            "text/html": [
              "<span style=\"color:cyan\"> |-drop_rate_4: 0.3</span>"
            ],
            "text/plain": [
              "<IPython.core.display.HTML object>"
            ]
          },
          "metadata": {
            "tags": []
          }
        },
        {
          "output_type": "display_data",
          "data": {
            "text/html": [
              "<span style=\"color:blue\"> |-drop_rate_5: 0.4</span>"
            ],
            "text/plain": [
              "<IPython.core.display.HTML object>"
            ]
          },
          "metadata": {
            "tags": []
          }
        },
        {
          "output_type": "display_data",
          "data": {
            "text/html": [
              "<span style=\"color:cyan\"> |-num_layers: 1</span>"
            ],
            "text/plain": [
              "<IPython.core.display.HTML object>"
            ]
          },
          "metadata": {
            "tags": []
          }
        },
        {
          "output_type": "display_data",
          "data": {
            "text/html": [
              "<span style=\"color:blue\"> |-units_0: 40</span>"
            ],
            "text/plain": [
              "<IPython.core.display.HTML object>"
            ]
          },
          "metadata": {
            "tags": []
          }
        },
        {
          "output_type": "display_data",
          "data": {
            "text/html": [
              "<span style=\"color:cyan\"> |-units_1: 40</span>"
            ],
            "text/plain": [
              "<IPython.core.display.HTML object>"
            ]
          },
          "metadata": {
            "tags": []
          }
        },
        {
          "output_type": "display_data",
          "data": {
            "text/html": [
              "<span style=\"color:blue\"> |-units_2: 40</span>"
            ],
            "text/plain": [
              "<IPython.core.display.HTML object>"
            ]
          },
          "metadata": {
            "tags": []
          }
        },
        {
          "output_type": "display_data",
          "data": {
            "text/html": [
              "<span style=\"color:cyan\"> |-units_3: 16</span>"
            ],
            "text/plain": [
              "<IPython.core.display.HTML object>"
            ]
          },
          "metadata": {
            "tags": []
          }
        },
        {
          "output_type": "display_data",
          "data": {
            "text/html": [
              "<span style=\"color:blue\"> |-units_4: 8</span>"
            ],
            "text/plain": [
              "<IPython.core.display.HTML object>"
            ]
          },
          "metadata": {
            "tags": []
          }
        },
        {
          "output_type": "display_data",
          "data": {
            "text/html": [
              "<span style=\"color:cyan\"> |-units_5: 64</span>"
            ],
            "text/plain": [
              "<IPython.core.display.HTML object>"
            ]
          },
          "metadata": {
            "tags": []
          }
        },
        {
          "output_type": "stream",
          "text": [
            "INFO:tensorflow:Oracle triggered exit\n"
          ],
          "name": "stdout"
        }
      ]
    },
    {
      "cell_type": "code",
      "metadata": {
        "id": "4nWERzXBcJdg"
      },
      "source": [
        ""
      ],
      "execution_count": null,
      "outputs": []
    }
  ]
}
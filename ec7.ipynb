{
 "cells": [
  {
   "cell_type": "markdown",
   "metadata": {},
   "source": [
    "<h1>Strategies to prevent overfitting in neural networks</h1>"
   ]
  },
  {
   "cell_type": "markdown",
   "metadata": {},
   "source": [
    "<h3>(DS4A Colombia 2020_02 - Extended Case 07- Alexander Ortega - Team 16)</h3>"
   ]
  },
  {
   "cell_type": "code",
   "execution_count": 1,
   "metadata": {},
   "outputs": [],
   "source": [
    "%matplotlib inline\n",
    "\n",
    "# Librerias incluidas de manera personal\n",
    "import re\n",
    "import matplotlib.pyplot as plt\n",
    "import seaborn as sns\n",
    "\n",
    "# Librerias incluidas por defecto en el extended case\n",
    "import numpy as np\n",
    "import pandas as pd\n",
    "import tensorflow as tf\n",
    "\n",
    "from sklearn.model_selection import train_test_split\n",
    "from sklearn.metrics import accuracy_score\n",
    "from sklearn.metrics import confusion_matrix\n",
    "\n",
    "from tensorflow.keras import regularizers\n",
    "from tensorflow.keras.preprocessing.text import Tokenizer\n",
    "from tensorflow.keras.preprocessing.sequence import pad_sequences\n",
    "from tensorflow.keras.layers import Embedding, Dense, GlobalMaxPooling1D, Dropout\n",
    "from tensorflow.keras.models import Sequential\n",
    "from tensorflow.keras import regularizers\n",
    "from tensorflow.keras.callbacks import EarlyStopping\n",
    "\n",
    "try:\n",
    "    tf.set_random_seed(1337)                    # set the random seed for reproducibility\n",
    "except:\n",
    "    tf.random.set_seed(1337)                     # NOTE: Newer version of tensorflow uses tf.random.set_seed\n",
    "np.random.seed(1337)                         #       instead of tf.set_random_seed"
   ]
  },
  {
   "cell_type": "markdown",
   "metadata": {},
   "source": [
    "<h2>Introduction</h2>\n",
    "<p><strong>Business Context.</strong> You are a data scientist working for a machine learning consultancy. One of your clients wants to be able to classify text reviews automatically by the likely rating (on a 1 - 5 scale) that that person would give. However, they do not have sufficient data they generated on their own to do this, so you need to use an external, rich dataset as a basis on which to build your model and then translate it over.</p>\n",
    "<p><strong>Business Problem.</strong> Your task is to <strong>build a neural networks-based model for classifying text reviews into likely ratings (on a 1 - 5 scale)</strong>.</p>\n",
    "<p><strong>Analytical Context.</strong> We'll use the Amazon review dataset again and try to classify reviews into star ratings automatically. Instead of just positive and negative, we'll take on the harder challenge of predicting the <em>exact</em> star rating. The lowest score is 1 and the highest is 5.</p>\n",
    "<p>Instead of trying to optimize by pre-processing the text, we'll do very basic tokenization and experiment with different neural network models, architectures, and hyperparameters to optimize the results. You'll start by building a simple dense neural network and try to get it to perform better using various techniques. Then you'll evaluate the results and diagnose where it tends to perform more poorly.</p>"
   ]
  },
  {
   "cell_type": "markdown",
   "metadata": {},
   "source": [
    "<h2>Setting up and preparing the data</h2>\n",
    "<p>We'll mainly be using the <code>keras</code> module from TensorFlow, but we'll also use <code>pandas</code> to read the CSV file and <code>sklearn</code> for some helper functions. We'll be using only the \"Text\" and \"Score\" columns in the <code>Reviews.csv</code> file:</p>"
   ]
  },
  {
   "cell_type": "code",
   "execution_count": 2,
   "metadata": {},
   "outputs": [
    {
     "name": "stdout",
     "output_type": "stream",
     "text": [
      "Wall time: 2.75 s\n"
     ]
    },
    {
     "data": {
      "text/html": [
       "<div>\n",
       "<style scoped>\n",
       "    .dataframe tbody tr th:only-of-type {\n",
       "        vertical-align: middle;\n",
       "    }\n",
       "\n",
       "    .dataframe tbody tr th {\n",
       "        vertical-align: top;\n",
       "    }\n",
       "\n",
       "    .dataframe thead th {\n",
       "        text-align: right;\n",
       "    }\n",
       "</style>\n",
       "<table border=\"1\" class=\"dataframe\">\n",
       "  <thead>\n",
       "    <tr style=\"text-align: right;\">\n",
       "      <th></th>\n",
       "      <th>Id</th>\n",
       "      <th>ProductId</th>\n",
       "      <th>UserId</th>\n",
       "      <th>ProfileName</th>\n",
       "      <th>HelpfulnessNumerator</th>\n",
       "      <th>HelpfulnessDenominator</th>\n",
       "      <th>Score</th>\n",
       "      <th>Time</th>\n",
       "      <th>Summary</th>\n",
       "      <th>Text</th>\n",
       "    </tr>\n",
       "  </thead>\n",
       "  <tbody>\n",
       "    <tr>\n",
       "      <th>0</th>\n",
       "      <td>1</td>\n",
       "      <td>B001E4KFG0</td>\n",
       "      <td>A3SGXH7AUHU8GW</td>\n",
       "      <td>delmartian</td>\n",
       "      <td>1</td>\n",
       "      <td>1</td>\n",
       "      <td>5</td>\n",
       "      <td>1303862400</td>\n",
       "      <td>Good Quality Dog Food</td>\n",
       "      <td>I have bought several of the Vitality canned d...</td>\n",
       "    </tr>\n",
       "    <tr>\n",
       "      <th>1</th>\n",
       "      <td>2</td>\n",
       "      <td>B00813GRG4</td>\n",
       "      <td>A1D87F6ZCVE5NK</td>\n",
       "      <td>dll pa</td>\n",
       "      <td>0</td>\n",
       "      <td>0</td>\n",
       "      <td>1</td>\n",
       "      <td>1346976000</td>\n",
       "      <td>Not as Advertised</td>\n",
       "      <td>Product arrived labeled as Jumbo Salted Peanut...</td>\n",
       "    </tr>\n",
       "    <tr>\n",
       "      <th>2</th>\n",
       "      <td>3</td>\n",
       "      <td>B000LQOCH0</td>\n",
       "      <td>ABXLMWJIXXAIN</td>\n",
       "      <td>Natalia Corres \"Natalia Corres\"</td>\n",
       "      <td>1</td>\n",
       "      <td>1</td>\n",
       "      <td>4</td>\n",
       "      <td>1219017600</td>\n",
       "      <td>\"Delight\" says it all</td>\n",
       "      <td>This is a confection that has been around a fe...</td>\n",
       "    </tr>\n",
       "    <tr>\n",
       "      <th>3</th>\n",
       "      <td>4</td>\n",
       "      <td>B000UA0QIQ</td>\n",
       "      <td>A395BORC6FGVXV</td>\n",
       "      <td>Karl</td>\n",
       "      <td>3</td>\n",
       "      <td>3</td>\n",
       "      <td>2</td>\n",
       "      <td>1307923200</td>\n",
       "      <td>Cough Medicine</td>\n",
       "      <td>If you are looking for the secret ingredient i...</td>\n",
       "    </tr>\n",
       "    <tr>\n",
       "      <th>4</th>\n",
       "      <td>5</td>\n",
       "      <td>B006K2ZZ7K</td>\n",
       "      <td>A1UQRSCLF8GW1T</td>\n",
       "      <td>Michael D. Bigham \"M. Wassir\"</td>\n",
       "      <td>0</td>\n",
       "      <td>0</td>\n",
       "      <td>5</td>\n",
       "      <td>1350777600</td>\n",
       "      <td>Great taffy</td>\n",
       "      <td>Great taffy at a great price.  There was a wid...</td>\n",
       "    </tr>\n",
       "  </tbody>\n",
       "</table>\n",
       "</div>"
      ],
      "text/plain": [
       "   Id   ProductId          UserId                      ProfileName  \\\n",
       "0   1  B001E4KFG0  A3SGXH7AUHU8GW                       delmartian   \n",
       "1   2  B00813GRG4  A1D87F6ZCVE5NK                           dll pa   \n",
       "2   3  B000LQOCH0   ABXLMWJIXXAIN  Natalia Corres \"Natalia Corres\"   \n",
       "3   4  B000UA0QIQ  A395BORC6FGVXV                             Karl   \n",
       "4   5  B006K2ZZ7K  A1UQRSCLF8GW1T    Michael D. Bigham \"M. Wassir\"   \n",
       "\n",
       "   HelpfulnessNumerator  HelpfulnessDenominator  Score        Time  \\\n",
       "0                     1                       1      5  1303862400   \n",
       "1                     0                       0      1  1346976000   \n",
       "2                     1                       1      4  1219017600   \n",
       "3                     3                       3      2  1307923200   \n",
       "4                     0                       0      5  1350777600   \n",
       "\n",
       "                 Summary                                               Text  \n",
       "0  Good Quality Dog Food  I have bought several of the Vitality canned d...  \n",
       "1      Not as Advertised  Product arrived labeled as Jumbo Salted Peanut...  \n",
       "2  \"Delight\" says it all  This is a confection that has been around a fe...  \n",
       "3         Cough Medicine  If you are looking for the secret ingredient i...  \n",
       "4            Great taffy  Great taffy at a great price.  There was a wid...  "
      ]
     },
     "execution_count": 2,
     "metadata": {},
     "output_type": "execute_result"
    }
   ],
   "source": [
    "%%time \n",
    "# Emplearemos la función time para tener un estimado del tiempo que toma la tarea\n",
    "\n",
    "# Cargamos el dataset compartido con el material del extended case\n",
    "# (dejamos la opción de nrows como se encuentra por defecto)\n",
    "# (asi se importaran unicamante las primeras 262084 filas )\n",
    "amazon_reviews = pd.read_csv('Reviews.csv', nrows=262084)\n",
    "amazon_reviews.head(5)"
   ]
  },
  {
   "cell_type": "code",
   "execution_count": 3,
   "metadata": {},
   "outputs": [
    {
     "name": "stdout",
     "output_type": "stream",
     "text": [
      "<class 'pandas.core.frame.DataFrame'>\n",
      "RangeIndex: 262084 entries, 0 to 262083\n",
      "Data columns (total 10 columns):\n",
      " #   Column                  Non-Null Count   Dtype \n",
      "---  ------                  --------------   ----- \n",
      " 0   Id                      262084 non-null  int64 \n",
      " 1   ProductId               262084 non-null  object\n",
      " 2   UserId                  262084 non-null  object\n",
      " 3   ProfileName             262076 non-null  object\n",
      " 4   HelpfulnessNumerator    262084 non-null  int64 \n",
      " 5   HelpfulnessDenominator  262084 non-null  int64 \n",
      " 6   Score                   262084 non-null  int64 \n",
      " 7   Time                    262084 non-null  int64 \n",
      " 8   Summary                 262074 non-null  object\n",
      " 9   Text                    262084 non-null  object\n",
      "dtypes: int64(5), object(5)\n",
      "memory usage: 20.0+ MB\n"
     ]
    }
   ],
   "source": [
    "# Visualicemos las caracteristicas generales del dataframe\n",
    "amazon_reviews.info()"
   ]
  },
  {
   "cell_type": "code",
   "execution_count": 4,
   "metadata": {},
   "outputs": [
    {
     "data": {
      "text/plain": [
       "array([5, 1, 4, 2, 3], dtype=int64)"
      ]
     },
     "execution_count": 4,
     "metadata": {},
     "output_type": "execute_result"
    }
   ],
   "source": [
    "# Visualicemos los posibles valores de la variable de interés (Score)\n",
    "amazon_reviews.Score.unique()"
   ]
  },
  {
   "cell_type": "code",
   "execution_count": 5,
   "metadata": {},
   "outputs": [
    {
     "data": {
      "text/plain": [
       "5    165617\n",
       "4     37889\n",
       "1     24109\n",
       "3     20434\n",
       "2     14035\n",
       "Name: Score, dtype: int64"
      ]
     },
     "execution_count": 5,
     "metadata": {},
     "output_type": "execute_result"
    }
   ],
   "source": [
    "# Visualicemos la distribución de valores de la variable de interés (Score)\n",
    "amazon_reviews.Score.value_counts()"
   ]
  },
  {
   "cell_type": "code",
   "execution_count": 6,
   "metadata": {},
   "outputs": [
    {
     "data": {
      "text/html": [
       "<div>\n",
       "<style scoped>\n",
       "    .dataframe tbody tr th:only-of-type {\n",
       "        vertical-align: middle;\n",
       "    }\n",
       "\n",
       "    .dataframe tbody tr th {\n",
       "        vertical-align: top;\n",
       "    }\n",
       "\n",
       "    .dataframe thead th {\n",
       "        text-align: right;\n",
       "    }\n",
       "</style>\n",
       "<table border=\"1\" class=\"dataframe\">\n",
       "  <thead>\n",
       "    <tr style=\"text-align: right;\">\n",
       "      <th></th>\n",
       "      <th>Text</th>\n",
       "      <th>Score</th>\n",
       "    </tr>\n",
       "  </thead>\n",
       "  <tbody>\n",
       "    <tr>\n",
       "      <th>0</th>\n",
       "      <td>I have bought several of the Vitality canned d...</td>\n",
       "      <td>5</td>\n",
       "    </tr>\n",
       "    <tr>\n",
       "      <th>1</th>\n",
       "      <td>Product arrived labeled as Jumbo Salted Peanut...</td>\n",
       "      <td>1</td>\n",
       "    </tr>\n",
       "    <tr>\n",
       "      <th>2</th>\n",
       "      <td>This is a confection that has been around a fe...</td>\n",
       "      <td>4</td>\n",
       "    </tr>\n",
       "    <tr>\n",
       "      <th>3</th>\n",
       "      <td>If you are looking for the secret ingredient i...</td>\n",
       "      <td>2</td>\n",
       "    </tr>\n",
       "    <tr>\n",
       "      <th>4</th>\n",
       "      <td>Great taffy at a great price.  There was a wid...</td>\n",
       "      <td>5</td>\n",
       "    </tr>\n",
       "    <tr>\n",
       "      <th>...</th>\n",
       "      <td>...</td>\n",
       "      <td>...</td>\n",
       "    </tr>\n",
       "    <tr>\n",
       "      <th>262079</th>\n",
       "      <td>Bought Lucy's cookies after I heard about them...</td>\n",
       "      <td>1</td>\n",
       "    </tr>\n",
       "    <tr>\n",
       "      <th>262080</th>\n",
       "      <td>I am not sure what I expected but I found the ...</td>\n",
       "      <td>3</td>\n",
       "    </tr>\n",
       "    <tr>\n",
       "      <th>262081</th>\n",
       "      <td>SO disappointed off taste all the flavors tast...</td>\n",
       "      <td>1</td>\n",
       "    </tr>\n",
       "    <tr>\n",
       "      <th>262082</th>\n",
       "      <td>If you have to eat gluten free, these cookies ...</td>\n",
       "      <td>2</td>\n",
       "    </tr>\n",
       "    <tr>\n",
       "      <th>262083</th>\n",
       "      <td>Lucy's cookies has a track record of buying co...</td>\n",
       "      <td>1</td>\n",
       "    </tr>\n",
       "  </tbody>\n",
       "</table>\n",
       "<p>262084 rows × 2 columns</p>\n",
       "</div>"
      ],
      "text/plain": [
       "                                                     Text  Score\n",
       "0       I have bought several of the Vitality canned d...      5\n",
       "1       Product arrived labeled as Jumbo Salted Peanut...      1\n",
       "2       This is a confection that has been around a fe...      4\n",
       "3       If you are looking for the secret ingredient i...      2\n",
       "4       Great taffy at a great price.  There was a wid...      5\n",
       "...                                                   ...    ...\n",
       "262079  Bought Lucy's cookies after I heard about them...      1\n",
       "262080  I am not sure what I expected but I found the ...      3\n",
       "262081  SO disappointed off taste all the flavors tast...      1\n",
       "262082  If you have to eat gluten free, these cookies ...      2\n",
       "262083  Lucy's cookies has a track record of buying co...      1\n",
       "\n",
       "[262084 rows x 2 columns]"
      ]
     },
     "execution_count": 6,
     "metadata": {},
     "output_type": "execute_result"
    }
   ],
   "source": [
    "# Generamos un dataframe con las variables de interes que describe el problema\n",
    "df=amazon_reviews[[\"Text\", \"Score\"]]\n",
    "df"
   ]
  },
  {
   "cell_type": "markdown",
   "metadata": {},
   "source": [
    "<h3>Exercise 1:</h3>\n",
    "<p>Combine the first 1,000 of each of the 1-, 2-, 3-, 4-, and 5-star reviews in <code>amazon_reviews</code> into a single DataFrame (so you should have 5,000 observations in total). Split this DataFrame into training and test sets, with 80% of the data for the training set.</p>\n",
    "<p><strong>Hint:</strong> <code>keras</code> will expected your labels to start with 0, and not 1, so make sure to adjust the labels accordingly.</p>"
   ]
  },
  {
   "cell_type": "markdown",
   "metadata": {
    "tags": [
     "ans_st"
    ]
   },
   "source": [
    "**Answer.**"
   ]
  },
  {
   "cell_type": "code",
   "execution_count": 7,
   "metadata": {},
   "outputs": [
    {
     "data": {
      "text/html": [
       "<div>\n",
       "<style scoped>\n",
       "    .dataframe tbody tr th:only-of-type {\n",
       "        vertical-align: middle;\n",
       "    }\n",
       "\n",
       "    .dataframe tbody tr th {\n",
       "        vertical-align: top;\n",
       "    }\n",
       "\n",
       "    .dataframe thead th {\n",
       "        text-align: right;\n",
       "    }\n",
       "</style>\n",
       "<table border=\"1\" class=\"dataframe\">\n",
       "  <thead>\n",
       "    <tr style=\"text-align: right;\">\n",
       "      <th></th>\n",
       "      <th>Text</th>\n",
       "      <th>Score</th>\n",
       "    </tr>\n",
       "  </thead>\n",
       "  <tbody>\n",
       "    <tr>\n",
       "      <th>0</th>\n",
       "      <td>I have bought several of the Vitality canned d...</td>\n",
       "      <td>5</td>\n",
       "    </tr>\n",
       "    <tr>\n",
       "      <th>1</th>\n",
       "      <td>Product arrived labeled as Jumbo Salted Peanut...</td>\n",
       "      <td>1</td>\n",
       "    </tr>\n",
       "    <tr>\n",
       "      <th>2</th>\n",
       "      <td>This is a confection that has been around a fe...</td>\n",
       "      <td>4</td>\n",
       "    </tr>\n",
       "    <tr>\n",
       "      <th>3</th>\n",
       "      <td>If you are looking for the secret ingredient i...</td>\n",
       "      <td>2</td>\n",
       "    </tr>\n",
       "    <tr>\n",
       "      <th>4</th>\n",
       "      <td>Great taffy at a great price.  There was a wid...</td>\n",
       "      <td>5</td>\n",
       "    </tr>\n",
       "    <tr>\n",
       "      <th>...</th>\n",
       "      <td>...</td>\n",
       "      <td>...</td>\n",
       "    </tr>\n",
       "    <tr>\n",
       "      <th>262079</th>\n",
       "      <td>Bought Lucy's cookies after I heard about them...</td>\n",
       "      <td>1</td>\n",
       "    </tr>\n",
       "    <tr>\n",
       "      <th>262080</th>\n",
       "      <td>I am not sure what I expected but I found the ...</td>\n",
       "      <td>3</td>\n",
       "    </tr>\n",
       "    <tr>\n",
       "      <th>262081</th>\n",
       "      <td>SO disappointed off taste all the flavors tast...</td>\n",
       "      <td>1</td>\n",
       "    </tr>\n",
       "    <tr>\n",
       "      <th>262082</th>\n",
       "      <td>If you have to eat gluten free, these cookies ...</td>\n",
       "      <td>2</td>\n",
       "    </tr>\n",
       "    <tr>\n",
       "      <th>262083</th>\n",
       "      <td>Lucy's cookies has a track record of buying co...</td>\n",
       "      <td>1</td>\n",
       "    </tr>\n",
       "  </tbody>\n",
       "</table>\n",
       "<p>262084 rows × 2 columns</p>\n",
       "</div>"
      ],
      "text/plain": [
       "                                                     Text  Score\n",
       "0       I have bought several of the Vitality canned d...      5\n",
       "1       Product arrived labeled as Jumbo Salted Peanut...      1\n",
       "2       This is a confection that has been around a fe...      4\n",
       "3       If you are looking for the secret ingredient i...      2\n",
       "4       Great taffy at a great price.  There was a wid...      5\n",
       "...                                                   ...    ...\n",
       "262079  Bought Lucy's cookies after I heard about them...      1\n",
       "262080  I am not sure what I expected but I found the ...      3\n",
       "262081  SO disappointed off taste all the flavors tast...      1\n",
       "262082  If you have to eat gluten free, these cookies ...      2\n",
       "262083  Lucy's cookies has a track record of buying co...      1\n",
       "\n",
       "[262084 rows x 2 columns]"
      ]
     },
     "execution_count": 7,
     "metadata": {},
     "output_type": "execute_result"
    }
   ],
   "source": [
    "# Recordemos inicialmente el dataframe del que partimos\n",
    "df"
   ]
  },
  {
   "cell_type": "code",
   "execution_count": 8,
   "metadata": {},
   "outputs": [
    {
     "data": {
      "text/plain": [
       "[1, 2, 3, 4, 5]"
      ]
     },
     "execution_count": 8,
     "metadata": {},
     "output_type": "execute_result"
    }
   ],
   "source": [
    "# Obtengamos una lista ordenada con todos los posibles valores que puede tomar Score\n",
    "review_values=list(amazon_reviews.Score.unique())\n",
    "review_values.sort()\n",
    "review_values"
   ]
  },
  {
   "cell_type": "code",
   "execution_count": 9,
   "metadata": {},
   "outputs": [
    {
     "data": {
      "text/html": [
       "<div>\n",
       "<style scoped>\n",
       "    .dataframe tbody tr th:only-of-type {\n",
       "        vertical-align: middle;\n",
       "    }\n",
       "\n",
       "    .dataframe tbody tr th {\n",
       "        vertical-align: top;\n",
       "    }\n",
       "\n",
       "    .dataframe thead th {\n",
       "        text-align: right;\n",
       "    }\n",
       "</style>\n",
       "<table border=\"1\" class=\"dataframe\">\n",
       "  <thead>\n",
       "    <tr style=\"text-align: right;\">\n",
       "      <th></th>\n",
       "      <th>Text</th>\n",
       "      <th>Score</th>\n",
       "    </tr>\n",
       "  </thead>\n",
       "  <tbody>\n",
       "    <tr>\n",
       "      <th>1</th>\n",
       "      <td>Product arrived labeled as Jumbo Salted Peanut...</td>\n",
       "      <td>1</td>\n",
       "    </tr>\n",
       "    <tr>\n",
       "      <th>12</th>\n",
       "      <td>My cats have been happily eating Felidae Plati...</td>\n",
       "      <td>1</td>\n",
       "    </tr>\n",
       "    <tr>\n",
       "      <th>26</th>\n",
       "      <td>The candy is just red , No flavor . Just  plan...</td>\n",
       "      <td>1</td>\n",
       "    </tr>\n",
       "    <tr>\n",
       "      <th>50</th>\n",
       "      <td>This oatmeal is not good. Its mushy, soft, I d...</td>\n",
       "      <td>1</td>\n",
       "    </tr>\n",
       "    <tr>\n",
       "      <th>62</th>\n",
       "      <td>Arrived in 6 days and were so stale i could no...</td>\n",
       "      <td>1</td>\n",
       "    </tr>\n",
       "    <tr>\n",
       "      <th>...</th>\n",
       "      <td>...</td>\n",
       "      <td>...</td>\n",
       "    </tr>\n",
       "    <tr>\n",
       "      <th>1528</th>\n",
       "      <td>i followed the easy instructions and these tur...</td>\n",
       "      <td>5</td>\n",
       "    </tr>\n",
       "    <tr>\n",
       "      <th>1529</th>\n",
       "      <td>WE LOVE LOVE LOVE these muffins. They are mois...</td>\n",
       "      <td>5</td>\n",
       "    </tr>\n",
       "    <tr>\n",
       "      <th>1532</th>\n",
       "      <td>I brought 2 bottles.  One I carry in my pocket...</td>\n",
       "      <td>5</td>\n",
       "    </tr>\n",
       "    <tr>\n",
       "      <th>1541</th>\n",
       "      <td>I really like this soup.  It is mild and I don...</td>\n",
       "      <td>5</td>\n",
       "    </tr>\n",
       "    <tr>\n",
       "      <th>1542</th>\n",
       "      <td>This is quick, easy and portable, and I think ...</td>\n",
       "      <td>5</td>\n",
       "    </tr>\n",
       "  </tbody>\n",
       "</table>\n",
       "<p>5000 rows × 2 columns</p>\n",
       "</div>"
      ],
      "text/plain": [
       "                                                   Text Score\n",
       "1     Product arrived labeled as Jumbo Salted Peanut...     1\n",
       "12    My cats have been happily eating Felidae Plati...     1\n",
       "26    The candy is just red , No flavor . Just  plan...     1\n",
       "50    This oatmeal is not good. Its mushy, soft, I d...     1\n",
       "62    Arrived in 6 days and were so stale i could no...     1\n",
       "...                                                 ...   ...\n",
       "1528  i followed the easy instructions and these tur...     5\n",
       "1529  WE LOVE LOVE LOVE these muffins. They are mois...     5\n",
       "1532  I brought 2 bottles.  One I carry in my pocket...     5\n",
       "1541  I really like this soup.  It is mild and I don...     5\n",
       "1542  This is quick, easy and portable, and I think ...     5\n",
       "\n",
       "[5000 rows x 2 columns]"
      ]
     },
     "execution_count": 9,
     "metadata": {},
     "output_type": "execute_result"
    }
   ],
   "source": [
    "# Generamos un dataset vacío en el cual almacenaremos los resultados del ciclo\n",
    "df_first_1000_each_value=pd.DataFrame(columns = ['Text','Score'])\n",
    "\n",
    "# Generamos un ciclo que nos permita almacenar los primeros 1000 resultados de cada Score\n",
    "# en el dataframe ya definido\n",
    "for value in review_values:\n",
    "    first_1000 = df[df.Score==value].head(1000)\n",
    "    df_first_1000_each_value=df_first_1000_each_value.append(first_1000)\n",
    "\n",
    "# Imprimimos el dataset obtenido para corroborar su longitud y composición\n",
    "df_first_1000_each_value"
   ]
  },
  {
   "cell_type": "code",
   "execution_count": 10,
   "metadata": {},
   "outputs": [
    {
     "data": {
      "text/html": [
       "<div>\n",
       "<style scoped>\n",
       "    .dataframe tbody tr th:only-of-type {\n",
       "        vertical-align: middle;\n",
       "    }\n",
       "\n",
       "    .dataframe tbody tr th {\n",
       "        vertical-align: top;\n",
       "    }\n",
       "\n",
       "    .dataframe thead th {\n",
       "        text-align: right;\n",
       "    }\n",
       "</style>\n",
       "<table border=\"1\" class=\"dataframe\">\n",
       "  <thead>\n",
       "    <tr style=\"text-align: right;\">\n",
       "      <th></th>\n",
       "      <th>Text</th>\n",
       "      <th>Score</th>\n",
       "    </tr>\n",
       "  </thead>\n",
       "  <tbody>\n",
       "    <tr>\n",
       "      <th>1</th>\n",
       "      <td>Product arrived labeled as Jumbo Salted Peanut...</td>\n",
       "      <td>0</td>\n",
       "    </tr>\n",
       "    <tr>\n",
       "      <th>12</th>\n",
       "      <td>My cats have been happily eating Felidae Plati...</td>\n",
       "      <td>0</td>\n",
       "    </tr>\n",
       "    <tr>\n",
       "      <th>26</th>\n",
       "      <td>The candy is just red , No flavor . Just  plan...</td>\n",
       "      <td>0</td>\n",
       "    </tr>\n",
       "    <tr>\n",
       "      <th>50</th>\n",
       "      <td>This oatmeal is not good. Its mushy, soft, I d...</td>\n",
       "      <td>0</td>\n",
       "    </tr>\n",
       "    <tr>\n",
       "      <th>62</th>\n",
       "      <td>Arrived in 6 days and were so stale i could no...</td>\n",
       "      <td>0</td>\n",
       "    </tr>\n",
       "    <tr>\n",
       "      <th>...</th>\n",
       "      <td>...</td>\n",
       "      <td>...</td>\n",
       "    </tr>\n",
       "    <tr>\n",
       "      <th>1528</th>\n",
       "      <td>i followed the easy instructions and these tur...</td>\n",
       "      <td>4</td>\n",
       "    </tr>\n",
       "    <tr>\n",
       "      <th>1529</th>\n",
       "      <td>WE LOVE LOVE LOVE these muffins. They are mois...</td>\n",
       "      <td>4</td>\n",
       "    </tr>\n",
       "    <tr>\n",
       "      <th>1532</th>\n",
       "      <td>I brought 2 bottles.  One I carry in my pocket...</td>\n",
       "      <td>4</td>\n",
       "    </tr>\n",
       "    <tr>\n",
       "      <th>1541</th>\n",
       "      <td>I really like this soup.  It is mild and I don...</td>\n",
       "      <td>4</td>\n",
       "    </tr>\n",
       "    <tr>\n",
       "      <th>1542</th>\n",
       "      <td>This is quick, easy and portable, and I think ...</td>\n",
       "      <td>4</td>\n",
       "    </tr>\n",
       "  </tbody>\n",
       "</table>\n",
       "<p>5000 rows × 2 columns</p>\n",
       "</div>"
      ],
      "text/plain": [
       "                                                   Text  Score\n",
       "1     Product arrived labeled as Jumbo Salted Peanut...      0\n",
       "12    My cats have been happily eating Felidae Plati...      0\n",
       "26    The candy is just red , No flavor . Just  plan...      0\n",
       "50    This oatmeal is not good. Its mushy, soft, I d...      0\n",
       "62    Arrived in 6 days and were so stale i could no...      0\n",
       "...                                                 ...    ...\n",
       "1528  i followed the easy instructions and these tur...      4\n",
       "1529  WE LOVE LOVE LOVE these muffins. They are mois...      4\n",
       "1532  I brought 2 bottles.  One I carry in my pocket...      4\n",
       "1541  I really like this soup.  It is mild and I don...      4\n",
       "1542  This is quick, easy and portable, and I think ...      4\n",
       "\n",
       "[5000 rows x 2 columns]"
      ]
     },
     "execution_count": 10,
     "metadata": {},
     "output_type": "execute_result"
    }
   ],
   "source": [
    "# Aplicamos el hint:\n",
    "# (dado que keras espera valores que vayan de 0 a 4, y no de 1 a 5, restamos 1 al Score)\n",
    "df_first_1000_each_value.Score=df_first_1000_each_value.Score.apply(lambda x: x-1)\n",
    "df_first_1000_each_value"
   ]
  },
  {
   "cell_type": "code",
   "execution_count": 11,
   "metadata": {},
   "outputs": [],
   "source": [
    "# Empleando sklearn generamos un train_test_split de los dados en una relacion 80/20\n",
    "\n",
    "# Definimos nuestra variable predictora y nuestro target\n",
    "X = df_first_1000_each_value.Text\n",
    "y = df_first_1000_each_value.Score\n",
    "\n",
    "X_train, X_test, y_train, y_test = train_test_split(X, y, test_size=0.2, random_state=42)"
   ]
  },
  {
   "cell_type": "code",
   "execution_count": 12,
   "metadata": {},
   "outputs": [
    {
     "name": "stdout",
     "output_type": "stream",
     "text": [
      "---------------------------------------------\n",
      "338     I like a lot of sesame oil and use it in salad...\n",
      "1047    This coffee company delivers on great coffee t...\n",
      "8656    The coffee tasted bitter and like it was burnt...\n",
      "4665    This crispbread is nice and thin - great for t...\n",
      "291     If you want an organic energy shot, your choic...\n",
      "                              ...                        \n",
      "655     First time I've ever used Agave Nectar -- and ...\n",
      "4980    I purchase Banh Trang Spring Rolls Skin freque...\n",
      "678     I love these chips. The flavor is not plain. T...\n",
      "5457    I am a strong believer in giving my baby organ...\n",
      "9365    The coffee tasted bitter and like it was burnt...\n",
      "Name: Text, Length: 4000, dtype: object\n",
      "---------------------------------------------\n",
      "\n",
      "---------------------------------------------\n",
      "8602     I love Wolfgang Puck products but the coffee i...\n",
      "6894     Here's yet another carbonated juice drink, com...\n",
      "7664     My golden retriever loves these bones!  I orde...\n",
      "1147     I like the fact that this vanilla flavor has n...\n",
      "7636     The plant arrived dead.  It cost as much to sh...\n",
      "                               ...                        \n",
      "1104     These are hard to find, but worth the trouble....\n",
      "3934     This roasted green tea was only \"so-so\" to my ...\n",
      "1663     The original flavor would work fine with any d...\n",
      "8595     I was expecting a mellow caramel flavor, but t...\n",
      "16723    This product is labeled \"100% of what you want...\n",
      "Name: Text, Length: 1000, dtype: object\n",
      "---------------------------------------------\n",
      "\n",
      "---------------------------------------------\n",
      "338     4\n",
      "1047    4\n",
      "8656    0\n",
      "4665    3\n",
      "291     4\n",
      "       ..\n",
      "655     4\n",
      "4980    0\n",
      "678     3\n",
      "5457    3\n",
      "9365    0\n",
      "Name: Score, Length: 4000, dtype: int64\n",
      "---------------------------------------------\n",
      "\n",
      "---------------------------------------------\n",
      "8602     1\n",
      "6894     2\n",
      "7664     2\n",
      "1147     1\n",
      "7636     0\n",
      "        ..\n",
      "1104     4\n",
      "3934     2\n",
      "1663     3\n",
      "8595     2\n",
      "16723    1\n",
      "Name: Score, Length: 1000, dtype: int64\n",
      "---------------------------------------------\n",
      "\n"
     ]
    }
   ],
   "source": [
    "# Imprimamos cada una de los conjuntos de entrenamiento y de test para corroborar \n",
    "# que presentan las dimensiones y el contenido adecuado\n",
    "for x in  [X_train, X_test, y_train, y_test]:\n",
    "    print ('---------------------------------------------')\n",
    "    print (x)\n",
    "    print ('---------------------------------------------')\n",
    "    print()"
   ]
  },
  {
   "cell_type": "markdown",
   "metadata": {},
   "source": [
    "-------"
   ]
  },
  {
   "cell_type": "markdown",
   "metadata": {},
   "source": [
    "<h2>Tokenizing our texts</h2>\n",
    "<p>Keras comes with its own functions to preprocess text, including a <a href=\"https://www.tensorflow.org/api_docs/python/tf/keras/preprocessing/text/Tokenizer\">tokenizer</a> (a mapping from each word in our corpus to a unique integer). Unlike the <code>CountVectorizer</code> from <code>sklearn</code>, which produces sparse matrices, <code>keras</code> often expects to work with sequences representing only the words that occur in a text. To prepare text before feeding it into a neural network, we usually:</p>\n",
    "<ol>\n",
    "<li>Create a <a href=\"https://www.tensorflow.org/api_docs/python/tf/keras/preprocessing/text/Tokenizer\">tokenizer</a>.</li>\n",
    "<li><a href=\"https://www.tensorflow.org/api_docs/python/tf/keras/preprocessing/text/Tokenizer#texts_to_sequences\">Create sequences</a> from our text (each text becomes a list of integers, based on the tokenizer mapping, instead of words)</li>\n",
    "<li><a href=\"https://www.tensorflow.org/api_docs/python/tf/keras/preprocessing/sequence/pad_sequences\">Pad or truncate</a> each sequence to a fixed length (very short texts get <code>0</code>s added to them, while very long ones are truncated).</li>\n",
    "</ol>\n",
    "<p>The tokenizer has a configurable word cap, so it will only consider the $n$ most common words in the corpus, ignoring very rare words.</p>"
   ]
  },
  {
   "cell_type": "markdown",
   "metadata": {},
   "source": [
    "<h3>Exercise 2:</h3>\n",
    "<p>In this exercise, you will learn how to use the <code>tf.keras.preprocessing.text.Tokenizer</code> tool to carry out the preprocessing steps described above.</p>\n",
    "<h4>2.1</h4>\n",
    "<p>Perform some exploratory analysis of the dataset to calculate the number of unique words in our corpus and the distribution of the number of words in each review of the training set. What is the 80th percentile of this distribution?</p>"
   ]
  },
  {
   "cell_type": "markdown",
   "metadata": {
    "tags": [
     "ans_st"
    ]
   },
   "source": [
    "**Answer.**"
   ]
  },
  {
   "cell_type": "code",
   "execution_count": 13,
   "metadata": {},
   "outputs": [
    {
     "data": {
      "text/plain": [
       "338     I like a lot of sesame oil and use it in salad...\n",
       "1047    This coffee company delivers on great coffee t...\n",
       "8656    The coffee tasted bitter and like it was burnt...\n",
       "4665    This crispbread is nice and thin - great for t...\n",
       "291     If you want an organic energy shot, your choic...\n",
       "                              ...                        \n",
       "655     First time I've ever used Agave Nectar -- and ...\n",
       "4980    I purchase Banh Trang Spring Rolls Skin freque...\n",
       "678     I love these chips. The flavor is not plain. T...\n",
       "5457    I am a strong believer in giving my baby organ...\n",
       "9365    The coffee tasted bitter and like it was burnt...\n",
       "Name: Text, Length: 4000, dtype: object"
      ]
     },
     "execution_count": 13,
     "metadata": {},
     "output_type": "execute_result"
    }
   ],
   "source": [
    "# Recordemos la variable que almacena el texto del conjunto de entrenamiento\n",
    "X_train"
   ]
  },
  {
   "cell_type": "code",
   "execution_count": 14,
   "metadata": {},
   "outputs": [
    {
     "data": {
      "text/plain": [
       "338     I like a lot of sesame oil and use it in salad...\n",
       "1047    This coffee company delivers on great coffee t...\n",
       "8656    The coffee tasted bitter and like it was burnt...\n",
       "4665    This crispbread is nice and thin   great for t...\n",
       "291     If you want an organic energy shot  your choic...\n",
       "                              ...                        \n",
       "655     First time I ve ever used Agave Nectar    and ...\n",
       "4980    I purchase Banh Trang Spring Rolls Skin freque...\n",
       "678     I love these chips  The flavor is not plain  T...\n",
       "5457    I am a strong believer in giving my baby organ...\n",
       "9365    The coffee tasted bitter and like it was burnt...\n",
       "Name: Text, Length: 4000, dtype: object"
      ]
     },
     "execution_count": 14,
     "metadata": {},
     "output_type": "execute_result"
    }
   ],
   "source": [
    "# Removemos los caracteres especiales de cada registro (solo nos interesan las palabras)\n",
    "pattern = r\"[^\\w]\" \n",
    "X_train_no_sp = X_train.apply(lambda x : re.sub(pattern, \" \", x))\n",
    "X_train_no_sp"
   ]
  },
  {
   "cell_type": "code",
   "execution_count": 15,
   "metadata": {},
   "outputs": [
    {
     "data": {
      "text/plain": [
       "338     i like a lot of sesame oil and use it in salad...\n",
       "1047    this coffee company delivers on great coffee t...\n",
       "8656    the coffee tasted bitter and like it was burnt...\n",
       "4665    this crispbread is nice and thin   great for t...\n",
       "291     if you want an organic energy shot  your choic...\n",
       "                              ...                        \n",
       "655     first time i ve ever used agave nectar    and ...\n",
       "4980    i purchase banh trang spring rolls skin freque...\n",
       "678     i love these chips  the flavor is not plain  t...\n",
       "5457    i am a strong believer in giving my baby organ...\n",
       "9365    the coffee tasted bitter and like it was burnt...\n",
       "Name: Text, Length: 4000, dtype: object"
      ]
     },
     "execution_count": 15,
     "metadata": {},
     "output_type": "execute_result"
    }
   ],
   "source": [
    "# Llevamos a minusculas todas las palabras\n",
    "X_train_no_sp_lower = X_train_no_sp.apply(lambda x : x.lower())\n",
    "X_train_no_sp_lower"
   ]
  },
  {
   "cell_type": "code",
   "execution_count": 16,
   "metadata": {},
   "outputs": [
    {
     "data": {
      "text/plain": [
       "'i like a lot of sesame oil and use it in salads regularly   great quality  flavor and aroma   can t beat that its organic  this coffee company delivers on great coffee taste    i like my coffee with deep  robust taste and jeremiah s always is    it makes me glad to purchase it    thanks   the coffee tasted bitter and like it was burnt   i cleaned the machine and it still tasted bitter and burnt   will not order this again  this crispbread is nice and thin   great for those with more sensitive teeth  br    br   i eat 3 of these in the morning for breakfast with smuckers sugar free jelly on them  br   guilt free and delicious  br    br   you do have to be a little careful when spreading heavy stuff on them like peanut butter  br   if you press too hard they can break  br    br   one thing you can t tell from the box is that there are actually 2 air tight packs in the box  br    br   i m currently eating these and the ryvita sesame rye crispbread  br   highly recommend both  br    br   note  i have lost 12 pounds by changing my diet but i give the most credit to 2 things   rye crispbread replacing almost br   all of the flour in my diet   and drinking oolong tea which helps burn belly fat  br   you do need to exercise a little bit too  if you want an organic energy shot  your choices are this one from steaz and the assorted flavors from guayaki  guayaki yerba mate is actually in the steaz energy shot and energy drinks  and they both use sambazon acai  so there are some similarities in ingredients  br    br   great energy burst for 4  hours on a steaz energy shot  and no withdrawals or headaches afterwards  plan on drinking one every day at lunch at work  this will help me cut down on my iced coffees  which are not helping my calorie intake  br    br   already ordering 12 packs on subscribe and save  2 per month  great value  the best in fiber  as crunchy flakes   great as is or topped with fruit plus added skim milk or yogurt and you have a fresh start to your day  it '"
      ]
     },
     "execution_count": 16,
     "metadata": {},
     "output_type": "execute_result"
    }
   ],
   "source": [
    "# Unimos todos los textos en uno único\n",
    "X_train_join=' '.join(X_train_no_sp_lower)\n",
    "\n",
    "# Visualizamos los primeros 2000 registros para corroborar la salida\n",
    "X_train_join[0:2000]"
   ]
  },
  {
   "cell_type": "code",
   "execution_count": 17,
   "metadata": {},
   "outputs": [
    {
     "data": {
      "text/plain": [
       "['i',\n",
       " 'like',\n",
       " 'a',\n",
       " 'lot',\n",
       " 'of',\n",
       " 'sesame',\n",
       " 'oil',\n",
       " 'and',\n",
       " 'use',\n",
       " 'it',\n",
       " 'in',\n",
       " 'salads',\n",
       " 'regularly',\n",
       " 'great',\n",
       " 'quality',\n",
       " 'flavor',\n",
       " 'and',\n",
       " 'aroma',\n",
       " 'can',\n",
       " 't']"
      ]
     },
     "execution_count": 17,
     "metadata": {},
     "output_type": "execute_result"
    }
   ],
   "source": [
    "# Separamos en palabras individuales\n",
    "X_train_split = X_train_join.split()\n",
    "\n",
    "# Visualizamos los primeros 20 registros para corroborar la salida\n",
    "X_train_split[0:20]"
   ]
  },
  {
   "cell_type": "code",
   "execution_count": 18,
   "metadata": {},
   "outputs": [],
   "source": [
    "# Hacemos la transformación de lista a set para que no tome valores repetidos\n",
    "# (los set acorde a las propiedades de conjuntos presentan elementos que son únicos)\n",
    "X_train_unique_words = set(X_train_split)\n",
    "# print(X_train_set)"
   ]
  },
  {
   "cell_type": "code",
   "execution_count": 19,
   "metadata": {},
   "outputs": [
    {
     "data": {
      "text/plain": [
       "12888"
      ]
     },
     "execution_count": 19,
     "metadata": {},
     "output_type": "execute_result"
    }
   ],
   "source": [
    "# Calculamos la cantidad de palabras únicas en el set de entrenamiento\n",
    "len(X_train_unique_words)"
   ]
  },
  {
   "cell_type": "code",
   "execution_count": 20,
   "metadata": {},
   "outputs": [],
   "source": [
    "# Combinando todas las funciones descritas, generemos ahora una \n",
    "# función única que haga el conteo de palabras por registro\n",
    "def words_per_row(X):\n",
    "    pattern = r\"[^\\w]\"\n",
    "    X_words =  X.apply(lambda x : len(re.sub(pattern, \" \", x).lower().split()))\n",
    "    return X_words"
   ]
  },
  {
   "cell_type": "code",
   "execution_count": 21,
   "metadata": {},
   "outputs": [
    {
     "data": {
      "text/html": [
       "<div>\n",
       "<style scoped>\n",
       "    .dataframe tbody tr th:only-of-type {\n",
       "        vertical-align: middle;\n",
       "    }\n",
       "\n",
       "    .dataframe tbody tr th {\n",
       "        vertical-align: top;\n",
       "    }\n",
       "\n",
       "    .dataframe thead th {\n",
       "        text-align: right;\n",
       "    }\n",
       "</style>\n",
       "<table border=\"1\" class=\"dataframe\">\n",
       "  <thead>\n",
       "    <tr style=\"text-align: right;\">\n",
       "      <th></th>\n",
       "      <th>cant_words</th>\n",
       "    </tr>\n",
       "  </thead>\n",
       "  <tbody>\n",
       "    <tr>\n",
       "      <th>338</th>\n",
       "      <td>24</td>\n",
       "    </tr>\n",
       "    <tr>\n",
       "      <th>1047</th>\n",
       "      <td>29</td>\n",
       "    </tr>\n",
       "    <tr>\n",
       "      <th>8656</th>\n",
       "      <td>25</td>\n",
       "    </tr>\n",
       "    <tr>\n",
       "      <th>4665</th>\n",
       "      <td>157</td>\n",
       "    </tr>\n",
       "    <tr>\n",
       "      <th>291</th>\n",
       "      <td>107</td>\n",
       "    </tr>\n",
       "    <tr>\n",
       "      <th>...</th>\n",
       "      <td>...</td>\n",
       "    </tr>\n",
       "    <tr>\n",
       "      <th>655</th>\n",
       "      <td>20</td>\n",
       "    </tr>\n",
       "    <tr>\n",
       "      <th>4980</th>\n",
       "      <td>124</td>\n",
       "    </tr>\n",
       "    <tr>\n",
       "      <th>678</th>\n",
       "      <td>37</td>\n",
       "    </tr>\n",
       "    <tr>\n",
       "      <th>5457</th>\n",
       "      <td>129</td>\n",
       "    </tr>\n",
       "    <tr>\n",
       "      <th>9365</th>\n",
       "      <td>25</td>\n",
       "    </tr>\n",
       "  </tbody>\n",
       "</table>\n",
       "<p>4000 rows × 1 columns</p>\n",
       "</div>"
      ],
      "text/plain": [
       "      cant_words\n",
       "338           24\n",
       "1047          29\n",
       "8656          25\n",
       "4665         157\n",
       "291          107\n",
       "...          ...\n",
       "655           20\n",
       "4980         124\n",
       "678           37\n",
       "5457         129\n",
       "9365          25\n",
       "\n",
       "[4000 rows x 1 columns]"
      ]
     },
     "execution_count": 21,
     "metadata": {},
     "output_type": "execute_result"
    }
   ],
   "source": [
    "# Apliquemos el contador de palabras definido a nuestro data de entrenamiento\n",
    "# y generemos un dataframe a partir de la matriz obtenida\n",
    "X_train_counted = words_per_row(X_train).to_frame().rename(columns={\"Text\": \"cant_words\"})\n",
    "X_train_counted"
   ]
  },
  {
   "cell_type": "code",
   "execution_count": 22,
   "metadata": {},
   "outputs": [
    {
     "data": {
      "text/plain": [
       "<seaborn.axisgrid.FacetGrid at 0x20da6d90b48>"
      ]
     },
     "execution_count": 22,
     "metadata": {},
     "output_type": "execute_result"
    },
    {
     "data": {
      "text/plain": [
       "<Figure size 2160x576 with 0 Axes>"
      ]
     },
     "metadata": {},
     "output_type": "display_data"
    },
    {
     "data": {
      "image/png": "[encoded data removed]",
      "text/plain": [
       "<Figure size 777.6x432 with 1 Axes>"
      ]
     },
     "metadata": {
      "needs_background": "light"
     },
     "output_type": "display_data"
    }
   ],
   "source": [
    "# Visualicemos la distribución de la cantidad de palabras para cada registo\n",
    "# en el conjunto de entrenamiento\n",
    "plt.figure(figsize=(30,8))\n",
    "sns.displot(x='cant_words', data=X_train_counted, height=6, aspect=1.8)"
   ]
  },
  {
   "cell_type": "code",
   "execution_count": 23,
   "metadata": {},
   "outputs": [
    {
     "data": {
      "text/html": [
       "<div>\n",
       "<style scoped>\n",
       "    .dataframe tbody tr th:only-of-type {\n",
       "        vertical-align: middle;\n",
       "    }\n",
       "\n",
       "    .dataframe tbody tr th {\n",
       "        vertical-align: top;\n",
       "    }\n",
       "\n",
       "    .dataframe thead th {\n",
       "        text-align: right;\n",
       "    }\n",
       "</style>\n",
       "<table border=\"1\" class=\"dataframe\">\n",
       "  <thead>\n",
       "    <tr style=\"text-align: right;\">\n",
       "      <th></th>\n",
       "      <th>cant_words</th>\n",
       "    </tr>\n",
       "  </thead>\n",
       "  <tbody>\n",
       "    <tr>\n",
       "      <th>count</th>\n",
       "      <td>4000.000000</td>\n",
       "    </tr>\n",
       "    <tr>\n",
       "      <th>mean</th>\n",
       "      <td>87.216500</td>\n",
       "    </tr>\n",
       "    <tr>\n",
       "      <th>std</th>\n",
       "      <td>84.960763</td>\n",
       "    </tr>\n",
       "    <tr>\n",
       "      <th>min</th>\n",
       "      <td>6.000000</td>\n",
       "    </tr>\n",
       "    <tr>\n",
       "      <th>25%</th>\n",
       "      <td>37.000000</td>\n",
       "    </tr>\n",
       "    <tr>\n",
       "      <th>50%</th>\n",
       "      <td>63.000000</td>\n",
       "    </tr>\n",
       "    <tr>\n",
       "      <th>75%</th>\n",
       "      <td>108.000000</td>\n",
       "    </tr>\n",
       "    <tr>\n",
       "      <th>max</th>\n",
       "      <td>1769.000000</td>\n",
       "    </tr>\n",
       "  </tbody>\n",
       "</table>\n",
       "</div>"
      ],
      "text/plain": [
       "        cant_words\n",
       "count  4000.000000\n",
       "mean     87.216500\n",
       "std      84.960763\n",
       "min       6.000000\n",
       "25%      37.000000\n",
       "50%      63.000000\n",
       "75%     108.000000\n",
       "max    1769.000000"
      ]
     },
     "execution_count": 23,
     "metadata": {},
     "output_type": "execute_result"
    }
   ],
   "source": [
    "# Calculemos los estadisticos más representativos de la distribución\n",
    "X_train_counted.describe()"
   ]
  },
  {
   "cell_type": "code",
   "execution_count": 24,
   "metadata": {},
   "outputs": [
    {
     "data": {
      "text/plain": [
       "cant_words    123.0\n",
       "Name: 0.8, dtype: float64"
      ]
     },
     "execution_count": 24,
     "metadata": {},
     "output_type": "execute_result"
    }
   ],
   "source": [
    "# Calculemos de manera especifica el percentil requerido (percentil 80)\n",
    "X_train_counted.quantile(.8)"
   ]
  },
  {
   "cell_type": "markdown",
   "metadata": {},
   "source": [
    "We finally found that 80% of the records that are part of the training set have an extension of 123 words or less (80th percentile)."
   ]
  },
  {
   "cell_type": "markdown",
   "metadata": {},
   "source": [
    "-------"
   ]
  },
  {
   "cell_type": "markdown",
   "metadata": {},
   "source": [
    "<h4>2.2</h4>\n",
    "<p>Given the results above, we create a tokenizer using only the top 20,000 most frequent words in our corpus (which corresponds to roughly 80% of the words): </p>"
   ]
  },
  {
   "cell_type": "code",
   "execution_count": 25,
   "metadata": {},
   "outputs": [
    {
     "data": {
      "text/plain": [
       "338     I like a lot of sesame oil and use it in salad...\n",
       "1047    This coffee company delivers on great coffee t...\n",
       "8656    The coffee tasted bitter and like it was burnt...\n",
       "4665    This crispbread is nice and thin - great for t...\n",
       "291     If you want an organic energy shot, your choic...\n",
       "                              ...                        \n",
       "655     First time I've ever used Agave Nectar -- and ...\n",
       "4980    I purchase Banh Trang Spring Rolls Skin freque...\n",
       "678     I love these chips. The flavor is not plain. T...\n",
       "5457    I am a strong believer in giving my baby organ...\n",
       "9365    The coffee tasted bitter and like it was burnt...\n",
       "Name: Text, Length: 4000, dtype: object"
      ]
     },
     "execution_count": 25,
     "metadata": {},
     "output_type": "execute_result"
    }
   ],
   "source": [
    "# Recordemos nuestra matriz de datos de entrenamiento\n",
    "X_train"
   ]
  },
  {
   "cell_type": "code",
   "execution_count": 26,
   "metadata": {
    "tags": [
     "ans_st"
    ]
   },
   "outputs": [],
   "source": [
    "# Instanciamos un tokenizador de keras con 20000 palabras\n",
    "# (linea incluida por defecto en el extended case)\n",
    "# We create the tokenizer using only top 20000 words\n",
    "tokenizer = Tokenizer(num_words=20000) "
   ]
  },
  {
   "cell_type": "code",
   "execution_count": 27,
   "metadata": {},
   "outputs": [],
   "source": [
    "# Entrenamos el tokenizador con el conjunto de entrenamiento\n",
    "# (linea incluida por defecto en el extended case)\n",
    "# Then, we create the text->indices mapping.\n",
    "tokenizer.fit_on_texts(X_train)   "
   ]
  },
  {
   "cell_type": "markdown",
   "metadata": {},
   "source": [
    "The above line has given several features and methods to our tokenizer. For instance, print the line `tokenizer.word_index` in a new cell - what do you see? Apply the `tokenizer.texts_to_sequences()` method on the list `['I just feel very very good']`. Apply the `tokenizer.sequences_to_texts()` method on the list `[[109, 19, 824, 76, 114, 6315, 1137, 8070]]`. What were your results?"
   ]
  },
  {
   "cell_type": "markdown",
   "metadata": {
    "tags": [
     "ans_st"
    ]
   },
   "source": [
    "**Answer.**"
   ]
  },
  {
   "cell_type": "code",
   "execution_count": 28,
   "metadata": {},
   "outputs": [
    {
     "data": {
      "text/plain": [
       "{'the': 1,\n",
       " 'i': 2,\n",
       " 'a': 3,\n",
       " 'and': 4,\n",
       " 'to': 5,\n",
       " 'it': 6,\n",
       " 'of': 7,\n",
       " 'is': 8,\n",
       " 'br': 9,\n",
       " 'this': 10,\n",
       " 'in': 11,\n",
       " 'for': 12,\n",
       " 'that': 13,\n",
       " 'not': 14,\n",
       " 'but': 15,\n",
       " 'my': 16,\n",
       " 'with': 17,\n",
       " 'was': 18,\n",
       " 'have': 19,\n",
       " 'you': 20,\n",
       " 'are': 21,\n",
       " 'they': 22,\n",
       " 'as': 23,\n",
       " 'like': 24,\n",
       " 'on': 25,\n",
       " 'so': 26,\n",
       " 'these': 27,\n",
       " 'be': 28,\n",
       " 'taste': 29,\n",
       " 'good': 30,\n",
       " 'if': 31,\n",
       " 'them': 32,\n",
       " 'product': 33,\n",
       " 'or': 34,\n",
       " 'coffee': 35,\n",
       " 'just': 36,\n",
       " 'all': 37,\n",
       " 'at': 38,\n",
       " 'very': 39,\n",
       " 'one': 40,\n",
       " 'flavor': 41,\n",
       " 'would': 42,\n",
       " \"it's\": 43,\n",
       " 'had': 44,\n",
       " 'can': 45,\n",
       " 'from': 46,\n",
       " 'more': 47,\n",
       " 'when': 48,\n",
       " 'me': 49,\n",
       " 'than': 50,\n",
       " 'no': 51,\n",
       " 'will': 52,\n",
       " 'out': 53,\n",
       " 'has': 54,\n",
       " 'we': 55,\n",
       " 'other': 56,\n",
       " 'great': 57,\n",
       " 'were': 58,\n",
       " 'much': 59,\n",
       " 'some': 60,\n",
       " 'really': 61,\n",
       " \"don't\": 62,\n",
       " 'there': 63,\n",
       " 'up': 64,\n",
       " 'too': 65,\n",
       " 'only': 66,\n",
       " 'chips': 67,\n",
       " 'because': 68,\n",
       " 'about': 69,\n",
       " 'get': 70,\n",
       " 'an': 71,\n",
       " 'amazon': 72,\n",
       " 'food': 73,\n",
       " 'what': 74,\n",
       " 'buy': 75,\n",
       " 'your': 76,\n",
       " 'sugar': 77,\n",
       " 'better': 78,\n",
       " 'which': 79,\n",
       " 'little': 80,\n",
       " 'even': 81,\n",
       " 'tea': 82,\n",
       " 'do': 83,\n",
       " 'also': 84,\n",
       " 'use': 85,\n",
       " 'love': 86,\n",
       " 'time': 87,\n",
       " 'drink': 88,\n",
       " 'price': 89,\n",
       " \"i'm\": 90,\n",
       " 'tried': 91,\n",
       " 'cup': 92,\n",
       " 'by': 93,\n",
       " 'water': 94,\n",
       " 'after': 95,\n",
       " 'am': 96,\n",
       " 'make': 97,\n",
       " 'again': 98,\n",
       " 'well': 99,\n",
       " 'try': 100,\n",
       " 'first': 101,\n",
       " 'been': 102,\n",
       " 'juice': 103,\n",
       " 'bag': 104,\n",
       " 'find': 105,\n",
       " 'their': 106,\n",
       " 'any': 107,\n",
       " \"i've\": 108,\n",
       " 'did': 109,\n",
       " 'sweet': 110,\n",
       " 'then': 111,\n",
       " 'eat': 112,\n",
       " 'now': 113,\n",
       " '3': 114,\n",
       " 'best': 115,\n",
       " '2': 116,\n",
       " 'box': 117,\n",
       " 'chocolate': 118,\n",
       " 'made': 119,\n",
       " 'still': 120,\n",
       " 'think': 121,\n",
       " 'bought': 122,\n",
       " 'over': 123,\n",
       " 'could': 124,\n",
       " 'found': 125,\n",
       " 'way': 126,\n",
       " 'used': 127,\n",
       " 'know': 128,\n",
       " 'flavors': 129,\n",
       " 'bad': 130,\n",
       " 'hot': 131,\n",
       " 'want': 132,\n",
       " 'something': 133,\n",
       " 'order': 134,\n",
       " 'does': 135,\n",
       " 'orange': 136,\n",
       " 'tastes': 137,\n",
       " 'mix': 138,\n",
       " 'bit': 139,\n",
       " '1': 140,\n",
       " \"didn't\": 141,\n",
       " 'same': 142,\n",
       " 'two': 143,\n",
       " 'free': 144,\n",
       " 'he': 145,\n",
       " 'our': 146,\n",
       " 'she': 147,\n",
       " 'say': 148,\n",
       " 'ingredients': 149,\n",
       " 'however': 150,\n",
       " 'brand': 151,\n",
       " 'since': 152,\n",
       " 'though': 153,\n",
       " 'many': 154,\n",
       " 'who': 155,\n",
       " 'less': 156,\n",
       " 'go': 157,\n",
       " 'k': 158,\n",
       " 'how': 159,\n",
       " '5': 160,\n",
       " 'got': 161,\n",
       " '4': 162,\n",
       " 'thought': 163,\n",
       " 'cups': 164,\n",
       " 'organic': 165,\n",
       " 'pack': 166,\n",
       " \"doesn't\": 167,\n",
       " 'nice': 168,\n",
       " 'give': 169,\n",
       " 'store': 170,\n",
       " 'soda': 171,\n",
       " 'salt': 172,\n",
       " 'bags': 173,\n",
       " 'most': 174,\n",
       " 'before': 175,\n",
       " 'ordered': 176,\n",
       " 'never': 177,\n",
       " 'natural': 178,\n",
       " 'different': 179,\n",
       " 'sure': 180,\n",
       " \"can't\": 181,\n",
       " 'recommend': 182,\n",
       " 'off': 183,\n",
       " 'enough': 184,\n",
       " 'into': 185,\n",
       " 'few': 186,\n",
       " 'small': 187,\n",
       " 'lot': 188,\n",
       " 'should': 189,\n",
       " 'products': 190,\n",
       " 'regular': 191,\n",
       " 'high': 192,\n",
       " 'tasted': 193,\n",
       " 'quality': 194,\n",
       " 'its': 195,\n",
       " 'size': 196,\n",
       " 'may': 197,\n",
       " 'milk': 198,\n",
       " 'pretty': 199,\n",
       " 'being': 200,\n",
       " 'hard': 201,\n",
       " 'makes': 202,\n",
       " 'shipping': 203,\n",
       " 'without': 204,\n",
       " 'favorite': 205,\n",
       " 'while': 206,\n",
       " 'see': 207,\n",
       " 'right': 208,\n",
       " 'those': 209,\n",
       " 'back': 210,\n",
       " 'her': 211,\n",
       " 'green': 212,\n",
       " 'fruit': 213,\n",
       " 'dog': 214,\n",
       " 'old': 215,\n",
       " 'switch': 216,\n",
       " 'looking': 217,\n",
       " 'people': 218,\n",
       " 'down': 219,\n",
       " 'strong': 220,\n",
       " 'going': 221,\n",
       " 'per': 222,\n",
       " 'added': 223,\n",
       " 'using': 224,\n",
       " 'whole': 225,\n",
       " 'stuff': 226,\n",
       " 'disappointed': 227,\n",
       " 'calories': 228,\n",
       " 'thing': 229,\n",
       " 'buying': 230,\n",
       " 'real': 231,\n",
       " 'both': 232,\n",
       " \"i'd\": 233,\n",
       " 'away': 234,\n",
       " 'here': 235,\n",
       " 'money': 236,\n",
       " 'purchase': 237,\n",
       " 'every': 238,\n",
       " 'put': 239,\n",
       " '8': 240,\n",
       " 'stars': 241,\n",
       " 'add': 242,\n",
       " 'maybe': 243,\n",
       " 'ever': 244,\n",
       " 'work': 245,\n",
       " 'another': 246,\n",
       " 'reviews': 247,\n",
       " 'received': 248,\n",
       " 'said': 249,\n",
       " 'definitely': 250,\n",
       " 'probably': 251,\n",
       " '6': 252,\n",
       " 'years': 253,\n",
       " 'potato': 254,\n",
       " 'big': 255,\n",
       " 'problem': 256,\n",
       " \"that's\": 257,\n",
       " 'purchased': 258,\n",
       " 'almost': 259,\n",
       " 'enjoy': 260,\n",
       " 'flavored': 261,\n",
       " 'com': 262,\n",
       " 'always': 263,\n",
       " 'eating': 264,\n",
       " 'corn': 265,\n",
       " 'healthy': 266,\n",
       " 'half': 267,\n",
       " '12': 268,\n",
       " 'local': 269,\n",
       " '100': 270,\n",
       " 'tasty': 271,\n",
       " 'case': 272,\n",
       " 'need': 273,\n",
       " 'through': 274,\n",
       " 'anything': 275,\n",
       " 'tangerine': 276,\n",
       " 'actually': 277,\n",
       " 'quite': 278,\n",
       " 'package': 279,\n",
       " 'day': 280,\n",
       " 'why': 281,\n",
       " 'easy': 282,\n",
       " 'far': 283,\n",
       " 'fresh': 284,\n",
       " 'long': 285,\n",
       " 'gluten': 286,\n",
       " \"isn't\": 287,\n",
       " 'item': 288,\n",
       " 'foods': 289,\n",
       " 'texture': 290,\n",
       " 'brands': 291,\n",
       " 'instead': 292,\n",
       " 'cookies': 293,\n",
       " 'own': 294,\n",
       " 'keep': 295,\n",
       " 'each': 296,\n",
       " 'dark': 297,\n",
       " \"you're\": 298,\n",
       " 'full': 299,\n",
       " 'new': 300,\n",
       " 'kettle': 301,\n",
       " 'ok': 302,\n",
       " 'blend': 303,\n",
       " 'tasting': 304,\n",
       " 'oz': 305,\n",
       " 'several': 306,\n",
       " \"won't\": 307,\n",
       " 'might': 308,\n",
       " 'roast': 309,\n",
       " \"i'll\": 310,\n",
       " 'came': 311,\n",
       " 'low': 312,\n",
       " 'worth': 313,\n",
       " 'either': 314,\n",
       " 'amount': 315,\n",
       " 'expensive': 316,\n",
       " 'perfect': 317,\n",
       " 'cocoa': 318,\n",
       " 'nothing': 319,\n",
       " 'coconut': 320,\n",
       " 'oil': 321,\n",
       " 'delicious': 322,\n",
       " 'cans': 323,\n",
       " 'fat': 324,\n",
       " 'take': 325,\n",
       " 'sauce': 326,\n",
       " 'kind': 327,\n",
       " 'having': 328,\n",
       " 'review': 329,\n",
       " 'three': 330,\n",
       " 'keurig': 331,\n",
       " 'carbonated': 332,\n",
       " 'trying': 333,\n",
       " 'company': 334,\n",
       " 'drinking': 335,\n",
       " 'baby': 336,\n",
       " 'black': 337,\n",
       " 'usually': 338,\n",
       " 'ounce': 339,\n",
       " 'snack': 340,\n",
       " 'fine': 341,\n",
       " 'rather': 342,\n",
       " 'grocery': 343,\n",
       " 'us': 344,\n",
       " 'last': 345,\n",
       " 'white': 346,\n",
       " 'things': 347,\n",
       " \"they're\": 348,\n",
       " 'such': 349,\n",
       " 'around': 350,\n",
       " 'wanted': 351,\n",
       " 'rice': 352,\n",
       " 'ones': 353,\n",
       " 'cat': 354,\n",
       " 'www': 355,\n",
       " 'http': 356,\n",
       " 'feel': 357,\n",
       " 'gave': 358,\n",
       " 'diet': 359,\n",
       " 'dogs': 360,\n",
       " 'light': 361,\n",
       " 'extra': 362,\n",
       " 'powder': 363,\n",
       " 'variety': 364,\n",
       " 'gp': 365,\n",
       " 'href': 366,\n",
       " 'syrup': 367,\n",
       " 'packaging': 368,\n",
       " 'drinks': 369,\n",
       " 'come': 370,\n",
       " 'least': 371,\n",
       " 'seems': 372,\n",
       " 'bitter': 373,\n",
       " 'read': 374,\n",
       " 'top': 375,\n",
       " 'open': 376,\n",
       " 'side': 377,\n",
       " 'making': 378,\n",
       " 'bold': 379,\n",
       " 'liked': 380,\n",
       " 'chip': 381,\n",
       " 'him': 382,\n",
       " 'dry': 383,\n",
       " 'artificial': 384,\n",
       " 'chicken': 385,\n",
       " 'fact': 386,\n",
       " 'smell': 387,\n",
       " 'aftertaste': 388,\n",
       " 'cats': 389,\n",
       " 'getting': 390,\n",
       " 'his': 391,\n",
       " 'loves': 392,\n",
       " 'salty': 393,\n",
       " \"couldn't\": 394,\n",
       " 'prefer': 395,\n",
       " 'where': 396,\n",
       " 'once': 397,\n",
       " 'although': 398,\n",
       " \"wasn't\": 399,\n",
       " 'decided': 400,\n",
       " 'mountain': 401,\n",
       " 'until': 402,\n",
       " 'times': 403,\n",
       " 'mouth': 404,\n",
       " 'cake': 405,\n",
       " 'boxes': 406,\n",
       " 'others': 407,\n",
       " 'happy': 408,\n",
       " '10': 409,\n",
       " 'arrived': 410,\n",
       " 'weak': 411,\n",
       " 'serving': 412,\n",
       " 'apple': 413,\n",
       " 'opened': 414,\n",
       " 'look': 415,\n",
       " 'next': 416,\n",
       " \"wouldn't\": 417,\n",
       " 'health': 418,\n",
       " 'candy': 419,\n",
       " 'family': 420,\n",
       " 'husband': 421,\n",
       " 'year': 422,\n",
       " 'home': 423,\n",
       " 'cheaper': 424,\n",
       " 'comes': 425,\n",
       " 'seem': 426,\n",
       " 'vanilla': 427,\n",
       " 'beans': 428,\n",
       " 'decaf': 429,\n",
       " 'months': 430,\n",
       " 'says': 431,\n",
       " 'expected': 432,\n",
       " 'loved': 433,\n",
       " 'fan': 434,\n",
       " 'deal': 435,\n",
       " 'wish': 436,\n",
       " 'save': 437,\n",
       " 'vitamin': 438,\n",
       " 'stick': 439,\n",
       " 'stores': 440,\n",
       " 'excellent': 441,\n",
       " 'kids': 442,\n",
       " 'alternative': 443,\n",
       " 'else': 444,\n",
       " 'bottle': 445,\n",
       " 'reason': 446,\n",
       " 'couple': 447,\n",
       " 'vinegar': 448,\n",
       " 'cost': 449,\n",
       " 'treats': 450,\n",
       " 'days': 451,\n",
       " 'treat': 452,\n",
       " 'c': 453,\n",
       " 'left': 454,\n",
       " 'able': 455,\n",
       " 'believe': 456,\n",
       " 'coffees': 457,\n",
       " 'guess': 458,\n",
       " 'unfortunately': 459,\n",
       " 'cream': 460,\n",
       " 'soy': 461,\n",
       " 'available': 462,\n",
       " 'medium': 463,\n",
       " 'large': 464,\n",
       " 'took': 465,\n",
       " 'spicy': 466,\n",
       " 'idea': 467,\n",
       " 'especially': 468,\n",
       " 'let': 469,\n",
       " 'went': 470,\n",
       " 'overall': 471,\n",
       " 'cheap': 472,\n",
       " 'sodium': 473,\n",
       " 'energy': 474,\n",
       " 'ordering': 475,\n",
       " 'plus': 476,\n",
       " 'wonderful': 477,\n",
       " 'waste': 478,\n",
       " 'bottom': 479,\n",
       " 'started': 480,\n",
       " 'soup': 481,\n",
       " 'type': 482,\n",
       " 'plastic': 483,\n",
       " 'second': 484,\n",
       " 'ingredient': 485,\n",
       " 'experience': 486,\n",
       " 'label': 487,\n",
       " 'broken': 488,\n",
       " '7': 489,\n",
       " '24': 490,\n",
       " 'similar': 491,\n",
       " 'formula': 492,\n",
       " 'breakfast': 493,\n",
       " 'wolfgang': 494,\n",
       " 'yet': 495,\n",
       " 'contains': 496,\n",
       " 'someone': 497,\n",
       " 'brown': 498,\n",
       " 'wrong': 499,\n",
       " 'ground': 500,\n",
       " 'flour': 501,\n",
       " 'help': 502,\n",
       " 'carbonation': 503,\n",
       " 'soft': 504,\n",
       " 'protein': 505,\n",
       " 'morning': 506,\n",
       " 'expect': 507,\n",
       " 'works': 508,\n",
       " 'everything': 509,\n",
       " 'enjoyed': 510,\n",
       " 'care': 511,\n",
       " 'end': 512,\n",
       " 'line': 513,\n",
       " '20': 514,\n",
       " 'name': 515,\n",
       " 'cookie': 516,\n",
       " 'minutes': 517,\n",
       " 'myself': 518,\n",
       " 'highly': 519,\n",
       " 'single': 520,\n",
       " 'son': 521,\n",
       " 'slightly': 522,\n",
       " 'mixed': 523,\n",
       " 'meat': 524,\n",
       " 'month': 525,\n",
       " 'anyone': 526,\n",
       " 'longer': 527,\n",
       " 'gift': 528,\n",
       " 'rich': 529,\n",
       " 'honey': 530,\n",
       " 'certainly': 531,\n",
       " 'absolutely': 532,\n",
       " 'baked': 533,\n",
       " 'past': 534,\n",
       " 'description': 535,\n",
       " 'french': 536,\n",
       " 'machine': 537,\n",
       " 'etc': 538,\n",
       " 'beverage': 539,\n",
       " '50': 540,\n",
       " \"you'll\": 541,\n",
       " 'pieces': 542,\n",
       " 'microwave': 543,\n",
       " 'must': 544,\n",
       " 'value': 545,\n",
       " 'opinion': 546,\n",
       " 'cannot': 547,\n",
       " 'quick': 548,\n",
       " 'smaller': 549,\n",
       " 'list': 550,\n",
       " 'market': 551,\n",
       " 'ago': 552,\n",
       " 'ice': 553,\n",
       " 'packaged': 554,\n",
       " 'blue': 555,\n",
       " 'butter': 556,\n",
       " 'cut': 557,\n",
       " 'puck': 558,\n",
       " 'grape': 559,\n",
       " 'cheese': 560,\n",
       " 'baking': 561,\n",
       " 'online': 562,\n",
       " 'plain': 563,\n",
       " 'brew': 564,\n",
       " 'friends': 565,\n",
       " 'packs': 566,\n",
       " 'hoping': 567,\n",
       " 'based': 568,\n",
       " 'canned': 569,\n",
       " 'okay': 570,\n",
       " 'smooth': 571,\n",
       " 'pay': 572,\n",
       " 'looked': 573,\n",
       " 'meal': 574,\n",
       " 'star': 575,\n",
       " 'often': 576,\n",
       " 'part': 577,\n",
       " 'due': 578,\n",
       " \"earth's\": 579,\n",
       " 'itself': 580,\n",
       " 'non': 581,\n",
       " 'ounces': 582,\n",
       " 'super': 583,\n",
       " \"there's\": 584,\n",
       " 'unless': 585,\n",
       " 'jars': 586,\n",
       " 'aroma': 587,\n",
       " 'calorie': 588,\n",
       " 'bars': 589,\n",
       " 'pop': 590,\n",
       " 'color': 591,\n",
       " 'given': 592,\n",
       " 'during': 593,\n",
       " 'sour': 594,\n",
       " 'teas': 595,\n",
       " 'service': 596,\n",
       " 'tell': 597,\n",
       " 'none': 598,\n",
       " 'version': 599,\n",
       " 'berry': 600,\n",
       " \"aren't\": 601,\n",
       " 'weight': 602,\n",
       " 'items': 603,\n",
       " 'juices': 604,\n",
       " 'expecting': 605,\n",
       " 'larger': 606,\n",
       " '00': 607,\n",
       " 'please': 608,\n",
       " 'pancakes': 609,\n",
       " 'difference': 610,\n",
       " 'yes': 611,\n",
       " 'problems': 612,\n",
       " 'grams': 613,\n",
       " 'likes': 614,\n",
       " 'perhaps': 615,\n",
       " 'giving': 616,\n",
       " 'change': 617,\n",
       " 'week': 618,\n",
       " 'healthier': 619,\n",
       " 'return': 620,\n",
       " 'daughter': 621,\n",
       " 'needed': 622,\n",
       " 'red': 623,\n",
       " 'inside': 624,\n",
       " 'house': 625,\n",
       " 'terrible': 626,\n",
       " 'compared': 627,\n",
       " 'seemed': 628,\n",
       " 'surprised': 629,\n",
       " 'true': 630,\n",
       " 'stale': 631,\n",
       " 'cherry': 632,\n",
       " 'raw': 633,\n",
       " 'rest': 634,\n",
       " 'contain': 635,\n",
       " 'customer': 636,\n",
       " 'fast': 637,\n",
       " 'called': 638,\n",
       " 'issue': 639,\n",
       " 'done': 640,\n",
       " 'recommended': 641,\n",
       " 'recipe': 642,\n",
       " 'acid': 643,\n",
       " 'pepper': 644,\n",
       " 'crunchy': 645,\n",
       " 'caramel': 646,\n",
       " 'exactly': 647,\n",
       " 'listed': 648,\n",
       " 'choice': 649,\n",
       " 'extremely': 650,\n",
       " 'decent': 651,\n",
       " 'close': 652,\n",
       " 'mind': 653,\n",
       " 'date': 654,\n",
       " 'mild': 655,\n",
       " 'refreshing': 656,\n",
       " 'everyone': 657,\n",
       " 'purchasing': 658,\n",
       " 'pork': 659,\n",
       " 'huge': 660,\n",
       " 'saw': 661,\n",
       " 'nuts': 662,\n",
       " '15': 663,\n",
       " 'original': 664,\n",
       " 'sometimes': 665,\n",
       " 'popcorn': 666,\n",
       " 'already': 667,\n",
       " 'cook': 668,\n",
       " 'four': 669,\n",
       " 'stevia': 670,\n",
       " 'container': 671,\n",
       " 'awful': 672,\n",
       " 'hand': 673,\n",
       " \"haven't\": 674,\n",
       " 'cereal': 675,\n",
       " 'adding': 676,\n",
       " 'horrible': 677,\n",
       " 'peanut': 678,\n",
       " 'otherwise': 679,\n",
       " 'sold': 680,\n",
       " 'wife': 681,\n",
       " 'special': 682,\n",
       " 'needs': 683,\n",
       " 'packages': 684,\n",
       " 'together': 685,\n",
       " 'paid': 686,\n",
       " 'hope': 687,\n",
       " 'noticed': 688,\n",
       " 'tiny': 689,\n",
       " 'weeks': 690,\n",
       " 'thinking': 691,\n",
       " 'thick': 692,\n",
       " '9': 693,\n",
       " 'bland': 694,\n",
       " 'count': 695,\n",
       " 'crackers': 696,\n",
       " 'starbucks': 697,\n",
       " 'dried': 698,\n",
       " 'worst': 699,\n",
       " 'easily': 700,\n",
       " 'place': 701,\n",
       " 'pineapple': 702,\n",
       " 'goes': 703,\n",
       " 'iced': 704,\n",
       " 'content': 705,\n",
       " 'finally': 706,\n",
       " 'ginger': 707,\n",
       " 'completely': 708,\n",
       " 'website': 709,\n",
       " 'cold': 710,\n",
       " 'jar': 711,\n",
       " 'kiwi': 712,\n",
       " 'higher': 713,\n",
       " 'changed': 714,\n",
       " 'mess': 715,\n",
       " 'clean': 716,\n",
       " 'bean': 717,\n",
       " 'life': 718,\n",
       " 'glass': 719,\n",
       " 'sugars': 720,\n",
       " 'instant': 721,\n",
       " 'flavorful': 722,\n",
       " 'strawberry': 723,\n",
       " 'bottles': 724,\n",
       " 'looks': 725,\n",
       " 'normal': 726,\n",
       " 'recently': 727,\n",
       " 'gum': 728,\n",
       " 'takes': 729,\n",
       " 'e': 730,\n",
       " 'difficult': 731,\n",
       " '0': 732,\n",
       " 'oatmeal': 733,\n",
       " 'disappointing': 734,\n",
       " 'balance': 735,\n",
       " 'potatoes': 736,\n",
       " 'dinner': 737,\n",
       " 'thanks': 738,\n",
       " 'fair': 739,\n",
       " 'body': 740,\n",
       " 'sweetener': 741,\n",
       " 'sodas': 742,\n",
       " 'rinds': 743,\n",
       " 'consistency': 744,\n",
       " 'leaves': 745,\n",
       " 'yourself': 746,\n",
       " 'bar': 747,\n",
       " 'spice': 748,\n",
       " 'pods': 749,\n",
       " 'ended': 750,\n",
       " 'soon': 751,\n",
       " 'liquid': 752,\n",
       " 'shipped': 753,\n",
       " 'short': 754,\n",
       " 'doing': 755,\n",
       " '16': 756,\n",
       " 'daily': 757,\n",
       " 'shop': 758,\n",
       " 'note': 759,\n",
       " 'simply': 760,\n",
       " 'fairly': 761,\n",
       " 'mostly': 762,\n",
       " 'particular': 763,\n",
       " 'o': 764,\n",
       " 'miss': 765,\n",
       " 'throw': 766,\n",
       " 'course': 767,\n",
       " 'along': 768,\n",
       " 'felt': 769,\n",
       " 'packets': 770,\n",
       " 'thin': 771,\n",
       " 'later': 772,\n",
       " 'amazing': 773,\n",
       " 'somewhat': 774,\n",
       " 'pound': 775,\n",
       " 'bite': 776,\n",
       " 'anyway': 777,\n",
       " 'sweetness': 778,\n",
       " 'sent': 779,\n",
       " 'beef': 780,\n",
       " 'gets': 781,\n",
       " 'batch': 782,\n",
       " 'glad': 783,\n",
       " 'flavoring': 784,\n",
       " 'between': 785,\n",
       " 'feeding': 786,\n",
       " 'normally': 787,\n",
       " 'consider': 788,\n",
       " 'tomatoes': 789,\n",
       " 'lemon': 790,\n",
       " 'sort': 791,\n",
       " 'thank': 792,\n",
       " 'avoid': 793,\n",
       " 'cooked': 794,\n",
       " 'nasty': 795,\n",
       " 'excited': 796,\n",
       " 'stop': 797,\n",
       " 'results': 798,\n",
       " 'under': 799,\n",
       " 'hint': 800,\n",
       " 'point': 801,\n",
       " 'clear': 802,\n",
       " 'weird': 803,\n",
       " 'stay': 804,\n",
       " 'sale': 805,\n",
       " 'wheat': 806,\n",
       " '30': 807,\n",
       " 'within': 808,\n",
       " 'sparkling': 809,\n",
       " 'number': 810,\n",
       " 'means': 811,\n",
       " 'licorice': 812,\n",
       " 'reading': 813,\n",
       " 'watery': 814,\n",
       " 'except': 815,\n",
       " 'delivery': 816,\n",
       " 'entire': 817,\n",
       " 'bisquick': 818,\n",
       " 'stuck': 819,\n",
       " 'feed': 820,\n",
       " 'caffeine': 821,\n",
       " 'noodles': 822,\n",
       " 'subscribe': 823,\n",
       " 'world': 824,\n",
       " 'today': 825,\n",
       " 'gives': 826,\n",
       " 'seeds': 827,\n",
       " 'run': 828,\n",
       " 'basically': 829,\n",
       " 'gone': 830,\n",
       " 'finish': 831,\n",
       " 'option': 832,\n",
       " 'lots': 833,\n",
       " 'nearly': 834,\n",
       " 'eaten': 835,\n",
       " 'crunch': 836,\n",
       " 'cause': 837,\n",
       " 'check': 838,\n",
       " 'cooking': 839,\n",
       " 'varieties': 840,\n",
       " 'actual': 841,\n",
       " 'paying': 842,\n",
       " 'told': 843,\n",
       " 'remember': 844,\n",
       " 'garlic': 845,\n",
       " 'heat': 846,\n",
       " 'mine': 847,\n",
       " 'air': 848,\n",
       " 'hours': 849,\n",
       " 'fiber': 850,\n",
       " 'fructose': 851,\n",
       " 'pure': 852,\n",
       " 'hate': 853,\n",
       " 'twice': 854,\n",
       " 'grounds': 855,\n",
       " 'extract': 856,\n",
       " 'set': 857,\n",
       " 'seller': 858,\n",
       " 'ate': 859,\n",
       " 'yummy': 860,\n",
       " 'bulk': 861,\n",
       " 'setting': 862,\n",
       " 'pleased': 863,\n",
       " 'sea': 864,\n",
       " 'pancake': 865,\n",
       " 'night': 866,\n",
       " 'call': 867,\n",
       " 'leave': 868,\n",
       " 'start': 869,\n",
       " 'odd': 870,\n",
       " '11': 871,\n",
       " 'matter': 872,\n",
       " 'considering': 873,\n",
       " 'packed': 874,\n",
       " 'barely': 875,\n",
       " 'flat': 876,\n",
       " 'carbs': 877,\n",
       " 'whatever': 878,\n",
       " 'refund': 879,\n",
       " 'easier': 880,\n",
       " 'dont': 881,\n",
       " '25': 882,\n",
       " 'sealed': 883,\n",
       " 'burnt': 884,\n",
       " 'heavy': 885,\n",
       " 'filled': 886,\n",
       " 'preservatives': 887,\n",
       " 'worse': 888,\n",
       " 'beverages': 889,\n",
       " 'reviewer': 890,\n",
       " 'certified': 891,\n",
       " 'mean': 892,\n",
       " 'summer': 893,\n",
       " 'melitta': 894,\n",
       " 'cinnamon': 895,\n",
       " 'combination': 896,\n",
       " 'maker': 897,\n",
       " 'calcium': 898,\n",
       " 'suggest': 899,\n",
       " 'chew': 900,\n",
       " 'convenience': 901,\n",
       " 'six': 902,\n",
       " 'plant': 903,\n",
       " 's': 904,\n",
       " 'msg': 905,\n",
       " 'oh': 906,\n",
       " 'live': 907,\n",
       " 'snacks': 908,\n",
       " 'picture': 909,\n",
       " 'shipment': 910,\n",
       " 'level': 911,\n",
       " 'thai': 912,\n",
       " 'issues': 913,\n",
       " 'smells': 914,\n",
       " 'egg': 915,\n",
       " 'supposed': 916,\n",
       " 'nutrition': 917,\n",
       " 'future': 918,\n",
       " 'stock': 919,\n",
       " 'priced': 920,\n",
       " 'likely': 921,\n",
       " 'gourmet': 922,\n",
       " 'total': 923,\n",
       " 'stopped': 924,\n",
       " 'picky': 925,\n",
       " 'packet': 926,\n",
       " 'anymore': 927,\n",
       " 'roasted': 928,\n",
       " 'mixes': 929,\n",
       " 'jerky': 930,\n",
       " 'usual': 931,\n",
       " 'brewing': 932,\n",
       " 'break': 933,\n",
       " 'fit': 934,\n",
       " 'filling': 935,\n",
       " 'figured': 936,\n",
       " 'instructions': 937,\n",
       " 'sorry': 938,\n",
       " 'christmas': 939,\n",
       " 'cents': 940,\n",
       " 'sticks': 941,\n",
       " 'filter': 942,\n",
       " 'sell': 943,\n",
       " 'middle': 944,\n",
       " 'quickly': 945,\n",
       " 'greasy': 946,\n",
       " 'source': 947,\n",
       " 'upon': 948,\n",
       " 'average': 949,\n",
       " '40': 950,\n",
       " 'brewed': 951,\n",
       " 'worked': 952,\n",
       " 'personally': 953,\n",
       " 'lid': 954,\n",
       " 'chewy': 955,\n",
       " 'agree': 956,\n",
       " 'process': 957,\n",
       " 'continue': 958,\n",
       " 'crazy': 959,\n",
       " 'fish': 960,\n",
       " 'offered': 961,\n",
       " 'directions': 962,\n",
       " 'loose': 963,\n",
       " 'plenty': 964,\n",
       " 'serve': 965,\n",
       " 'teeth': 966,\n",
       " 'five': 967,\n",
       " 'pick': 968,\n",
       " 'powdered': 969,\n",
       " 'including': 970,\n",
       " '99': 971,\n",
       " 'notice': 972,\n",
       " 'disappointment': 973,\n",
       " 'known': 974,\n",
       " 'peanuts': 975,\n",
       " 'bread': 976,\n",
       " 'important': 977,\n",
       " 'seen': 978,\n",
       " 'pleasant': 979,\n",
       " 'immediately': 980,\n",
       " 'crisp': 981,\n",
       " 'peppermint': 982,\n",
       " 'awesome': 983,\n",
       " 'lunch': 984,\n",
       " 'carry': 985,\n",
       " 'claims': 986,\n",
       " 'chemical': 987,\n",
       " 'children': 988,\n",
       " 'bbq': 989,\n",
       " 'putting': 990,\n",
       " 'convenient': 991,\n",
       " 'swiss': 992,\n",
       " 'fantastic': 993,\n",
       " 'simple': 994,\n",
       " 'paper': 995,\n",
       " 'overly': 996,\n",
       " 'unlike': 997,\n",
       " 'form': 998,\n",
       " 'colors': 999,\n",
       " \"weren't\": 1000,\n",
       " ...}"
      ]
     },
     "execution_count": 28,
     "metadata": {},
     "output_type": "execute_result"
    }
   ],
   "source": [
    "# Imprimimos tal como se sugiere tokenizer.word_index\n",
    "# (la impresión esta ocuta debida su extensión, si se desa visualizar, solo descomentar)\n",
    "# print(tokenizer.word_index) \n",
    "tokenizer.word_index"
   ]
  },
  {
   "cell_type": "markdown",
   "metadata": {},
   "source": [
    "We can see that **tokenizer.word_index** gives us a dictionary, from which I intuit, a descending ranking of the words that appear most frequently in our training set are found."
   ]
  },
  {
   "cell_type": "code",
   "execution_count": 29,
   "metadata": {},
   "outputs": [
    {
     "data": {
      "text/plain": [
       "[[2, 36, 357, 39, 39, 30]]"
      ]
     },
     "execution_count": 29,
     "metadata": {},
     "output_type": "execute_result"
    }
   ],
   "source": [
    "# Nos familiarizamos con la fución tokenizer.texts_to_sequences\n",
    "tokenizer.texts_to_sequences(['I just feel very very good'])"
   ]
  },
  {
   "cell_type": "markdown",
   "metadata": {},
   "source": [
    "We can see that **tokenizer.texts_to_sequences** gives us a list that contains the hierarchy indices (according to the tokenizer.word_index dictionary) for each of the words contained in an input list."
   ]
  },
  {
   "cell_type": "code",
   "execution_count": 30,
   "metadata": {},
   "outputs": [
    {
     "name": "stdout",
     "output_type": "stream",
     "text": [
      "['did have world your 3 destroying figure ummmm']\n"
     ]
    }
   ],
   "source": [
    "# Nos familiarizamos con la fución tokenizer.sequences_to_texts\n",
    "print(tokenizer.sequences_to_texts([[109, 19, 824, 76, 114, 6315, 1137, 8070]]))"
   ]
  },
  {
   "cell_type": "markdown",
   "metadata": {},
   "source": [
    "In a complementary way **tokenizer.sequences_to_texts** gives us a list that contains the words (according to the tokenizer.word_index dictionary) for each of the indices contained in an input list."
   ]
  },
  {
   "cell_type": "markdown",
   "metadata": {},
   "source": [
    "-------"
   ]
  },
  {
   "cell_type": "markdown",
   "metadata": {},
   "source": [
    "<h4>2.3</h4>\n",
    "<p>Use the tokenizer to transform the texts in our test and train data to sequences. Then, use the <code>pad_sequences</code> function to pad/truncate these sequences to length 116 (the 80th percentile of text lengths). Save the resulting arrays as <code>train_sequences</code> and <code>test_sequences</code>.</p>"
   ]
  },
  {
   "cell_type": "markdown",
   "metadata": {
    "tags": [
     "ans_st"
    ]
   },
   "source": [
    "**Answer.**"
   ]
  },
  {
   "cell_type": "code",
   "execution_count": 31,
   "metadata": {},
   "outputs": [
    {
     "data": {
      "text/plain": [
       "338     I like a lot of sesame oil and use it in salad...\n",
       "1047    This coffee company delivers on great coffee t...\n",
       "8656    The coffee tasted bitter and like it was burnt...\n",
       "4665    This crispbread is nice and thin - great for t...\n",
       "291     If you want an organic energy shot, your choic...\n",
       "                              ...                        \n",
       "655     First time I've ever used Agave Nectar -- and ...\n",
       "4980    I purchase Banh Trang Spring Rolls Skin freque...\n",
       "678     I love these chips. The flavor is not plain. T...\n",
       "5457    I am a strong believer in giving my baby organ...\n",
       "9365    The coffee tasted bitter and like it was burnt...\n",
       "Name: Text, Length: 4000, dtype: object"
      ]
     },
     "execution_count": 31,
     "metadata": {},
     "output_type": "execute_result"
    }
   ],
   "source": [
    "# Recordemos la variable que almacena el texto del conjunto de entrenamiento\n",
    "X_train"
   ]
  },
  {
   "cell_type": "code",
   "execution_count": 32,
   "metadata": {},
   "outputs": [
    {
     "data": {
      "text/plain": [
       "[[2,\n",
       "  24,\n",
       "  3,\n",
       "  188,\n",
       "  7,\n",
       "  3261,\n",
       "  321,\n",
       "  4,\n",
       "  85,\n",
       "  6,\n",
       "  11,\n",
       "  2375,\n",
       "  1455,\n",
       "  57,\n",
       "  194,\n",
       "  41,\n",
       "  4,\n",
       "  587,\n",
       "  181,\n",
       "  1279,\n",
       "  13,\n",
       "  195,\n",
       "  165]]"
      ]
     },
     "execution_count": 32,
     "metadata": {},
     "output_type": "execute_result"
    }
   ],
   "source": [
    "# Encontremos los indices jerarquicos de las palabras contenidas \n",
    "# en cada uno de los registros de nuestro conjunto de entrenamiento\n",
    "X_train_seq = tokenizer.texts_to_sequences(X_train)\n",
    "\n",
    "# Imprimamos el primer registro para corroborar que funciona correctamante\n",
    "X_train_seq[0:1]"
   ]
  },
  {
   "cell_type": "markdown",
   "metadata": {},
   "source": [
    "The **pad_sequences** function allows us to make lists with the same number of elements from the maxlen argument. If it presents fewer records, it fills them with zeros, and if it presents more records, it truncates them starting from the back to the front."
   ]
  },
  {
   "cell_type": "code",
   "execution_count": 33,
   "metadata": {},
   "outputs": [
    {
     "data": {
      "text/plain": [
       "array([[   0,    0,    0,    0,    0,    0,    0,    0,    0,    0,    0,\n",
       "           0,    0,    0,    0,    0,    0,    0,    0,    0,    0,    0,\n",
       "           0,    0,    0,    0,    0,    0,    0,    0,    0,    0,    0,\n",
       "           0,    0,    0,    0,    0,    0,    0,    0,    0,    0,    0,\n",
       "           0,    0,    0,    0,    0,    0,    0,    0,    0,    0,    0,\n",
       "           0,    0,    0,    0,    0,    0,    0,    0,    0,    0,    0,\n",
       "           0,    0,    0,    0,    0,    0,    0,    0,    0,    0,    0,\n",
       "           0,    0,    0,    0,    0,    0,    0,    0,    0,    0,    0,\n",
       "           0,    0,    0,    0,    0,    2,   24,    3,  188,    7, 3261,\n",
       "         321,    4,   85,    6,   11, 2375, 1455,   57,  194,   41,    4,\n",
       "         587,  181, 1279,   13,  195,  165],\n",
       "       [   0,    0,    0,    0,    0,    0,    0,    0,    0,    0,    0,\n",
       "           0,    0,    0,    0,    0,    0,    0,    0,    0,    0,    0,\n",
       "           0,    0,    0,    0,    0,    0,    0,    0,    0,    0,    0,\n",
       "           0,    0,    0,    0,    0,    0,    0,    0,    0,    0,    0,\n",
       "           0,    0,    0,    0,    0,    0,    0,    0,    0,    0,    0,\n",
       "           0,    0,    0,    0,    0,    0,    0,    0,    0,    0,    0,\n",
       "           0,    0,    0,    0,    0,    0,    0,    0,    0,    0,    0,\n",
       "           0,    0,    0,    0,    0,    0,    0,    0,    0,    0,    0,\n",
       "          10,   35,  334, 3262,   25,   57,   35,   29,    2,   24,   16,\n",
       "          35,   17, 1596, 2376,   29,    4, 4041,  263,    8,    6,  202,\n",
       "          49,  783,    5,  237,    6,  738]])"
      ]
     },
     "execution_count": 33,
     "metadata": {},
     "output_type": "execute_result"
    }
   ],
   "source": [
    "# Empleemos la función pad_sequences que nos permite llevar cada \n",
    "# registro a la misma longitud de indices\n",
    "# (empleando como entrada los datos de entrenamiento X_train)\n",
    "X_train_seq_eq_len = pad_sequences(X_train_seq, maxlen=116)\n",
    "\n",
    "# Imprimamos los 2 primeros registros para corroborar que funciona correctamante\n",
    "X_train_seq_eq_len[0:2]"
   ]
  },
  {
   "cell_type": "code",
   "execution_count": 34,
   "metadata": {},
   "outputs": [
    {
     "data": {
      "text/plain": [
       "array([[   0,    0,    0,    0,    0,    0,    0,    0,    0,    0,    0,\n",
       "           0,    0,    0,    0,    0,    0,    0,    0,    0,    0,    0,\n",
       "           0,    0,    0,    0,    0,    0,    0,    0,    0,    0,    0,\n",
       "           0,    0,    0,    0,    0,    0,    0,    0,    0,    0,    0,\n",
       "           0,    0,    0,    0,    0,    0,    0,    0,    0,    0,    0,\n",
       "           0,    0,    0,    0,    0,    0,    0,    0,    0,    0,    0,\n",
       "           0,    0,    0,    0,    0,    0,    0,    0,    0,    0,    0,\n",
       "           0,    0,    0,    0,    0,    0,    0,    0,    0,    0,    0,\n",
       "           0,    0,    0,    0,    0,    2,   24,    3,  188,    7, 3261,\n",
       "         321,    4,   85,    6,   11, 2375, 1455,   57,  194,   41,    4,\n",
       "         587,  181, 1279,   13,  195,  165],\n",
       "       [   0,    0,    0,    0,    0,    0,    0,    0,    0,    0,    0,\n",
       "           0,    0,    0,    0,    0,    0,    0,    0,    0,    0,    0,\n",
       "           0,    0,    0,    0,    0,    0,    0,    0,    0,    0,    0,\n",
       "           0,    0,    0,    0,    0,    0,    0,    0,    0,    0,    0,\n",
       "           0,    0,    0,    0,    0,    0,    0,    0,    0,    0,    0,\n",
       "           0,    0,    0,    0,    0,    0,    0,    0,    0,    0,    0,\n",
       "           0,    0,    0,    0,    0,    0,    0,    0,    0,    0,    0,\n",
       "           0,    0,    0,    0,    0,    0,    0,    0,    0,    0,    0,\n",
       "          10,   35,  334, 3262,   25,   57,   35,   29,    2,   24,   16,\n",
       "          35,   17, 1596, 2376,   29,    4, 4041,  263,    8,    6,  202,\n",
       "          49,  783,    5,  237,    6,  738]])"
      ]
     },
     "execution_count": 34,
     "metadata": {},
     "output_type": "execute_result"
    }
   ],
   "source": [
    "# Empleemos la función pad_sequences que nos permite llevar cada \n",
    "# registro a la misma longitud de indices\n",
    "# (empleando como entrada los datos de entrenamiento X_train)\n",
    "train_sequences = pad_sequences(X_train_seq, maxlen=116)\n",
    "\n",
    "# Imprimamos los 2 primeros registros para corroborar que funciona correctamante\n",
    "train_sequences[0:2]"
   ]
  },
  {
   "cell_type": "code",
   "execution_count": 35,
   "metadata": {},
   "outputs": [
    {
     "data": {
      "text/plain": [
       "array([[    0,     0,     0,     0,     0,     0,     0,     0,     0,\n",
       "            0,     0,     0,     0,     0,     0,     0,     0,     0,\n",
       "            0,     0,     0,     0,     0,     0,     0,     0,     0,\n",
       "            0,     0,     0,     0,     0,     0,     0,     0,     0,\n",
       "            0,     0,     0,     0,     0,     0,     0,     0,     0,\n",
       "            0,     0,     0,     0,     0,     0,     0,     0,     0,\n",
       "            0,     0,     0,     0,     0,     0,     0,     0,     0,\n",
       "            0,     0,     0,     0,     0,     0,     0,     0,     0,\n",
       "            0,     0,     0,     0,     0,     0,     0,     0,     0,\n",
       "            0,     2,    86,   494,   558,   190,    15,     1,    35,\n",
       "            8,    39,   734,     9,    63,     8,     3,   411,    41,\n",
       "          259,   137,  3760,     9,    60, 11242,   544,    19,   714,\n",
       "           53,    37,     1,   231,   558,   190,     9, 11243],\n",
       "       [  339,   323,   166,     7,   490,     3,    10,    40,   150,\n",
       "            8,    71,  2663,   896,     7,   136,   276,     2,   141,\n",
       "           61,    24,     1,    41,    59,   153,     2,    24,   232,\n",
       "          136,   276,  3785,    15,     1,    29,     8,    11,     1,\n",
       "        12297,   904,     2,   395,     1,  1640,     7,     1,   114,\n",
       "           23,    12,     1,   103,    43,    47,   413,   559,    50,\n",
       "          136,   276,     1,  2944,   453,     8,     1,  4569,   641,\n",
       "         2275,     5,  3220,    14,    59,    61,   222,   630,     6,\n",
       "          167,    19,   265,   367,    77,    34,  4202,    79,     8,\n",
       "          168,    15,    38,   652,     5,   140,   240,   114,   305,\n",
       "           43,  2145,     5,    69,   140,   540,    12,   268,   305,\n",
       "           11,     3,   166,     7,   490,   187,   323,   372,  1589,\n",
       "            5,    49,   281,    14,    36,    75,   136,   103]])"
      ]
     },
     "execution_count": 35,
     "metadata": {},
     "output_type": "execute_result"
    }
   ],
   "source": [
    "# Realizaremos el mismo procedimiento ya descrito para X_test\n",
    "X_test_seq = tokenizer.texts_to_sequences(X_test)\n",
    "test_sequences = pad_sequences(X_test_seq, maxlen=116)\n",
    "\n",
    "# Imprimamos los 2 primeros registros para corroborar que funciona correctamante\n",
    "test_sequences[0:2]"
   ]
  },
  {
   "cell_type": "markdown",
   "metadata": {},
   "source": [
    "-------"
   ]
  },
  {
   "cell_type": "markdown",
   "metadata": {},
   "source": [
    "<h2>Building a basic neural network model</h2>\n",
    "<p>Now that we have preprocessed the text, let's create a basic neural network to train on our data. We'll use an embedding layer which performs <a href=\"https://machinelearningmastery.com/why-one-hot-encode-data-in-machine-learning/\">one-hot encoding</a> on our word sequences, two fully connected (\"dense\") layers, and an output layer with 5 neurons to represent the 5 possible star ratings.</p>\n",
    "<p>Before we train a <code>keras</code> model, there is an additional <code>compile</code> step where we define what loss function and optimizer to use, and what metrics to output. Then we can train the model using the <code>fit</code> function. All of this is shown below.</p>\n",
    "<p>Note the <code>validation_split=0.2</code> argument which tells Keras to train on only 80% of the training data and tune the model on the remaining 20%, which we call the validation set. You can see the accuracy and loss for both the training and validation set in the output for each epoch:</p>"
   ]
  },
  {
   "cell_type": "code",
   "execution_count": 36,
   "metadata": {},
   "outputs": [],
   "source": [
    "# Modelo de Neural Networks con las especificaciones arriba descritas\n",
    "# (modelo incluido por defecto en el extended case)\n",
    "\n",
    "# Paso 01. Se instancia el modelo empleando Sequential de keras\n",
    "# (viene de from tensorflow.keras.models import Sequential)\n",
    "model = Sequential()\n",
    "\n",
    "# Paso 02. Se genera una capa para el embedding (one hot encoding)\n",
    "model.add(Embedding(20000, 128, input_length=116))\n",
    "\n",
    "# Paso 03. Se generan 2 capas con 128 neuronas cada una\n",
    "# - Dense: hace referencia a que todas las neuronas estaran conectadas en dicha capa.\n",
    "# - Cantidad de neuronas: 128 cada una\n",
    "# - Función de activación: relu (bajo cero es cero, y despues y = x)\n",
    "model.add(Dense(128, activation='relu'))\n",
    "model.add(Dense(128, activation='relu'))\n",
    "\n",
    "# Paso 03. XXX\n",
    "model.add(GlobalMaxPooling1D())\n",
    "\n",
    "# Paso 04. Se genera 1 capa de salida con 5 neuronas\n",
    "# - Dense: hace referencia a que todas las neuronas estaran conectadas en dicha capa.\n",
    "# - Cantidad de neuronas: 128 cada una\n",
    "# - Función de activación: sigmoid (tal como en la regresión logística, estima 0 o 1 a partir de probabilidad)\n",
    "model.add(Dense(5, activation='sigmoid'))\n",
    "\n",
    "# Paso 05. Se compila el modelo generado enpleando \n",
    "# - loss: hace referencia a la función de perdida.\n",
    "# - optimizer: adam por defecto\n",
    "# - metrics: accuracy en este caso, pero puede elegirse la métrics propia de interes.\n",
    "model.compile(loss='sparse_categorical_crossentropy', optimizer='adam', metrics=['accuracy'])"
   ]
  },
  {
   "cell_type": "code",
   "execution_count": 37,
   "metadata": {},
   "outputs": [
    {
     "name": "stdout",
     "output_type": "stream",
     "text": [
      "Model: \"sequential\"\n",
      "_________________________________________________________________\n",
      "Layer (type)                 Output Shape              Param #   \n",
      "=================================================================\n",
      "embedding (Embedding)        (None, 116, 128)          2560000   \n",
      "_________________________________________________________________\n",
      "dense (Dense)                (None, 116, 128)          16512     \n",
      "_________________________________________________________________\n",
      "dense_1 (Dense)              (None, 116, 128)          16512     \n",
      "_________________________________________________________________\n",
      "global_max_pooling1d (Global (None, 128)               0         \n",
      "_________________________________________________________________\n",
      "dense_2 (Dense)              (None, 5)                 645       \n",
      "=================================================================\n",
      "Total params: 2,593,669\n",
      "Trainable params: 2,593,669\n",
      "Non-trainable params: 0\n",
      "_________________________________________________________________\n"
     ]
    }
   ],
   "source": [
    "# Imprimimos el resumen de las capas del modelo compilado\n",
    "# (linea incluida por defecto en el extended case)\n",
    "model.summary()"
   ]
  },
  {
   "cell_type": "code",
   "execution_count": 38,
   "metadata": {},
   "outputs": [
    {
     "data": {
      "text/plain": [
       "array([[  0,   0,   0, ...,  13, 195, 165],\n",
       "       [  0,   0,   0, ..., 237,   6, 738],\n",
       "       [  0,   0,   0, ..., 134,  10,  98],\n",
       "       ...,\n",
       "       [  0,   0,   0, ...,   3,  57,  41],\n",
       "       [289,  23,  59, ...,  11, 209, 684],\n",
       "       [  0,   0,   0, ..., 134,  10,  98]])"
      ]
     },
     "execution_count": 38,
     "metadata": {},
     "output_type": "execute_result"
    }
   ],
   "source": [
    "# Recordemos nuestro train_sequences\n",
    "train_sequences"
   ]
  },
  {
   "cell_type": "code",
   "execution_count": 39,
   "metadata": {},
   "outputs": [
    {
     "data": {
      "text/plain": [
       "338     4\n",
       "1047    4\n",
       "8656    0\n",
       "4665    3\n",
       "291     4\n",
       "       ..\n",
       "655     4\n",
       "4980    0\n",
       "678     3\n",
       "5457    3\n",
       "9365    0\n",
       "Name: Score, Length: 4000, dtype: int64"
      ]
     },
     "execution_count": 39,
     "metadata": {},
     "output_type": "execute_result"
    }
   ],
   "source": [
    "# Recordemos nuestro y_train\n",
    "y_train"
   ]
  },
  {
   "cell_type": "code",
   "execution_count": 40,
   "metadata": {},
   "outputs": [
    {
     "name": "stdout",
     "output_type": "stream",
     "text": [
      "Train on 3200 samples, validate on 800 samples\n",
      "Epoch 1/10\n",
      "3200/3200 [==============================] - 7s 2ms/sample - loss: 1.5810 - accuracy: 0.2722 - val_loss: 1.4991 - val_accuracy: 0.3675\n",
      "Epoch 2/10\n",
      "3200/3200 [==============================] - 6s 2ms/sample - loss: 1.3562 - accuracy: 0.4403 - val_loss: 1.3070 - val_accuracy: 0.4225\n",
      "Epoch 3/10\n",
      "3200/3200 [==============================] - 6s 2ms/sample - loss: 1.0365 - accuracy: 0.5934 - val_loss: 1.2652 - val_accuracy: 0.4500\n",
      "Epoch 4/10\n",
      "3200/3200 [==============================] - 6s 2ms/sample - loss: 0.6986 - accuracy: 0.7584 - val_loss: 1.3379 - val_accuracy: 0.4600\n",
      "Epoch 5/10\n",
      "3200/3200 [==============================] - 6s 2ms/sample - loss: 0.3983 - accuracy: 0.8903 - val_loss: 1.5282 - val_accuracy: 0.4538\n",
      "Epoch 6/10\n",
      "3200/3200 [==============================] - 6s 2ms/sample - loss: 0.1967 - accuracy: 0.9588 - val_loss: 1.7337 - val_accuracy: 0.4450\n",
      "Epoch 7/10\n",
      "3200/3200 [==============================] - 6s 2ms/sample - loss: 0.0932 - accuracy: 0.9875 - val_loss: 1.9365 - val_accuracy: 0.4400\n",
      "Epoch 8/10\n",
      "3200/3200 [==============================] - 6s 2ms/sample - loss: 0.0460 - accuracy: 0.9969 - val_loss: 2.0685 - val_accuracy: 0.4350\n",
      "Epoch 9/10\n",
      "3200/3200 [==============================] - 6s 2ms/sample - loss: 0.0271 - accuracy: 0.9984 - val_loss: 2.1910 - val_accuracy: 0.4363\n",
      "Epoch 10/10\n",
      "3200/3200 [==============================] - 6s 2ms/sample - loss: 0.0186 - accuracy: 0.9984 - val_loss: 2.2705 - val_accuracy: 0.4288\n"
     ]
    },
    {
     "data": {
      "text/plain": [
       "<tensorflow.python.keras.callbacks.History at 0x20da817ccc8>"
      ]
     },
     "execution_count": 40,
     "metadata": {},
     "output_type": "execute_result"
    }
   ],
   "source": [
    "# A partir del modelo compilado, generamos su entrenamiento a partir \n",
    "# de los train_sequences y se sus targets asociados (ambos asociados a datos de entrenamiento)\n",
    "# (linea incluida por defecto en el extended case)\n",
    "# - validation_split: entrenarnará y vvalidara con una relación de datos de este porcentaje.\n",
    "# - epochs: cantidad de iteraciones que hara para hacer el ajuste de los w de la red\n",
    "model.fit(train_sequences, y_train, validation_split=0.2, epochs=10)"
   ]
  },
  {
   "cell_type": "markdown",
   "metadata": {},
   "source": [
    "<h3>Exercise 3:</h3>\n",
    "<p>How well does this model perform? How does this compare to a baseline expectation? What do you notice about the accuracy and loss values for both the validation and training sets over time and what does this mean?</p>"
   ]
  },
  {
   "cell_type": "markdown",
   "metadata": {
    "tags": [
     "ans_st"
    ]
   },
   "source": [
    "**Answer.**"
   ]
  },
  {
   "cell_type": "markdown",
   "metadata": {},
   "source": [
    "In order to generate a comparison of the performance of the model we need to establish a reference model. In this case, as we want to classify our outputs in 5 groups, a simple model would consist of labeling all the samples with a single qualification. Since we have generated the samples with a homogeneous distribution with respect to their target, the maximum accuracy that could be achieved under such a model would be 20%.\n",
    "\n",
    "We note that the accuracy value for the validation data obtained after 10 epochs is 42.88%, which is much higher than that of the base model. However, if we compare the accuracy for the train and validation data, we can observe that these are radically different (acurracy in the training set is more than double that in the validation set) which is a clear sample of overfitting. Furthermore, from the 4th epoch, the acuracy for the validation data does not improve significantly (it may even worsen) while for the training data this improvement always tends to increase."
   ]
  },
  {
   "cell_type": "markdown",
   "metadata": {},
   "source": [
    "-------"
   ]
  },
  {
   "cell_type": "markdown",
   "metadata": {},
   "source": [
    "<h2>Experimenting with different regularization strategies</h2>\n",
    "<p>There are many different ways to mitigate overfitting in a neural network, collectively known as <em>regularization</em> techniques. One common regularization technique is called <a href=\"https://www.tensorflow.org/api_docs/python/tf/keras/layers/Dropout\">Dropout</a>. In this regularization method, a set of neurons is randomly selected at each training step to be completely ignored. This is done so that the neurons in our network do not rely strongly on their neighboring neurons and we avoid the creation of <a href=\"http://jmlr.org/papers/volume15/srivastava14a/srivastava14a.pdf\">\"co-adaptations\"</a> that do not generalize well to unseen data. This making the model more robust and less prone to overffiting.</p>\n",
    "<p>You can create dropouts in <code>keras</code> by adding a layer named <code>Dropout(p)</code>, where <code>p</code> is the probability of dropping neurons in the previous layer. For example, the following model would implement dropout by removing roughly 20% percent of the outputs of the embedding layer at each training step:</p>"
   ]
  },
  {
   "cell_type": "code",
   "execution_count": 41,
   "metadata": {},
   "outputs": [
    {
     "name": "stdout",
     "output_type": "stream",
     "text": [
      "Train on 3200 samples, validate on 800 samples\n",
      "Epoch 1/10\n",
      "3200/3200 [==============================] - 7s 2ms/sample - loss: 1.5909 - accuracy: 0.2559 - val_loss: 1.5332 - val_accuracy: 0.3300\n",
      "Epoch 2/10\n",
      "3200/3200 [==============================] - 7s 2ms/sample - loss: 1.4321 - accuracy: 0.4056 - val_loss: 1.3535 - val_accuracy: 0.4263\n",
      "Epoch 3/10\n",
      "3200/3200 [==============================] - 7s 2ms/sample - loss: 1.1868 - accuracy: 0.5094 - val_loss: 1.2841 - val_accuracy: 0.4313\n",
      "Epoch 4/10\n",
      "3200/3200 [==============================] - 8s 2ms/sample - loss: 0.9580 - accuracy: 0.6263 - val_loss: 1.2706 - val_accuracy: 0.4625\n",
      "Epoch 5/10\n",
      "3200/3200 [==============================] - 8s 2ms/sample - loss: 0.7009 - accuracy: 0.7509 - val_loss: 1.3583 - val_accuracy: 0.4575\n",
      "Epoch 6/10\n",
      "3200/3200 [==============================] - 7s 2ms/sample - loss: 0.4689 - accuracy: 0.8553 - val_loss: 1.5335 - val_accuracy: 0.4725\n",
      "Epoch 7/10\n",
      "3200/3200 [==============================] - 7s 2ms/sample - loss: 0.2870 - accuracy: 0.9234 - val_loss: 1.7074 - val_accuracy: 0.4563\n",
      "Epoch 8/10\n",
      "3200/3200 [==============================] - 7s 2ms/sample - loss: 0.1642 - accuracy: 0.9684 - val_loss: 1.8731 - val_accuracy: 0.4538\n",
      "Epoch 9/10\n",
      "3200/3200 [==============================] - 7s 2ms/sample - loss: 0.0942 - accuracy: 0.9881 - val_loss: 2.0988 - val_accuracy: 0.4400\n",
      "Epoch 10/10\n",
      "3200/3200 [==============================] - 7s 2ms/sample - loss: 0.0548 - accuracy: 0.9956 - val_loss: 2.2144 - val_accuracy: 0.4450\n"
     ]
    },
    {
     "data": {
      "text/plain": [
       "<tensorflow.python.keras.callbacks.History at 0x20da864b208>"
      ]
     },
     "execution_count": 41,
     "metadata": {},
     "output_type": "execute_result"
    }
   ],
   "source": [
    "# Segundo modelo de Neural Networks (mejora incluida: regularización)\n",
    "# El fin de la regularización es evitar el sobreajuste\n",
    "# (modelo incluido por defecto en el extended case)\n",
    "\n",
    "model2 = Sequential()\n",
    "model2.add(Embedding(20000, 128, input_length=116))\n",
    "\n",
    "# Única línea de código diferente de todo el modelo\n",
    "model2.add(Dropout(0.2)) # --------------------------->Dropout layer will affect the output of previous layer.\n",
    "\n",
    "model2.add(Dense(128, activation='relu')) \n",
    "model2.add(Dense(128, activation='relu'))\n",
    "model2.add(GlobalMaxPooling1D())\n",
    "model2.add(Dense(5, activation='sigmoid'))\n",
    "model2.compile(loss='sparse_categorical_crossentropy', optimizer='adam', metrics=['accuracy'])\n",
    "model2.fit(train_sequences, y_train, validation_split=0.2, epochs=10)"
   ]
  },
  {
   "cell_type": "markdown",
   "metadata": {},
   "source": [
    "<h3>Exercise 4:</h3>\n",
    "<p>Modify the neural network definition above to try and fix the overfitting problem using Dropout. Explain the configuration that you tried and your results. Why do you think your modifications were or were not able to mitigate the overfitting problem?</p>"
   ]
  },
  {
   "cell_type": "markdown",
   "metadata": {
    "tags": [
     "ans_st"
    ]
   },
   "source": [
    "**Answer.**"
   ]
  },
  {
   "cell_type": "code",
   "execution_count": 42,
   "metadata": {},
   "outputs": [
    {
     "name": "stdout",
     "output_type": "stream",
     "text": [
      "Train on 3200 samples, validate on 800 samples\n",
      "Epoch 1/10\n",
      "3200/3200 [==============================] - 10s 3ms/sample - loss: 1.6024 - accuracy: 0.2212 - val_loss: 1.5773 - val_accuracy: 0.3100\n",
      "Epoch 2/10\n",
      "3200/3200 [==============================] - 9s 3ms/sample - loss: 1.5532 - accuracy: 0.3022 - val_loss: 1.5220 - val_accuracy: 0.3500\n",
      "Epoch 3/10\n",
      "3200/3200 [==============================] - 9s 3ms/sample - loss: 1.4437 - accuracy: 0.3719 - val_loss: 1.4114 - val_accuracy: 0.3837\n",
      "Epoch 4/10\n",
      "3200/3200 [==============================] - 9s 3ms/sample - loss: 1.2786 - accuracy: 0.4403 - val_loss: 1.3508 - val_accuracy: 0.3862\n",
      "Epoch 5/10\n",
      "3200/3200 [==============================] - 9s 3ms/sample - loss: 1.1461 - accuracy: 0.5188 - val_loss: 1.3389 - val_accuracy: 0.4238\n",
      "Epoch 6/10\n",
      "3200/3200 [==============================] - 9s 3ms/sample - loss: 1.0108 - accuracy: 0.5906 - val_loss: 1.3323 - val_accuracy: 0.4250\n",
      "Epoch 7/10\n",
      "3200/3200 [==============================] - 9s 3ms/sample - loss: 0.8671 - accuracy: 0.6456 - val_loss: 1.3539 - val_accuracy: 0.4225\n",
      "Epoch 8/10\n",
      "3200/3200 [==============================] - 9s 3ms/sample - loss: 0.7145 - accuracy: 0.7275 - val_loss: 1.3794 - val_accuracy: 0.4462\n",
      "Epoch 9/10\n",
      "3200/3200 [==============================] - 9s 3ms/sample - loss: 0.5733 - accuracy: 0.7953 - val_loss: 1.5067 - val_accuracy: 0.4225\n",
      "Epoch 10/10\n",
      "3200/3200 [==============================] - 9s 3ms/sample - loss: 0.4547 - accuracy: 0.8434 - val_loss: 1.6620 - val_accuracy: 0.4200\n"
     ]
    },
    {
     "data": {
      "text/plain": [
       "<tensorflow.python.keras.callbacks.History at 0x20da9212408>"
      ]
     },
     "execution_count": 42,
     "metadata": {},
     "output_type": "execute_result"
    }
   ],
   "source": [
    "# Partiremos de la estructura de los modelos ya conocidas e incluiremos\n",
    "# algunas capas con Dropout para generar un \"desacople\" entre las capas contiguas\n",
    "\n",
    "model_ex_4 = Sequential()\n",
    "model_ex_4.add(Embedding(20000, 128, input_length=116))\n",
    "\n",
    "# Capa 01. Adicionada para generar el 'desacople' entre capa de embedding y la primera capa densa\n",
    "model_ex_4.add(Dropout(0.3))\n",
    "\n",
    "model_ex_4.add(Dense(128, activation='relu'))\n",
    "\n",
    "# Capa 02. Adicionada para generar el 'desacople' entre las 2 capas densas\n",
    "model_ex_4.add(Dropout(0.3))\n",
    "\n",
    "model_ex_4.add(Dense(128, activation='relu'))\n",
    "\n",
    "# Capa 03. Adicionada para generar el 'desacople' entre las 2 capa densa y la capa de salida\n",
    "model_ex_4.add(Dropout(0.3))\n",
    "\n",
    "model_ex_4.add(GlobalMaxPooling1D())\n",
    "model_ex_4.add(Dense(5, activation='sigmoid'))\n",
    "model_ex_4.compile(loss='sparse_categorical_crossentropy', optimizer='adam', metrics=['accuracy'])\n",
    "model_ex_4.fit(train_sequences, y_train, validation_split=0.2, epochs=10)"
   ]
  },
  {
   "cell_type": "markdown",
   "metadata": {},
   "source": [
    "Although a clear trend cannot really be determined by changing the Dropout values, the result presented is the best result obtained from several manual training tests by changing the Dropout values of the 3 different layers added (I included 1 between each layer). model base).\n",
    "\n",
    "Although the precision value in the validation data does not improve with respect to the previous models, what can be observed is that the precision value in the training data is a little lower, which would allow us to suspect that the overfitting was reduced on a small scale. However, the trend is not clear on how to use, and what provides the Dropout values in each intermediate layer."
   ]
  },
  {
   "cell_type": "markdown",
   "metadata": {},
   "source": [
    "-------"
   ]
  },
  {
   "cell_type": "markdown",
   "metadata": {},
   "source": [
    "<h3>Exercise 5:</h3>\n",
    "<p>Keras allows you to add <a href=\"https://www.tensorflow.org/api_docs/python/tf/keras/regularizers/l1\">L1</a>, <a href=\"https://www.tensorflow.org/api_docs/python/tf/keras/regularizers/l2\">L2</a>, or <a href=\"https://www.tensorflow.org/api_docs/python/tf/keras/regularizers/l1_l2\">L1 and L2</a> combined regularizers on individual layers by passing in the <code>kernel_regularizer</code>, <code>bias_regularizer</code> or <code>activity_regularizer</code> arguments. In neural networks, these regularizers work by penalizing the loss function in different ways, based on the number of weights or the size of the weights.</p>\n",
    "<p>Try 4-5 different combinations of L1, L2, L1 and L2 regularization in different combinations on different layers. In each example, explain why you tried that configuration and the results. Why do you think your modifications were or were not able to mitigate the overfitting problem?</p>"
   ]
  },
  {
   "cell_type": "markdown",
   "metadata": {
    "tags": [
     "ans_st"
    ]
   },
   "source": [
    "**Answer.**"
   ]
  },
  {
   "cell_type": "markdown",
   "metadata": {},
   "source": [
    "#### Combination 01."
   ]
  },
  {
   "cell_type": "code",
   "execution_count": 43,
   "metadata": {},
   "outputs": [
    {
     "name": "stdout",
     "output_type": "stream",
     "text": [
      "Train on 3200 samples, validate on 800 samples\n",
      "Epoch 1/10\n",
      "3200/3200 [==============================] - 8s 3ms/sample - loss: 14.0398 - accuracy: 0.2225 - val_loss: 4.7067 - val_accuracy: 0.1988\n",
      "Epoch 2/10\n",
      "3200/3200 [==============================] - 7s 2ms/sample - loss: 2.2465 - accuracy: 0.2062 - val_loss: 1.6523 - val_accuracy: 0.1988\n",
      "Epoch 3/10\n",
      "3200/3200 [==============================] - 7s 2ms/sample - loss: 1.6502 - accuracy: 0.2034 - val_loss: 1.6497 - val_accuracy: 0.1988\n",
      "Epoch 4/10\n",
      "3200/3200 [==============================] - 7s 2ms/sample - loss: 1.6498 - accuracy: 0.1906 - val_loss: 1.6497 - val_accuracy: 0.1988\n",
      "Epoch 5/10\n",
      "3200/3200 [==============================] - 7s 2ms/sample - loss: 1.6497 - accuracy: 0.1988 - val_loss: 1.6497 - val_accuracy: 0.1988\n",
      "Epoch 6/10\n",
      "3200/3200 [==============================] - 7s 2ms/sample - loss: 1.6497 - accuracy: 0.2034 - val_loss: 1.6496 - val_accuracy: 0.1988\n",
      "Epoch 7/10\n",
      "3200/3200 [==============================] - 7s 2ms/sample - loss: 1.6497 - accuracy: 0.2034 - val_loss: 1.6499 - val_accuracy: 0.1988\n",
      "Epoch 8/10\n",
      "3200/3200 [==============================] - 7s 2ms/sample - loss: 1.6497 - accuracy: 0.2034 - val_loss: 1.6495 - val_accuracy: 0.1988\n",
      "Epoch 9/10\n",
      "3200/3200 [==============================] - 7s 2ms/sample - loss: 1.6497 - accuracy: 0.2034 - val_loss: 1.6497 - val_accuracy: 0.1988\n",
      "Epoch 10/10\n",
      "3200/3200 [==============================] - 7s 2ms/sample - loss: 1.6496 - accuracy: 0.2034 - val_loss: 1.6496 - val_accuracy: 0.1988\n"
     ]
    },
    {
     "data": {
      "text/plain": [
       "<tensorflow.python.keras.callbacks.History at 0x20da996ea08>"
      ]
     },
     "execution_count": 43,
     "metadata": {},
     "output_type": "execute_result"
    }
   ],
   "source": [
    "# Implementamos el regularizador l1 (con el valor que tiene por defecto, 0.01)\n",
    "model_ex_5_1 = Sequential()\n",
    "model_ex_5_1.add(Embedding(20000, 128, input_length=116))\n",
    "model_ex_5_1.add(Dense(128, activation='relu', kernel_regularizer=regularizers.l1()))\n",
    "model_ex_5_1.add(Dense(128, activation='relu', kernel_regularizer=regularizers.l1()))\n",
    "model_ex_5_1.add(GlobalMaxPooling1D())\n",
    "model_ex_5_1.add(Dense(5, activation='sigmoid'))\n",
    "model_ex_5_1.compile(loss='sparse_categorical_crossentropy', optimizer='adam', metrics=['accuracy'])\n",
    "model_ex_5_1.fit(train_sequences, y_train, validation_split=0.2, epochs=10)"
   ]
  },
  {
   "cell_type": "markdown",
   "metadata": {},
   "source": [
    "**Inclusion of the l1 regularizer (default value):** the objective of this combination was to evaluate the behavior of the accuracy values for the training and validation data by implementing the l1 regularizer (with the default value, 0.01) in the layers with more nodes.\n",
    "\n",
    "After 10 epoch, acurracy results of 19.88% were obtained in the validation data and 20.34% in the training data. The results are lower than those that the benchmark model already discussed could have, so it is possible that underfitting is being presented and the default value for the l1 regularizer is very high (since this is between 0 and 1, where 0 indicates no have regularization)."
   ]
  },
  {
   "cell_type": "markdown",
   "metadata": {},
   "source": [
    "#### Combination 02."
   ]
  },
  {
   "cell_type": "code",
   "execution_count": 44,
   "metadata": {},
   "outputs": [
    {
     "name": "stdout",
     "output_type": "stream",
     "text": [
      "Train on 3200 samples, validate on 800 samples\n",
      "Epoch 1/10\n",
      "3200/3200 [==============================] - 8s 2ms/sample - loss: 2.6693 - accuracy: 0.2250 - val_loss: 1.8604 - val_accuracy: 0.2562\n",
      "Epoch 2/10\n",
      "3200/3200 [==============================] - 7s 2ms/sample - loss: 1.6957 - accuracy: 0.2197 - val_loss: 1.6216 - val_accuracy: 0.1988\n",
      "Epoch 3/10\n",
      "3200/3200 [==============================] - 7s 2ms/sample - loss: 1.6085 - accuracy: 0.2541 - val_loss: 1.5941 - val_accuracy: 0.2887\n",
      "Epoch 4/10\n",
      "3200/3200 [==============================] - 7s 2ms/sample - loss: 1.5838 - accuracy: 0.2966 - val_loss: 1.5567 - val_accuracy: 0.3050\n",
      "Epoch 5/10\n",
      "3200/3200 [==============================] - 7s 2ms/sample - loss: 1.5241 - accuracy: 0.3078 - val_loss: 1.5258 - val_accuracy: 0.3113\n",
      "Epoch 6/10\n",
      "3200/3200 [==============================] - 7s 2ms/sample - loss: 1.4642 - accuracy: 0.3325 - val_loss: 1.5209 - val_accuracy: 0.3137\n",
      "Epoch 7/10\n",
      "3200/3200 [==============================] - 7s 2ms/sample - loss: 1.4114 - accuracy: 0.3428 - val_loss: 1.5239 - val_accuracy: 0.3200\n",
      "Epoch 8/10\n",
      "3200/3200 [==============================] - 8s 2ms/sample - loss: 1.3701 - accuracy: 0.3562 - val_loss: 1.5066 - val_accuracy: 0.3275\n",
      "Epoch 9/10\n",
      "3200/3200 [==============================] - 7s 2ms/sample - loss: 1.3389 - accuracy: 0.3812 - val_loss: 1.5533 - val_accuracy: 0.3425\n",
      "Epoch 10/10\n",
      "3200/3200 [==============================] - 7s 2ms/sample - loss: 1.3079 - accuracy: 0.3947 - val_loss: 1.5431 - val_accuracy: 0.3438\n"
     ]
    },
    {
     "data": {
      "text/plain": [
       "<tensorflow.python.keras.callbacks.History at 0x20daa896788>"
      ]
     },
     "execution_count": 44,
     "metadata": {},
     "output_type": "execute_result"
    }
   ],
   "source": [
    "# Implementamos el regularizador l2 (con el valor que tiene por defecto, 0.01)\n",
    "model_ex_5_2 = Sequential()\n",
    "model_ex_5_2.add(Embedding(20000, 128, input_length=116))\n",
    "model_ex_5_2.add(Dense(128, activation='relu', kernel_regularizer=regularizers.l2()))\n",
    "model_ex_5_2.add(Dense(128, activation='relu', kernel_regularizer=regularizers.l2()))\n",
    "model_ex_5_2.add(GlobalMaxPooling1D())\n",
    "model_ex_5_2.add(Dense(5, activation='sigmoid'))\n",
    "model_ex_5_2.compile(loss='sparse_categorical_crossentropy', optimizer='adam', metrics=['accuracy'])\n",
    "model_ex_5_2.fit(train_sequences, y_train, validation_split=0.2, epochs=10)"
   ]
  },
  {
   "cell_type": "markdown",
   "metadata": {},
   "source": [
    "**Inclusion of the l2 regularizer (default value):** the objective of this combination was to evaluate the behavior of the accuracy values for the training and validation data by implementing the l2 regularizer (with the default value, 0.01) in the layers with more nodes.\n",
    "\n",
    "After 10 epoch, acurracy results of 34.38% were obtained in the validation data and 39.47% in the training data. The results are slightly higher than those that the benchmark model already discussed could have, so it is possible that underfitting is occurring and the default value for the l2 regularizer is very high (since it is between 0 and 1, where 0 indicates not having regularization)."
   ]
  },
  {
   "cell_type": "markdown",
   "metadata": {},
   "source": [
    "#### Combination 03."
   ]
  },
  {
   "cell_type": "code",
   "execution_count": 45,
   "metadata": {},
   "outputs": [
    {
     "name": "stdout",
     "output_type": "stream",
     "text": [
      "Train on 3200 samples, validate on 800 samples\n",
      "Epoch 1/10\n",
      "3200/3200 [==============================] - 8s 2ms/sample - loss: 15.1537 - accuracy: 0.2050 - val_loss: 5.1948 - val_accuracy: 0.2175\n",
      "Epoch 2/10\n",
      "3200/3200 [==============================] - 7s 2ms/sample - loss: 2.4195 - accuracy: 0.2128 - val_loss: 1.6534 - val_accuracy: 0.1988\n",
      "Epoch 3/10\n",
      "3200/3200 [==============================] - 7s 2ms/sample - loss: 1.6503 - accuracy: 0.2034 - val_loss: 1.6495 - val_accuracy: 0.1988\n",
      "Epoch 4/10\n",
      "3200/3200 [==============================] - 7s 2ms/sample - loss: 1.6498 - accuracy: 0.1928 - val_loss: 1.6495 - val_accuracy: 0.1988\n",
      "Epoch 5/10\n",
      "3200/3200 [==============================] - 7s 2ms/sample - loss: 1.6496 - accuracy: 0.1975 - val_loss: 1.6495 - val_accuracy: 0.1988\n",
      "Epoch 6/10\n",
      "3200/3200 [==============================] - 7s 2ms/sample - loss: 1.6494 - accuracy: 0.2034 - val_loss: 1.6491 - val_accuracy: 0.1988\n",
      "Epoch 7/10\n",
      "3200/3200 [==============================] - 7s 2ms/sample - loss: 1.6493 - accuracy: 0.2034 - val_loss: 1.6491 - val_accuracy: 0.1988\n",
      "Epoch 8/10\n",
      "3200/3200 [==============================] - 7s 2ms/sample - loss: 1.6491 - accuracy: 0.2034 - val_loss: 1.6490 - val_accuracy: 0.1988\n",
      "Epoch 9/10\n",
      "3200/3200 [==============================] - 7s 2ms/sample - loss: 1.6489 - accuracy: 0.2034 - val_loss: 1.6486 - val_accuracy: 0.1988\n",
      "Epoch 10/10\n",
      "3200/3200 [==============================] - 7s 2ms/sample - loss: 1.6487 - accuracy: 0.2034 - val_loss: 1.6487 - val_accuracy: 0.1988\n"
     ]
    },
    {
     "data": {
      "text/plain": [
       "<tensorflow.python.keras.callbacks.History at 0x20db3fab3c8>"
      ]
     },
     "execution_count": 45,
     "metadata": {},
     "output_type": "execute_result"
    }
   ],
   "source": [
    "# Implementamos el regularizador l1_L2 (con el valor que tiene por defecto, 0.01 ambos)\n",
    "model_ex_5_3 = Sequential()\n",
    "model_ex_5_3.add(Embedding(20000, 128, input_length=116))\n",
    "model_ex_5_3.add(Dense(128, activation='relu', kernel_regularizer=regularizers.l1_l2()))\n",
    "model_ex_5_3.add(Dense(128, activation='relu', kernel_regularizer=regularizers.l1_l2()))\n",
    "model_ex_5_3.add(GlobalMaxPooling1D())\n",
    "model_ex_5_3.add(Dense(5, activation='sigmoid'))\n",
    "model_ex_5_3.compile(loss='sparse_categorical_crossentropy', optimizer='adam', metrics=['accuracy'])\n",
    "model_ex_5_3.fit(train_sequences, y_train, validation_split=0.2, epochs=10)"
   ]
  },
  {
   "cell_type": "markdown",
   "metadata": {},
   "source": [
    "**Inclusion of the l1_l2 regularizer (default value):** the objective of this combination was to evaluate the behavior of the accuracy values for the training and validation data by implementing the l1_l2 regularizer (with the default value, 0.01) in the layers with more nodes.\n",
    "\n",
    "After 10 epoch, acurracy results of 19.88% were obtained in the validation data and 20.34% in the training data. The results are of the order of those that the benchmark model already discussed could have, so it is possible that underfitting is occurring and the default value for the l1_l2 regularizer is very high (since it is between 0 and 1, where 0 indicates not having regularization)."
   ]
  },
  {
   "cell_type": "markdown",
   "metadata": {},
   "source": [
    "#### Combination 04."
   ]
  },
  {
   "cell_type": "code",
   "execution_count": 46,
   "metadata": {},
   "outputs": [
    {
     "name": "stdout",
     "output_type": "stream",
     "text": [
      "Train on 3200 samples, validate on 800 samples\n",
      "Epoch 1/10\n",
      "3200/3200 [==============================] - 8s 3ms/sample - loss: 1.7368 - accuracy: 0.2322 - val_loss: 1.6348 - val_accuracy: 0.3162\n",
      "Epoch 2/10\n",
      "3200/3200 [==============================] - 7s 2ms/sample - loss: 1.5606 - accuracy: 0.3331 - val_loss: 1.4895 - val_accuracy: 0.3725\n",
      "Epoch 3/10\n",
      "3200/3200 [==============================] - 7s 2ms/sample - loss: 1.4041 - accuracy: 0.4019 - val_loss: 1.4435 - val_accuracy: 0.3925\n",
      "Epoch 4/10\n",
      "3200/3200 [==============================] - 7s 2ms/sample - loss: 1.2568 - accuracy: 0.4916 - val_loss: 1.4498 - val_accuracy: 0.4000\n",
      "Epoch 5/10\n",
      "3200/3200 [==============================] - 7s 2ms/sample - loss: 1.1102 - accuracy: 0.5616 - val_loss: 1.5005 - val_accuracy: 0.4200\n",
      "Epoch 6/10\n",
      "3200/3200 [==============================] - 7s 2ms/sample - loss: 0.9679 - accuracy: 0.6534 - val_loss: 1.5921 - val_accuracy: 0.3988\n",
      "Epoch 7/10\n",
      "3200/3200 [==============================] - 7s 2ms/sample - loss: 0.8293 - accuracy: 0.7159 - val_loss: 1.7299 - val_accuracy: 0.3913\n",
      "Epoch 8/10\n",
      "3200/3200 [==============================] - 7s 2ms/sample - loss: 0.7169 - accuracy: 0.7631 - val_loss: 1.8409 - val_accuracy: 0.3963\n",
      "Epoch 9/10\n",
      "3200/3200 [==============================] - 7s 2ms/sample - loss: 0.6200 - accuracy: 0.8181 - val_loss: 2.0435 - val_accuracy: 0.3950\n",
      "Epoch 10/10\n",
      "3200/3200 [==============================] - 7s 2ms/sample - loss: 0.5579 - accuracy: 0.8366 - val_loss: 2.1427 - val_accuracy: 0.3925\n"
     ]
    },
    {
     "data": {
      "text/plain": [
       "<tensorflow.python.keras.callbacks.History at 0x20dbac5f0c8>"
      ]
     },
     "execution_count": 46,
     "metadata": {},
     "output_type": "execute_result"
    }
   ],
   "source": [
    "# Implementamos el regularizador l2 \n",
    "# (con una reducción de un orden de magnitud respecto al valor por defecto, 0.001)\n",
    "model_ex_5_4 = Sequential()\n",
    "model_ex_5_4.add(Embedding(20000, 128, input_length=116))\n",
    "model_ex_5_4.add(Dense(128, activation='relu', kernel_regularizer=regularizers.l2(0.001)))\n",
    "model_ex_5_4.add(Dense(128, activation='relu', kernel_regularizer=regularizers.l2(0.001)))\n",
    "model_ex_5_4.add(GlobalMaxPooling1D())\n",
    "model_ex_5_4.add(Dense(5, activation='sigmoid'))\n",
    "model_ex_5_4.compile(loss='sparse_categorical_crossentropy', optimizer='adam', metrics=['accuracy'])\n",
    "model_ex_5_4.fit(train_sequences, y_train, validation_split=0.2, epochs=10)"
   ]
  },
  {
   "cell_type": "markdown",
   "metadata": {},
   "source": [
    "Inclusion of the l2 regularizer (reduction of an order of magnitude with respect to the default value): the objective of this combination was to evaluate the behavior of the accuracy values for the training and validation data by implementing the l2 regularizer (with a reduction of an order of magnitude with respect to the default value) in the layers with the highest number of nodes.\n",
    "\n",
    "After 10 epoch, acurracy results of 39.25% were obtained in the validation data and 83.66% in the training data. The results are superior to those of the benchmark model already discussed, but given that the acurracy in the training set is more than double the validation set, this is a clear indication that overfitting is still occurring."
   ]
  },
  {
   "cell_type": "markdown",
   "metadata": {},
   "source": [
    "#### Combination 05."
   ]
  },
  {
   "cell_type": "code",
   "execution_count": 47,
   "metadata": {},
   "outputs": [
    {
     "name": "stdout",
     "output_type": "stream",
     "text": [
      "Train on 3200 samples, validate on 800 samples\n",
      "Epoch 1/10\n",
      "3200/3200 [==============================] - 8s 2ms/sample - loss: 1.7939 - accuracy: 0.2619 - val_loss: 1.7086 - val_accuracy: 0.3288\n",
      "Epoch 2/10\n",
      "3200/3200 [==============================] - 7s 2ms/sample - loss: 1.6177 - accuracy: 0.3519 - val_loss: 1.5100 - val_accuracy: 0.3900\n",
      "Epoch 3/10\n",
      "3200/3200 [==============================] - 7s 2ms/sample - loss: 1.3838 - accuracy: 0.4416 - val_loss: 1.4667 - val_accuracy: 0.3887\n",
      "Epoch 4/10\n",
      "3200/3200 [==============================] - 7s 2ms/sample - loss: 1.2004 - accuracy: 0.5350 - val_loss: 1.4993 - val_accuracy: 0.3800\n",
      "Epoch 5/10\n",
      "3200/3200 [==============================] - 7s 2ms/sample - loss: 1.0264 - accuracy: 0.6212 - val_loss: 1.5986 - val_accuracy: 0.3913\n",
      "Epoch 6/10\n",
      "3200/3200 [==============================] - 7s 2ms/sample - loss: 0.8593 - accuracy: 0.7081 - val_loss: 1.7301 - val_accuracy: 0.3862\n",
      "Epoch 7/10\n",
      "3200/3200 [==============================] - 7s 2ms/sample - loss: 0.7230 - accuracy: 0.7775 - val_loss: 1.8876 - val_accuracy: 0.3913\n",
      "Epoch 8/10\n",
      "3200/3200 [==============================] - 7s 2ms/sample - loss: 0.6120 - accuracy: 0.8244 - val_loss: 2.0127 - val_accuracy: 0.4025\n",
      "Epoch 9/10\n",
      "3200/3200 [==============================] - 7s 2ms/sample - loss: 0.5072 - accuracy: 0.8703 - val_loss: 2.2139 - val_accuracy: 0.4137\n",
      "Epoch 10/10\n",
      "3200/3200 [==============================] - 7s 2ms/sample - loss: 0.4308 - accuracy: 0.9016 - val_loss: 2.4066 - val_accuracy: 0.4112\n"
     ]
    },
    {
     "data": {
      "text/plain": [
       "<tensorflow.python.keras.callbacks.History at 0x20dc0022248>"
      ]
     },
     "execution_count": 47,
     "metadata": {},
     "output_type": "execute_result"
    }
   ],
   "source": [
    "# Implementamos el regularizador l1_L2\n",
    "# (con una reducción de dos ordenes de magnitud respecto al valor por defecto, 0.001)\n",
    "model_ex_5_5 = Sequential()\n",
    "model_ex_5_5.add(Embedding(20000, 128, input_length=116))\n",
    "model_ex_5_5.add(Dense(128, activation='relu', kernel_regularizer=regularizers.l1_l2(0.0001,0.0001)))\n",
    "model_ex_5_5.add(Dense(128, activation='relu', kernel_regularizer=regularizers.l1_l2(0.0001,0.0001)))\n",
    "model_ex_5_5.add(GlobalMaxPooling1D())\n",
    "model_ex_5_5.add(Dense(5, activation='sigmoid'))\n",
    "model_ex_5_5.compile(loss='sparse_categorical_crossentropy', optimizer='adam', metrics=['accuracy'])\n",
    "model_ex_5_5.fit(train_sequences, y_train, validation_split=0.2, epochs=10)"
   ]
  },
  {
   "cell_type": "markdown",
   "metadata": {},
   "source": [
    "Inclusion of the l1_l2 regularizer (reduction of an order of magnitude with respect to the default value): the objective of this combination was to evaluate the behavior of the accuracy values for the training and validation data by implementing the l1_l2 regularizer (with a reduction of two orders of magnitude with respect to the default value) in the layers with the highest number of nodes.\n",
    "\n",
    "After 10 epoch, acurracy results of 41.12% were obtained in the validation data and 90.16% in the training data. The results are superior to those of the benchmark model already discussed, but given that the acurracy in the training set is more than double the validation set, this is a clear indication that overfitting is still occurring."
   ]
  },
  {
   "cell_type": "markdown",
   "metadata": {},
   "source": [
    "#### Combinations conclutions"
   ]
  },
  {
   "cell_type": "markdown",
   "metadata": {},
   "source": [
    "It seems that none of the models searched manually improves in a notorious way compared to the results of the model that do not present regularization. This suggests that we must opt for another type of search or check what happens by choosing another configuration for the input data set."
   ]
  },
  {
   "cell_type": "markdown",
   "metadata": {},
   "source": [
    "-------"
   ]
  },
  {
   "cell_type": "markdown",
   "metadata": {},
   "source": [
    "<h2>Regularization through adding more data</h2>\n",
    "<p>Depending on the configurations you tried above, you probably saw that L1 and L2 regularization are pretty limited for this model and this amount of data. A more straightforward way to prevent overfitting is simply by adding more training data. If the network has more (and more varied) examples to learn from, perhaps it will learn more generalizable rules.</p>"
   ]
  },
  {
   "cell_type": "markdown",
   "metadata": {},
   "source": [
    "<h3>Exercise 6:</h3>\n",
    "<p>How would you test the hypothesis that adding more data would result in a more generalizable model? Explain any change in results you see from further experimentation.</p>\n",
    "<p><strong>Hint:</strong> Try adding 6000 reviews for each score instead. Compare with the original proposed model.</p>"
   ]
  },
  {
   "cell_type": "markdown",
   "metadata": {
    "tags": [
     "ans_st"
    ]
   },
   "source": [
    "**Answer.**"
   ]
  },
  {
   "cell_type": "code",
   "execution_count": 48,
   "metadata": {},
   "outputs": [
    {
     "data": {
      "text/html": [
       "<div>\n",
       "<style scoped>\n",
       "    .dataframe tbody tr th:only-of-type {\n",
       "        vertical-align: middle;\n",
       "    }\n",
       "\n",
       "    .dataframe tbody tr th {\n",
       "        vertical-align: top;\n",
       "    }\n",
       "\n",
       "    .dataframe thead th {\n",
       "        text-align: right;\n",
       "    }\n",
       "</style>\n",
       "<table border=\"1\" class=\"dataframe\">\n",
       "  <thead>\n",
       "    <tr style=\"text-align: right;\">\n",
       "      <th></th>\n",
       "      <th>Text</th>\n",
       "      <th>Score</th>\n",
       "    </tr>\n",
       "  </thead>\n",
       "  <tbody>\n",
       "    <tr>\n",
       "      <th>0</th>\n",
       "      <td>I have bought several of the Vitality canned d...</td>\n",
       "      <td>5</td>\n",
       "    </tr>\n",
       "    <tr>\n",
       "      <th>1</th>\n",
       "      <td>Product arrived labeled as Jumbo Salted Peanut...</td>\n",
       "      <td>1</td>\n",
       "    </tr>\n",
       "    <tr>\n",
       "      <th>2</th>\n",
       "      <td>This is a confection that has been around a fe...</td>\n",
       "      <td>4</td>\n",
       "    </tr>\n",
       "    <tr>\n",
       "      <th>3</th>\n",
       "      <td>If you are looking for the secret ingredient i...</td>\n",
       "      <td>2</td>\n",
       "    </tr>\n",
       "    <tr>\n",
       "      <th>4</th>\n",
       "      <td>Great taffy at a great price.  There was a wid...</td>\n",
       "      <td>5</td>\n",
       "    </tr>\n",
       "    <tr>\n",
       "      <th>...</th>\n",
       "      <td>...</td>\n",
       "      <td>...</td>\n",
       "    </tr>\n",
       "    <tr>\n",
       "      <th>262079</th>\n",
       "      <td>Bought Lucy's cookies after I heard about them...</td>\n",
       "      <td>1</td>\n",
       "    </tr>\n",
       "    <tr>\n",
       "      <th>262080</th>\n",
       "      <td>I am not sure what I expected but I found the ...</td>\n",
       "      <td>3</td>\n",
       "    </tr>\n",
       "    <tr>\n",
       "      <th>262081</th>\n",
       "      <td>SO disappointed off taste all the flavors tast...</td>\n",
       "      <td>1</td>\n",
       "    </tr>\n",
       "    <tr>\n",
       "      <th>262082</th>\n",
       "      <td>If you have to eat gluten free, these cookies ...</td>\n",
       "      <td>2</td>\n",
       "    </tr>\n",
       "    <tr>\n",
       "      <th>262083</th>\n",
       "      <td>Lucy's cookies has a track record of buying co...</td>\n",
       "      <td>1</td>\n",
       "    </tr>\n",
       "  </tbody>\n",
       "</table>\n",
       "<p>262084 rows × 2 columns</p>\n",
       "</div>"
      ],
      "text/plain": [
       "                                                     Text  Score\n",
       "0       I have bought several of the Vitality canned d...      5\n",
       "1       Product arrived labeled as Jumbo Salted Peanut...      1\n",
       "2       This is a confection that has been around a fe...      4\n",
       "3       If you are looking for the secret ingredient i...      2\n",
       "4       Great taffy at a great price.  There was a wid...      5\n",
       "...                                                   ...    ...\n",
       "262079  Bought Lucy's cookies after I heard about them...      1\n",
       "262080  I am not sure what I expected but I found the ...      3\n",
       "262081  SO disappointed off taste all the flavors tast...      1\n",
       "262082  If you have to eat gluten free, these cookies ...      2\n",
       "262083  Lucy's cookies has a track record of buying co...      1\n",
       "\n",
       "[262084 rows x 2 columns]"
      ]
     },
     "execution_count": 48,
     "metadata": {},
     "output_type": "execute_result"
    }
   ],
   "source": [
    "# Recordemos inicialmente el dataframe del que partimos\n",
    "df"
   ]
  },
  {
   "cell_type": "code",
   "execution_count": 49,
   "metadata": {},
   "outputs": [
    {
     "data": {
      "text/plain": [
       "[1, 2, 3, 4, 5]"
      ]
     },
     "execution_count": 49,
     "metadata": {},
     "output_type": "execute_result"
    }
   ],
   "source": [
    "# Obtengamos una lista ordenada con todos los posibles valores que puede tomar Score\n",
    "review_values=list(amazon_reviews.Score.unique())\n",
    "review_values.sort()\n",
    "review_values"
   ]
  },
  {
   "cell_type": "code",
   "execution_count": 50,
   "metadata": {},
   "outputs": [
    {
     "data": {
      "text/html": [
       "<div>\n",
       "<style scoped>\n",
       "    .dataframe tbody tr th:only-of-type {\n",
       "        vertical-align: middle;\n",
       "    }\n",
       "\n",
       "    .dataframe tbody tr th {\n",
       "        vertical-align: top;\n",
       "    }\n",
       "\n",
       "    .dataframe thead th {\n",
       "        text-align: right;\n",
       "    }\n",
       "</style>\n",
       "<table border=\"1\" class=\"dataframe\">\n",
       "  <thead>\n",
       "    <tr style=\"text-align: right;\">\n",
       "      <th></th>\n",
       "      <th>Text</th>\n",
       "      <th>Score</th>\n",
       "    </tr>\n",
       "  </thead>\n",
       "  <tbody>\n",
       "    <tr>\n",
       "      <th>1</th>\n",
       "      <td>Product arrived labeled as Jumbo Salted Peanut...</td>\n",
       "      <td>1</td>\n",
       "    </tr>\n",
       "    <tr>\n",
       "      <th>12</th>\n",
       "      <td>My cats have been happily eating Felidae Plati...</td>\n",
       "      <td>1</td>\n",
       "    </tr>\n",
       "    <tr>\n",
       "      <th>26</th>\n",
       "      <td>The candy is just red , No flavor . Just  plan...</td>\n",
       "      <td>1</td>\n",
       "    </tr>\n",
       "    <tr>\n",
       "      <th>50</th>\n",
       "      <td>This oatmeal is not good. Its mushy, soft, I d...</td>\n",
       "      <td>1</td>\n",
       "    </tr>\n",
       "    <tr>\n",
       "      <th>62</th>\n",
       "      <td>Arrived in 6 days and were so stale i could no...</td>\n",
       "      <td>1</td>\n",
       "    </tr>\n",
       "    <tr>\n",
       "      <th>...</th>\n",
       "      <td>...</td>\n",
       "      <td>...</td>\n",
       "    </tr>\n",
       "    <tr>\n",
       "      <th>9715</th>\n",
       "      <td>They weren't mind-blowing, but they were defin...</td>\n",
       "      <td>5</td>\n",
       "    </tr>\n",
       "    <tr>\n",
       "      <th>9719</th>\n",
       "      <td>This is my first time with the miracle berries...</td>\n",
       "      <td>5</td>\n",
       "    </tr>\n",
       "    <tr>\n",
       "      <th>9722</th>\n",
       "      <td>It works. i took one, 2 minutes later i was tr...</td>\n",
       "      <td>5</td>\n",
       "    </tr>\n",
       "    <tr>\n",
       "      <th>9729</th>\n",
       "      <td>This stuff really works, makes lemons taste sw...</td>\n",
       "      <td>5</td>\n",
       "    </tr>\n",
       "    <tr>\n",
       "      <th>9731</th>\n",
       "      <td>this is quite neat!  i could drink a glass of ...</td>\n",
       "      <td>5</td>\n",
       "    </tr>\n",
       "  </tbody>\n",
       "</table>\n",
       "<p>30000 rows × 2 columns</p>\n",
       "</div>"
      ],
      "text/plain": [
       "                                                   Text Score\n",
       "1     Product arrived labeled as Jumbo Salted Peanut...     1\n",
       "12    My cats have been happily eating Felidae Plati...     1\n",
       "26    The candy is just red , No flavor . Just  plan...     1\n",
       "50    This oatmeal is not good. Its mushy, soft, I d...     1\n",
       "62    Arrived in 6 days and were so stale i could no...     1\n",
       "...                                                 ...   ...\n",
       "9715  They weren't mind-blowing, but they were defin...     5\n",
       "9719  This is my first time with the miracle berries...     5\n",
       "9722  It works. i took one, 2 minutes later i was tr...     5\n",
       "9729  This stuff really works, makes lemons taste sw...     5\n",
       "9731  this is quite neat!  i could drink a glass of ...     5\n",
       "\n",
       "[30000 rows x 2 columns]"
      ]
     },
     "execution_count": 50,
     "metadata": {},
     "output_type": "execute_result"
    }
   ],
   "source": [
    "# Generamos un dataset vacío en el cual almacenaremos los resultados del ciclo\n",
    "df_first_6000_each_value=pd.DataFrame(columns = ['Text','Score'])\n",
    "\n",
    "# Generamos un ciclo que nos permita almacenar los primeros 6000 resultados de cada Score\n",
    "# en el dataframe ya definido\n",
    "for value in review_values:\n",
    "    first_6000 = df[df.Score==value].head(6000)\n",
    "    df_first_6000_each_value=df_first_6000_each_value.append(first_6000)\n",
    "\n",
    "# Imprimimos el dataset obtenido para corroborar su longitud y composición\n",
    "df_first_6000_each_value"
   ]
  },
  {
   "cell_type": "code",
   "execution_count": 51,
   "metadata": {},
   "outputs": [
    {
     "data": {
      "text/html": [
       "<div>\n",
       "<style scoped>\n",
       "    .dataframe tbody tr th:only-of-type {\n",
       "        vertical-align: middle;\n",
       "    }\n",
       "\n",
       "    .dataframe tbody tr th {\n",
       "        vertical-align: top;\n",
       "    }\n",
       "\n",
       "    .dataframe thead th {\n",
       "        text-align: right;\n",
       "    }\n",
       "</style>\n",
       "<table border=\"1\" class=\"dataframe\">\n",
       "  <thead>\n",
       "    <tr style=\"text-align: right;\">\n",
       "      <th></th>\n",
       "      <th>Text</th>\n",
       "      <th>Score</th>\n",
       "    </tr>\n",
       "  </thead>\n",
       "  <tbody>\n",
       "    <tr>\n",
       "      <th>1</th>\n",
       "      <td>Product arrived labeled as Jumbo Salted Peanut...</td>\n",
       "      <td>0</td>\n",
       "    </tr>\n",
       "    <tr>\n",
       "      <th>12</th>\n",
       "      <td>My cats have been happily eating Felidae Plati...</td>\n",
       "      <td>0</td>\n",
       "    </tr>\n",
       "    <tr>\n",
       "      <th>26</th>\n",
       "      <td>The candy is just red , No flavor . Just  plan...</td>\n",
       "      <td>0</td>\n",
       "    </tr>\n",
       "    <tr>\n",
       "      <th>50</th>\n",
       "      <td>This oatmeal is not good. Its mushy, soft, I d...</td>\n",
       "      <td>0</td>\n",
       "    </tr>\n",
       "    <tr>\n",
       "      <th>62</th>\n",
       "      <td>Arrived in 6 days and were so stale i could no...</td>\n",
       "      <td>0</td>\n",
       "    </tr>\n",
       "    <tr>\n",
       "      <th>...</th>\n",
       "      <td>...</td>\n",
       "      <td>...</td>\n",
       "    </tr>\n",
       "    <tr>\n",
       "      <th>9715</th>\n",
       "      <td>They weren't mind-blowing, but they were defin...</td>\n",
       "      <td>4</td>\n",
       "    </tr>\n",
       "    <tr>\n",
       "      <th>9719</th>\n",
       "      <td>This is my first time with the miracle berries...</td>\n",
       "      <td>4</td>\n",
       "    </tr>\n",
       "    <tr>\n",
       "      <th>9722</th>\n",
       "      <td>It works. i took one, 2 minutes later i was tr...</td>\n",
       "      <td>4</td>\n",
       "    </tr>\n",
       "    <tr>\n",
       "      <th>9729</th>\n",
       "      <td>This stuff really works, makes lemons taste sw...</td>\n",
       "      <td>4</td>\n",
       "    </tr>\n",
       "    <tr>\n",
       "      <th>9731</th>\n",
       "      <td>this is quite neat!  i could drink a glass of ...</td>\n",
       "      <td>4</td>\n",
       "    </tr>\n",
       "  </tbody>\n",
       "</table>\n",
       "<p>30000 rows × 2 columns</p>\n",
       "</div>"
      ],
      "text/plain": [
       "                                                   Text  Score\n",
       "1     Product arrived labeled as Jumbo Salted Peanut...      0\n",
       "12    My cats have been happily eating Felidae Plati...      0\n",
       "26    The candy is just red , No flavor . Just  plan...      0\n",
       "50    This oatmeal is not good. Its mushy, soft, I d...      0\n",
       "62    Arrived in 6 days and were so stale i could no...      0\n",
       "...                                                 ...    ...\n",
       "9715  They weren't mind-blowing, but they were defin...      4\n",
       "9719  This is my first time with the miracle berries...      4\n",
       "9722  It works. i took one, 2 minutes later i was tr...      4\n",
       "9729  This stuff really works, makes lemons taste sw...      4\n",
       "9731  this is quite neat!  i could drink a glass of ...      4\n",
       "\n",
       "[30000 rows x 2 columns]"
      ]
     },
     "execution_count": 51,
     "metadata": {},
     "output_type": "execute_result"
    }
   ],
   "source": [
    "# Aplicamos el hint:\n",
    "# (dado que keras espera valores que vayan de 0 a 4, y no de 1 a 5, restamos 1 al Score)\n",
    "df_first_6000_each_value.Score=df_first_6000_each_value.Score.apply(lambda x: x-1)\n",
    "df_first_6000_each_value"
   ]
  },
  {
   "cell_type": "code",
   "execution_count": 52,
   "metadata": {},
   "outputs": [],
   "source": [
    "# Empleando sklearn generamos un train_test_split de los dados en una relacion 80/20\n",
    "\n",
    "# Definimos nuestra variable predictora y nuestro target\n",
    "X = df_first_6000_each_value.Text\n",
    "y = df_first_6000_each_value.Score\n",
    "\n",
    "X_train, X_test, y_train, y_test = train_test_split(X, y, test_size=0.2, random_state=42)"
   ]
  },
  {
   "cell_type": "code",
   "execution_count": 53,
   "metadata": {},
   "outputs": [
    {
     "name": "stdout",
     "output_type": "stream",
     "text": [
      "---------------------------------------------\n",
      "25334    I've been buying Archer Farms \"Chocolate Chunk...\n",
      "2763     This popcorn has alot of hulls I order 4 bags ...\n",
      "34145    popcorn is very good, But as with most other r...\n",
      "6569     the product was hard as a rock. i could not ev...\n",
      "64080    The product is great but bed bath and beyond h...\n",
      "                               ...                        \n",
      "9388     I'm not a coffee snob. If I was, I doubt I'd o...\n",
      "56071    I love Stroopwafels and have tried all sorts. ...\n",
      "9365     The coffee tasted bitter and like it was burnt...\n",
      "46939    It is fast and easy.  Just 1 minute and 30 sec...\n",
      "39590    There's a lot of sauces out there in this here...\n",
      "Name: Text, Length: 24000, dtype: object\n",
      "---------------------------------------------\n",
      "\n",
      "---------------------------------------------\n",
      "25673    I took one bite of one of these things and had...\n",
      "30225    I use this mix for hotdog and hamburger buns. ...\n",
      "37547    Excellent healthy snack.  Strong cocoa and cin...\n",
      "1624     I wasn't sure about these chips, but thought I...\n",
      "29116    I purchased two orders of these as gifts becau...\n",
      "                               ...                        \n",
      "24693    Don't buy these.  They are made in China.  I f...\n",
      "24946    A sample of these Van Houtte \"French Vanilla K...\n",
      "35365    The best jerky I've found for a low price. I'd...\n",
      "2659     Just the right amount of blueberry flavor, and...\n",
      "8269     My cats love this food. They always lick every...\n",
      "Name: Text, Length: 6000, dtype: object\n",
      "---------------------------------------------\n",
      "\n",
      "---------------------------------------------\n",
      "25334    3\n",
      "2763     0\n",
      "34145    3\n",
      "6569     0\n",
      "64080    2\n",
      "        ..\n",
      "9388     4\n",
      "56071    0\n",
      "9365     0\n",
      "46939    2\n",
      "39590    3\n",
      "Name: Score, Length: 24000, dtype: int64\n",
      "---------------------------------------------\n",
      "\n",
      "---------------------------------------------\n",
      "25673    0\n",
      "30225    3\n",
      "37547    3\n",
      "1624     4\n",
      "29116    0\n",
      "        ..\n",
      "24693    0\n",
      "24946    2\n",
      "35365    3\n",
      "2659     4\n",
      "8269     4\n",
      "Name: Score, Length: 6000, dtype: int64\n",
      "---------------------------------------------\n",
      "\n"
     ]
    }
   ],
   "source": [
    "# Imprimamos cada una de los conjuntos de entrenamiento y de test para corroborar \n",
    "# que presentan las dimensiones y el contenido adecuado\n",
    "for x in  [X_train, X_test, y_train, y_test]:\n",
    "    print ('---------------------------------------------')\n",
    "    print (x)\n",
    "    print ('---------------------------------------------')\n",
    "    print()"
   ]
  },
  {
   "cell_type": "code",
   "execution_count": 54,
   "metadata": {},
   "outputs": [
    {
     "data": {
      "text/plain": [
       "[[108,\n",
       "  102,\n",
       "  230,\n",
       "  10668,\n",
       "  1992,\n",
       "  118,\n",
       "  3886,\n",
       "  632,\n",
       "  2153,\n",
       "  675,\n",
       "  46,\n",
       "  2146,\n",
       "  12,\n",
       "  253,\n",
       "  4,\n",
       "  43,\n",
       "  251,\n",
       "  1,\n",
       "  2977,\n",
       "  675,\n",
       "  108,\n",
       "  244,\n",
       "  835,\n",
       "  15,\n",
       "  113,\n",
       "  2,\n",
       "  907,\n",
       "  123,\n",
       "  3,\n",
       "  4308,\n",
       "  3276,\n",
       "  46,\n",
       "  1,\n",
       "  6330,\n",
       "  170,\n",
       "  26,\n",
       "  2,\n",
       "  311,\n",
       "  5,\n",
       "  72,\n",
       "  691,\n",
       "  5,\n",
       "  237,\n",
       "  6,\n",
       "  235,\n",
       "  4,\n",
       "  2,\n",
       "  18,\n",
       "  2699,\n",
       "  93,\n",
       "  1,\n",
       "  89,\n",
       "  10,\n",
       "  763,\n",
       "  1774,\n",
       "  1247,\n",
       "  344,\n",
       "  5,\n",
       "  572,\n",
       "  871,\n",
       "  12,\n",
       "  1,\n",
       "  142,\n",
       "  315,\n",
       "  7,\n",
       "  675,\n",
       "  5181,\n",
       "  3175,\n",
       "  13,\n",
       "  66,\n",
       "  449,\n",
       "  114,\n",
       "  540,\n",
       "  38,\n",
       "  2146,\n",
       "  8,\n",
       "  10,\n",
       "  3,\n",
       "  5417,\n",
       "  43,\n",
       "  3,\n",
       "  3691,\n",
       "  208,\n",
       "  21,\n",
       "  20,\n",
       "  3319,\n",
       "  34,\n",
       "  8,\n",
       "  10,\n",
       "  12,\n",
       "  231]]"
      ]
     },
     "execution_count": 54,
     "metadata": {},
     "output_type": "execute_result"
    }
   ],
   "source": [
    "# Encontremos los indices jerarquicos de las palabras contenidas \n",
    "# en cada uno de los registros de nuestro conjunto de entrenamiento\n",
    "X_train_seq = tokenizer.texts_to_sequences(X_train)\n",
    "\n",
    "# Imprimamos el primer registro para corroborar que funciona correctamante\n",
    "X_train_seq[0:1]"
   ]
  },
  {
   "cell_type": "code",
   "execution_count": 55,
   "metadata": {},
   "outputs": [
    {
     "data": {
      "text/plain": [
       "array([[    0,     0,     0,     0,     0,     0,     0,     0,     0,\n",
       "            0,     0,     0,     0,     0,     0,     0,     0,     0,\n",
       "            0,     0,     0,     0,     0,     0,     0,   108,   102,\n",
       "          230, 10668,  1992,   118,  3886,   632,  2153,   675,    46,\n",
       "         2146,    12,   253,     4,    43,   251,     1,  2977,   675,\n",
       "          108,   244,   835,    15,   113,     2,   907,   123,     3,\n",
       "         4308,  3276,    46,     1,  6330,   170,    26,     2,   311,\n",
       "            5,    72,   691,     5,   237,     6,   235,     4,     2,\n",
       "           18,  2699,    93,     1,    89,    10,   763,  1774,  1247,\n",
       "          344,     5,   572,   871,    12,     1,   142,   315,     7,\n",
       "          675,  5181,  3175,    13,    66,   449,   114,   540,    38,\n",
       "         2146,     8,    10,     3,  5417,    43,     3,  3691,   208,\n",
       "           21,    20,  3319,    34,     8,    10,    12,   231],\n",
       "       [    0,     0,     0,     0,     0,     0,     0,     0,     0,\n",
       "            0,     0,     0,     0,     0,     0,     0,     0,     0,\n",
       "            0,     0,     0,     0,     0,     0,     0,     0,     0,\n",
       "            0,     0,     0,     0,     0,     0,     0,     0,     0,\n",
       "            0,     0,     0,     0,     0,     0,     0,     0,     0,\n",
       "            0,     0,     0,     0,     0,     0,     0,     0,     0,\n",
       "            0,     0,     0,     0,     0,     0,     0,     0,     0,\n",
       "            0,     0,     0,     0,     0,     0,     0,     0,     0,\n",
       "            0,     0,     0,     0,     0,     0,     0,     0,     0,\n",
       "            0,     0,     0,     0,     0,     0,     0,     0,     0,\n",
       "            0,     0,     0,     0,     0,     0,     0,    10,   666,\n",
       "           54,  1505,     7,  2168,     2,   134,   162,   173,     4,\n",
       "          181,  1040,     5,   112,     6,    43,    26,   626]])"
      ]
     },
     "execution_count": 55,
     "metadata": {},
     "output_type": "execute_result"
    }
   ],
   "source": [
    "# Empleemos la función pad_sequences que nos permite llevar cada \n",
    "# registro a la misma longitud de indices\n",
    "# (empleando como entrada los datos de entrenamiento X_train)\n",
    "X_train_seq_eq_len = pad_sequences(X_train_seq, maxlen=116)\n",
    "\n",
    "# Imprimamos los 2 primeros registros para corroborar que funciona correctamante\n",
    "X_train_seq_eq_len[0:2]"
   ]
  },
  {
   "cell_type": "code",
   "execution_count": 56,
   "metadata": {},
   "outputs": [
    {
     "data": {
      "text/plain": [
       "array([[    0,     0,     0,     0,     0,     0,     0,     0,     0,\n",
       "            0,     0,     0,     0,     0,     0,     0,     0,     0,\n",
       "            0,     0,     0,     0,     0,     0,     0,   108,   102,\n",
       "          230, 10668,  1992,   118,  3886,   632,  2153,   675,    46,\n",
       "         2146,    12,   253,     4,    43,   251,     1,  2977,   675,\n",
       "          108,   244,   835,    15,   113,     2,   907,   123,     3,\n",
       "         4308,  3276,    46,     1,  6330,   170,    26,     2,   311,\n",
       "            5,    72,   691,     5,   237,     6,   235,     4,     2,\n",
       "           18,  2699,    93,     1,    89,    10,   763,  1774,  1247,\n",
       "          344,     5,   572,   871,    12,     1,   142,   315,     7,\n",
       "          675,  5181,  3175,    13,    66,   449,   114,   540,    38,\n",
       "         2146,     8,    10,     3,  5417,    43,     3,  3691,   208,\n",
       "           21,    20,  3319,    34,     8,    10,    12,   231],\n",
       "       [    0,     0,     0,     0,     0,     0,     0,     0,     0,\n",
       "            0,     0,     0,     0,     0,     0,     0,     0,     0,\n",
       "            0,     0,     0,     0,     0,     0,     0,     0,     0,\n",
       "            0,     0,     0,     0,     0,     0,     0,     0,     0,\n",
       "            0,     0,     0,     0,     0,     0,     0,     0,     0,\n",
       "            0,     0,     0,     0,     0,     0,     0,     0,     0,\n",
       "            0,     0,     0,     0,     0,     0,     0,     0,     0,\n",
       "            0,     0,     0,     0,     0,     0,     0,     0,     0,\n",
       "            0,     0,     0,     0,     0,     0,     0,     0,     0,\n",
       "            0,     0,     0,     0,     0,     0,     0,     0,     0,\n",
       "            0,     0,     0,     0,     0,     0,     0,    10,   666,\n",
       "           54,  1505,     7,  2168,     2,   134,   162,   173,     4,\n",
       "          181,  1040,     5,   112,     6,    43,    26,   626]])"
      ]
     },
     "execution_count": 56,
     "metadata": {},
     "output_type": "execute_result"
    }
   ],
   "source": [
    "# Empleemos la función pad_sequences que nos permite llevar cada \n",
    "# registro a la misma longitud de indices\n",
    "# (empleando como entrada los datos de entrenamiento X_train)\n",
    "train_sequences = pad_sequences(X_train_seq, maxlen=116)\n",
    "\n",
    "# Imprimamos los 2 primeros registros para corroborar que funciona correctamante\n",
    "train_sequences[0:2]"
   ]
  },
  {
   "cell_type": "code",
   "execution_count": 57,
   "metadata": {},
   "outputs": [
    {
     "data": {
      "text/plain": [
       "array([[    0,     0,     0,     0,     0,     0,     0,     0,     0,\n",
       "            0,     0,     0,     0,     0,     0,     0,     0,     0,\n",
       "            0,     0,     0,     0,     0,     0,     0,     0,     0,\n",
       "            0,     0,     0,     0,     0,     0,     0,     0,     0,\n",
       "            0,     0,     2,   465,    40,   776,     7,    40,     7,\n",
       "           27,   347,     4,    44,     5,   766,    37,     1,   634,\n",
       "            7,    32,   234,     1,    29,     8, 10593,  3012,   791,\n",
       "            7,   110,   495,     1,   699,   577,     8,     1,   290,\n",
       "            6,    18,    24,   333,     5,   776,   274,  9226,  1155,\n",
       "         5452,  1757,     2,   458,    31,    20,    58,  6697,    11,\n",
       "            3,   847,     4,  7357, 13159,     4,    63,    18,   319,\n",
       "          444,     5,   112,    20,   308,  1233,    10,   123,     3,\n",
       "          847,    15,     6,    42,    28,     3,   201,   649],\n",
       "       [    0,     0,     0,     0,     0,     0,     0,     0,     0,\n",
       "            0,     0,     0,     0,     0,     0,     0,     0,     0,\n",
       "            0,     0,     0,     0,     0,     0,     0,     0,     0,\n",
       "            0,     0,     0,     0,     0,     0,     0,     0,     0,\n",
       "            0,     0,     0,     0,     0,     0,     0,     0,     0,\n",
       "            0,     0,     0,     0,     0,     0,     0,     0,     0,\n",
       "            0,     0,     0,     0,     0,     0,     0,     0,     0,\n",
       "            0,     0,     0,     0,     0,     0,     0,     0,     0,\n",
       "            0,     0,     0,     0,     0,     0,     0,     2,    85,\n",
       "           10,   138,    12,  5867,     4,  3500, 11006,     6,   508,\n",
       "           57,     4,    43,   994,   126,   424,    50,   230,   667,\n",
       "          119,   286,   144, 11006,     2,    36,    97,     3,   782,\n",
       "            4,  1783,    32,    12,    48,    55,   273,    32]])"
      ]
     },
     "execution_count": 57,
     "metadata": {},
     "output_type": "execute_result"
    }
   ],
   "source": [
    "# Realizaremos el mismo procedimiento ya descrito para X_test\n",
    "X_test_seq = tokenizer.texts_to_sequences(X_test)\n",
    "test_sequences = pad_sequences(X_test_seq, maxlen=116)\n",
    "\n",
    "# Imprimamos los 2 primeros registros para corroborar que funciona correctamante\n",
    "test_sequences[0:2]"
   ]
  },
  {
   "cell_type": "code",
   "execution_count": 58,
   "metadata": {},
   "outputs": [
    {
     "name": "stdout",
     "output_type": "stream",
     "text": [
      "Train on 19200 samples, validate on 4800 samples\n",
      "Epoch 1/10\n",
      "19200/19200 [==============================] - 42s 2ms/sample - loss: 1.3781 - accuracy: 0.3933 - val_loss: 1.2908 - val_accuracy: 0.4379\n",
      "Epoch 2/10\n",
      "19200/19200 [==============================] - 41s 2ms/sample - loss: 1.1456 - accuracy: 0.5165 - val_loss: 1.2061 - val_accuracy: 0.4837\n",
      "Epoch 3/10\n",
      "19200/19200 [==============================] - 41s 2ms/sample - loss: 0.9953 - accuracy: 0.5891 - val_loss: 1.1922 - val_accuracy: 0.5052\n",
      "Epoch 4/10\n",
      "19200/19200 [==============================] - 42s 2ms/sample - loss: 0.8619 - accuracy: 0.6589 - val_loss: 1.2644 - val_accuracy: 0.5031\n",
      "Epoch 5/10\n",
      "19200/19200 [==============================] - 41s 2ms/sample - loss: 0.7270 - accuracy: 0.7203 - val_loss: 1.4058 - val_accuracy: 0.4917\n",
      "Epoch 6/10\n",
      "19200/19200 [==============================] - 42s 2ms/sample - loss: 0.6102 - accuracy: 0.7723 - val_loss: 1.4682 - val_accuracy: 0.5002\n",
      "Epoch 7/10\n",
      "19200/19200 [==============================] - 41s 2ms/sample - loss: 0.4965 - accuracy: 0.8184 - val_loss: 1.6601 - val_accuracy: 0.4938\n",
      "Epoch 8/10\n",
      "19200/19200 [==============================] - 41s 2ms/sample - loss: 0.3998 - accuracy: 0.8603 - val_loss: 1.8148 - val_accuracy: 0.4996\n",
      "Epoch 9/10\n",
      "19200/19200 [==============================] - 41s 2ms/sample - loss: 0.3214 - accuracy: 0.8917 - val_loss: 2.0376 - val_accuracy: 0.4938\n",
      "Epoch 10/10\n",
      "19200/19200 [==============================] - 41s 2ms/sample - loss: 0.2443 - accuracy: 0.9216 - val_loss: 2.1382 - val_accuracy: 0.4917\n"
     ]
    },
    {
     "data": {
      "text/plain": [
       "<tensorflow.python.keras.callbacks.History at 0x20dc551bfc8>"
      ]
     },
     "execution_count": 58,
     "metadata": {},
     "output_type": "execute_result"
    }
   ],
   "source": [
    "model_ex_6 = Sequential()\n",
    "model_ex_6.add(Embedding(20000, 128, input_length=116))\n",
    "model_ex_6.add(Dense(128, activation='relu'))\n",
    "model_ex_6.add(Dense(128, activation='relu'))\n",
    "model_ex_6.add(GlobalMaxPooling1D())\n",
    "model_ex_6.add(Dense(5, activation='sigmoid'))\n",
    "model_ex_6.compile(loss='sparse_categorical_crossentropy', optimizer='adam', metrics=['accuracy'])\n",
    "model_ex_6.fit(train_sequences, y_train, validation_split=0.2, epochs=10)"
   ]
  },
  {
   "cell_type": "markdown",
   "metadata": {},
   "source": [
    "If we compare the result obtained for the model with 6000 samples in relation to the model presented in which we had 1000 samples (both the same number of layers and the same attributes) we find that there is an improvement in 2 senses: on the one hand, the maximum value The precision obtained in the validation data in some of the epoch goes from 46.00% to 50.94%, and on the other hand, the accuracy in the training data is reduced from 99.84% to 91.44%, thereby slightly reducing overfitting. .\n",
    "\n",
    "We can also observe that even from the first epoch the accuracy values are higher for both groups, and at the same time the values are more sustained throughout the 10 iterations."
   ]
  },
  {
   "attachments": {
    "181125d6-f4e5-4c52-8cec-4387649b706d.png": {
     "image/png": "[encoded data removed]"
    }
   },
   "cell_type": "markdown",
   "metadata": {},
   "source": [
    "![image.png](attachment:181125d6-f4e5-4c52-8cec-4387649b706d.png)"
   ]
  },
  {
   "cell_type": "markdown",
   "metadata": {},
   "source": [
    "-------"
   ]
  },
  {
   "cell_type": "markdown",
   "metadata": {},
   "source": [
    "<h2>Regularization through early stopping</h2>\n",
    "<p>We have consistently seen that our neural network overfits at around the third epoch. Hence, another form of regularization is to end training early if validation loss starts increasing. (This is similar to the validation curves we used when constructing classification models.) Although the network will not have found an optimal function in the training data, the looser function that it has found will likely be more generalizable.</p>\n",
    "<p>You can do this manually by inspecting the data as we have done above and modifying the <code>epochs</code> argument in <code>fit()</code>, but Keras also allows you to easily do this automatically via an <a href=\"https://www.tensorflow.org/api_docs/python/tf/keras/callbacks/EarlyStopping\"><code>EarlyStopping</code> callback</a>.</p>"
   ]
  },
  {
   "cell_type": "markdown",
   "metadata": {},
   "source": [
    "<h3>Exercise 7:</h3>\n",
    "<p>Experiment with the <code>EarlyStopping</code> callback and explain the results.</p>"
   ]
  },
  {
   "cell_type": "markdown",
   "metadata": {
    "tags": [
     "ans_st"
    ]
   },
   "source": [
    "**Answer.**"
   ]
  },
  {
   "cell_type": "code",
   "execution_count": 59,
   "metadata": {},
   "outputs": [
    {
     "name": "stdout",
     "output_type": "stream",
     "text": [
      "Train on 19200 samples, validate on 4800 samples\n",
      "Epoch 1/10\n",
      "19200/19200 [==============================] - 43s 2ms/sample - loss: 1.3624 - accuracy: 0.3998 - val_loss: 1.2881 - val_accuracy: 0.4294\n",
      "Epoch 2/10\n",
      "19200/19200 [==============================] - 42s 2ms/sample - loss: 1.1267 - accuracy: 0.5231 - val_loss: 1.1908 - val_accuracy: 0.4892\n",
      "Epoch 3/10\n",
      "19200/19200 [==============================] - 42s 2ms/sample - loss: 0.9752 - accuracy: 0.5996 - val_loss: 1.1904 - val_accuracy: 0.5063\n",
      "Epoch 4/10\n",
      "19200/19200 [==============================] - 42s 2ms/sample - loss: 0.8404 - accuracy: 0.6668 - val_loss: 1.2720 - val_accuracy: 0.4992\n"
     ]
    },
    {
     "data": {
      "text/plain": [
       "<tensorflow.python.keras.callbacks.History at 0x20dcdea8648>"
      ]
     },
     "execution_count": 59,
     "metadata": {},
     "output_type": "execute_result"
    }
   ],
   "source": [
    "model_ex_7 = Sequential()\n",
    "model_ex_7.add(Embedding(20000, 128, input_length=116))\n",
    "model_ex_7.add(Dense(128, activation='relu'))\n",
    "model_ex_7.add(Dense(128, activation='relu'))\n",
    "model_ex_7.add(GlobalMaxPooling1D())\n",
    "model_ex_7.add(Dense(5, activation='sigmoid'))\n",
    "model_ex_7.compile(loss='sparse_categorical_crossentropy', optimizer='adam', metrics=['accuracy'])\n",
    "\n",
    "# Únicamente modificaremos esta linea respecto al modelo anterior\n",
    "# (EarlyStopping debe llamarse al fit a tráves del argumento callbacks)\n",
    "# monitor: corresponde con la cantidad que quiere ser monitoreada, empleada como criterio de parada\n",
    "# mode: min (para cuando monitor haya dejado de disminuir),\n",
    "#       max (para cuando minitor haya dejado de incrementar), \n",
    "#       auto (infiere el criterio de parada a partir de la cantidad monitoreada),\n",
    "# restore_best_weights : True permite almacenar los w de al mejor iteración respecto al monitor\n",
    "#                        False almacena los w de la última iteración\n",
    "\n",
    "model_ex_7.fit(train_sequences, y_train, validation_split=0.2, epochs=10, \n",
    "               callbacks=[EarlyStopping(monitor='val_accuracy', mode='auto', restore_best_weights=True)])"
   ]
  },
  {
   "cell_type": "markdown",
   "metadata": {},
   "source": [
    "In this exercise we choose as monitor the accuracy value in the validation set, and as mode we choose to do it automatically. We can see that the model suspended its run once it found the one that val_accuracy started to decrease. Additionally, we use the restore_best_weightsen parameter in True mode, which allows the model not to take the values obtained from the last iteration, but from the best iteration with respect to the chosen monitor."
   ]
  },
  {
   "cell_type": "markdown",
   "metadata": {},
   "source": [
    "-------"
   ]
  },
  {
   "cell_type": "markdown",
   "metadata": {},
   "source": [
    "<h2>Evaluating our model</h2>"
   ]
  },
  {
   "cell_type": "markdown",
   "metadata": {},
   "source": [
    "<p>Unlike in most previous cases, we used <em>three</em> splits of our data instead of two. All of our model tuning has been done on the validation set, and we have not even touched the test set that we split off right at the start.</p>\n",
    "<p>For experiments, it's very important that your model is only run <strong>once</strong> on your test set. As there is so much randomness at play, it's vital to not \"cherry-pick\" the best results, so optimize as much as you want on the validation set, but keep the test set until the end and all official results should be based on the single run of the test set (or whatever configuration was decided <em>before the experiment started</em>).</p>"
   ]
  },
  {
   "cell_type": "markdown",
   "metadata": {},
   "source": [
    "<h3>Exercise 8:</h3>\n",
    "<p>Let's take the model configuration that resulted in the highest validation accuracy and use that one as our final model. Evaluate this configuration on how well it performs on the test set, and furthermore diagnose <em>what kinds of mistakes it makes</em>. Explain whether these mistakes are expected or not, and print some of these poorly classified reviews. Given the mistakes the model made, how would you then go back and try to improve the model or optimize the tuning steps?</p>\n",
    "<p><strong>Hint:</strong> You can use the <a href=\"https://www.tensorflow.org/api_docs/python/tf/keras/Sequential#predict_classes\"><code>predict_classes</code></a> method on your model to get the most probable class directly.</p>"
   ]
  },
  {
   "cell_type": "markdown",
   "metadata": {
    "tags": [
     "ans_st"
    ]
   },
   "source": [
    "**Answer.**"
   ]
  },
  {
   "cell_type": "code",
   "execution_count": 60,
   "metadata": {},
   "outputs": [
    {
     "data": {
      "text/plain": [
       "array([[  0,   0,   0, ...,   3, 201, 649],\n",
       "       [  0,   0,   0, ...,  55, 273,  32],\n",
       "       [  0,   0,   0, ..., 895, 561, 363],\n",
       "       ...,\n",
       "       [  0,   0,   0, ...,  20, 572,  12],\n",
       "       [  0,   0,   0, ...,  82,  23,  99],\n",
       "       [  0,   0,   0, ..., 194, 569,  73]])"
      ]
     },
     "execution_count": 60,
     "metadata": {},
     "output_type": "execute_result"
    }
   ],
   "source": [
    "# Recordemos nuestro test_sequences que deberemos emplear \n",
    "# como dato de entrada para la predicción del modelo\n",
    "# (son las palabras clasificadas del conjunto de test)\n",
    "test_sequences"
   ]
  },
  {
   "cell_type": "code",
   "execution_count": 61,
   "metadata": {},
   "outputs": [
    {
     "data": {
      "text/plain": [
       "25673    0\n",
       "30225    3\n",
       "37547    3\n",
       "1624     4\n",
       "29116    0\n",
       "        ..\n",
       "24693    0\n",
       "24946    2\n",
       "35365    3\n",
       "2659     4\n",
       "8269     4\n",
       "Name: Score, Length: 6000, dtype: int64"
      ]
     },
     "execution_count": 61,
     "metadata": {},
     "output_type": "execute_result"
    }
   ],
   "source": [
    "# Recordemos tambien nuestro y_test que es el que deberemos \n",
    "# emplear para contrastar que tan bien ha hecho el modelo nuestra clasificación\n",
    "# (son los target del conjunto de test)\n",
    "y_test"
   ]
  },
  {
   "cell_type": "code",
   "execution_count": 62,
   "metadata": {},
   "outputs": [
    {
     "name": "stdout",
     "output_type": "stream",
     "text": [
      "[0 4 4 ... 4 4 4]\n",
      "6000\n"
     ]
    }
   ],
   "source": [
    "# Generemos la predicción del modelo para nuestro conjunto de test\n",
    "y_predict = model_ex_7.predict_classes(test_sequences)\n",
    "\n",
    "# Imprimamos los valores predichos (denen ser valores entre 0 y 4)\n",
    "print(y_predict)\n",
    "\n",
    "# Corroboremos que la cantidad de registros corresponde con nuestro conjunto de test (6000)\n",
    "print(len(y_predict))"
   ]
  },
  {
   "cell_type": "code",
   "execution_count": 63,
   "metadata": {},
   "outputs": [
    {
     "data": {
      "text/plain": [
       "0.507"
      ]
     },
     "execution_count": 63,
     "metadata": {},
     "output_type": "execute_result"
    }
   ],
   "source": [
    "# Calculemos el accuracy score entre los datos predichos y los datos \"reales\" del conjunto de test\n",
    "accuracy_score(y_test, y_predict)"
   ]
  },
  {
   "cell_type": "markdown",
   "metadata": {},
   "source": [
    "We find that the accuracy of the last model obtained from the prediction of the test set data is 50%. This value is significantly higher than the bechmark model already discussed. In order to evaluate how the correct and incorrect data are distributed, we will generate a confusion matrix that allows us to see which is the distribution of the predicted data:"
   ]
  },
  {
   "cell_type": "code",
   "execution_count": 64,
   "metadata": {},
   "outputs": [
    {
     "data": {
      "text/plain": [
       "<AxesSubplot:>"
      ]
     },
     "execution_count": 64,
     "metadata": {},
     "output_type": "execute_result"
    },
    {
     "data": {
      "image/png": "[encoded data removed]",
      "text/plain": [
       "<Figure size 720x576 with 2 Axes>"
      ]
     },
     "metadata": {
      "needs_background": "light"
     },
     "output_type": "display_data"
    }
   ],
   "source": [
    "# Grafiquemos la matriz de confusión en un heatmap para identificar \n",
    "# de manera mas clara donde se focalizan los aciertos y donde los errores\n",
    "plt.figure(figsize=(10,8))\n",
    "sns.heatmap(confusion_matrix(y_test, y_predict), annot=True, fmt=\"d\",  cmap=\"Blues\")"
   ]
  },
  {
   "cell_type": "markdown",
   "metadata": {},
   "source": [
    "The results are completely consistent with expectations. We can describe the following results as the main ones:\n",
    "\n",
    "**1. Values on the diagonal:** The values that are easier to predict and on which a greater accuracy prevails (since the sample taken was homogeneous for all types of qualification 0 to 4) are the highest or lowest qualifications. Comments that are highly exalting and completely repulsive should present very prominent keywords that allow a much simpler classification of these two \"extreme\" groups (highlighted in green).\n",
    "\n",
    "We can see that as we move to the center on the diagonal, the intensity of the hits goes down, since classifying moderate comments, comments that can have good or bad characteristics simultaneously can be more ambiguous, so the hits are expected by assuming they are minor (highlighted in blue and red)."
   ]
  },
  {
   "attachments": {
    "0ccf5bd4-e43a-4e61-9d02-081ec322ad13.png": {
     "image/png": "[encoded data removed]"
    }
   },
   "cell_type": "markdown",
   "metadata": {},
   "source": [
    "![image.png](attachment:0ccf5bd4-e43a-4e61-9d02-081ec322ad13.png)"
   ]
  },
  {
   "cell_type": "markdown",
   "metadata": {},
   "source": [
    "##### Examples"
   ]
  },
  {
   "cell_type": "markdown",
   "metadata": {},
   "source": [
    "Next we will generate examples for each of the different types of selection for the values that can be found on the diagonal of the correlation matrix (predicted 'perfectly'), and already described in the previous paragraph:"
   ]
  },
  {
   "cell_type": "code",
   "execution_count": 65,
   "metadata": {},
   "outputs": [],
   "source": [
    "# selection_01: Valor 'real' 4, valor predicho 4\n",
    "selection_01 = list(set(y_test[y_test==4].index)&set(y_test[y_predict==4].index))\n",
    "# selection_02: Valor 'real' 0, valor predicho 0\n",
    "selection_02 = list(set(y_test[y_test==0].index)&set(y_test[y_predict==0].index))\n",
    "# selection_03: Valor 'real' 1, valor predicho 1\n",
    "selection_03 = list(set(y_test[y_test==1].index)&set(y_test[y_predict==1].index))\n",
    "# selection_04: Valor 'real' 3, valor predicho 3\n",
    "selection_04 = list(set(y_test[y_test==3].index)&set(y_test[y_predict==3].index))\n",
    "# selection_05: Valor 'real' 2, valor predicho 2\n",
    "selection_05 = list(set(y_test[y_test==2].index)&set(y_test[y_predict==2].index))"
   ]
  },
  {
   "cell_type": "code",
   "execution_count": 66,
   "metadata": {},
   "outputs": [
    {
     "data": {
      "text/plain": [
       "\"I love silken tofu and use it a lot to make smoothies for myself and my toddlers. This is good-quality silken tofu and I was happy with the price and convenience of having it delivered to my door. (It's hard to find in grocery stores around here!)\""
      ]
     },
     "execution_count": 66,
     "metadata": {},
     "output_type": "execute_result"
    }
   ],
   "source": [
    "# Ejemplo selection_01: Valor 'real' 4, valor predicho 4\n",
    "X_test[selection_01].reset_index(drop=True)[0]"
   ]
  },
  {
   "cell_type": "code",
   "execution_count": 67,
   "metadata": {},
   "outputs": [
    {
     "data": {
      "text/plain": [
       "'So I jumped right in and read the reviews. Half good...half bad. These crackers are by far the worst tasting low carb crisps I have tried and the most expensive. maybe it was me? I gave one crisp to 3 other people and they all spit them out. They concur...gross. Grainy texture and dries your mouth out immediately after putting in mouth. Smells nasty. Guess what their return policy is?? No problem as long as you return the package in an \"unused and resaleable\" condition. Now how do you do that when you first try them? What a joke. Not even an offer of % off next purchase or exchange or anything other than your S.O.L.!! Buyer beware here for sure. Amazon should resist having sellers with this kind of return policy on products.'"
      ]
     },
     "execution_count": 67,
     "metadata": {},
     "output_type": "execute_result"
    }
   ],
   "source": [
    "# Ejemplo selection_02: Valor 'real' 0, valor predicho 0\n",
    "X_test[selection_02].reset_index(drop=True)[0]"
   ]
  },
  {
   "cell_type": "code",
   "execution_count": 68,
   "metadata": {},
   "outputs": [
    {
     "data": {
      "text/plain": [
       "\"I was very disappointed. It is good coffee, but doesn't have any flavor of chocolate. It smells like chocolate and that is it. Better used to fragrance your kitchen rather than drink.\""
      ]
     },
     "execution_count": 68,
     "metadata": {},
     "output_type": "execute_result"
    }
   ],
   "source": [
    "# Ejemplo selection_03: Valor 'real' 1, valor predicho 1\n",
    "X_test[selection_03].reset_index(drop=True)[0]"
   ]
  },
  {
   "cell_type": "code",
   "execution_count": 69,
   "metadata": {},
   "outputs": [
    {
     "data": {
      "text/plain": [
       "'I grew up on Quaker Oats and like these a little better.  Oats are oats, but there is something about these that seem a little hardier.  Good taste and texture as a morning hot cereal and good in baking (I have used these in a honey oat bread recipe).'"
      ]
     },
     "execution_count": 69,
     "metadata": {},
     "output_type": "execute_result"
    }
   ],
   "source": [
    "# Ejemplo selection_04: Valor 'real' 3, valor predicho 3\n",
    "X_test[selection_04].reset_index(drop=True)[0]"
   ]
  },
  {
   "cell_type": "code",
   "execution_count": 70,
   "metadata": {},
   "outputs": [
    {
     "data": {
      "text/plain": [
       "\"This is my second Illy coffee product and I guess I just don't like them. They are too strong and bitter-tasting for me. I'm not a lover of overly strong coffee flavors, I like them mild and unobtrusive. However, my husband has loved ever Illy product that I've given him to try, and he IS a coffee drinker. He likes anything coffee. So I'll give this a 3; my rating would have been a 1 but his would be a 5 so we'll split the difference.<br /><br />I do like how convenient the drinks are, they would fit nicely into my husband's lunchbox for work.\""
      ]
     },
     "execution_count": 70,
     "metadata": {},
     "output_type": "execute_result"
    }
   ],
   "source": [
    "# Ejemplo selection_05: Valor 'real' 2, valor predicho 2\n",
    "X_test[selection_05].reset_index(drop=True)[0]"
   ]
  },
  {
   "cell_type": "markdown",
   "metadata": {},
   "source": [
    "**2. Values outside the diagonal:** it is clear that the values that are outside the diagonal correspond to \"misclassified\" values, values for which the actual label and the label predicted by the model do not correspond EXACTLY. However, it is different to make a mistake classifying a comment as 4 when it was actually 0, to classifying it as 1 when it was actually zero.\n",
    "\n",
    "Although acurracy may not account for it, there are a large number of predicted values on the two diagonals contiguous to the central diagonal (highlighted in green) that, although they do not present an exact classification, differ only 1 degree from their real classification given by the user. These data can also be considered \"well classified\" since the ambiguity between one degree and the next (especially if they are not extreme values) is difficult to generate. In this sense, to be wrong by 1 degree we could consider it not a mistake but a correct prediction that includes the uncertainty associated with the ambiguity of a qualification based on a text.\n",
    "\n",
    "We can see that as we move away from the central diagonal, the remaining diagonals (from green to blue, from blue to red, from red to black) are presenting less and less misclassified values, which makes all the sense of the case. . The better the model works, the less it must go wrong as the difference in the grades of the qualification increases. In other words, there is a lower probability that a label with a real value of 4 is predicted as 0, than it is predicted with a label of 3. As we move away from the diagonal, these badly predicted values are reduced.\n",
    "\n",
    "However, even at the extremes (values in black) you can find comments classified in their completely opposite value, this may be due to ironic comments that although they have words from the radically opposite group, their meaning may be a very different one from the words they contain."
   ]
  },
  {
   "attachments": {
    "4640301d-0a32-45ca-95bf-ca38a04a7cfc.png": {
     "image/png": "[encoded data removed]"
    }
   },
   "cell_type": "markdown",
   "metadata": {},
   "source": [
    "![image.png](attachment:4640301d-0a32-45ca-95bf-ca38a04a7cfc.png)"
   ]
  },
  {
   "cell_type": "markdown",
   "metadata": {},
   "source": [
    "##### Examples"
   ]
  },
  {
   "cell_type": "markdown",
   "metadata": {},
   "source": [
    "Next we will generate examples for each of the different types of selection for the values that can be found outside the diagonal of the correlation matrix (predicted 'incorrectly'), and already described in the previous paragraph:"
   ]
  },
  {
   "cell_type": "code",
   "execution_count": 71,
   "metadata": {},
   "outputs": [],
   "source": [
    "# selection_06: Valor 'real' 4, valor predicho 0\n",
    "selection_06 = list(set(y_test[y_test==4].index)&set(y_test[y_predict==0].index))\n",
    "# selection_07: Valor 'real' 0, valor predicho 4\n",
    "selection_07 = list(set(y_test[y_test==0].index)&set(y_test[y_predict==4].index))\n",
    "# selection_08: Valor 'real' 1, valor predicho 0\n",
    "selection_08 = list(set(y_test[y_test==1].index)&set(y_test[y_predict==0].index))\n",
    "# selection_09: Valor 'real' 0, valor predicho 1\n",
    "selection_09 = list(set(y_test[y_test==0].index)&set(y_test[y_predict==1].index))\n",
    "# selection_10: Valor 'real' 2, valor predicho 3\n",
    "selection_10 = list(set(y_test[y_test==2].index)&set(y_test[y_predict==3].index))"
   ]
  },
  {
   "cell_type": "code",
   "execution_count": 72,
   "metadata": {},
   "outputs": [
    {
     "data": {
      "text/plain": [
       "\"I tried the condensed version and thought it was horrible so was concerned that I would not like the powdered either.  Before I tried the powdered I had some of the fresh from my grocery store and really liked it.  As it turns out, this is quite the same as the fresh and about 60% cheaper.<br /><br />We are switching because both of my kids had ear infections galore and now sinus infections galore.  One was always constipated and still is to a certain extent.  And one is showing signs of hyperactivity, which some believe may be related to a food allergy (such as cow's milk).  So I figured better safe than sorry and am switching the whole family.\""
      ]
     },
     "execution_count": 72,
     "metadata": {},
     "output_type": "execute_result"
    }
   ],
   "source": [
    "# Ejemplo selection_06: Valor 'real' 4, valor predicho 0\n",
    "X_test[selection_06].reset_index(drop=True)[0]"
   ]
  },
  {
   "cell_type": "code",
   "execution_count": 73,
   "metadata": {},
   "outputs": [
    {
     "data": {
      "text/plain": [
       "'I wouldn\\'t feed this to a pet.  Though the nutritional info shows \\'0 Trans Fats\\' the ingredients list shows \"Partially Hydrogenated\" oils... that is Trans Fats.  Basically, natural oils that have been modified by attaching two hydrogen molecules where they don\\'t occur in nature.  The end result... the oil is solid a room temperature and creates a crispier product.  The impact to your health is that your system thinks it is oil (fat) and lets it into your blood stream where it is handled like a plastic.  You system doesn\\'t know what to do with it and it is plastered on the walls of your arteries where it stays for a long long time.  Folks... if you care about Type 2 diabetes, cholesterol problems, altheimers disease... maybe more.  Keep these Trans Fats away from yourself and loved ones.  Also this material is hidden in names like \"shortening\" and \"margarine\".  Don\\'t buy this... find a wafer that is safe.'"
      ]
     },
     "execution_count": 73,
     "metadata": {},
     "output_type": "execute_result"
    }
   ],
   "source": [
    "# Ejemplo selection_07: Valor 'real' 0, valor predicho 4\n",
    "X_test[selection_07].reset_index(drop=True)[0]"
   ]
  },
  {
   "cell_type": "code",
   "execution_count": 74,
   "metadata": {},
   "outputs": [
    {
     "data": {
      "text/plain": [
       "'I used to order this cerial by the case and eat it every day.  When my most recent order arrived, they had changed the recipe.  The cerial is now terrible.  It is too sweet and tastes like molasses.  Definitely not recommended.'"
      ]
     },
     "execution_count": 74,
     "metadata": {},
     "output_type": "execute_result"
    }
   ],
   "source": [
    "# Ejemplo selection_08: Valor 'real' 1, valor predicho 0\n",
    "X_test[selection_08].reset_index(drop=True)[0]"
   ]
  },
  {
   "cell_type": "code",
   "execution_count": 75,
   "metadata": {},
   "outputs": [
    {
     "data": {
      "text/plain": [
       "\"After reading the reviews, I had my hopes up that I was going to bite into a soft chewy gummy bear whose texture was to die for.  Instead, I ate one and found them to be just a regular old gummy bear.  Flavor was good, texture was a bit too rubbery for my tastes, and honestly, I just don't see what the big deal is supposed to be about these gummy bears.  I ate about a pound and gave the remaining 4 lbs to my sister's kids who gobbled them up.\""
      ]
     },
     "execution_count": 75,
     "metadata": {},
     "output_type": "execute_result"
    }
   ],
   "source": [
    "# Ejemplo selection_09: Valor 'real' 0, valor predicho 1\n",
    "X_test[selection_09].reset_index(drop=True)[0]"
   ]
  },
  {
   "cell_type": "code",
   "execution_count": 76,
   "metadata": {},
   "outputs": [
    {
     "data": {
      "text/plain": [
       "\"I suppose if you have been gluten free for a long time this bread is great, but it has a slightly sweet taste (some may like that) and its much like other gluten free breads, its very dense. It is better than most I've had though and the price is right.. I use it for bread crumbs to make meatballs.. something I haven't been able to do until recently.<br /><br />Its a good product for the money, considering how much a gluten free diet costs - I just couldn't use it for bread.. it does however make a decent pizza crust.. haven't tried it for much else.\""
      ]
     },
     "execution_count": 76,
     "metadata": {},
     "output_type": "execute_result"
    }
   ],
   "source": [
    "# Ejemplo selection_10: Valor 'real' 2, valor predicho 3\n",
    "X_test[selection_10].reset_index(drop=True)[0]"
   ]
  },
  {
   "cell_type": "markdown",
   "metadata": {},
   "source": [
    "##### Given the mistakes the model made, how would you then go back and try to improve the model or optimize the tuning steps?"
   ]
  },
  {
   "cell_type": "markdown",
   "metadata": {},
   "source": [
    "Although I would not yet know how to implement a new metric different from the ones that the compile function's metrics parameter already has by default, the idea would be that a new accuracy could be created that would not qualify as correctly predicted or incorrectly predicted (exclusively 0 or 1), but had a weight relative to the diagonal distance for the 'wrong' predictions. According to what has already been discussed, we know that the values closest to the diagonal do not make sense that they are considered completely wrong but that it is part of the ambiguity of the qualification with a numerical value.\n",
    "\n",
    "In theory this should make the neural network not only look at the values of the diagonal in its search for the weights for the best model, but also take into account the totality of the classifications."
   ]
  },
  {
   "cell_type": "markdown",
   "metadata": {},
   "source": [
    "-------"
   ]
  },
  {
   "cell_type": "markdown",
   "metadata": {},
   "source": [
    "<p>Hopefully, you have seen from this that there is no one-size-fits-all method when creating model architectures or tuning parameters. Often times, copious experimentation is needed, and even then it can be difficult to get significantly better results than a baseline model or even really diagnose what is going wrong under the hood (since neural networks are so \"black-box\"). In many cases, the quantity and quality of the data itself is far more important than the architecture of the network for getting good results.</p>"
   ]
  }
 ],
 "metadata": {
  "kernelspec": {
   "display_name": "Python 3",
   "language": "python",
   "name": "python3"
  },
  "language_info": {
   "codemirror_mode": {
    "name": "ipython",
    "version": 3
   },
   "file_extension": ".py",
   "mimetype": "text/x-python",
   "name": "python",
   "nbconvert_exporter": "python",
   "pygments_lexer": "ipython3",
   "version": "3.8.5"
  }
 },
 "nbformat": 4,
 "nbformat_minor": 4
}

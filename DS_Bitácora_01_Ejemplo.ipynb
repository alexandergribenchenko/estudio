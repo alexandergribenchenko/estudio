{
  "nbformat": 4,
  "nbformat_minor": 0,
  "metadata": {
    "colab": {
      "name": "DS_Bitácora_01_Ejemplo.ipynb",
      "provenance": [],
      "collapsed_sections": [],
      "include_colab_link": true
    },
    "kernelspec": {
      "display_name": "Python 3",
      "language": "python",
      "name": "python3"
    },
    "language_info": {
      "codemirror_mode": {
        "name": "ipython",
        "version": 3
      },
      "file_extension": ".py",
      "mimetype": "text/x-python",
      "name": "python",
      "nbconvert_exporter": "python",
      "pygments_lexer": "ipython3",
      "version": "3.8.3"
    }
  },
  "cells": [
    {
      "cell_type": "markdown",
      "metadata": {
        "id": "view-in-github",
        "colab_type": "text"
      },
      "source": [
        "<a href=\"https://colab.research.google.com/github/alexandergribenchenko/estudio/blob/main/DS_Bit%C3%A1cora_01_Ejemplo.ipynb\" target=\"_parent\"><img src=\"https://colab.research.google.com/assets/colab-badge.svg\" alt=\"Open In Colab\"/></a>"
      ]
    },
    {
      "cell_type": "markdown",
      "metadata": {
        "id": "GLF0TkZmeXdn"
      },
      "source": [
        "\n",
        "# Primer Notebook ejemplo git le cambie vainas desde el escritorio\n",
        "<h1>Primer Notebook</h1>\n",
        "Este es un notebook de ejemplo. Un Notebook tiene las funcionalidades de la mayoría de los editores de texto. Por ejemplo, podemos poner títulos de distinto tamaño\n",
        "\n",
        "## Un título\n",
        "\n",
        "### Un título más chico\n",
        "\n",
        "#### Otro título aún más chico\n",
        "\n",
        "También podemos poner listas\n",
        "1. Primer elemento\n",
        "1. Segundo elemento\n",
        "1. Bueno, ya deben saber qué es una lista\n",
        "\n",
        "Podemos escribir en **negrita** o *cursiva*\n",
        "\n",
        "Y hasta fórmulas\n",
        "\n",
        "$ E = mc^2 $\n",
        "\n",
        "Esta sección de texto en la que estamos escribiendo se llama *celda*. Para modificar una celda, basta con hacer doble click en ella. Y, para *ejecutar* la celda, apretamos `shift` + `enter`. Pero las celdas no son solamente de texto, sino también de código. Veamos un ejemplo\n"
      ]
    },
    {
      "cell_type": "code",
      "metadata": {
        "id": "i9zn01IIeXdy",
        "outputId": "709c473d-e54e-46cd-9869-0ca5efebf524"
      },
      "source": [
        "print('¡Hola Mundo hoy!')"
      ],
      "execution_count": null,
      "outputs": [
        {
          "output_type": "stream",
          "text": [
            "¡Hola Mundo hoy!\n"
          ],
          "name": "stdout"
        }
      ]
    },
    {
      "cell_type": "markdown",
      "metadata": {
        "id": "5QMHFKaGeXeY"
      },
      "source": [
        "Podemos intercalar celdas de texto entre las celdas de código, para hacer más explicativo nuestro trabajo. Por ejemplo, podríamos haber puesto:\n",
        "\n",
        "En la celda anterior, acabamos de ejecutar la primera línea de código que se suele aprender en cualquier lenguaje de programacion, el famoso [¡Hola Mundo!](https://es.wikipedia.org/wiki/Hola_mundo) (notar el enlace embebido).\n",
        "\n",
        "Pero podemos hacer mucho más. Observen la siguiente celda de código. No importa si no entienden qué hacen, pero observen su resultado."
      ]
    },
    {
      "cell_type": "code",
      "metadata": {
        "id": "8UEQ_gOMeXef",
        "outputId": "3c766cdc-0d00-4063-f771-45a7d957961d"
      },
      "source": [
        "import numpy as np\n",
        "import matplotlib.pyplot as plt\n",
        "\n",
        "ys = 200 + np.random.randn(100)\n",
        "x = np.arange(100)\n",
        "\n",
        "plt.plot(x, ys, '-')\n",
        "plt.fill_between(x, ys, 195, where=(ys > 195), facecolor='g', alpha=0.6)\n",
        "\n",
        "plt.title(\"Sample Visualization\")\n",
        "plt.show()"
      ],
      "execution_count": null,
      "outputs": [
        {
          "output_type": "display_data",
          "data": {
            "image/png": "[encoded data removed]",
            "text/plain": [
              "<Figure size 432x288 with 1 Axes>"
            ]
          },
          "metadata": {
            "tags": [],
            "needs_background": "light"
          }
        }
      ]
    },
    {
      "cell_type": "markdown",
      "metadata": {
        "id": "0NSv7k19eXe7"
      },
      "source": [
        "¡Podemos hacer código que genere gráficos, y estos quedan ya embebidos en nuestro notebook!\n",
        "\n",
        "Este entorno - la posibilidad de intercalar texto, código, gráficos y más - hará que los notebooks sean una gran plataforma de aprendizaje, pero también de trabajo, ya que nos permitirán:\n",
        "\n",
        "1. Comunicar fácil y eficiéntemente. El notebook, es, por definición, su propia documentación.\n",
        "1. Asegurar la reproducibilidad de nuestro trabajo. ¿Alguien tiene dudas sobre cómo se generó un gráfico? El código para hacerlo está al alcance de la mano.\n",
        "1. ¿Hay que cambiar algo del informe o quieren experimentar? Modifica los parámetros que haya que modificar, ejecuta nuevamente el código y el nuevo informe ya está listo."
      ]
    },
    {
      "cell_type": "code",
      "metadata": {
        "id": "cquVk9BOeXfB",
        "outputId": "5a38abdf-8289-415f-8bc1-ba9c2465e1b8"
      },
      "source": [
        "a=1\n",
        "a"
      ],
      "execution_count": null,
      "outputs": [
        {
          "output_type": "execute_result",
          "data": {
            "text/plain": [
              "1"
            ]
          },
          "metadata": {
            "tags": []
          },
          "execution_count": 2
        }
      ]
    },
    {
      "cell_type": "code",
      "metadata": {
        "id": "2NKkKp9Cyqma",
        "outputId": "fc36cbcc-97eb-41ae-917e-1c3c01e2f9e6"
      },
      "source": [
        "m=3\n",
        "m"
      ],
      "execution_count": null,
      "outputs": [
        {
          "output_type": "execute_result",
          "data": {
            "text/plain": [
              "3"
            ]
          },
          "metadata": {
            "tags": []
          },
          "execution_count": 11
        }
      ]
    },
    {
      "cell_type": "code",
      "metadata": {
        "id": "1JA_fuJGyqma"
      },
      "source": [
        ""
      ],
      "execution_count": null,
      "outputs": []
    },
    {
      "cell_type": "code",
      "metadata": {
        "id": "NW7_Tdityqmb"
      },
      "source": [
        ""
      ],
      "execution_count": null,
      "outputs": []
    },
    {
      "cell_type": "code",
      "metadata": {
        "id": "dJAbsMVxyqmb"
      },
      "source": [
        ""
      ],
      "execution_count": null,
      "outputs": []
    }
  ]
}